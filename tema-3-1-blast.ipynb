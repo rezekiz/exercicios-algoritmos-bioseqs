{
 "cells": [
  {
   "cell_type": "markdown",
   "metadata": {},
   "source": [
    "### BLAST: Basic Local Alignment Search Tool"
   ]
  },
  {
   "cell_type": "markdown",
   "metadata": {},
   "source": [
    "Consiste numa ferramenta para comparar sequências biológicas, conjunto de algoritmos e ferramentas para procurar sequências similares em bases de dados de grande dimensão. \n",
    "\n",
    "**Como funciona o [BLAST?](https://edu.taugc.com/blog/voce-sabe-como-o-blast-funciona/)**\n",
    "\n",
    "O algoritmo identifica similaridades entre sequências por meio de correspondências curtas. De seguida, ocorre a procura por alinhamentos locais utilizando conjuntos de um tamanho definifo pelo utilizador, normalmente é de 3 letras para aminoácidos e 11 para nucleótidos. \n",
    "\n",
    "* Exemplo:\n",
    "    * GLFKA seria analisada em conjuntos de três letras: GLK, LKF, KFA.\n",
    "\n",
    "Os alinhamentos locais são construídos a partir de correspondências comuns, servindo como ponto de partida para uma extensão em ambas as direções. Essa extensão continua até que o alinhamento atinja um valor de pontuação pré-definido. \n",
    "\n",
    "Nesta UC, foi-nos proposto a criação de um algoritmo BLAST versão simplificada que assenta em três pontos principais:\n",
    "* Considera apenas matches perfeitos entre a query e as sequências da BD\n",
    "* Critérios simples usados para a extensão dos hits\n",
    "* Score será a contagem do nº de matches"
   ]
  },
  {
   "cell_type": "markdown",
   "metadata": {},
   "source": [
    "* **Query map**"
   ]
  },
  {
   "cell_type": "markdown",
   "metadata": {},
   "source": [
    "A primeira função criada, **query_map()**, procura mapear as sequências através de uma janela de tamanho **w** para identificar as subsequências e os seus índices correspondentes. \n",
    "\n",
    "Inicialmente, a função verifica se a sequência de entrada é do tipo \"ADN\" ou \"sequência de aminoácidos\", utilizando a função auxiliar **tipo_seq()**. Em caso de não ser nenhum desses tipos, a função levanta um erro. Além disso, verifica se o valor inserido em w é um inteiro positivo válido. Após realizar um aprimoramento na sequência para prepará-la para a análise subsequente, a função divide a sequência em todas as possíveis sub-sequências de tamanho w e armazena-as numa lista.\n",
    "\n",
    "É então criado um dicionário vazio para armazenar as subsequências e seus índices correspondentes. A função percorre a sequência e, para cada sub-sequência de tamanho w, verifica se ela já está presente no dicionário. Se estiver, adiciona o índice atual à lista de índices associada a essa sub-sequência. Se não estiver, cria uma nova entrada no dicionário com a sub-sequência como chave e uma lista contendo o índice atual como valor.\n",
    "\n",
    "Finalmente, a função retorna o dicionário resultante, que contém as subsequências como chaves e os índices onde essas subsequências são encontradas na sequência inserida."
   ]
  },
  {
   "cell_type": "code",
   "execution_count": 4,
   "metadata": {},
   "outputs": [],
   "source": [
    "def query_map(query, w): \n",
    "    \"\"\"\n",
    "    Mapeia as sequências numa janela  para identificar subsequências\n",
    "\n",
    "    \n",
    "    Parâmetros:\n",
    "    -------------\n",
    "    query : str \n",
    "        Sequência a ser mapeada\n",
    "    w : int \n",
    "        Tamanho da janela\n",
    "\n",
    "        \n",
    "    Retorna:\n",
    "    -------------\n",
    "    dict: Dicionário de subsequências mapeadas com seus índices.\n",
    "\n",
    "\n",
    "    Levanta:\n",
    "    -------------\n",
    "    ValueError\n",
    "        Caso sequência inserida seja inválida ou tamanho da janela não ser um inteiro positivo\n",
    "\n",
    "        \n",
    "    \"\"\"\n",
    "\n",
    "    from scripts.auxiliares import tipo_seq\n",
    "    from scripts.auxiliares import aprimorar_seq\n",
    "\n",
    "    if not isinstance(query, str):\n",
    "        raise TypeError(\"A sequência deve ser uma string\")\n",
    "    if not isinstance(w, int) or w <= 0:\n",
    "        raise ValueError(\"O tamanho da janela deve ser um inteiro positivo\")\n",
    "\n",
    "    \n",
    "    if tipo_seq(query) not in [\"DNA\", \"Sequência de aminoácidos\"] :\n",
    "\n",
    "        query = aprimorar_seq(query)\n",
    "\n",
    "        seq_dic = {}\n",
    "\n",
    "        for i in range(len(query) - w + 1):\n",
    "            \n",
    "            subsequence = query[i:i + w]\n",
    "\n",
    "            if subsequence in seq_dic:\n",
    "\n",
    "                seq_dic[subsequence].append(i)\n",
    "            else:\n",
    "                seq_dic[subsequence] = [i]\n",
    "\n",
    "        return seq_dic\n",
    "\n",
    "    else:\n",
    "        raise ValueError(\"Sequência Inválida\")"
   ]
  },
  {
   "cell_type": "markdown",
   "metadata": {},
   "source": [
    "**Exemplo**:"
   ]
  },
  {
   "cell_type": "code",
   "execution_count": 3,
   "metadata": {},
   "outputs": [
    {
     "data": {
      "text/plain": [
       "{'ATC': [0], 'TCG': [1], 'CGC': [2], 'GCT': [3], 'CTG': [4]}"
      ]
     },
     "execution_count": 3,
     "metadata": {},
     "output_type": "execute_result"
    }
   ],
   "source": [
    "query_map(\"ATCGCTG\", 3)"
   ]
  },
  {
   "cell_type": "markdown",
   "metadata": {},
   "source": [
    "**Testes de unidade**:"
   ]
  },
  {
   "cell_type": "code",
   "execution_count": 5,
   "metadata": {},
   "outputs": [
    {
     "name": "stderr",
     "output_type": "stream",
     "text": [
      "test_query_map_vazio (__main__.TestBLASTFunctions.test_query_map_vazio) ... ok\n",
      "test_query_numerico (__main__.TestBLASTFunctions.test_query_numerico) ... ok\n",
      "test_w_vazio (__main__.TestBLASTFunctions.test_w_vazio) ... ok\n",
      "\n",
      "----------------------------------------------------------------------\n",
      "Ran 3 tests in 0.005s\n",
      "\n",
      "OK\n"
     ]
    },
    {
     "data": {
      "text/plain": [
       "<unittest.runner.TextTestResult run=3 errors=0 failures=0>"
      ]
     },
     "execution_count": 5,
     "metadata": {},
     "output_type": "execute_result"
    }
   ],
   "source": [
    "import unittest\n",
    "\n",
    "class TestBLASTFunctions(unittest.TestCase):\n",
    "    def test_query_map_vazio(self):\n",
    "        # Testa se a função lança um erro ao receber uma sequência vazia\n",
    "        with self.assertRaises(ValueError):\n",
    "            query_map(\"\", 3)\n",
    "\n",
    "    def test_w_vazio(self):\n",
    "        # Testa se a função lança um erro ao receber um valor vazio para w\n",
    "        with self.assertRaises(ValueError):\n",
    "            query_map(\"ACT\", \"\")\n",
    "\n",
    "    def test_query_numerico(self):\n",
    "        # Testa se a função lança um erro ao receber um valor não string para a sequência\n",
    "        with self.assertRaises(TypeError):\n",
    "            query_map(1, 3)\n",
    "            \n",
    "suite = unittest.TestLoader().loadTestsFromTestCase(TestBLASTFunctions)\n",
    "unittest.TextTestRunner(verbosity=3).run(suite)"
   ]
  },
  {
   "cell_type": "markdown",
   "metadata": {},
   "source": [
    "* **Hits**"
   ]
  },
  {
   "cell_type": "markdown",
   "metadata": {},
   "source": [
    "De seguida, foi criada uma função denominada **hits()** que realiza a análise dos hits entre as subsequências identificadas na sequência de consulta (query) e a sequência da base de dados.\n",
    "\n",
    "A função recebe dois parâmetros:\n",
    "\n",
    "* **dic_query**: Um dicionário proveniente da função anterior, query_map(), que mapeia as subsequências e seus índices na sequência de consulta.\n",
    "* **seq**: A sequência da base de dados a ser analisada.\n",
    "\n",
    "A função percorre cada entrada no dicionário, onde cada chave representa uma subsequência e o valor é uma lista de índices onde essa subsequência ocorre na sequência de consulta. Para cada valor na lista de índices, a função verifica se a chave (subsequência) está presente na sequência da base de dados (seq). Se estiver, utiliza expressões regulares para encontrar todas as ocorrências da subsequência na base de dados, obtendo uma lista de índices dessas ocorrências.\n",
    "\n",
    "Em seguida, a função cria tuplos contendo os índices da subsequência na sequência de consulta e os índices correspondentes na sequência da base de dados. Esses tuplos são adicionados a uma lista.\n",
    "\n",
    "Finalmente, a função retorna uma lista de tuplos, onde cada tuplo representa um hit entre a sequência de consulta e a sequência da base de dados, contendo os índices onde a subsequência foi encontrada em ambas as sequências."
   ]
  },
  {
   "cell_type": "code",
   "execution_count": 6,
   "metadata": {},
   "outputs": [],
   "source": [
    "def hits(query_map : dict , seq : str) -> list: \n",
    "\n",
    "  \"\"\"\n",
    "  Devolve uma lista em que cada elemento é um tuplo com dois valores:\n",
    "  1. O Offset na query\n",
    "  2. O offset na seq\n",
    "\n",
    "  Parâmetros\n",
    "  ----------\n",
    "\n",
    "  query_map : dict \n",
    "    mapa de substrings que é devolvido ao invocar a função query_map\n",
    "  \n",
    "  seq : str\n",
    "    sequência-alvo válida de DNA\n",
    "\n",
    "  Returns\n",
    "  -------\n",
    "\n",
    "  list\n",
    "    lista que contém um conjunto de tuplos que correspondem aos offsets correspondentes na query e sequência\n",
    "  \n",
    "  \n",
    "  \"\"\"\n",
    "  from scripts.auxiliares import validar_dna\n",
    "\n",
    "  if not validar_dna(seq):\n",
    "    raise TypeError('Não é DNA válido.')\n",
    "  \n",
    "  if query_map == {}:\n",
    "    raise ValueError('Query map vazio. Inválido.')\n",
    "  \n",
    "  if not all(isinstance(key,str) for key in query_map.keys()):\n",
    "    raise TypeError('Chaves do query-map têm de ser strings.')\n",
    "\n",
    "  if not all(isinstance(value,list) for value in query_map.values()):\n",
    "    raise TypeError('Valores das chaves do query map têm de ser listas.')\n",
    "\n",
    "  if not all(validar_dna(key) for key in query_map.keys()):\n",
    "    raise ValueError('Query map contém codões inválidos.')\n",
    "  \n",
    "\n",
    "\n",
    "  res = []                                                # Lista de resultado que será populada com os tuplos\n",
    "\n",
    "  for codon in query_map:                                        # Cicla por todos os codons mapeados na query\n",
    "    \n",
    "    if codon in seq:                                      # Apenas itera se o codon estiver na sequência\n",
    "      # Converter isto para uma função auxiliar\n",
    "      for offset_q in query_map[codon]:                          # Cicla por todos os offsets da query para cada codon \n",
    "\n",
    "        offset_seq = seq.find(codon)                      # Primeira instância do codon na sequência - devolve o índice\n",
    "\n",
    "        while offset_seq != -1:                           # Enquanto for encontrada a instância do codon (o valor não é -1)\n",
    "          \n",
    "          res.append((offset_q,offset_seq))               # Adiciona um tuplo offset_query , offset_sequencia à lista de resultado\n",
    "          # print(codon,'encontrado em', offset_seq)\n",
    "          offset_seq = seq.find(codon, offset_seq + 1 )   # Procuramos pela próxima instância\n",
    "  \n",
    "  return res"
   ]
  },
  {
   "cell_type": "markdown",
   "metadata": {},
   "source": [
    "**Exemplo**:"
   ]
  },
  {
   "cell_type": "code",
   "execution_count": 6,
   "metadata": {},
   "outputs": [
    {
     "data": {
      "text/plain": [
       "[(0, 0), (1, 1), (2, 2)]"
      ]
     },
     "execution_count": 6,
     "metadata": {},
     "output_type": "execute_result"
    }
   ],
   "source": [
    "hits({'ATC': [0], 'TCG': [1], 'CGC': [2], 'GCT': [3], 'CTG': [4]}, \"ATCGCGGG\")"
   ]
  },
  {
   "cell_type": "markdown",
   "metadata": {},
   "source": [
    "**Testes de unidade**:"
   ]
  },
  {
   "cell_type": "code",
   "execution_count": 7,
   "metadata": {},
   "outputs": [
    {
     "name": "stderr",
     "output_type": "stream",
     "text": [
      "teste_1 (__main__.TestHits.teste_1) ... ok\n",
      "teste_2 (__main__.TestHits.teste_2) ... ok\n",
      "teste_3 (__main__.TestHits.teste_3) ... ok\n",
      "teste_4 (__main__.TestHits.teste_4) ... ok\n",
      "teste_5 (__main__.TestHits.teste_5) ... ok\n",
      "teste_6 (__main__.TestHits.teste_6) ... ok\n",
      "\n",
      "----------------------------------------------------------------------\n",
      "Ran 6 tests in 0.034s\n",
      "\n",
      "OK\n"
     ]
    },
    {
     "data": {
      "text/plain": [
       "<unittest.runner.TextTestResult run=6 errors=0 failures=0>"
      ]
     },
     "execution_count": 7,
     "metadata": {},
     "output_type": "execute_result"
    }
   ],
   "source": [
    "class TestHits(unittest.TestCase):\n",
    "\n",
    "    def teste_1(self):\n",
    "        with self.assertRaises(TypeError):\n",
    "            hits({'ATC':[0]},'ATP')\n",
    "\n",
    "    def teste_2(self):\n",
    "        with self.assertRaises(ValueError):\n",
    "            hits({},'ATC')\n",
    "\n",
    "    def teste_3(self):\n",
    "        with self.assertRaises(TypeError):\n",
    "            hits({123:[0]},'ATC')\n",
    "\n",
    "    def teste_4(self):\n",
    "        with self.assertRaises(TypeError):\n",
    "            hits({'ATC':0},'ATC')\n",
    "\n",
    "    def teste_5(self):\n",
    "        with self.assertRaises(ValueError):\n",
    "            hits({'ATP':[]},'ATC')\n",
    "\n",
    "    def teste_6(self):\n",
    "        self.assertEqual(hits({'ATC': [0], 'TCG': [1], 'CGC': [2], 'GCT': [3], 'CTG': [4]}, \"ATCGCGGG\"), [(0,0),(1,1),(2,2)])\n",
    "\n",
    "suite = unittest.TestLoader().loadTestsFromTestCase(TestHits)\n",
    "unittest.TextTestRunner(verbosity=3).run(suite)"
   ]
  },
  {
   "cell_type": "markdown",
   "metadata": {},
   "source": [
    "* **Extend_hit**"
   ]
  },
  {
   "cell_type": "markdown",
   "metadata": {},
   "source": [
    "\n",
    "A função **extend_hit** desempenha um papel crucial na ampliação da correspondência entre duas sequências de DNA. Começa por receber quatro parâmetros: query (representando a sequência de DNA de procura), seq (representando a sequência alvo), hit (um dos elementos retornados pela função hits), e window (o tamanho da janela para criar dicionários de substrings na função query_map).\n",
    "\n",
    "A primeira etapa consiste em extrair os elementos h1 e h2 do tuplo hit. Estes representam as posições iniciais na sequência de busca (query) e na sequência alvo (seq), respectivamente.\n",
    "\n",
    "Em seguida, a função chama a função expande_dir duas vezes para ampliar a correspondência. A primeira chamada, para expandir para a esquerda, resulta em dois valores: tam_esq (o tamanho da expansão) e matches_esq (o número de matches corretos). A segunda chamada, para expandir para a direita, fornece tam_dt (tamanho da expansão) e matches_dt (número de matches corretos).\n",
    "\n",
    "Por fim, a função retorna um tuplo contendo quatro informações cruciais:\n",
    "\n",
    "* O offset inicial na sequência de busca (h1 - tam_esq)\n",
    "* O offset inicial na sequência alvo (h2 - tam_esq)\n",
    "* O tamanho total do resultado, levando em consideração a janela especificada (tam_esq + window + tam_dt)\n",
    "* O número total de matches corretos, considerando a janela (matches_esq + window + matches_dt)\n",
    "\n",
    "Dessa forma, a função extend_hit desempenha um papel vital na expansão e refinamento da correspondência inicial, proporcionando uma visão mais abrangente da similaridade entre as duas sequências de DNA."
   ]
  },
  {
   "cell_type": "code",
   "execution_count": 8,
   "metadata": {},
   "outputs": [],
   "source": [
    "def extend_hit(query : str , seq :str , hit : tuple, w : int) -> tuple: \n",
    "  \n",
    "    \"\"\"\n",
    "    Estende um hit dado, identificando sua extensão na sequência de busca e na sequência alvo.\n",
    "\n",
    "    \n",
    "    Parâmetros\n",
    "    ----------\n",
    "\n",
    "    query : str \n",
    "      sequencia de DNA válida correspondente à sequência de busca\n",
    "\n",
    "    seq   : str\n",
    "      sequencia de DNA válida correspondente à sequência alvo\n",
    "      \n",
    "    hit   : tuple\n",
    "      Um dos elementos devolvidos pela invocação da função hits\n",
    "\n",
    "    w     : int\n",
    "      o tamanho da janela para a criação de dicionários de substrings na função query map\n",
    "\n",
    "    Retorna:\n",
    "    --------\n",
    "    tuple\n",
    "      Devolve um tuplo com:\n",
    "        1. O offset inicial na query\n",
    "        2. O offset inicial na seq\n",
    "        3. O tamanho do resultado\n",
    "        4. O nº de matches corretos\n",
    "\n",
    "    Levanta:\n",
    "    XXXERROR\n",
    "      Caso a sequência (seq) seja inválida    \n",
    "\n",
    "    \"\"\"\n",
    "    from scripts.auxiliares import validar_dna, expande_dir\n",
    "\n",
    "    if not validar_dna(query):\n",
    "        raise ValueError('Query contém DNA inválido.')\n",
    "    \n",
    "    if not validar_dna(seq):\n",
    "        raise ValueError('Sequência-alvo contém DNA inválido.')\n",
    "    \n",
    "    if not all(isinstance(value,int) for value in hit):\n",
    "        raise TypeError('Coordenadas do hit só podem ser números inteiros.')\n",
    "\n",
    "\n",
    "\n",
    "    h1 , h2 = hit\n",
    "    \n",
    "    tam_esq, matches_esq = expande_dir(query , seq , h1     , h2     , -1)\n",
    "\n",
    "    tam_dt , matches_dt  = expande_dir(query , seq , h1 + w , h2 + w ,  1) \n",
    "\n",
    "    return (h1 - tam_esq , h2 - tam_esq , tam_esq + w + tam_dt , matches_esq + w + matches_dt)\n"
   ]
  },
  {
   "cell_type": "markdown",
   "metadata": {},
   "source": [
    "**Exemplo**:"
   ]
  },
  {
   "cell_type": "code",
   "execution_count": 9,
   "metadata": {},
   "outputs": [
    {
     "data": {
      "text/plain": [
       "(0, 0, 4, 1)"
      ]
     },
     "execution_count": 9,
     "metadata": {},
     "output_type": "execute_result"
    }
   ],
   "source": [
    "extend_hit(\"ATCG\", \"AAAATC\", (1,1), 1 )"
   ]
  },
  {
   "cell_type": "markdown",
   "metadata": {},
   "source": [
    "**Testes de unidade**:"
   ]
  },
  {
   "cell_type": "code",
   "execution_count": 10,
   "metadata": {},
   "outputs": [
    {
     "name": "stderr",
     "output_type": "stream",
     "text": [
      "teste_1 (__main__.TestExtendHit.teste_1) ... ok\n",
      "teste_2 (__main__.TestExtendHit.teste_2) ... ok\n",
      "teste_4 (__main__.TestExtendHit.teste_4) ... ok\n",
      "teste_5 (__main__.TestExtendHit.teste_5) ... ok\n",
      "teste_6 (__main__.TestExtendHit.teste_6) ... FAIL\n",
      "\n",
      "======================================================================\n",
      "FAIL: teste_6 (__main__.TestExtendHit.teste_6)\n",
      "----------------------------------------------------------------------\n",
      "Traceback (most recent call last):\n",
      "  File \"/var/folders/dr/49zwrn252fl8h71zrm07td4m0000gn/T/ipykernel_69642/208744657.py\", line 19, in teste_6\n",
      "    self.assertEqual(extend_hit('ATC','AAATC',(999,999),999), (0,0,0,0))\n",
      "AssertionError: Tuples differ: (999, 999, 999, 999) != (0, 0, 0, 0)\n",
      "\n",
      "First differing element 0:\n",
      "999\n",
      "0\n",
      "\n",
      "- (999, 999, 999, 999)\n",
      "+ (0, 0, 0, 0)\n",
      "\n",
      "----------------------------------------------------------------------\n",
      "Ran 5 tests in 0.007s\n",
      "\n",
      "FAILED (failures=1)\n"
     ]
    },
    {
     "data": {
      "text/plain": [
       "<unittest.runner.TextTestResult run=5 errors=0 failures=1>"
      ]
     },
     "execution_count": 10,
     "metadata": {},
     "output_type": "execute_result"
    }
   ],
   "source": [
    "class TestExtendHit(unittest.TestCase):\n",
    "\n",
    "    def teste_1(self):\n",
    "        with self.assertRaises(ValueError):\n",
    "            extend_hit('ATP','ATC',(1,1),1)\n",
    "\n",
    "    def teste_2(self):\n",
    "        with self.assertRaises(ValueError):\n",
    "            extend_hit('ATC','ATP',(1,1),1)\n",
    "\n",
    "    def teste_4(self):\n",
    "        with self.assertRaises(TypeError):\n",
    "            extend_hit('ATC','ATC',('1',1),1)\n",
    "\n",
    "    def teste_5(self):\n",
    "        self.assertEqual(extend_hit('ATCG','AAAATC',(1,1),1),(0,0,4,1))\n",
    "\n",
    "    def teste_6(self):\n",
    "        self.assertEqual(extend_hit('ATC','AAATC',(999,999),999), (0,0,0,0))\n",
    "        \n",
    "\n",
    "\n",
    "suite = unittest.TestLoader().loadTestsFromTestCase(TestExtendHit)\n",
    "unittest.TextTestRunner(verbosity=3).run(suite)"
   ]
  },
  {
   "cell_type": "markdown",
   "metadata": {},
   "source": [
    "* **Best_hit**"
   ]
  },
  {
   "cell_type": "markdown",
   "metadata": {},
   "source": [
    "A função **best_hit** tem como objetivo identificar o hit mais próximo do início e o maior/mais preciso dentre todos os hits estendidos.\n",
    "\n",
    "Para alcançar isso, a função inicia invocando a função **hits**, gerando uma lista de hits a partir do resultado da função query_map. Em seguida, utiliza a função extend_hit para cada hit na lista de hits estendidos, empregando o tamanho da janela fornecido como argumento.\n",
    "\n",
    "A lista resultante de hits estendidos (extended_hits) é então percorrida, e a função mantém o hit com o maior número de matches corretos. O tuplo resultado é inicializado com zeros e é atualizado conforme se são encontrados hits mais precisos durante a iteração.\n",
    "\n",
    "No final, a função retorna o melhor hit identificado, representado pelo tuplo resultante com o offset inicial na sequência query, o offset inicial na sequência alvo, o tamanho do resultado, e o número de matches corretos."
   ]
  },
  {
   "cell_type": "code",
   "execution_count": 12,
   "metadata": {},
   "outputs": [],
   "source": [
    "def best_hit(query : str , seq : str , window : int) -> tuple:\n",
    "    \n",
    "  \"\"\"\n",
    "  Itera sobre todos os hits extendidos e encontra o mais próximo do início\n",
    "  e o maior / mais preciso\n",
    "  \n",
    "  Parâmetros\n",
    "  ----------\n",
    "  query : str \n",
    "    sequencia de DNA válida correspondente à sequência de busca\n",
    "\n",
    "  seq   : str\n",
    "    sequencia de DNA válida correspondente à sequência alvo\n",
    "\n",
    "  w     : int\n",
    "    o tamanho da janela para a criação de dicionários de substrings na função query map\n",
    "\n",
    "  Returns:\n",
    "  --------\n",
    "  tuple\n",
    "    Devolve um tuplo com:\n",
    "      1. O offset inicial na query\n",
    "      2. O offset inicial na seq\n",
    "      3. O tamanho do resultado\n",
    "      4. O nº de matches corretos\n",
    "  \"\"\"\n",
    "\n",
    "  \n",
    "\n",
    "  # Começamos pela lista de extended hits invocando a função:\n",
    "\n",
    "  extended_hits = [extend_hit(query,seq,hit,window) for hit in hits(query_map(query,window),seq)]\n",
    "\n",
    "  best_hit = (0,0,0,0)             # Iniciamos o tuplo-resultado\n",
    "\n",
    "  for hit in extended_hits:        # Itera por todos os hits e mantém o que tem o match score maior\n",
    "    if hit[3] > best_hit[3]:\n",
    "        best_hit = hit\n",
    "  \n",
    "  return best_hit\n",
    "    "
   ]
  },
  {
   "cell_type": "markdown",
   "metadata": {},
   "source": [
    "**Exemplo**:"
   ]
  },
  {
   "cell_type": "code",
   "execution_count": 18,
   "metadata": {},
   "outputs": [
    {
     "data": {
      "text/plain": [
       "(0, 2, 3, 3)"
      ]
     },
     "execution_count": 18,
     "metadata": {},
     "output_type": "execute_result"
    }
   ],
   "source": [
    "best_hit('ATC','AAATCTATCTTAG',3)"
   ]
  },
  {
   "cell_type": "markdown",
   "metadata": {},
   "source": [
    "**Testes de unidade**:"
   ]
  },
  {
   "cell_type": "code",
   "execution_count": 17,
   "metadata": {},
   "outputs": [
    {
     "name": "stderr",
     "output_type": "stream",
     "text": [
      "teste_1 (__main__.TestBestHit.teste_1) ... ok\n",
      "teste_2 (__main__.TestBestHit.teste_2) ... ok\n",
      "teste_3 (__main__.TestBestHit.teste_3) ... ok\n",
      "teste_4 (__main__.TestBestHit.teste_4) ... ok\n",
      "\n",
      "----------------------------------------------------------------------\n",
      "Ran 4 tests in 0.005s\n",
      "\n",
      "OK\n"
     ]
    },
    {
     "data": {
      "text/plain": [
       "<unittest.runner.TextTestResult run=4 errors=0 failures=0>"
      ]
     },
     "execution_count": 17,
     "metadata": {},
     "output_type": "execute_result"
    }
   ],
   "source": [
    "class TestBestHit(unittest.TestCase):\n",
    "\n",
    "    def teste_1(self):\n",
    "        with self.assertRaises(ValueError):\n",
    "            best_hit('ATTTPP','ATTTC',3)\n",
    "\n",
    "    def teste_2(self):\n",
    "        with self.assertRaises(ValueError):\n",
    "            best_hit('',' ',3)\n",
    "\n",
    "    def teste_3(self):\n",
    "        self.assertEqual(best_hit('ATC','AAACGTATCTG',3), (0,6,3,3))\n",
    "\n",
    "    def teste_4(self):\n",
    "        self.assertEqual(best_hit('ATC','AAAAA',3),(0,0,0,0))\n",
    "\n",
    "suite = unittest.TestLoader().loadTestsFromTestCase(TestBestHit)\n",
    "unittest.TextTestRunner(verbosity=3).run(suite)"
   ]
  }
 ],
 "metadata": {
  "kernelspec": {
   "display_name": "Python 3",
   "language": "python",
   "name": "python3"
  },
  "language_info": {
   "codemirror_mode": {
    "name": "ipython",
    "version": 3
   },
   "file_extension": ".py",
   "mimetype": "text/x-python",
   "name": "python",
   "nbconvert_exporter": "python",
   "pygments_lexer": "ipython3",
   "version": "3.11.5"
  }
 },
 "nbformat": 4,
 "nbformat_minor": 2
}
