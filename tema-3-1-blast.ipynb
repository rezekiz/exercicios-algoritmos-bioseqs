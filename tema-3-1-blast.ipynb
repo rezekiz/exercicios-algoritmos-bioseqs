{
 "cells": [
  {
   "cell_type": "markdown",
   "metadata": {},
   "source": [
    "### BLAST: Basic Local Alignment Search Tool"
   ]
  },
  {
   "cell_type": "markdown",
   "metadata": {},
   "source": [
    "Consiste numa ferramenta para comparar sequências biológicas, conjunto de algoritmos e ferramentas para procurar sequências similares em bases de dados de grande dimensão. \n",
    "\n",
    "**Como funciona o [BLAST?](https://edu.taugc.com/blog/voce-sabe-como-o-blast-funciona/)**\n",
    "\n",
    "O algoritmo identifica similaridades entre sequências por meio de correspondências curtas. De seguida, ocorre a procura por alinhamentos locais utilizando conjuntos de um tamanho definifo pelo utilizador, normalmente é de 3 letras para aminoácidos e 11 para nucleótidos. \n",
    "\n",
    "* Exemplo:\n",
    "    * GLFKA seria analisada em conjuntos de três letras: GLK, LKF, KFA.\n",
    "\n",
    "Os alinhamentos locais são construídos a partir de correspondências comuns, servindo como ponto de partida para uma extensão em ambas as direções. Essa extensão continua até que o alinhamento atinja um valor de pontuação pré-definido. \n",
    "\n",
    "Nesta UC, foi-nos proposto a criação de um algoritmo BLAST versão simplificada que assenta em três pontos principais:\n",
    "* Considera apenas matches perfeitos entre a query e as sequências da BD\n",
    "* Critérios simples usados para a extensão dos hits\n",
    "* Score será a contagem do nº de matches"
   ]
  },
  {
   "cell_type": "markdown",
   "metadata": {},
   "source": [
    "* **Query map**"
   ]
  },
  {
   "cell_type": "markdown",
   "metadata": {},
   "source": [
    "A primeira função criada, **query_map()**, procura mapear as sequências através de uma janela de tamanho **w** para identificar as subsequências e os seus índices correspondentes. \n",
    "\n",
    "Inicialmente, a função verifica se a sequência de entrada é do tipo \"ADN\" ou \"sequência de aminoácidos\", utilizando a função auxiliar **tipo_seq()**. Em caso de não ser nenhum desses tipos, a função levanta um erro. Além disso, verifica se o valor inserido em w é um inteiro positivo válido. Após realizar um aprimoramento na sequência para prepará-la para a análise subsequente, a função divide a sequência em todas as possíveis sub-sequências de tamanho w e armazena-as numa lista.\n",
    "\n",
    "É então criado um dicionário vazio para armazenar as subsequências e seus índices correspondentes. A função percorre a sequência e, para cada sub-sequência de tamanho w, verifica se ela já está presente no dicionário. Se estiver, adiciona o índice atual à lista de índices associada a essa sub-sequência. Se não estiver, cria uma nova entrada no dicionário com a sub-sequência como chave e uma lista contendo o índice atual como valor.\n",
    "\n",
    "Finalmente, a função retorna o dicionário resultante, que contém as subsequências como chaves e os índices onde essas subsequências são encontradas na sequência inserida."
   ]
  },
  {
   "cell_type": "code",
   "execution_count": 20,
   "metadata": {},
   "outputs": [],
   "source": [
    "def query_map(query, w): \n",
    "    \"\"\"\n",
    "    Mapeia as sequências numa janela  para identificar subsequências\n",
    "\n",
    "    \n",
    "    Parâmetros:\n",
    "    -------------\n",
    "    query : str \n",
    "        Sequência a ser mapeada\n",
    "    w : int \n",
    "        Tamanho da janela\n",
    "\n",
    "        \n",
    "    Retorna:\n",
    "    -------------\n",
    "    dict: Dicionário de subsequências mapeadas com seus índices.\n",
    "\n",
    "\n",
    "    Levanta:\n",
    "    -------------\n",
    "    ValueError\n",
    "        Caso sequência inserida seja inválida ou tamanho da janela não ser um inteiro positivo\n",
    "\n",
    "        \n",
    "    \"\"\"\n",
    "\n",
    "    from scripts.auxiliares import tipo_seq\n",
    "    from scripts.auxiliares import aprimorar_seq\n",
    "\n",
    "    if not isinstance(query, str):\n",
    "        raise TypeError(\"A sequência deve ser uma string\")\n",
    "    if not isinstance(w, int) or w <= 0:\n",
    "        raise ValueError(\"O tamanho da janela deve ser um inteiro positivo\")\n",
    "\n",
    "    if tipo_seq(query) == \"DNA\":\n",
    "        pass\n",
    "    elif tipo_seq(query) == \"Sequência de aminoácidos\":\n",
    "        pass\n",
    "    else:\n",
    "        raise ValueError(\"Sequência Inválida\")\n",
    "    \n",
    "    query = aprimorar_seq(query)\n",
    "\n",
    "    seq_dic = {}\n",
    "\n",
    "    for i in range(len(query) - w + 1):\n",
    "        subsequence = query[i:i + w]\n",
    "\n",
    "        if subsequence in seq_dic:\n",
    "\n",
    "            seq_dic[subsequence].append(i)\n",
    "        else:\n",
    "            seq_dic[subsequence] = [i]\n",
    "\n",
    "    return seq_dic"
   ]
  },
  {
   "cell_type": "markdown",
   "metadata": {},
   "source": [
    "**Exemplo**:"
   ]
  },
  {
   "cell_type": "code",
   "execution_count": 9,
   "metadata": {},
   "outputs": [
    {
     "data": {
      "text/plain": [
       "{'ATC': [0], 'TCG': [1], 'CGC': [2], 'GCT': [3], 'CTG': [4]}"
      ]
     },
     "execution_count": 9,
     "metadata": {},
     "output_type": "execute_result"
    }
   ],
   "source": [
    "query_map(\"ATCGCTG\", 3)"
   ]
  },
  {
   "cell_type": "markdown",
   "metadata": {},
   "source": [
    "**Testes de unidade**:"
   ]
  },
  {
   "cell_type": "code",
   "execution_count": 25,
   "metadata": {},
   "outputs": [
    {
     "name": "stderr",
     "output_type": "stream",
     "text": [
      "test_query_map_vazio (__main__.TestBLASTFunctions) ... ok\n",
      "test_query_numerico (__main__.TestBLASTFunctions) ... ok\n",
      "test_w_vazio (__main__.TestBLASTFunctions) ... ok\n",
      "\n",
      "----------------------------------------------------------------------\n",
      "Ran 3 tests in 0.016s\n",
      "\n",
      "OK\n"
     ]
    },
    {
     "data": {
      "text/plain": [
       "<unittest.runner.TextTestResult run=3 errors=0 failures=0>"
      ]
     },
     "execution_count": 25,
     "metadata": {},
     "output_type": "execute_result"
    }
   ],
   "source": [
    "import unittest\n",
    "\n",
    "class TestBLASTFunctions(unittest.TestCase):\n",
    "    def test_query_map_vazio(self):\n",
    "        # Testa se a função lança um erro ao receber uma sequência vazia\n",
    "        with self.assertRaises(ValueError):\n",
    "            query_map(\"\", 3)\n",
    "\n",
    "    def test_w_vazio(self):\n",
    "        # Testa se a função lança um erro ao receber um valor vazio para w\n",
    "        with self.assertRaises(ValueError):\n",
    "            query_map(\"ACT\", \"\")\n",
    "\n",
    "    def test_query_numerico(self):\n",
    "        # Testa se a função lança um erro ao receber um valor não string para a sequência\n",
    "        with self.assertRaises(TypeError):\n",
    "            query_map(1, 3)\n",
    "            \n",
    "suite = unittest.TestLoader().loadTestsFromTestCase(TestBLASTFunctions)\n",
    "unittest.TextTestRunner(verbosity=3).run(suite)"
   ]
  },
  {
   "cell_type": "markdown",
   "metadata": {},
   "source": [
    "* **Hits**"
   ]
  },
  {
   "cell_type": "markdown",
   "metadata": {},
   "source": [
    "De seguida, foi criada uma função denominada **hits()** que realiza a análise dos hits entre as subsequências identificadas na sequência de consulta (query) e a sequência da base de dados.\n",
    "\n",
    "A função recebe dois parâmetros:\n",
    "\n",
    "* dic_query: Um dicionário proveniente da função anterior, query_map(), que mapeia as subsequências e seus índices na sequência de consulta.\n",
    "* seq: A sequência da base de dados a ser analisada.\n",
    "\n",
    "A função percorre cada entrada no dicionário, onde cada chave representa uma subsequência e o valor é uma lista de índices onde essa subsequência ocorre na sequência de consulta. Para cada valor na lista de índices, a função verifica se a chave (subsequência) está presente na sequência da base de dados (seq). Se estiver, utiliza expressões regulares para encontrar todas as ocorrências da subsequência na base de dados, obtendo uma lista de índices dessas ocorrências.\n",
    "\n",
    "Em seguida, a função cria tuplos contendo os índices da subsequência na sequência de consulta e os índices correspondentes na sequência da base de dados. Esses tuplos são adicionados a uma lista.\n",
    "\n",
    "Finalmente, a função retorna uma lista de tuplos, onde cada tuplo representa um hit entre a sequência de consulta e a sequência da base de dados, contendo os índices onde a subsequência foi encontrada em ambas as sequências."
   ]
  },
  {
   "cell_type": "code",
   "execution_count": 3,
   "metadata": {},
   "outputs": [],
   "source": [
    "def hits(dic_query, seq):\n",
    "    \"\"\" \n",
    "    Função que devolve lista de hits em que cada elemento é um tuplo com os índices na sequência query e na sequência da base da dados\n",
    "\n",
    "    \n",
    "    Parâmetros\n",
    "    -------------\n",
    "    dic_query : dict\n",
    "        dicionário proveniente da função anterior, query_map()\n",
    "    seq : str\n",
    "        sequência da base de dados\n",
    "    \n",
    "        \n",
    "    Returns\n",
    "    -------------\n",
    "    list\n",
    "        lista de tuples com hits da sequência query e da sequência da base de dasos\n",
    "\n",
    "    \"\"\"\n",
    "    # Adicionar tratamento de exceções para lidar com casos em que a chave não está presente na sequência\n",
    "    import re\n",
    "\n",
    "    lista_tuplos = []\n",
    "\n",
    "    for chave, valor in dic_query.items():\n",
    "        print(chave, valor)\n",
    "        for valor_unico in valor:\n",
    "            if chave in seq:\n",
    "                lista_ocorrencias = [m.start() for m in re.finditer(chave, seq)]\n",
    "                for index in lista_ocorrencias:\n",
    "                    tuplo = (valor_unico, index)\n",
    "                    lista_tuplos.append(tuplo)\n",
    "\n",
    "    return lista_tuplos"
   ]
  },
  {
   "cell_type": "code",
   "execution_count": 17,
   "metadata": {},
   "outputs": [],
   "source": [
    "def expande_direcao(alinhamento, sequencia, direcao):\n",
    "    \"\"\"\n",
    "    Função para expandir o alinhamento numa direção específica.\n",
    "    Recebe um alinhamento, a sequência original e a direção para expandir.\n",
    "    Retorna a sequência expandida na direção especificada.\n",
    "\n",
    "    Parâmetros\n",
    "    -------------\n",
    "    alinhamento : tuple\n",
    "        Tuplo representando o alinhamento, por exemplo, (inicio, fim)\n",
    "    sequencia : str\n",
    "        Sequência original do alinhamento\n",
    "    direcao : str\n",
    "        Direção para expandir o alinhamento (por exemplo: 'esquerda', 'direita', 'ambas')\n",
    "\n",
    "    Returns\n",
    "    -------------\n",
    "    str\n",
    "        Sequência expandida na direção especificada\n",
    "    \"\"\"\n",
    "    # Adicionar manipulação de exceções para garantir que os índices não ultrapassem os limites da sequência\n",
    "    inicio, fim = alinhamento\n",
    "    if direcao == 'esquerda':\n",
    "        while inicio > 0 and sequencia[inicio-1] != '-':\n",
    "            inicio -= 1\n",
    "    elif direcao == 'direita':\n",
    "        while fim < len(sequencia) - 1 and sequencia[fim+1] != '-':\n",
    "            fim += 1\n",
    "    elif direcao == 'ambas':\n",
    "        while inicio > 0 and sequencia[inicio-1] != '-':\n",
    "            inicio -= 1\n",
    "        while fim < len(sequencia) - 1 and sequencia[fim+1] != '-':\n",
    "            fim += 1\n",
    "\n",
    "    return sequencia[inicio:fim+1]\n"
   ]
  },
  {
   "cell_type": "code",
   "execution_count": 4,
   "metadata": {},
   "outputs": [],
   "source": [
    "def extended_hits(alinhamentos, sequencia, w, k, threshold):\n",
    "    \"\"\"\n",
    "    Identifica hits estendidos com base em um limiar de similaridade.\n",
    "\n",
    "    Args:\n",
    "    alinhamentos (list): Lista de alinhamentos do BLAST.\n",
    "    sequencia (str): Sequência original.\n",
    "    w (int): Tamanho da janela.\n",
    "    k (int): Fator de expansão.\n",
    "    threshold (float): Limiar de similaridade.\n",
    "\n",
    "    Returns:\n",
    "    list: Lista de hits estendidos que atendem ao limiar de similaridade especificado.\n",
    "    \"\"\"\n",
    "    # CRIAR a função calculate_similarity(subsequence, query) para calcular a similaridade, wunch ou waterman? se ja criada substituir pelo nome correto.\n",
    "    expanded_regions = expanded_hits(alinhamentos, sequencia, w, k)\n",
    "    similar_hits = []\n",
    "    for start, end in expanded_regions:\n",
    "        subsequence = sequencia[start:end]\n",
    "        if calculate_similarity(subsequence, query) >= threshold:\n",
    "            similar_hits.append((start, end))\n",
    "    return similar_hits"
   ]
  },
  {
   "cell_type": "code",
   "execution_count": 5,
   "metadata": {},
   "outputs": [],
   "source": [
    "def best_hits(hits, criterio='pontuacao', top_n=1):\n",
    "    \"\"\"\n",
    "    Função alternativa para encontrar os melhores hits com base em critérios específicos.\n",
    "\n",
    "    Parâmetros\n",
    "    -------------\n",
    "    hits : list\n",
    "        Lista de tuplos representando os hits, por exemplo, [(indice_seq_query, indice_seq_db, pontuacao), ...]\n",
    "    criterio : str, opcional\n",
    "        Critério para selecionar os melhores hits (por exemplo: 'pontuacao', 'identidade', 'tamanho_alinhamento', etc.)\n",
    "    top_n : int, opcional\n",
    "        Número de melhores hits a serem retornados\n",
    "\n",
    "    Returns\n",
    "    -------------\n",
    "    list\n",
    "        Lista dos melhores hits do blast\n",
    "    \"\"\"\n",
    "    if criterio == 'pontuacao':\n",
    "        # Ordena os hits com base na pontuação\n",
    "        hits_ordenados = sorted(hits, key=lambda x: x[2], reverse=True)\n",
    "    elif criterio == 'identidade':\n",
    "        # Ordena os hits com base na identidade\n",
    "        # Substitua esta lógica com o cálculo da identidade\n",
    "        hits_ordenados = sorted(hits, key=lambda x: calcular_identidade(x), reverse=True)\n",
    "    # Verificar se a função calcular_identidade está definida em algum lugar do código, waterman ou wunch? Se ja criada substituir pelo nome correto.\n",
    "    # Adiciona mais critérios aqui, se existirem?\n",
    "\n",
    "    # Retornar os top N melhores hits\n",
    "    return hits_ordenados[:top_n]"
   ]
  },
  {
   "cell_type": "code",
   "execution_count": 6,
   "metadata": {},
   "outputs": [],
   "source": [
    "def expanded_hits(alinhamentos, sequencia, w, k):\n",
    "    \"\"\"\n",
    "    Expande os hits do BLAST para identificar regiões similares na sequência original.\n",
    "\n",
    "    Args:\n",
    "    alinhamentos (list): Lista de alinhamentos do BLAST.\n",
    "    sequencia (str): Sequência original.\n",
    "    w (int): Tamanho da janela.\n",
    "    k (int): Fator de expansão.\n",
    "\n",
    "    Returns:\n",
    "    list: Lista de regiões expandidas que correspondem aos hits do BLAST.\n",
    "    \"\"\"\n",
    "    expanded_regions = []\n",
    "    for hit in alinhamentos:\n",
    "        start, end = hit  # assumindo que hit é um tuplo com posições de inicio e fim estabelecidas.\n",
    "        expanded_start = max(0, start - k * w)\n",
    "        expanded_end = min(len(sequencia), end + k * w)\n",
    "        expanded_regions.append((expanded_start, expanded_end))\n",
    "\n",
    "    return expanded_regions\n"
   ]
  },
  {
   "cell_type": "code",
   "execution_count": 7,
   "metadata": {},
   "outputs": [],
   "source": [
    "def visualize_results(hits):  \n",
    "    for hit in hits:\n",
    "        print('Hit encontrado:', hit)"
   ]
  },
  {
   "cell_type": "code",
   "execution_count": null,
   "metadata": {},
   "outputs": [],
   "source": [
    "import unittest\n",
    "\n",
    "class TestBLASTFunctions(unittest.TestCase):\n",
    "    def test_query_map_vazio(self):\n",
    "        # Testa se a função lança um erro ao receber uma sequência vazia\n",
    "        with self.assertRaises(AssertionError):\n",
    "            query_map(\"\", 3)\n",
    "\n",
    "    def test_w_vazio(self):\n",
    "        # Testa se a função lança um erro ao receber um valor vazio para w\n",
    "        with self.assertRaises(AssertionError):\n",
    "            query_map(\"ACT\", \"\")\n",
    "\n",
    "    def test_query_numerico(self):\n",
    "        # Testa se a função lança um erro ao receber um valor não string para a sequência\n",
    "        with self.assertRaises(AssertionError):\n",
    "            query_map(1, 3)\n",
    "\n",
    "    def test_hits(self):\n",
    "        # Teste para a função hits\n",
    "        dic_query = {'ATC': [0, 4], 'TCG': [1, 5], 'CGA': [2, 6]}\n",
    "        seq = \"ATCGATCGA\"\n",
    "        expected_result = [(0, 0), (0, 4), (1, 1), (1, 5), (2, 2), (2, 6)]\n",
    "        self.assertEqual(hits(dic_query, seq), expected_result)\n",
    "\n",
    "    def test_expanded_hits(self):\n",
    "        # Teste para a função expanded_hits\n",
    "        alinhamentos = [(3, 6), (8, 10)]\n",
    "        sequencia = \"ATCGATCGA\"\n",
    "        w = 3\n",
    "        k = 2\n",
    "        expected_result = [(0, 9), (5, 12)]\n",
    "        self.assertEqual(expanded_hits(alinhamentos, sequencia, w, k), expected_result)\n",
    "\n",
    "suite = unittest.TestLoader().loadTestsFromTestCase(TestBLASTFunctions)\n",
    "unittest.TextTestRunner(verbosity=3).run(suite)"
   ]
  }
 ],
 "metadata": {
  "kernelspec": {
   "display_name": "Python 3",
   "language": "python",
   "name": "python3"
  },
  "language_info": {
   "codemirror_mode": {
    "name": "ipython",
    "version": 3
   },
   "file_extension": ".py",
   "mimetype": "text/x-python",
   "name": "python",
   "nbconvert_exporter": "python",
   "pygments_lexer": "ipython3",
   "version": "3.10.11"
  }
 },
 "nbformat": 4,
 "nbformat_minor": 2
}
