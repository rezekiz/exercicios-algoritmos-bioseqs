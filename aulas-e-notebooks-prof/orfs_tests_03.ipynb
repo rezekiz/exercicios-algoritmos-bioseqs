{
  "nbformat": 4,
  "nbformat_minor": 0,
  "metadata": {
    "colab": {
      "private_outputs": true,
      "provenance": []
    },
    "kernelspec": {
      "name": "python3",
      "display_name": "Python 3"
    },
    "language_info": {
      "name": "python"
    }
  },
  "cells": [
    {
      "cell_type": "markdown",
      "source": [
        "# Sumário\n",
        "- Dogma central da biologia\n",
        "- Tradução de DNA para aminoácidos\n",
        "- Open Reading frames\n",
        "- Extrair todas as proteínas possíveis de uma cadeia de DNA"
      ],
      "metadata": {
        "id": "NHVEPfzeRJDB"
      }
    },
    {
      "cell_type": "code",
      "execution_count": null,
      "metadata": {
        "id": "nA0CucoZRF1d"
      },
      "outputs": [],
      "source": [
        "codons = {\n",
        "        'ATA':'I', 'ATC':'I', 'ATT':'I', 'ATG':'M',\n",
        "        'ACA':'T', 'ACC':'T', 'ACG':'T', 'ACT':'T',\n",
        "        'AAC':'N', 'AAT':'N', 'AAA':'K', 'AAG':'K',\n",
        "        'AGC':'S', 'AGT':'S', 'AGA':'R', 'AGG':'R',\n",
        "        'CTA':'L', 'CTC':'L', 'CTG':'L', 'CTT':'L',\n",
        "        'CCA':'P', 'CCC':'P', 'CCG':'P', 'CCT':'P',\n",
        "        'CAC':'H', 'CAT':'H', 'CAA':'Q', 'CAG':'Q',\n",
        "        'CGA':'R', 'CGC':'R', 'CGG':'R', 'CGT':'R',\n",
        "        'GTA':'V', 'GTC':'V', 'GTG':'V', 'GTT':'V',\n",
        "        'GCA':'A', 'GCC':'A', 'GCG':'A', 'GCT':'A',\n",
        "        'GAC':'D', 'GAT':'D', 'GAA':'E', 'GAG':'E',\n",
        "        'GGA':'G', 'GGC':'G', 'GGG':'G', 'GGT':'G',\n",
        "        'TCA':'S', 'TCC':'S', 'TCG':'S', 'TCT':'S',\n",
        "        'TTC':'F', 'TTT':'F', 'TTA':'L', 'TTG':'L',\n",
        "        'TAC':'Y', 'TAT':'Y', 'TAA':'_', 'TAG':'_',\n",
        "        'TGC':'C', 'TGT':'C', 'TGA':'_', 'TGG':'W',\n",
        "    }"
      ]
    },
    {
      "cell_type": "code",
      "source": [
        "import unittest\n",
        "\n",
        "class TestBioInf(unittest.TestCase):\n",
        "\n",
        "    def test_valido(self):\n",
        "      self.assertTrue(dna_valido(\"\"))\n",
        "      validas = \"AAA AGGC GGGGGGGG TT CCCC GT TGC ATGA TCGA\".split()\n",
        "      invalidas = \"AXA TGCHA YRT GITA  PATETA\".split()\n",
        "      for s in validas:\n",
        "        self.assertTrue(dna_valido(s), f'valido {s}')\n",
        "      for s in invalidas:\n",
        "        self.assertFalse(dna_valido(s), f'invalido {s}')\n",
        "\n",
        "    def test_get_orf_prot(self):\n",
        "        testes = [\n",
        "            (\"YTMAMOP_NKENDRWNSKSSHQVFNKMENDRWNSMYIKWRSLFCWYPHKNVLIILQWLALDFWGCEFI_\", {\"MAMOP_\", \"MENDRWNSMYIKWRSLFCWYPHKNVLIILQWLALDFWGCEFI_\"}),\n",
        "            (\"NKM_POPMENDMWYP_YTMOP\", {\"M_\",\"MENDMWYP_\"}),\n",
        "            (\"YMTYOP\", set()),\n",
        "            (\"TYMAT_YYMTM_TTMAAA_TT\", {\"MAT_\", \"MTM_\", \"MAAA_\"}),\n",
        "            (\"YMTYOP_I\",{\"MTYOP_\"})\n",
        "        ]\n",
        "        for s, p in testes:\n",
        "          self.assertEqual(get_orf_prot(s), p)\n",
        "\n",
        "    def test_get_orfs(self):\n",
        "      self.assertEqual(get_orfs(\"ACGTACTGCACGTA\"),['TYCT', 'RTAR', 'VLHV', 'YVQY', 'TCST', 'RAVR'])\n",
        "\n",
        "    def test_get_prots(self):\n",
        "      dna = \"TTATGGGTATGGCAACTTTCCATTAATGATATGTAACTAAGTGTACCACATATACCTAGCCAAAGGCTGTGTAGTGGAGCATCGTTATCCGAAGCTTGATCGTTGCATTGTGGTAAACC\"\n",
        "      self.assertEqual(get_prots(dna), set(\"MGMATFH_ M_ MQRSSFG_ MLHYTAFG_ MWYT_ MICN_\".split()), get_orfs(dna))\n",
        "\n",
        "\n",
        "unittest.main(argv=[''], exit=False)"
      ],
      "metadata": {
        "id": "wiByvcCBaB46"
      },
      "execution_count": null,
      "outputs": []
    },
    {
      "cell_type": "code",
      "source": [
        "def get_orf_prot(amino : str) -> list[str]:\n",
        "  \"\"\"\n",
        "  Recebe uma cadeia de aminoácidos e devolve\n",
        "  uma lista de strings em que cada uma delas é uma das proteínas contidas nessa string\n",
        "  \"\"\"\n",
        "  in_prot = False\n",
        "  curr_prot = ''\n",
        "  prots = []\n",
        "\n",
        "  for A in amino:\n",
        "    if in_prot:\n",
        "      curr_prot += A\n",
        "\n",
        "      if A == '_':\n",
        "        in_prot = False\n",
        "        prots.append(curr_prot)\n",
        "        curr_prot = ''\n",
        "    else:\n",
        "      if A == 'M':\n",
        "        in_prot = True\n",
        "        curr_prot = 'M'\n",
        "  return set(prots)\n",
        "\n",
        "\n",
        "\n",
        "\n"
      ],
      "metadata": {
        "id": "G4ROLPtxdYsv"
      },
      "execution_count": null,
      "outputs": []
    },
    {
      "cell_type": "code",
      "source": [
        "def get_codons(dna : str, pos_inicial : int) -> str:\n",
        "  \"\"\"\n",
        "  Recebe uma cadeia de DNA, o offset inicial (0, 1 ou 2) e devolve os codões\n",
        "  \"\"\"\n",
        "  assert pos_inicial >= 0 and pos_inicial <= 2, \"Offset inválido!\"\n",
        "\n",
        "  pos = pos_inicial\n",
        "  codoes = []\n",
        "\n",
        "  while pos < len(dna):\n",
        "    codao = dna[pos : pos + 3]\n",
        "    if len(codao) == 3:\n",
        "      codoes.append(codao)\n",
        "      #yield codao\n",
        "\n",
        "    pos += 3\n",
        "\n",
        "  return codoes\n",
        "\n",
        "def codons_to_amino(codons : list[str]) -> str:\n",
        "  \"\"\"\n",
        "  Recebe uma lista de codões e devolve a sequência de aminoácidos correspondente\n",
        "  \"\"\"\n",
        "  codon_dict = {\n",
        "        'ATA':'I', 'ATC':'I', 'ATT':'I', 'ATG':'M',\n",
        "        'ACA':'T', 'ACC':'T', 'ACG':'T', 'ACT':'T',\n",
        "        'AAC':'N', 'AAT':'N', 'AAA':'K', 'AAG':'K',\n",
        "        'AGC':'S', 'AGT':'S', 'AGA':'R', 'AGG':'R',\n",
        "        'CTA':'L', 'CTC':'L', 'CTG':'L', 'CTT':'L',\n",
        "        'CCA':'P', 'CCC':'P', 'CCG':'P', 'CCT':'P',\n",
        "        'CAC':'H', 'CAT':'H', 'CAA':'Q', 'CAG':'Q',\n",
        "        'CGA':'R', 'CGC':'R', 'CGG':'R', 'CGT':'R',\n",
        "        'GTA':'V', 'GTC':'V', 'GTG':'V', 'GTT':'V',\n",
        "        'GCA':'A', 'GCC':'A', 'GCG':'A', 'GCT':'A',\n",
        "        'GAC':'D', 'GAT':'D', 'GAA':'E', 'GAG':'E',\n",
        "        'GGA':'G', 'GGC':'G', 'GGG':'G', 'GGT':'G',\n",
        "        'TCA':'S', 'TCC':'S', 'TCG':'S', 'TCT':'S',\n",
        "        'TTC':'F', 'TTT':'F', 'TTA':'L', 'TTG':'L',\n",
        "        'TAC':'Y', 'TAT':'Y', 'TAA':'_', 'TAG':'_',\n",
        "        'TGC':'C', 'TGT':'C', 'TGA':'_', 'TGG':'W',\n",
        "    }\n",
        "  amino = ''\n",
        "  for C in codons:\n",
        "    amino += codon_dict[C]\n",
        "  return amino\n",
        "\n",
        "def get_orfs(dna : str) -> list[str]:\n",
        "  \"\"\"\n",
        "  Recebe uma cadeia de DNA e devolve uma lista com as 6 ORFs em formato de string (cadeias de aminoácidos)\n",
        "  \"\"\"\n",
        "\n",
        "  inv = comp_inv(dna)\n",
        "  return  [codons_to_amino(get_codons(dna, pos)) for pos in range(3)] + \\\n",
        "          [codons_to_amino(get_codons(inv, pos)) for pos in range(3)]\n",
        "\n",
        "\n",
        "def comp_inv(dna):\n",
        "  \"\"\" Devolve o complemento inverso de uma cadeia de DNA que corresponde à string inversa substituindo\n",
        "  A <-> T\n",
        "  C <-> G\n",
        "  \"\"\"\n",
        "\n",
        "  subs = {\n",
        "      'A' : 'T',\n",
        "      'T' : 'A',\n",
        "      'C' : 'G',\n",
        "      'G' : 'C'\n",
        "  }\n",
        "\n",
        "  res = ''\n",
        "\n",
        "  for b in dna:\n",
        "    res = subs[b] + res\n",
        "\n",
        "  return res\n",
        "\n",
        "\n"
      ],
      "metadata": {
        "id": "t0OE6jZuhwdr"
      },
      "execution_count": null,
      "outputs": []
    },
    {
      "cell_type": "code",
      "source": [
        "get_orfs(\"AGTTGAATTCGTC\")"
      ],
      "metadata": {
        "id": "E9VXoKZjO5-d"
      },
      "execution_count": null,
      "outputs": []
    },
    {
      "cell_type": "code",
      "source": [
        "def dna_valido(dna):\n",
        "  bases = 'ACGT'\n",
        "\n",
        "  for x in dna.upper():\n",
        "    if x not in bases:\n",
        "      return False\n",
        "  return True\n",
        "\n",
        "\n",
        "for teste in \"A AA AAA AAAA C CC CCC CCCC CCCCCC GGG T AAAT ACGT TTGG\".split():\n",
        "  assert dna_valido(teste)\n",
        "print()\n",
        "for teste in \"RUI ARCO ACGU\".split():\n",
        "  assert not dna_valido(teste), teste"
      ],
      "metadata": {
        "id": "MAVDJkk0rPRz"
      },
      "execution_count": null,
      "outputs": []
    },
    {
      "cell_type": "code",
      "source": [
        "def o_meu_dna_e_valido(dna):\n",
        "  return all(x in 'ACGT' for x in dna)"
      ],
      "metadata": {
        "id": "2ev3GngqUOsk"
      },
      "execution_count": null,
      "outputs": []
    },
    {
      "cell_type": "code",
      "source": [
        "def get_prots(dna):\n",
        "  \"\"\"\n",
        "  get_orfs\n",
        "  get_orf_prot\n",
        "  \"\"\"\n",
        "  orfs = get_orfs(dna)\n",
        "\n",
        "  todas = set()\n",
        "\n",
        "  for orf in orfs:\n",
        "    for prot in get_orf_prot(orf):\n",
        "      if prot not in todas:\n",
        "        todas.add(prot)\n",
        "\n",
        "  return todas\n",
        "\n",
        "\n",
        "get_prots('TTATGGGTATGGCAACTTTCCATTAATGATATGTAACTAAGTGTACCACATATACCTAGCCAAAGGCTGTGTAGTGGAGCATCGTTATCCGAAGCTTGATCGTTGCATTGTGGTAAACCATGTAA')"
      ],
      "metadata": {
        "id": "elMYsNeMW-uQ"
      },
      "execution_count": null,
      "outputs": []
    },
    {
      "cell_type": "code",
      "source": [
        "def get_prots(dna):\n",
        "  orfs = get_orfs(dna)\n",
        "\n",
        "  todas = set()\n",
        "  for orf in orfs:\n",
        "    todas |= get_orf_prot(orf)\n",
        "\n",
        "  return todas\n",
        "\n",
        "DNA = 'TTATGGGTATGGCAACTTTCCATTAATGATATGTAACTAAGTGTACCACATATACCTAGCCAAAGGCTGTGTAGTGGAGCATCGTTATCCGAAGCTTGATCGTTGCATTGTGGTAAACCATGTAA'\n",
        "\n",
        "get_prots(DNA)"
      ],
      "metadata": {
        "id": "gg-im67gby95"
      },
      "execution_count": null,
      "outputs": []
    },
    {
      "cell_type": "code",
      "source": [
        "sorted(get_prots(DNA), key = len, reverse = True)"
      ],
      "metadata": {
        "id": "_ZrPHCjTcwCS"
      },
      "execution_count": null,
      "outputs": []
    },
    {
      "cell_type": "code",
      "source": [
        "help(sorted)"
      ],
      "metadata": {
        "id": "Yhnt04U8dKGT"
      },
      "execution_count": null,
      "outputs": []
    }
  ]
}