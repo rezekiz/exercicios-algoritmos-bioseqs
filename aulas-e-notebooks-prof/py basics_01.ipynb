{
  "nbformat": 4,
  "nbformat_minor": 0,
  "metadata": {
    "colab": {
      "private_outputs": true,
      "provenance": []
    },
    "kernelspec": {
      "name": "python3",
      "display_name": "Python 3"
    },
    "language_info": {
      "name": "python"
    }
  },
  "cells": [
    {
      "cell_type": "code",
      "execution_count": null,
      "metadata": {
        "id": "z42QxTE9-p1b"
      },
      "outputs": [],
      "source": [
        "\"\"\"\n",
        "Primeira aula\n",
        "Conceitos básicos de Python\n",
        "Separação do código em camadas\n",
        "Documentação\n",
        "Testes de Unidade\n",
        "\"\"\"\n",
        "\n",
        "def factorial(n):\n",
        "  \"\"\"\n",
        "  função fatorial\n",
        "\n",
        "  0! = 1\n",
        "  n! = (n-1)! * n\n",
        "  \"\"\"\n",
        "\n",
        "  assert type(n) is int, \"só funciona com inteiros!\"\n",
        "  assert n >= 0, \"Não funciona com negativos!\"\n",
        "  if n == 0:\n",
        "    return 2\n",
        "  else:\n",
        "    return n * factorial(n - 1)\n",
        "\n",
        "\n"
      ]
    },
    {
      "cell_type": "code",
      "source": [
        "assert factorial(0) == 1\n",
        "assert factorial(5) == 120"
      ],
      "metadata": {
        "id": "wwHT2I-wGaXH"
      },
      "execution_count": null,
      "outputs": []
    },
    {
      "cell_type": "markdown",
      "source": [
        "Dada uma cadeia de DNA, contar o nº de ocorrências de cada base\n"
      ],
      "metadata": {
        "id": "UKkueLeHHIIn"
      }
    },
    {
      "cell_type": "code",
      "source": [
        "def contar_bases(cadeia):\n",
        "  A, C, G, T = 0, 0, 0, 0\n",
        "\n",
        "  cadeia = cadeia.upper()\n",
        "  cadeia = cadeia.strip()\n",
        "\n",
        "\n",
        "  #assert valid_dna(cadeia)\n",
        "\n",
        "  A = cadeia.count('A')\n",
        "  C = cadeia.count('C')\n",
        "  G = cadeia.count('G')\n",
        "  T = cadeia.count('T')\n",
        "\n",
        "  return A, C, G, T"
      ],
      "metadata": {
        "id": "xisMunAqHOAh"
      },
      "execution_count": null,
      "outputs": []
    },
    {
      "cell_type": "code",
      "source": [
        "assert contar_bases('')                         == (0, 0, 0, 0)\n",
        "\n",
        "assert contar_bases('AAACA')                    == (4, 1, 0, 0)\n",
        "\n",
        "assert contar_bases('    aaaaaaCCCC ')          == (6, 4, 0, 0)"
      ],
      "metadata": {
        "id": "1OfXqJkwJGZh"
      },
      "execution_count": null,
      "outputs": []
    },
    {
      "cell_type": "code",
      "source": [
        "def valid_dna1(dna : str) -> bool:\n",
        "  assert type(dna) is str\n",
        "  dna = dna.upper()\n",
        "\n",
        "\n",
        "  # return 'A' in dna or 'C' in dna or 'G' in dna or 'T' in dna\n",
        "  A, C, G, T = contar_bases(dna)\n",
        "\n",
        "  return A+C+G+T == len(dna)\n",
        "\n",
        "\n",
        "def valid_dna2(dna):\n",
        "  return dna.strip().upper().replace('A', '').replace('C', '').replace('G', '').replace('T', '') == ''\n",
        "\n",
        "valid_dna = valid_dna2\n",
        "\n",
        "assert valid_dna('')\n",
        "assert valid_dna('AAAAT')\n",
        "assert valid_dna('AAaaaaAA')\n",
        "\n",
        "assert not valid_dna(\"XAAA\")\n"
      ],
      "metadata": {
        "id": "crS9n4VqLfBO"
      },
      "execution_count": null,
      "outputs": []
    },
    {
      "cell_type": "code",
      "source": [
        "\" asa   \\t \\r\\n\".strip()"
      ],
      "metadata": {
        "id": "3GIeB2N_NtHc"
      },
      "execution_count": null,
      "outputs": []
    }
  ]
}