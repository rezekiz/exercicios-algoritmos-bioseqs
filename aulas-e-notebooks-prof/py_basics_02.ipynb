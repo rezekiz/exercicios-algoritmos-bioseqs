{
  "nbformat": 4,
  "nbformat_minor": 0,
  "metadata": {
    "colab": {
      "private_outputs": true,
      "provenance": []
    },
    "kernelspec": {
      "name": "python3",
      "display_name": "Python 3"
    },
    "language_info": {
      "name": "python"
    }
  },
  "cells": [
    {
      "cell_type": "markdown",
      "source": [
        "# Sumário\n",
        "\n",
        "- Listas\n",
        "- Dicionários\n",
        "- Complemento inverso\n",
        "- Tradução\n"
      ],
      "metadata": {
        "id": "sgsLGk0JDNOw"
      }
    },
    {
      "cell_type": "code",
      "execution_count": null,
      "metadata": {
        "id": "5p__Cl-rCjDd"
      },
      "outputs": [],
      "source": [
        "l = [1,2,3]\n",
        "s = l.copy()\n",
        "\n",
        "s[1] = 5\n",
        "\n",
        "l"
      ]
    },
    {
      "cell_type": "code",
      "source": [
        "L = list(range(20, 50))"
      ],
      "metadata": {
        "id": "tNFBCFtcE9q-"
      },
      "execution_count": null,
      "outputs": []
    },
    {
      "cell_type": "code",
      "source": [
        "#print(L)\n",
        "\n",
        "S = L[:7]\n",
        "\n",
        "S[2] = \"Booo!\"\n",
        "\n",
        "print(L)"
      ],
      "metadata": {
        "id": "PkpudE8nFt7A"
      },
      "execution_count": null,
      "outputs": []
    },
    {
      "cell_type": "code",
      "source": [
        "L[-3::-2]"
      ],
      "metadata": {
        "id": "0ZcRLI7QHucI"
      },
      "execution_count": null,
      "outputs": []
    },
    {
      "cell_type": "code",
      "source": [
        "for I in  range(len(L)):\n",
        "  if I % 3 == 0:\n",
        "    print(L[I])"
      ],
      "metadata": {
        "id": "FRYTYJQAId4W"
      },
      "execution_count": null,
      "outputs": []
    },
    {
      "cell_type": "code",
      "source": [
        "for pos, elem in enumerate(L):\n",
        "  if pos % 3 == 0:\n",
        "    print(elem)\n"
      ],
      "metadata": {
        "id": "JJi9x14HJoEq"
      },
      "execution_count": null,
      "outputs": []
    },
    {
      "cell_type": "code",
      "source": [
        "U = [10, 20, 30]\n",
        "V = [7,   9, 11]\n",
        "\n",
        "\n",
        "S = []\n",
        "for u,v in zip(U,V):\n",
        "  S += [u * v]\n",
        "\n",
        "print(S)"
      ],
      "metadata": {
        "id": "1JC1DG6LKMwB"
      },
      "execution_count": null,
      "outputs": []
    },
    {
      "cell_type": "code",
      "source": [
        "[u * v for u, v in zip(U, V)]"
      ],
      "metadata": {
        "id": "IwECoHsSM69O"
      },
      "execution_count": null,
      "outputs": []
    },
    {
      "cell_type": "code",
      "source": [
        "sum(u * v for u, v in zip(U, V))"
      ],
      "metadata": {
        "id": "putMfDGhNdJl"
      },
      "execution_count": null,
      "outputs": []
    },
    {
      "cell_type": "code",
      "source": [
        "[n for n in range(1000) if n % 5 == 0 and n % 7 == 0]"
      ],
      "metadata": {
        "id": "82sQ6rS1OAnl"
      },
      "execution_count": null,
      "outputs": []
    },
    {
      "cell_type": "code",
      "source": [
        "print({x * y for x in range(100) for y in range(100) if x * y < 100})"
      ],
      "metadata": {
        "id": "IcrtgvUrOdx3"
      },
      "execution_count": null,
      "outputs": []
    },
    {
      "cell_type": "code",
      "source": [
        "print({n  : n % 10 for n in range(21)})"
      ],
      "metadata": {
        "id": "rebH_rOkPUs2"
      },
      "execution_count": null,
      "outputs": []
    },
    {
      "cell_type": "code",
      "source": [
        "def DNA2codons(dna : str) -> list[str]:\n",
        "  \"\"\"\n",
        "  Recebe uma string de DNA e devolve uma lista de codões (todos com 3 carateres!)\n",
        "  \"\"\"\n",
        "\n",
        "  res =  []\n",
        "  for P in range(0, len(dna), 3):\n",
        "    codon = dna[P : P + 3]\n",
        "    if len(codon) == 3:\n",
        "      res.append(codon)\n",
        "\n",
        "  # eu poria o invariante\n",
        "  return res\n",
        "\n",
        "\n",
        "DNA2codons(\"ATCGGTTGAGTA\")"
      ],
      "metadata": {
        "id": "WvnpErhRQ3d4"
      },
      "execution_count": null,
      "outputs": []
    },
    {
      "cell_type": "code",
      "source": [
        "def translation(dna : str) -> str:\n",
        "  \"\"\"\n",
        "  Recebe uma string de DNA e devolve a string com aminoácidos correspondente\n",
        "  \"\"\"\n",
        "\n",
        "  res = \"\"\n",
        "  for codon in  DNA2codons(dna):\n",
        "    res += translateCodon(codon)\n",
        "\n",
        "  return res"
      ],
      "metadata": {
        "id": "Jw5CFxL4UrFp"
      },
      "execution_count": null,
      "outputs": []
    },
    {
      "cell_type": "code",
      "source": [
        "def translateCodon(codon : str) -> str:\n",
        "  \"\"\"\n",
        "  Recebe um codão que tem que ser uma string de tamanho 3 correspondendo a 3 bases de DNA\n",
        "  e devolve o aminoácido correspondente\n",
        "  \"\"\"\n",
        "  assert len(codon) == 3, f\"Codão {codon} inválido porque não tem tamanho 3!\"\n",
        "\n",
        "  codons = {\n",
        "        'ATA':'I', 'ATC':'I', 'ATT':'I', 'ATG':'M',\n",
        "        'ACA':'T', 'ACC':'T', 'ACG':'T', 'ACT':'T',\n",
        "        'AAC':'N', 'AAT':'N', 'AAA':'K', 'AAG':'K',\n",
        "        'AGC':'S', 'AGT':'S', 'AGA':'R', 'AGG':'R',\n",
        "        'CTA':'L', 'CTC':'L', 'CTG':'L', 'CTT':'L',\n",
        "        'CCA':'P', 'CCC':'P', 'CCG':'P', 'CCT':'P',\n",
        "        'CAC':'H', 'CAT':'H', 'CAA':'Q', 'CAG':'Q',\n",
        "        'CGA':'R', 'CGC':'R', 'CGG':'R', 'CGT':'R',\n",
        "        'GTA':'V', 'GTC':'V', 'GTG':'V', 'GTT':'V',\n",
        "        'GCA':'A', 'GCC':'A', 'GCG':'A', 'GCT':'A',\n",
        "        'GAC':'D', 'GAT':'D', 'GAA':'E', 'GAG':'E',\n",
        "        'GGA':'G', 'GGC':'G', 'GGG':'G', 'GGT':'G',\n",
        "        'TCA':'S', 'TCC':'S', 'TCG':'S', 'TCT':'S',\n",
        "        'TTC':'F', 'TTT':'F', 'TTA':'L', 'TTG':'L',\n",
        "        'TAC':'Y', 'TAT':'Y', 'TAA':'_', 'TAG':'_',\n",
        "        'TGC':'C', 'TGT':'C', 'TGA':'_', 'TGG':'W',\n",
        "    }\n",
        "\n",
        "  assert codon in codons, f\"Codão {codon} inválido!!!\"\n",
        "\n",
        "  return codons[codon]"
      ],
      "metadata": {
        "id": "25PGTP_FWHgt"
      },
      "execution_count": null,
      "outputs": []
    },
    {
      "cell_type": "code",
      "source": [
        "translation(\"ATCGgTTGAGTA\")"
      ],
      "metadata": {
        "id": "IU-Zw15IVl89"
      },
      "execution_count": null,
      "outputs": []
    }
  ]
}