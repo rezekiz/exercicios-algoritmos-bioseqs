{
  "nbformat": 4,
  "nbformat_minor": 0,
  "metadata": {
    "colab": {
      "private_outputs": true,
      "provenance": []
    },
    "kernelspec": {
      "name": "python3",
      "display_name": "Python 3"
    },
    "language_info": {
      "name": "python"
    }
  },
  "cells": [
    {
      "cell_type": "code",
      "execution_count": null,
      "metadata": {
        "id": "1wM8gz7KhrID"
      },
      "outputs": [],
      "source": [
        "armazem = {}\n",
        "def armazenar(chave, valor):\n",
        "  armazem[chave] = valor\n",
        "\n",
        "def score(s1, s2, g = -4, indent = 0):\n",
        "  chave = f\"'{s1}'\\t'{s2}'\"\n",
        "  if chave in armazem:\n",
        "    return armazem[chave]\n",
        "\n",
        "  if s1 and s2:\n",
        "    val = max(\n",
        "      score(s1[:-1],  s2[:-1], g, indent + 1) + subst(s1[-1], s2[-1]),\n",
        "      score(s1[:-1],  s2,      g, indent + 1) + g,\n",
        "      score(s1,       s2[:-1], g, indent + 1) + g\n",
        "      )\n",
        "    armazenar(chave, val)\n",
        "    return val\n",
        "  else:\n",
        "    val = max(len(s1), len(s2)) * g\n",
        "    armazenar(chave, val)\n",
        "    return val\n",
        "\n",
        "subst = lambda X, Y: 2 if X == Y else -1"
      ]
    },
    {
      "cell_type": "code",
      "source": [
        "score(\"ATTC\", \"ATC\")"
      ],
      "metadata": {
        "id": "u6HAlecHQ17c"
      },
      "execution_count": null,
      "outputs": []
    },
    {
      "cell_type": "code",
      "source": [
        "len(armazem)"
      ],
      "metadata": {
        "id": "1rSwKMlQZVQc"
      },
      "execution_count": null,
      "outputs": []
    }
  ]
}