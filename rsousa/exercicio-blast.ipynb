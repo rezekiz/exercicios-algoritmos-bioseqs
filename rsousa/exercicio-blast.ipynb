{
 "cells": [
  {
   "cell_type": "markdown",
   "metadata": {},
   "source": [
    "[Enunciado](https://aasb2122.github.io/ficha06.pdf)\n",
    "\n",
    "1. Crie uma função chamada query_map que recebe a sequência e o w e\n",
    "que devolve um dicionário em que as chaves são as sequências e os\n",
    "valores são uma lista dos índices\n",
    "\n",
    "2. Crie uma função chamada hits que recebe o dicionário da função\n",
    "anterior e uma sequência da BD e devolve uma lista de hits em que\n",
    "cada elemento é um tuplo com os índices\n",
    "\n",
    "3. Crie uma função chamada extend_hit que recebe a query, a\n",
    "sequência da BD, o hit e o valor de w e o estende um hit em cada\n",
    "direção se o nº de matches for de pelo menos metade do tamanho da\n",
    "extensão; a função devolve um tuplo com o índice do início do hit\n",
    "estendido na query, na sequência, o tamanho e o nº de matches\n",
    "\n",
    "4. Crie uma função chamada best_hit que recebe uma query, uma\n",
    "sequência da BD e o w e que devolve a extensão de maior score (no\n",
    "caso de empate, deverá devolver a de menor tamanho que aparece\n",
    "primeiro)\n",
    "\n",
    "**Sugestões**\n",
    "\n",
    "- Crie uma função auxiliar que devolva todos os índices das ocorrências\n",
    "de uma substring numa string\n",
    "\n",
    "- Crie uma função auxiliar que estenda para a direita ou a esquerda\n",
    "quando recebe o valor +1 ou -1 respetivamente\n",
    "\n",
    "- [Pretty printing is your friend!](https://docs.python.org/3/library/pprint.html) -> pprint\n",
    "\n",
    "- Aprenda a usar o debugger que ver com o Python, o [PDB](https://docs.python.org/3/library/pdb.html)\n"
   ]
  },
  {
   "cell_type": "markdown",
   "metadata": {},
   "source": []
  },
  {
   "cell_type": "code",
   "execution_count": 18,
   "metadata": {},
   "outputs": [
    {
     "data": {
      "text/plain": [
       "'\\nDelvolve o index onde o padrão foi encontrado\\n\\nParâmetros\\n---------------\\nsequencia : str\\n    sequencia valida de DNA\\npadrao : str\\n    sequencia padrão\\n\\nReturns\\n---------------\\nint\\n    Valor do index em que padrão é encontrado\\n\\n'"
      ]
     },
     "execution_count": 18,
     "metadata": {},
     "output_type": "execute_result"
    }
   ],
   "source": [
    "# TODO Criar docstrings\n",
    "\n",
    "\"\"\"\n",
    "    Delvolve o index onde o padrão foi encontrado\n",
    "    \n",
    "    Parâmetros\n",
    "    ---------------\n",
    "    sequencia : str\n",
    "        sequencia valida de DNA\n",
    "    padrao : str\n",
    "        sequencia padrão\n",
    "    \n",
    "    Returns\n",
    "    ---------------\n",
    "    int\n",
    "        Valor do index em que padrão é encontrado\n",
    "    \n",
    "    \"\"\""
   ]
  },
  {
   "cell_type": "code",
   "execution_count": 19,
   "metadata": {},
   "outputs": [],
   "source": [
    "# Secção com as variáveis de teste\n",
    "counter = '0123456789012345678901'\n",
    "query   = 'AATATAT'                 # Sequência onde queremos procurar\n",
    "seq     = 'AATATGTTATATAATAATATTT'    # Sequência-alvo\n",
    "w = 3                             # Tamanho da janela"
   ]
  },
  {
   "cell_type": "code",
   "execution_count": 20,
   "metadata": {},
   "outputs": [],
   "source": [
    "''' Faz falta declarar funções auxiliares, que vamos acrescentando na secção abaixo '''\n",
    "\n",
    "def codons(query, window):\n",
    "    '''\n",
    "    Itera sobre uma sequence ao longo de uma determinada janela \n",
    "    e devolve uma lista com todas as substrings com tamanho window\n",
    "    '''\n",
    "    substrings = []   # Criamos a lista vazia \n",
    "\n",
    "    for indice in range(len(query) - window + 1):            # Iteramos sobre a query, já \"trimmed\" ao tamanho da janela\n",
    "        substrings.append(query[indice : indice + window])      # Adicionamos as substrings à lista\n",
    "    \n",
    "    return substrings                                          # Obtemos assim a lista com as substrings\n",
    "\n",
    "    '''\n",
    "    Descomentar a linha abaixo para ter a versão mais eficiente com uma lista por compreensão já com o enumerate.\n",
    "    Não esquecer de apagar o anterior.'''\n",
    "#     return  enumerate([ query[indice : indice + window] for indice in range(len(query) - window + 1) ])\n",
    "    \n",
    "\n",
    "def expande_dir(query, seq, off_q, off_s, way):\n",
    "    '''\n",
    "    Função que estende para a esquerda se recebe -1 ou para a direita se 1\n",
    "    '''\n",
    "\n",
    "    #off_q , off_s = hit\n",
    "    tam = 0\n",
    "    matches = 0\n",
    "    while 0 < off_q and 0 < off_s and 0 <= off_q < len(query) and 0 <= off_s < len(seq):\n",
    "\n",
    "        '''0 < off_q and 0 < off_s \n",
    "\n",
    "        é importante garantir que nenhum dos números assume caracter negativo, para evitar\n",
    "        casos em que uma das sequencias tem um tamanho maior que a outra.'''\n",
    "        \n",
    "\n",
    "        tam += 1\n",
    "        #off_q += way\n",
    "        #off_s += way\n",
    "        \n",
    "        if query[off_q] == seq[off_s]:\n",
    "            matches += 1\n",
    "            #off_q += way\n",
    "            #off_s += way\n",
    "\n",
    "        off_q += way\n",
    "        off_s += way\n",
    "\n",
    "        \n",
    "\n",
    "\n",
    " \n",
    "\n",
    "        \n",
    "    return tam, matches \n",
    "\n",
    "\n"
   ]
  },
  {
   "cell_type": "code",
   "execution_count": 21,
   "metadata": {},
   "outputs": [
    {
     "data": {
      "text/plain": [
       "(0, 15, 7, 6)"
      ]
     },
     "execution_count": 21,
     "metadata": {},
     "output_type": "execute_result"
    }
   ],
   "source": [
    "\n",
    "\n",
    "h1,h2= (1,16)\n",
    "\n",
    "tE, mE = expande_dir(query,seq,h1,h2,-1)\n",
    "tD, mD = expande_dir(query,seq,h1+w,h2+w,1)\n",
    "\n",
    "(h1-tE,h2-tE,tE+w+tD,mE+w+mD)\n"
   ]
  },
  {
   "cell_type": "code",
   "execution_count": 22,
   "metadata": {},
   "outputs": [],
   "source": [
    "def query_map(query, window):\n",
    "    \n",
    "    '''    \n",
    "    Esta função já está validada pelo prof.\n",
    "    \n",
    "    Itera sobre uma sequência e devolve quantas substrings de tamanho window\n",
    "    existem e em posições estas aparecem\n",
    "    '''\n",
    "\n",
    "    \n",
    "    dicionario = {}\n",
    "\n",
    "    for offset , codon in enumerate(codons(query,window)):\n",
    "        if codon not in dicionario: \n",
    "            dicionario[codon] = []\n",
    "\n",
    "        dicionario[codon].append(offset)\n",
    "        \n",
    "    return dicionario\n"
   ]
  },
  {
   "cell_type": "code",
   "execution_count": 23,
   "metadata": {},
   "outputs": [
    {
     "data": {
      "text/plain": [
       "{'AAT': [0], 'ATA': [1, 3], 'TAT': [2, 4]}"
      ]
     },
     "execution_count": 23,
     "metadata": {},
     "output_type": "execute_result"
    }
   ],
   "source": [
    "# Testamos a função query_map, criando um query map que será usado na próxima função\n",
    "\n",
    "qm = query_map(query,w)\n",
    "qm"
   ]
  },
  {
   "cell_type": "code",
   "execution_count": 24,
   "metadata": {},
   "outputs": [],
   "source": [
    "def hits(qm,seq): \n",
    "\n",
    "  \"\"\"\n",
    "  qm: o que é devolvido ao invocar a função query_map\n",
    "  seq: a sequência alvo\n",
    "\n",
    "  Devolve uma lista em que cada elemento é um tuplo com dois valores:\n",
    "  1. O Offset na query\n",
    "  2. O offset na seq\n",
    "  \"\"\"\n",
    "  res = []                                                # Lista de resultado que será populada com os tuplos\n",
    "\n",
    "  for codon in qm:                                        # Cicla por todos os codons mapeados na query\n",
    "    \n",
    "    if codon in seq:                                      # Apenas itera se o codon estiver na sequência\n",
    "      # Converter isto para uma função auxiliar\n",
    "      for offset_q in qm[codon]:                          # Cicla por todos os offsets da query para cada codon \n",
    "\n",
    "        offset_seq = seq.find(codon)                      # Primeira instância do codon na sequência - devolve o índice\n",
    "\n",
    "        while offset_seq != -1:                           # Enquanto for encontrada a instância do codon (o valor não é -1)\n",
    "          \n",
    "          res.append((offset_q,offset_seq))               # Adiciona um tuplo offset_query , offset_sequencia à lista de resultado\n",
    "          # print(codon,'encontrado em', offset_seq)\n",
    "          offset_seq = seq.find(codon, offset_seq + 1 )   # Procuramos pela próxima instância\n",
    "  \n",
    "  return res"
   ]
  },
  {
   "cell_type": "code",
   "execution_count": 25,
   "metadata": {},
   "outputs": [
    {
     "data": {
      "text/plain": [
       "(1, 16)"
      ]
     },
     "execution_count": 25,
     "metadata": {},
     "output_type": "execute_result"
    }
   ],
   "source": [
    "# Testamos a função hits\n",
    "\n",
    "all_hits = hits(qm, seq)\n",
    "hit = (1,16)\n",
    "\n",
    "len(hit)\n",
    "hit"
   ]
  },
  {
   "cell_type": "code",
   "execution_count": 26,
   "metadata": {},
   "outputs": [],
   "source": [
    "def extend_hit(query, seq, hit, window): \n",
    "  \n",
    "    \n",
    "    \"\"\"\n",
    "    query: a string que procuramos\n",
    "    seq: a sequência alvo\n",
    "    hit: Um dos elementos devolvidos pela invocação da função hits\n",
    "    w: o tamanho da janela\n",
    "\n",
    "    Devolve um tuplo com:\n",
    "      1. O offset inicial na query\n",
    "      2. O offset inicial na seq\n",
    "      3. O tamanho do resultado\n",
    "      4. O nº de matches corretos\n",
    "    \"\"\"\n",
    "      \n",
    "    h1 , h2 = hit\n",
    "    \n",
    "    tam_esq, matches_esq = expande_dir(query , seq , h1     , h2     , -1)\n",
    "\n",
    "    tam_dt , matches_dt  = expande_dir(query , seq , h1 + w , h2 + w ,  1) \n",
    "\n",
    "    #print(h1 - tam_esq)\n",
    "    #print(h2 - tam_esq)\n",
    "    #print('h1:',h1,'h2',h2,'w:',w,'tam_esq',tam_esq,'tam_dt:',tam_dt)\n",
    "\n",
    "\n",
    "    return (h1 - tam_esq , h2 - tam_esq , tam_esq + w + tam_dt , matches_esq + w + matches_dt)\n",
    "\n"
   ]
  },
  {
   "cell_type": "code",
   "execution_count": 27,
   "metadata": {},
   "outputs": [
    {
     "data": {
      "text/plain": [
       "(0, 15, 7, 6)"
      ]
     },
     "execution_count": 27,
     "metadata": {},
     "output_type": "execute_result"
    }
   ],
   "source": [
    "# Testamos a função extend_hit() com o hit (1,16) e janela 3\n",
    "\n",
    "extend_hit(query,seq,(1,16),3)"
   ]
  },
  {
   "cell_type": "code",
   "execution_count": 31,
   "metadata": {},
   "outputs": [
    {
     "data": {
      "text/plain": [
       "[(0, 0, 7, 6),\n",
       " (0, 12, 7, 4),\n",
       " (0, 15, 7, 6),\n",
       " (0, 0, 7, 6),\n",
       " (0, 7, 7, 6),\n",
       " (0, 9, 7, 4),\n",
       " (0, 12, 7, 4),\n",
       " (0, 15, 7, 6),\n",
       " (2, 0, 5, 5),\n",
       " (0, 5, 7, 6),\n",
       " (0, 7, 7, 6),\n",
       " (0, 10, 7, 4),\n",
       " (0, 13, 7, 5),\n",
       " (0, 0, 7, 6),\n",
       " (0, 5, 7, 6),\n",
       " (0, 7, 7, 6),\n",
       " (0, 15, 7, 6),\n",
       " (2, 0, 5, 5),\n",
       " (0, 3, 7, 4),\n",
       " (0, 5, 7, 6),\n",
       " (0, 13, 7, 5)]"
      ]
     },
     "execution_count": 31,
     "metadata": {},
     "output_type": "execute_result"
    }
   ],
   "source": [
    "''' Para a função best hit precisamos de uma lista de todos os hits estendidos'''\n",
    "\n",
    "extended_hits = [extend_hit(query,seq,hit,w) for hit in hits(qm,seq)]\n",
    "\n",
    "extended_hits"
   ]
  },
  {
   "cell_type": "code",
   "execution_count": 32,
   "metadata": {},
   "outputs": [
    {
     "data": {
      "text/plain": [
       "(0, 0, 7, 6)"
      ]
     },
     "execution_count": 32,
     "metadata": {},
     "output_type": "execute_result"
    }
   ],
   "source": [
    "# Para encontrar o melhor hit com base no maior numero de matches iteramos por todos os hits estendidos e vamos guardando o melhor\n",
    "\n",
    "best_hit = (0,0,0,0)\n",
    "\n",
    "for hit in extended_hits:\n",
    "    if hit[3] > best_hit[3]:\n",
    "        best_hit = hit\n",
    "\n",
    "best_hit"
   ]
  },
  {
   "cell_type": "markdown",
   "metadata": {},
   "source": [
    "def best_hit(query,seq,window):\n",
    "    \n",
    "  \"\"\"\n",
    "  query: a string que procuramos\n",
    "  seq: a sequência alvo\n",
    "  w: o tamanho da janela\n",
    "\n",
    "  Devolve um tuplo com:\n",
    "    1. O offset inicial na query\n",
    "    2. O offset inicial na seq\n",
    "    3. O tamanho do resultado\n",
    "    4. O nº de matches corretos\n",
    "\n",
    "  Itera sobre todos os hits extendidos e encontra o mais próximo do início\n",
    "  e o maior / mais preciso.\n",
    "\n",
    "  Para isso pode invocar todas as funções para receber menos argumentos\n",
    "  \"\"\"\n",
    "  \n",
    "\n",
    "  qm = query_map(query,w)\n",
    "\n",
    "  hits = hits()\n",
    "  \n",
    "    \n",
    "    \n",
    "\n",
    "  pass"
   ]
  }
 ],
 "metadata": {
  "kernelspec": {
   "display_name": ".venv",
   "language": "python",
   "name": "python3"
  },
  "language_info": {
   "codemirror_mode": {
    "name": "ipython",
    "version": 3
   },
   "file_extension": ".py",
   "mimetype": "text/x-python",
   "name": "python",
   "nbconvert_exporter": "python",
   "pygments_lexer": "ipython3",
   "version": "3.11.5"
  }
 },
 "nbformat": 4,
 "nbformat_minor": 2
}
