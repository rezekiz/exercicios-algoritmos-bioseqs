{
 "cells": [
  {
   "cell_type": "markdown",
   "metadata": {},
   "source": [
    "### BLAST: Basic Local Alignment Search Tool\n",
    "\n",
    "Consiste numa ferramenta para comparar sequências biológicas, conjunto de algoritmos e ferramentas para procurar sequências similares em bases de dados de grande dimensão. \n",
    "\n",
    "**Como funciona o [BLAST?](https://edu.taugc.com/blog/voce-sabe-como-o-blast-funciona/)**\n",
    "\n",
    "O algoritmo identifica similaridades entre sequências por meio de correspondências curtas. De seguida, ocorre a procura por alinhamentos locais utilizando conjuntos de um tamanho definifo pelo utilizador, normalmente é de 3 letras para aminoácidos e 11 para nucleótidos. \n",
    "\n",
    "* Exemplo:\n",
    "    * GLFKA seria analisada em conjuntos de três letras: GLK, LKF, KFA.\n",
    "\n",
    "Os alinhamentos locais são construídos a partir de correspondências comuns, servindo como ponto de partida para uma extensão em ambas as direções. Essa extensão continua até que o alinhamento atinja um valor de pontuação pré-definido. \n",
    "\n",
    "Nesta UC, foi-nos proposto a criação de um algoritmo BLAST versão simplificada que assenta em três pontos principais:\n",
    "* Considera apenas matches perfeitos entre a query e as seuquências da BD\n",
    "* Critérios simples usados para a extensão dos hits\n",
    "* Score será a contagem do nº de matches\n",
    "\n",
    "A primeira função criada, **query_map()**, procura devolver um dicionário em que as chaves são as sequências com **w** tamanho que originaram da divisão da sequência inserida. Os valores do dicionário são a lista dos índices onde as subsequências se encontram comparativamente à sequência inserida. \n",
    "\n",
    "Em primeiro lugar, a função verifica se a sequência é do tipo DNA ou aminoácidos, utilizando a função **tipo_seq()**. Caso não seja nenhum desses tipos, a função levanta um erro. Também verifica se o valor introduzido em **w** não é um valor inexistente. De seguida, realiza um aprimoramento para prepará-la para a análise subsequente. Posteriormente, a sequência é dividida em todas as possíveis sub-sequências de tamanho **\"w\"** e armazena-as numa lista.\n",
    "\n",
    "Depois, é criado um dicionário vazio para armazenar as subsequências e os seus índices. Por fim, retorna o dicionário contendo as subsequências como chaves e os índices onde essas subsequências são encontradas na sequência inserida.\n",
    "\n"
   ]
  },
  {
   "cell_type": "code",
   "execution_count": 37,
   "metadata": {},
   "outputs": [],
   "source": [
    "def valid_dna(seq):\n",
    "    return True\n",
    "def aprimorar_seq(seq):\n",
    "    return seq\n",
    "def tipo_seq(seq):\n",
    "    if len([c for c in seq if c not in \"ACGU\"]) == 0:\n",
    "        return \"RNA\"\n",
    "        \n",
    "    elif len([c for c in seq if c not in \"ABCDEFGHIKLMNPQRSTVWYZ_\"]) == 0:\n",
    "        return \"Sequência de aminoácidos\"\n",
    "    else:\n",
    "        return \"Não válido\""
   ]
  },
  {
   "cell_type": "code",
   "execution_count": 60,
   "metadata": {},
   "outputs": [
    {
     "ename": "TypeError",
     "evalue": "'int' object is not iterable",
     "output_type": "error",
     "traceback": [
      "\u001b[1;31m---------------------------------------------------------------------------\u001b[0m",
      "\u001b[1;31mTypeError\u001b[0m                                 Traceback (most recent call last)",
      "\u001b[1;32mrezekiz\\aaspg4\\mariana\\BLAST.ipynb Cell 3\u001b[0m line \u001b[0;36m5\n\u001b[0;32m     <a href='vscode-notebook-cell://github/rezekiz/aaspg4/mariana/BLAST.ipynb#W2sdnNjb2RlLXZmcw%3D%3D?line=47'>48</a>\u001b[0m         dicionario[sequencias]\u001b[39m.\u001b[39mappend(indice)\n\u001b[0;32m     <a href='vscode-notebook-cell://github/rezekiz/aaspg4/mariana/BLAST.ipynb#W2sdnNjb2RlLXZmcw%3D%3D?line=49'>50</a>\u001b[0m     \u001b[39mreturn\u001b[39;00m dicionario\n\u001b[1;32m---> <a href='vscode-notebook-cell://github/rezekiz/aaspg4/mariana/BLAST.ipynb#W2sdnNjb2RlLXZmcw%3D%3D?line=51'>52</a>\u001b[0m query_map(\u001b[39m1\u001b[39;49m, \u001b[39m4\u001b[39;49m)\n",
      "\u001b[1;32mrezekiz\\aaspg4\\mariana\\BLAST.ipynb Cell 3\u001b[0m line \u001b[0;36m1\n\u001b[0;32m      <a href='vscode-notebook-cell://github/rezekiz/aaspg4/mariana/BLAST.ipynb#W2sdnNjb2RlLXZmcw%3D%3D?line=0'>1</a>\u001b[0m \u001b[39mdef\u001b[39;00m \u001b[39mquery_map\u001b[39m(query, w):\n\u001b[0;32m      <a href='vscode-notebook-cell://github/rezekiz/aaspg4/mariana/BLAST.ipynb#W2sdnNjb2RlLXZmcw%3D%3D?line=2'>3</a>\u001b[0m \u001b[39m    \u001b[39m\u001b[39m\"\"\"\u001b[39;00m\n\u001b[0;32m      <a href='vscode-notebook-cell://github/rezekiz/aaspg4/mariana/BLAST.ipynb#W2sdnNjb2RlLXZmcw%3D%3D?line=3'>4</a>\u001b[0m \u001b[39m    Função que devolve dicionário com as subsequências e os respetivos indíces que originaram da sequência inserida\u001b[39;00m\n\u001b[0;32m      <a href='vscode-notebook-cell://github/rezekiz/aaspg4/mariana/BLAST.ipynb#W2sdnNjb2RlLXZmcw%3D%3D?line=4'>5</a>\u001b[0m \u001b[39m    \u001b[39;00m\n\u001b[1;32m   (...)\u001b[0m\n\u001b[0;32m     <a href='vscode-notebook-cell://github/rezekiz/aaspg4/mariana/BLAST.ipynb#W2sdnNjb2RlLXZmcw%3D%3D?line=15'>16</a>\u001b[0m \n\u001b[0;32m     <a href='vscode-notebook-cell://github/rezekiz/aaspg4/mariana/BLAST.ipynb#W2sdnNjb2RlLXZmcw%3D%3D?line=16'>17</a>\u001b[0m \u001b[39m    \"\"\"\u001b[39;00m\n\u001b[1;32m---> <a href='vscode-notebook-cell://github/rezekiz/aaspg4/mariana/BLAST.ipynb#W2sdnNjb2RlLXZmcw%3D%3D?line=18'>19</a>\u001b[0m     \u001b[39mif\u001b[39;00m tipo_seq(query) \u001b[39m==\u001b[39m \u001b[39m\"\u001b[39m\u001b[39mDNA\u001b[39m\u001b[39m\"\u001b[39m:\n\u001b[0;32m     <a href='vscode-notebook-cell://github/rezekiz/aaspg4/mariana/BLAST.ipynb#W2sdnNjb2RlLXZmcw%3D%3D?line=19'>20</a>\u001b[0m         \u001b[39mpass\u001b[39;00m\n\u001b[0;32m     <a href='vscode-notebook-cell://github/rezekiz/aaspg4/mariana/BLAST.ipynb#W2sdnNjb2RlLXZmcw%3D%3D?line=20'>21</a>\u001b[0m     \u001b[39melif\u001b[39;00m tipo_seq(query) \u001b[39m==\u001b[39m \u001b[39m\"\u001b[39m\u001b[39mSequência de aminoácidos\u001b[39m\u001b[39m\"\u001b[39m:\n",
      "\u001b[1;32mrezekiz\\aaspg4\\mariana\\BLAST.ipynb Cell 3\u001b[0m line \u001b[0;36m6\n\u001b[0;32m      <a href='vscode-notebook-cell://github/rezekiz/aaspg4/mariana/BLAST.ipynb#W2sdnNjb2RlLXZmcw%3D%3D?line=4'>5</a>\u001b[0m \u001b[39mdef\u001b[39;00m \u001b[39mtipo_seq\u001b[39m(seq):\n\u001b[1;32m----> <a href='vscode-notebook-cell://github/rezekiz/aaspg4/mariana/BLAST.ipynb#W2sdnNjb2RlLXZmcw%3D%3D?line=5'>6</a>\u001b[0m     \u001b[39mif\u001b[39;00m \u001b[39mlen\u001b[39m([c \u001b[39mfor\u001b[39;00m c \u001b[39min\u001b[39;00m seq \u001b[39mif\u001b[39;00m c \u001b[39mnot\u001b[39;00m \u001b[39min\u001b[39;00m \u001b[39m\"\u001b[39m\u001b[39mACGU\u001b[39m\u001b[39m\"\u001b[39m]) \u001b[39m==\u001b[39m \u001b[39m0\u001b[39m:\n\u001b[0;32m      <a href='vscode-notebook-cell://github/rezekiz/aaspg4/mariana/BLAST.ipynb#W2sdnNjb2RlLXZmcw%3D%3D?line=6'>7</a>\u001b[0m         \u001b[39mreturn\u001b[39;00m \u001b[39m\"\u001b[39m\u001b[39mRNA\u001b[39m\u001b[39m\"\u001b[39m\n\u001b[0;32m      <a href='vscode-notebook-cell://github/rezekiz/aaspg4/mariana/BLAST.ipynb#W2sdnNjb2RlLXZmcw%3D%3D?line=8'>9</a>\u001b[0m     \u001b[39melif\u001b[39;00m \u001b[39mlen\u001b[39m([c \u001b[39mfor\u001b[39;00m c \u001b[39min\u001b[39;00m seq \u001b[39mif\u001b[39;00m c \u001b[39mnot\u001b[39;00m \u001b[39min\u001b[39;00m \u001b[39m\"\u001b[39m\u001b[39mABCDEFGHIKLMNPQRSTVWYZ_\u001b[39m\u001b[39m\"\u001b[39m]) \u001b[39m==\u001b[39m \u001b[39m0\u001b[39m:\n",
      "\u001b[1;31mTypeError\u001b[0m: 'int' object is not iterable"
     ]
    }
   ],
   "source": [
    "def query_map(query, w):\n",
    "\n",
    "    \"\"\"\n",
    "    Função que devolve dicionário com as subsequências e os respetivos indíces que originaram da sequência inserida\n",
    "    \n",
    "    Parâmetros:\n",
    "    query : str \n",
    "        sequência de DNA ou aminoácidos\n",
    "    \n",
    "    w : int\n",
    "        número que corresponde ao tamanho da window\n",
    "\n",
    "    Returns:\n",
    "    dicionario : dict\n",
    "        dicionario em que as chaves são as subsequências e os valores são os seus índices na query\n",
    "\n",
    "    \"\"\"\n",
    "    \n",
    "    if tipo_seq(query) == \"DNA\":\n",
    "        pass\n",
    "    elif tipo_seq(query) == \"Sequência de aminoácidos\":\n",
    "        pass\n",
    "    else:\n",
    "        raise AssertionError(\"Sequência Inválida\")\n",
    "    \n",
    "    #NÃO DÁ, REVER\n",
    "    if not isinstance(query, str) or not query.isalpha():\n",
    "        raise ValueError(\"Só sao aceites caractéres alfabéticos para a query\")\n",
    "    \n",
    "    assert type(w) is int, \"Só são aceites números inteiros\"        \n",
    "\n",
    "    if not bool(w):\n",
    "        raise AssertionError(\"É necessário inserir um valor de 'w'\")\n",
    "\n",
    "    query = aprimorar_seq(query)\n",
    "\n",
    "    lista_w = []\n",
    "\n",
    "    for x in range(len(query)):\n",
    "        seq = query[x : x + w]\n",
    "        if len(seq) == w:\n",
    "            lista_w.append(seq)\n",
    "\n",
    "    dicionario = {}\n",
    "\n",
    "    for indice, sequencias in enumerate(lista_w):\n",
    "        if sequencias not in dicionario:\n",
    "            dicionario[sequencias] = []\n",
    "        dicionario[sequencias].append(indice)\n",
    "\n",
    "    return dicionario\n",
    "\n",
    "query_map(1, 4)"
   ]
  },
  {
   "cell_type": "code",
   "execution_count": 42,
   "metadata": {},
   "outputs": [
    {
     "name": "stderr",
     "output_type": "stream",
     "text": [
      "test_query_numerico (__main__.TestValidaData) ... ERROR\n",
      "test_query_vazio (__main__.TestValidaData) ... ok\n",
      "test_w_vazio (__main__.TestValidaData) ... ok\n",
      "\n",
      "======================================================================\n",
      "ERROR: test_query_numerico (__main__.TestValidaData)\n",
      "----------------------------------------------------------------------\n",
      "Traceback (most recent call last):\n",
      "  File \"C:\\Users\\olive\\AppData\\Local\\Temp\\ipykernel_2596\\1062910657.py\", line 12, in test_query_numerico\n",
      "    query_map(1, 3)\n",
      "  File \"C:\\Users\\olive\\AppData\\Local\\Temp\\ipykernel_2596\\848886674.py\", line 19, in query_map\n",
      "    if tipo_seq(query) == \"DNA\":\n",
      "  File \"C:\\Users\\olive\\AppData\\Local\\Temp\\ipykernel_2596\\1280948619.py\", line 6, in tipo_seq\n",
      "    if len([c for c in seq if c not in \"ACGU\"]) == 0:\n",
      "TypeError: 'int' object is not iterable\n",
      "\n",
      "----------------------------------------------------------------------\n",
      "Ran 3 tests in 0.006s\n",
      "\n",
      "FAILED (errors=1)\n"
     ]
    },
    {
     "data": {
      "text/plain": [
       "<unittest.runner.TextTestResult run=3 errors=1 failures=0>"
      ]
     },
     "execution_count": 42,
     "metadata": {},
     "output_type": "execute_result"
    }
   ],
   "source": [
    "import unittest\n",
    "\n",
    "class TestValidaData(unittest.TestCase):\n",
    "    def test_query_vazio(self):\n",
    "        with self.assertRaises(AssertionError):\n",
    "            query_map(\"\", 3)\n",
    "    def test_w_vazio(self):\n",
    "        with self.assertRaises(AssertionError):\n",
    "            query_map(\"ACT\", \"\")\n",
    "    def test_query_numerico(self):\n",
    "        with self.assertRaises(AssertionError):\n",
    "            query_map(1, 3)\n",
    "    \n",
    "\n",
    "\n",
    "\n",
    "suite = unittest.TestLoader().loadTestsFromTestCase(TestValidaData)\n",
    "unittest.TextTestRunner( verbosity=3 ).run( suite )"
   ]
  },
  {
   "cell_type": "markdown",
   "metadata": {},
   "source": [
    "De seguida, foi criada uma função denominada **hits()** que recebe o dicionário da função anterior (**query_map()**) e uma sequência da BD e devolve uma lista de hits em que cada elemento é um tuplo com os índices."
   ]
  },
  {
   "cell_type": "code",
   "execution_count": 31,
   "metadata": {},
   "outputs": [],
   "source": [
    "def hits(dic_query, seq):\n",
    "    \"\"\" \n",
    "    Função que devolve lista de hits em que cada elemento é um tuplo com os índices na sequência query e na sequência da base da dados\n",
    "\n",
    "    Parâmetros\n",
    "    -------------\n",
    "    dic_query : dict\n",
    "        dicionário proveniente da função anterior, query_map()\n",
    "    seq : str\n",
    "        sequência da base de dados\n",
    "    \n",
    "        \n",
    "    Returns\n",
    "    -------------\n",
    "    list\n",
    "        lista de tuples com hits da sequência query e da seuqência da base de dasos\n",
    "\n",
    "    \"\"\"\n",
    "    import re\n",
    "\n",
    "    lista_tuplos = []\n",
    "\n",
    "    for chave, valor in dic_query.items():\n",
    "        print(chave, valor)\n",
    "        for valor_unico in valor:\n",
    "            if chave in seq:\n",
    "                lista_ocorrencias = [m.start() for m in re.finditer(chave, seq)]\n",
    "                for index in lista_ocorrencias:\n",
    "                    tuplo = (valor_unico, index)\n",
    "                    lista_tuplos.append(tuplo)\n",
    "\n",
    "    return lista_tuplos"
   ]
  },
  {
   "cell_type": "markdown",
   "metadata": {},
   "source": []
  }
 ],
 "metadata": {
  "kernelspec": {
   "display_name": "Python 3",
   "language": "python",
   "name": "python3"
  },
  "language_info": {
   "codemirror_mode": {
    "name": "ipython",
    "version": 3
   },
   "file_extension": ".py",
   "mimetype": "text/x-python",
   "name": "python",
   "nbconvert_exporter": "python",
   "pygments_lexer": "ipython3",
   "version": "3.10.11"
  }
 },
 "nbformat": 4,
 "nbformat_minor": 2
}
