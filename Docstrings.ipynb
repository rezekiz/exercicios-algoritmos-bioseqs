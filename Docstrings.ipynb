{
 "cells": [
  {
   "cell_type": "markdown",
   "metadata": {},
   "source": [
    "### Exemplo do Professor:"
   ]
  },
  {
   "cell_type": "markdown",
   "metadata": {},
   "source": [
    "Esta função tem como objetivo transcrever uma sequencia de DNA em RNA por meio de um procedimento de transcrição onde, essencialmente, se substitui a letra \"T\" pela letra \"U\".\n",
    "\n",
    "Em Python isto implica em uma operação sobre uma string. Esta é uma operação de tipo primitivo descrita no link. O efeito desejado para este procedimento pode ser obtido pela função:\n",
    "\n",
    "str.replace(old, new[, count]) retorna uma cópia da string onde todas as ocorrências da substring old tenha sido substituida pela new. Se o parêmetro count for inserido, a substituição ocorre apenas para as primeiras n ocorrências.\n",
    "\n",
    "... continua ..."
   ]
  },
  {
   "cell_type": "code",
   "execution_count": 1,
   "metadata": {},
   "outputs": [],
   "source": [
    "def transcrever(dna):\n",
    "  \"\"\"\n",
    "  Devolve o transcrito de uma única sequência\n",
    "\n",
    "  Parameters\n",
    "  ----------\n",
    "  dna : str\n",
    "    Uma sequencia válida de DNA\n",
    "\n",
    "  Returns\n",
    "  ----------\n",
    "  str\n",
    "    Uma sequencia de RNA correspondente ao de DNA\n",
    "\n",
    "  Raises\n",
    "  ----------\n",
    "  ValueError\n",
    "    No caso da string inserida não ser um DNA\n",
    "  \"\"\"\n",
    "  dna = dna.upper()\n",
    "  for nucleotidio in dna:\n",
    "    if nucleotidio not in \"ACTGN\": raise ValueError('A sequência não é um DNA válido')\n",
    "  rna = dna.replace('T', 'U')\n",
    "  return rna"
   ]
  },
  {
   "cell_type": "code",
   "execution_count": null,
   "id": "5f6d6e1f",
   "metadata": {},
   "outputs": [],
   "source": [
    "dna_sequence = \"AATCGATCTTGCGATCGATCTTCGCA\"\n",
    "padrao = \"TCTT\"\n",
    "\n",
    "def encontrar_padrao(sequencia, padrao):\n",
    "    \"\"\"\n",
    "    Delvolve o index onde o padrão foi encontrado\n",
    "    \n",
    "    Parâmetros\n",
    "    ---------------\n",
    "    sequencia : str\n",
    "        sequencia valida de DNA\n",
    "    padrao : str\n",
    "        sequencia padrão\n",
    "    \n",
    "    Returns\n",
    "    ---------------\n",
    "    int\n",
    "        Valor do index em que padrão é encontrado\n",
    "    \n",
    "    \"\"\"\n",
    "    encontrado = False\n",
    "    i = 0\n",
    "    \n",
    "    while i <= len(sequencia) - len(padrao) and not found:\n",
    "        "
   ]
  },
  {
   "cell_type": "code",
   "execution_count": 2,
   "metadata": {},
   "outputs": [
    {
     "name": "stderr",
     "output_type": "stream",
     "text": [
      "test_transcricao (__main__.TestStrutures) ... ok\n",
      "\n",
      "----------------------------------------------------------------------\n",
      "Ran 1 test in 0.003s\n",
      "\n",
      "OK\n"
     ]
    },
    {
     "data": {
      "text/plain": [
       "<unittest.main.TestProgram at 0x112b68e71c0>"
      ]
     },
     "execution_count": 2,
     "metadata": {},
     "output_type": "execute_result"
    }
   ],
   "source": [
    "import unittest\n",
    "\n",
    "class TestStrutures(unittest.TestCase):\n",
    "\n",
    "  def test_transcricao(self):\n",
    "    self.assertEqual('AAA', transcrever('aaa'))\n",
    "    self.assertEqual('UUU', transcrever('ttt'))\n",
    "    self.assertEqual('UUU', transcrever('TTT'))\n",
    "    #continua\n",
    "\n",
    "unittest.main(argv=[''], verbosity=2, exit=False)"
   ]
  },
  {
   "cell_type": "markdown",
   "metadata": {},
   "source": [
    "### Exemplos da net.."
   ]
  },
  {
   "cell_type": "code",
   "execution_count": null,
   "metadata": {},
   "outputs": [],
   "source": [
    "def multiply_numbers(a, b):\n",
    "\t\"\"\"\n",
    "\tMultiplies two numbers and returns the result.\n",
    "\n",
    "\tArgs:\n",
    "\t\ta (int): The first number.\n",
    "\t\tb (int): The second number.\n",
    "\n",
    "\tReturns:\n",
    "\t\tint: The product of a and b.\n",
    "\t\"\"\"\n",
    "\treturn a * b\n",
    "print(multiply_numbers(3,5))\n"
   ]
  },
  {
   "cell_type": "code",
   "execution_count": null,
   "metadata": {},
   "outputs": [],
   "source": [
    "def divide_numbers(a, b):\n",
    "\t\"\"\"\n",
    "\tDivide two numbers.\n",
    "\n",
    "\tParameters\n",
    "\t----------\n",
    "\ta : float\n",
    "\t\tThe dividend.\n",
    "\tb : float\n",
    "\t\tThe divisor.\n",
    "\n",
    "\tReturns\n",
    "\t-------\n",
    "\tfloat\n",
    "\t\tThe quotient of the division.\n",
    "\t\"\"\"\n",
    "\tif b == 0:\n",
    "\t\traise ValueError(\"Division by zero is not allowed.\")\n",
    "\treturn a / b\n",
    "print(divide_numbers(3,6))\n"
   ]
  },
  {
   "cell_type": "code",
   "execution_count": null,
   "metadata": {},
   "outputs": [],
   "source": [
    "def add_numbers(a, b):\n",
    "\t\"\"\"\n",
    "\tThis function takes two numbers as input and returns their sum.\n",
    "\n",
    "\tParameters:\n",
    "\ta (int): The first number.\n",
    "\tb (int): The second number.\n",
    "\n",
    "\tReturns:\n",
    "\tint: The sum of a and b.\n",
    "\t\"\"\"\n",
    "\treturn a + b\n",
    "print(add_numbers(3, 5))\n"
   ]
  },
  {
   "cell_type": "code",
   "execution_count": null,
   "metadata": {},
   "outputs": [],
   "source": [
    "class Employee:\n",
    "\t\"\"\"\n",
    "\tA class representing an employee.\n",
    "\n",
    "\tAttributes:\n",
    "\t\tname (str): The name of the employee.\n",
    "\t\tage (int): The age of the employee.\n",
    "\t\tdepartment (str): The department the employee works in.\n",
    "\t\tsalary (float): The salary of the employee.\n",
    "\t\"\"\"\n",
    "\n",
    "\tdef __init__(self, name, age, department, salary):\n",
    "\t\t\"\"\"\n",
    "\t\tInitializes an Employee object.\n",
    "\n",
    "\t\tParameters:\n",
    "\t\t\tname (str): The name of the employee.\n",
    "\t\t\tage (int): The age of the employee.\n",
    "\t\t\tdepartment (str): The department the employee works in.\n",
    "\t\t\tsalary (float): The salary of the employee.\n",
    "\t\t\"\"\"\n",
    "\t\tself.name = name\n",
    "\t\tself.age = age\n",
    "\t\tself.department = department\n",
    "\t\tself.salary = salary\n",
    "\n",
    "\tdef promote(self, raise_amount):\n",
    "\t\t\"\"\"\n",
    "\t\tPromotes the employee and increases their salary.\n",
    "\n",
    "\t\tParameters:\n",
    "\t\t\traise_amount (float): The raise amount to increase the salary.\n",
    "\n",
    "\t\tReturns:\n",
    "\t\t\tstr: A message indicating the promotion and new salary.\n",
    "\t\t\"\"\"\n",
    "\t\tself.salary += raise_amount\n",
    "\t\treturn f\"{self.name} has been promoted! New salary: ${self.salary:.2f}\"\n",
    "\n",
    "\tdef retire(self):\n",
    "\t\t\"\"\"\n",
    "\t\tMarks the employee as retired.\n",
    "\n",
    "\t\tReturns:\n",
    "\t\t\tstr: A message indicating the retirement status.\n",
    "\t\t\"\"\"\n",
    "\t\t# Some implementation for retiring an employee\n",
    "\t\treturn f\"{self.name} has retired. Thank you for your service!\"\n",
    "\n",
    "# Access the Class docstring using help()\n",
    "help(Employee)\n"
   ]
  },
  {
   "cell_type": "code",
   "execution_count": null,
   "metadata": {},
   "outputs": [],
   "source": [
    "def add_binary(a, b):\n",
    "    '''\n",
    "    Returns the sum of two decimal numbers in binary digits.\n",
    "\n",
    "            Parameters:\n",
    "                    a (int): A decimal integer\n",
    "                    b (int): Another decimal integer\n",
    "\n",
    "            Returns:\n",
    "                    binary_sum (str): Binary string of the sum of a and b\n",
    "    '''\n",
    "    binary_sum = bin(a+b)[2:]\n",
    "    return binary_sum\n",
    "\n",
    "\n",
    "print(add_binary.__doc__)"
   ]
  }
 ],
 "metadata": {
  "kernelspec": {
   "display_name": "Python 3 (ipykernel)",
   "language": "python",
   "name": "python3"
  },
  "language_info": {
   "codemirror_mode": {
    "name": "ipython",
    "version": 3
   },
   "file_extension": ".py",
   "mimetype": "text/x-python",
   "name": "python",
   "nbconvert_exporter": "python",
   "pygments_lexer": "ipython3",
   "version": "3.10.11"
  }
 },
 "nbformat": 4,
 "nbformat_minor": 5
}
