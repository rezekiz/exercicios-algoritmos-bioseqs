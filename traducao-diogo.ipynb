{
 "cells": [
  {
   "cell_type": "markdown",
   "metadata": {},
   "source": [
    "Em bioinformática, o Python é bastante utilizado para o processamento básico de sequências e a tradução de sequências de DNA em sequências de aminoácidos. Existem várias bibliotecas e algoritmos disponíveis que facilitam esse processo. \n",
    "\n",
    "Exitem diversas formas de realizar este processamento:\n",
    "\n",
    "Usando o Biopython: Biopython é uma biblioteca muito utilizada em bioinformática no Python. Ele fornece uma ampla gama de funcionalidades para o processamento de sequências biológicas, incluindo tradução. Podemos usar a função translate() para traduzir sequências de DNA em sequências de aminoácidos. Aqui está um exemplo:"
   ]
  },
  {
   "cell_type": "code",
   "execution_count": null,
   "metadata": {},
   "outputs": [],
   "source": [
    "\"\"\" Usando a biblioteca Biopython\"\"\"\n",
    "\n",
    "from Bio.Seq import Seq\n",
    "\n",
    "# Sequência de DNA\n",
    "dna_sequence = \"ATGGTCTACGTCGATCGTAGCTAGCTAGCTAGCTAGCTAGCTAGCTAGCTAGCTAGCTAGCT\"\n",
    "\n",
    "# Transcrição do DNA para RNA\n",
    "rna_sequence = Seq(dna_sequence).transcribe()\n",
    "\n",
    "# Tradução do RNA para uma sequência de aminoácidos\n",
    "amino_acid_sequence = rna_sequence.translate()\n",
    "\n",
    "print(amino_acid_sequence) "
   ]
  },
  {
   "cell_type": "markdown",
   "metadata": {},
   "source": [
    "Algoritmo de tradução personalizado: Se tivermos requisitos específicos ou quisermos implementar o nosso próprio algoritmo de tradução, podemos criar uma função personalizada para isso. Aqui está um exemplo:\n"
   ]
  },
  {
   "cell_type": "code",
   "execution_count": null,
   "metadata": {},
   "outputs": [],
   "source": [
    "\"\"\"Usando uma tabela de tradução personalizada\"\"\"\n",
    "\n",
    "# Sequência de DNA\n",
    "dna_sequence = \"ATGGTCTACGTCGATCGTAGCTAGCTAGCTAGCTAGCTAGCTAGCTAGCTAGCTAGCTAGCT\"\n",
    "\n",
    "# Tabela de tradução de códons para aminoácidos\n",
    "translation_table = {\n",
    "    \"TTT\": \"F\", \"TTC\": \"F\", \"TTA\": \"L\", \"TTG\": \"L\",\n",
    "    \"CTT\": \"L\", \"CTC\": \"L\", \"CTA\": \"L\", \"CTG\": \"L\",\n",
    "    \"ATT\": \"I\", \"ATC\": \"I\", \"ATA\": \"I\", \"ATG\": \"M\",\n",
    "    \"GTT\": \"V\", \"GTC\": \"V\", \"GTA\": \"V\", \"GTG\": \"V\",\n",
    "    \"TCT\": \"S\", \"TCC\": \"S\", \"TCA\": \"S\", \"TCG\": \"S\",\n",
    "    \"CCT\": \"P\", \"CCC\": \"P\", \"CCA\": \"P\", \"CCG\": \"P\",\n",
    "    \"ACT\": \"T\", \"ACC\": \"T\", \"ACA\": \"T\", \"ACG\": \"T\",\n",
    "    \"GCT\": \"A\", \"GCC\": \"A\", \"GCA\": \"A\", \"GCG\": \"A\",\n",
    "    \"TAT\": \"Y\", \"TAC\": \"Y\", \"TAA\": \"*\", \"TAG\": \"*\",\n",
    "    \"CAT\": \"H\", \"CAC\": \"H\", \"CAA\": \"Q\", \"CAG\": \"Q\",\n",
    "    \"AAT\": \"N\", \"AAC\": \"N\", \"AAA\": \"K\", \"AAG\": \"K\",\n",
    "    \"GAT\": \"D\", \"GAC\": \"D\", \"GAA\": \"E\", \"GAG\": \"E\",\n",
    "    \"TGT\": \"C\", \"TGC\": \"C\", \"TGA\": \"*\", \"TGG\": \"W\",\n",
    "    \"CGT\": \"R\", \"CGC\": \"R\", \"CGA\": \"R\", \"CGG\": \"R\",\n",
    "    \"AGT\": \"S\", \"AGC\": \"S\", \"AGA\": \"R\", \"AGG\": \"R\",\n",
    "    \"GGT\": \"G\", \"GGC\": \"G\", \"GGA\": \"G\", \"GGG\": \"G\"\n",
    "}\n",
    "\n",
    "# Tradução do DNA para uma sequência de aminoácidos\n",
    "amino_acid_sequence = \"\".join([translation_table[dna_sequence[i:i+3]] for i in range(0, len(dna_sequence), 3)])\n",
    "\n",
    "print(amino_acid_sequence)"
   ]
  },
  {
   "cell_type": "code",
   "execution_count": 1,
   "metadata": {},
   "outputs": [
    {
     "ename": "SyntaxError",
     "evalue": "invalid syntax (3295173263.py, line 1)",
     "output_type": "error",
     "traceback": [
      "\u001b[1;36m  Cell \u001b[1;32mIn[1], line 1\u001b[1;36m\u001b[0m\n\u001b[1;33m    usando funções:\u001b[0m\n\u001b[1;37m           ^\u001b[0m\n\u001b[1;31mSyntaxError\u001b[0m\u001b[1;31m:\u001b[0m invalid syntax\n"
     ]
    }
   ],
   "source": [
    "# usando funções:\n",
    "\n",
    "def translate_sequence(dna_seq):\n",
    "    codon_table = {\n",
    "    'TTT': 'F', 'TTC': 'F', 'TTA': 'L', 'TTG': 'L',\n",
    "    'CTT': 'L', 'CTC': 'L', 'CTA': 'L', 'CTG': 'L',\n",
    "    Resto dos codoes e seus correspondentes aminoácidos\n",
    "    }\n",
    "\n",
    "protein_seq = \"\"\n",
    "\n",
    "for i in range(0, len(dna_seq), 3):\n",
    "    codon = dna_seq[i:i+3]\n",
    "    amino_acid = codon_table.get(codon, '*')\n",
    "    protein_seq += amino_acid\n",
    "return protein_seq\n",
    "\n",
    "dna_seq = \"ATGGTCTACGTCGATCGTAGCTAGCTAGCTAGCTAGCTAGCTAGCTAGCT\"\n",
    "protein_seq = translate_sequence(dna_seq)\n",
    "print(protein_seq)\n"
   ]
  },
  {
   "cell_type": "code",
   "execution_count": null,
   "metadata": {},
   "outputs": [],
   "source": []
  }
 ],
 "metadata": {
  "kernelspec": {
   "display_name": "base",
   "language": "python",
   "name": "python3"
  },
  "language_info": {
   "codemirror_mode": {
    "name": "ipython",
    "version": 3
   },
   "file_extension": ".py",
   "mimetype": "text/x-python",
   "name": "python",
   "nbconvert_exporter": "python",
   "pygments_lexer": "ipython3",
   "version": "3.11.4"
  }
 },
 "nbformat": 4,
 "nbformat_minor": 2
}
