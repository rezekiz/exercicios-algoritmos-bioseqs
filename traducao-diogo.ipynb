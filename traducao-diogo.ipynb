{
 "cells": [
  {
   "cell_type": "markdown",
   "metadata": {},
   "source": [
    "Em bioinformática, o Python é bastante utilizado para o processamento básico de sequências e a tradução de sequências de DNA em sequências de aminoácidos. Existem várias bibliotecas e algoritmos disponíveis que facilitam esse processo. \n",
    "\n",
    "Exitem diversas formas de realizar este processamento:\n",
    "\n",
    "Usando o Biopython: Biopython é uma biblioteca muito utilizada em bioinformática no Python. Ele fornece uma ampla gama de funcionalidades para o processamento de sequências biológicas, incluindo tradução. Podemos usar a função translate() para traduzir sequências de DNA em sequências de aminoácidos. Aqui está um exemplo:"
   ]
  },
  {
   "cell_type": "code",
   "execution_count": null,
   "metadata": {},
   "outputs": [],
   "source": [
    "from Bio.Seq import Seq"
   ]
  },
  {
   "cell_type": "markdown",
   "metadata": {},
   "source": [
    "Sequência de DNA"
   ]
  },
  {
   "cell_type": "code",
   "execution_count": null,
   "metadata": {},
   "outputs": [],
   "source": [
    "dna_seq = (\"ATGGTCTACGTCGATCGTAGCTAGCTAGCTAGCTAGCTAGCTAGCTAGCT\")"
   ]
  },
  {
   "cell_type": "markdown",
   "metadata": {},
   "source": [
    "\n",
    "Tradução da sequência de DNA em sequência de aminoácidos\n",
    "  "
   ]
  },
  {
   "cell_type": "code",
   "execution_count": null,
   "metadata": {},
   "outputs": [],
   "source": [
    "protein_seq = dna_seq.translate() #vou precisar de rever esta parte, estou com um erro\n",
    "print(protein_seq)"
   ]
  },
  {
   "cell_type": "markdown",
   "metadata": {},
   "source": [
    "\n",
    "Codons: Os codons são sequências de três nucleotídeos que correspondem a um aminoácido específico. Na tradução, esses codons são mapeados para seus aminoácidos correspondentes. Aqui está um exemplo de como você pode traduzir uma sequência de DNA usando um dicionário de codoes:"
   ]
  },
  {
   "cell_type": "code",
   "execution_count": null,
   "metadata": {},
   "outputs": [],
   "source": [
    "\n",
    "codon_table = {\n",
    "    'TTT': 'F', 'TTC': 'F', 'TTA': 'L', 'TTG': 'L',\n",
    "    'CTT': 'L', 'CTC': 'L', 'CTA': 'L', 'CTG': 'L', \n",
    "    Aqui colocam o resto dos codoes manualmente\n",
    "    }\n",
    "\n",
    "dna_seq = \"ATGGTCTACGTCGATCGTAGCTAGCTAGCTAGCTAGCTAGCTAGCTAGCT\"\n",
    "\n",
    "protein_seq = \"\"\n",
    "\n",
    "for i in range(0, len(dna_seq), 3):\n",
    "    codon = dna_seq[i:i+3]\n",
    "    amino_acid = codon_table.get(codon, '*')\n",
    "    protein_seq += amino_acid\n",
    "print(protein_seq)"
   ]
  },
  {
   "cell_type": "markdown",
   "metadata": {},
   "source": [
    "Algoritmo de tradução personalizado: Se tivermos requisitos específicos ou quisermos implementar o nosso próprio algoritmo de tradução, podemos criar uma função personalizada para isso. Aqui está um exemplo:\n"
   ]
  },
  {
   "cell_type": "code",
   "execution_count": null,
   "metadata": {},
   "outputs": [],
   "source": [
    "def translate_sequence(dna_seq):\n",
    "    codon_table = {\n",
    "    'TTT': 'F', 'TTC': 'F', 'TTA': 'L', 'TTG': 'L',\n",
    "    'CTT': 'L', 'CTC': 'L', 'CTA': 'L', 'CTG': 'L',\n",
    "    Resto dos codoes e seus correspondentes aminoácidos\n",
    "    }\n",
    "\n",
    "protein_seq = \"\"\n",
    "\n",
    "for i in range(0, len(dna_seq), 3):\n",
    "    codon = dna_seq[i:i+3]\n",
    "    amino_acid = codon_table.get(codon, '*')\n",
    "    protein_seq += amino_acid\n",
    "return protein_seq\n",
    "\n",
    "dna_seq = \"ATGGTCTACGTCGATCGTAGCTAGCTAGCTAGCTAGCTAGCTAGCTAGCT\"\n",
    "protein_seq = translate_sequence(dna_seq)\n",
    "print(protein_seq)\n"
   ]
  }
 ],
 "metadata": {
  "kernelspec": {
   "display_name": "base",
   "language": "python",
   "name": "python3"
  },
  "language_info": {
   "name": "python",
   "version": "3.11.4"
  }
 },
 "nbformat": 4,
 "nbformat_minor": 2
}
