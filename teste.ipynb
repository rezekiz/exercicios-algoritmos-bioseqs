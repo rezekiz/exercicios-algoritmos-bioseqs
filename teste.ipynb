{
 "cells": [
  {
   "cell_type": "code",
   "execution_count": 3,
   "metadata": {},
   "outputs": [
    {
     "ename": "ModuleNotFoundError",
     "evalue": "No module named 'auxiliares'",
     "output_type": "error",
     "traceback": [
      "\u001b[0;31m---------------------------------------------------------------------------\u001b[0m",
      "\u001b[0;31mModuleNotFoundError\u001b[0m                       Traceback (most recent call last)",
      "\u001b[1;32m/rezekiz/aaspg4/teste.ipynb Cell 1\u001b[0m line \u001b[0;36m1\n\u001b[0;32m----> <a href='vscode-notebook-cell://github/rezekiz/aaspg4/teste.ipynb#W0sdnNjb2RlLXZmcw%3D%3D?line=0'>1</a>\u001b[0m \u001b[39mimport\u001b[39;00m \u001b[39mauxiliares\u001b[39;00m\n\u001b[1;32m      <a href='vscode-notebook-cell://github/rezekiz/aaspg4/teste.ipynb#W0sdnNjb2RlLXZmcw%3D%3D?line=2'>3</a>\u001b[0m s \u001b[39m=\u001b[39m \u001b[39m'\u001b[39m\u001b[39mATCG\u001b[39m\u001b[39m'\u001b[39m\n\u001b[1;32m      <a href='vscode-notebook-cell://github/rezekiz/aaspg4/teste.ipynb#W0sdnNjb2RlLXZmcw%3D%3D?line=4'>5</a>\u001b[0m auxiliares\u001b[39m.\u001b[39mget_orfs(s)\n",
      "\u001b[0;31mModuleNotFoundError\u001b[0m: No module named 'auxiliares'"
     ]
    }
   ],
   "source": [
    "import auxiliares\n",
    "\n",
    "s = 'ATCG'\n",
    "\n",
    "auxiliares.get_orfs(s)"
   ]
  }
 ],
 "metadata": {
  "kernelspec": {
   "display_name": "Python 3",
   "language": "python",
   "name": "python3"
  },
  "language_info": {
   "codemirror_mode": {
    "name": "ipython",
    "version": 3
   },
   "file_extension": ".py",
   "mimetype": "text/x-python",
   "name": "python",
   "nbconvert_exporter": "python",
   "pygments_lexer": "ipython3",
   "version": "3.11.5"
  }
 },
 "nbformat": 4,
 "nbformat_minor": 2
}
