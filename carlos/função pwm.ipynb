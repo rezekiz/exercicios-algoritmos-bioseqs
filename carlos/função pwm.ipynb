{
 "cells": [
  {
   "cell_type": "code",
   "execution_count": null,
   "metadata": {},
   "outputs": [],
   "source": [
    "'''\n",
    "A instação da biblioteca *tabulate* permite a utilização de um conjunto de ferramentas de forma a ter um output mais organizado\n",
    "'''\n",
    "\n",
    "# pip install tabulate"
   ]
  },
  {
   "cell_type": "code",
   "execution_count": 2,
   "metadata": {},
   "outputs": [
    {
     "name": "stdout",
     "output_type": "stream",
     "text": [
      "Base      Posição 1    Posição 2    Posição 3    Posição 4    Posição 5    Posição 6    Posição 7    Posição 8    Posição 9    Posição 10    Posição 11    Posição 12    Posição 13    Posição 14    Posição 15    Posição 16    Posição 17    Posição 18    Posição 19\n",
      "------  -----------  -----------  -----------  -----------  -----------  -----------  -----------  -----------  -----------  ------------  ------------  ------------  ------------  ------------  ------------  ------------  ------------  ------------  ------------\n",
      "A               0.3          0.3          0.3          0.1          0.1          0.7          0.1          0.5          0.1           0.1           0.1           0.7           0.1           0.1           0.1           0.3           0.5           0.3           0.5\n",
      "C               0.1          0.1          0.3          0.5          0.1          0.1          0.1          0.1          0.7           0.1           0.1           0.1           0.1           0.1           0.1           0.1           0.1           0.1           0.3\n",
      "G               0.1          0.3          0.3          0.3          0.1          0.1          0.3          0.1          0.1           0.7           0.1           0.1           0.3           0.7           0.5           0.1           0.3           0.5           0.1\n",
      "T               0.5          0.3          0.1          0.1          0.7          0.1          0.5          0.3          0.1           0.1           0.7           0.1           0.5           0.1           0.3           0.5           0.1           0.1           0.1\n"
     ]
    }
   ],
   "source": [
    "'''\n",
    "O *import* do módulo tabulate irá permitir a utilização das funções e classes fornecidas pelo *tabulate* para formatar e exibir dados tabulares\n",
    "'''\n",
    "# from tabulate import tabulate\n",
    "\n",
    "seqs = ['TGACTATACGTATGGTAGAT', 'ATCGTATACGTAGGTAGAC', 'TAGCTAGTCGTATGGTAGAT']\n",
    "pseudo = 0.5\n",
    "\n",
    "def pwm(seqs: list[str], pseudo: float = 0) -> list[dict[str, float]]:\n",
    "  alfabeto = 'ACGT'\n",
    "\n",
    "  \"\"\"\n",
    "  Calcula a matriz PWM (Matriz de Peso e Posição) para as sequências fornecidas\n",
    "\n",
    "  Parâmetros\n",
    "  -------------\n",
    "  seqs : list[str]\n",
    "      Recebe uma lista de strings que representam as sequências\n",
    "\n",
    "  pseudo : float = 0\n",
    "      Recebe um valor opcional, pseudo, que em caso de omissão é = 0\n",
    "\n",
    "\n",
    "  Retorna\n",
    "  -------------\n",
    "  pwm_matrix : list[dict[str, float]]\n",
    "      Retorna uma *lista de dicionários*, onde cada *dicionário* terá uma chave no formato de *string*, e um valor no formato de *float*\n",
    "\n",
    "  \"\"\"\n",
    "\n",
    "  for seq in seqs:\n",
    "    for idx, b in enumerate(seq):\n",
    "      assert b in alfabeto, f'Caracter {b} na posição {idx} da sequência {seq} inválido!'\n",
    "\n",
    "  pwm_matrix = [{b: (pos.count(b) + pseudo) / (len(seqs) + len(alfabeto) * pseudo)\n",
    "    for b in alfabeto}\n",
    "      for pos in zip(*seqs)]\n",
    "\n",
    "  return pwm_matrix\n",
    "\n",
    "resultado = pwm(seqs, pseudo)  # Associação do resultado da função a uma variável de forma a ser mais fácil imprimir o resultado\n",
    "\n",
    "# Impressão da matriz formatada com o módulo tabulate\n",
    "headers = [\"Base\"] + [f\"Posição {i+1}\" for i in range(len(seqs[0]))]\n",
    "table = [[base] + [round(resultado[i][base], 3) for i in range(len(resultado))] for base in \"ACGT\"]\n",
    "print(tabulate(table, headers))"
   ]
  },
  {
   "cell_type": "code",
   "execution_count": 44,
   "metadata": {},
   "outputs": [
    {
     "name": "stdout",
     "output_type": "stream",
     "text": [
      "A probabilidade da sequência 'ATA' é de: \n",
      "0.027\n"
     ]
    }
   ],
   "source": [
    "def prob_seq(sequence, resultado):\n",
    "    \"\"\"\n",
    "    Calcula a probabilidade de uma sequência utilizando como base a função PWM\n",
    "\n",
    "    Parâmetros\n",
    "    -------------\n",
    "    sequence : str \n",
    "        A sequência de DNA \n",
    "     \n",
    "    resultado : list[dict[str, float]] \n",
    "        Variável que contém o resultado da função PWM, onde cada dicionário representa as probabilidades para cada base em uma posição\n",
    "\n",
    "    Retorna\n",
    "    -------------\n",
    "    probabilidade : float \n",
    "        A probabilidade da sequência com base na PWM\n",
    "    \n",
    "    \"\"\"\n",
    "    \n",
    "    probabilidade = 1.0\n",
    "\n",
    "    for position, base in enumerate(sequence):\n",
    "        if base in resultado[position]:\n",
    "            probabilidade *= resultado[position][base]\n",
    "        else:\n",
    "            probabilidade *= 0.01  # Atribui uma probabilidade mínima de 0.01 para bases ausentes.\n",
    "\n",
    "    return probabilidade\n",
    "\n",
    "seq = 'ATA'\n",
    "probabilidade = prob_seq(seq, resultado)\n",
    "\n",
    "print(f\"A probabilidade da sequência '{seq}' é de: \\n{probabilidade}\")"
   ]
  },
  {
   "cell_type": "code",
   "execution_count": 43,
   "metadata": {},
   "outputs": [
    {
     "name": "stdout",
     "output_type": "stream",
     "text": [
      "A Sequência mais provável, dentro da Sequência CATTGT, é TTGT.\n"
     ]
    }
   ],
   "source": [
    "# import re\n",
    "\n",
    "def seq_provavel(seq, resultado):\n",
    "  \n",
    "  '''\n",
    "  Calcula qual a Sequência mais provável\n",
    "\n",
    "  Parâmetros\n",
    "  -------------\n",
    "  seq : str\n",
    "    A sequência de DNA\n",
    "  \n",
    "  resultado : list[dict[str, float]] \n",
    "    Variável que contém o resultado da função PWM, onde cada dicionário representa as probabilidades para cada base em uma posição\n",
    "  \n",
    "  \n",
    "  Retorna\n",
    "  -------------\n",
    "  str \n",
    "    A Sequência mais provável dentro da Sequência dada\n",
    "  '''\n",
    "  \n",
    "  dicionario = {}\n",
    "  for subset in re.findall('(?=(....))', seq):\n",
    "    dicionario[subset] = (prob_seq(subset, resultado))\n",
    "  return max(dicionario, key=dicionario.get)\n",
    "\n",
    "\n",
    "seq = \"CATTGT\"\n",
    "mais_provavel = seq_provavel(seq, resultado)\n",
    "\n",
    "print(f'A Sequência mais provável, dentro da Sequência {seq}, é {mais_provavel}.')"
   ]
  }
 ],
 "metadata": {
  "kernelspec": {
   "display_name": "base",
   "language": "python",
   "name": "python3"
  },
  "language_info": {
   "codemirror_mode": {
    "name": "ipython",
    "version": 3
   },
   "file_extension": ".py",
   "mimetype": "text/x-python",
   "name": "python",
   "nbconvert_exporter": "python",
   "pygments_lexer": "ipython3",
   "version": "3.11.5"
  }
 },
 "nbformat": 4,
 "nbformat_minor": 2
}
