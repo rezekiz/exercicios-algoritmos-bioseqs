{
  "cells": [
    {
      "cell_type": "markdown",
      "metadata": {
        "id": "968yxxOSQXEt"
      },
      "source": [
        "# Tema 2 - **Processamento básico de sequências**"
      ]
    },
    {
      "cell_type": "markdown",
      "metadata": {
        "id": "cc9_cqQvzj4A"
      },
      "source": [
        "## Representação e algoritmos básicos\n",
        "\n",
        "* Validação da sequência"
      ]
    },
    {
      "cell_type": "markdown",
      "metadata": {},
      "source": [
        "Esta função tem como objetivo retornar a validade de uma sequência de ADN. Onde, caso seja válida retorna **True** e caso seja inválida retorna **False**. Nesta função, é verificado se a sequência contém somente os caractéres que representam os nucleótidos: A, T, C e G.\n",
        "\n",
        "A função começa por verificar se a sequência introduzida não é uma string vazia, de seguida, susbtitui letras minúsculas por letras maiúsculas e remove enventuais espaços. No final, itera por cada base presente na sequência e verifica se pertencem ao conjunto de bases válidas (A, T, C e G). "
      ]
    },
    {
      "cell_type": "code",
      "execution_count": 70,
      "metadata": {},
      "outputs": [],
      "source": [
        "def validar_dna(seq):\n",
        "    \n",
        "    \"\"\"\n",
        "    Devolve a validade de uma sequência de ADN\n",
        "\n",
        "    \n",
        "    Parâmetro\n",
        "    -------------\n",
        "    seq : str\n",
        "        Uma string que representa a sequência de ADN\n",
        "\n",
        "    \n",
        "    Retorna\n",
        "    -------------\n",
        "    bool : True se for uma sequência válida ou False se for uma sequência inválida\n",
        "    \n",
        "    \"\"\"\n",
        "    if not bool(seq): return False\n",
        "    \n",
        "    seq = seq.upper()        \n",
        "    seq = seq.replace(\" \",\"\")   \n",
        "\n",
        "    valido_dna = True\n",
        "    \n",
        "    for base in seq:                  \n",
        "        if base not in \"ATCG\":         \n",
        "            valido_dna = False\n",
        "    \n",
        "    if valido_dna == False:\n",
        "        return False\n",
        "    else:\n",
        "        return True"
      ]
    },
    {
      "cell_type": "code",
      "execution_count": 69,
      "metadata": {},
      "outputs": [
        {
          "name": "stderr",
          "output_type": "stream",
          "text": [
            "test_validar_dna_correta (__main__.TestValidarDNA.test_validar_dna_correta) ... ok\n",
            "test_validar_dna_minuscula (__main__.TestValidarDNA.test_validar_dna_minuscula) ... ok\n",
            "test_validar_dna_nucleotido_invalido (__main__.TestValidarDNA.test_validar_dna_nucleotido_invalido) ... ok\n",
            "test_validar_dna_separador_invalido (__main__.TestValidarDNA.test_validar_dna_separador_invalido) ... ok\n",
            "test_validardna_vazio (__main__.TestValidarDNA.test_validardna_vazio) ... ok\n",
            "\n",
            "----------------------------------------------------------------------\n",
            "Ran 5 tests in 0.006s\n",
            "\n",
            "OK\n"
          ]
        },
        {
          "data": {
            "text/plain": [
              "<unittest.runner.TextTestResult run=5 errors=0 failures=0>"
            ]
          },
          "execution_count": 69,
          "metadata": {},
          "output_type": "execute_result"
        }
      ],
      "source": [
        "import unittest\n",
        "\n",
        "class TestValidarDNA(unittest.TestCase):\n",
        "    def test_validardna_vazio(self):\n",
        "        self.assertFalse( validar_dna(\"\") )\n",
        "    \n",
        "    def test_validar_dna_separador_invalido(self):\n",
        "        self.assertFalse( validar_dna(\"AAATTGCG.TGGTG-TGGT\") )\n",
        "\n",
        "    def test_validar_dna_nucleotido_invalido(self):\n",
        "        self.assertFalse( validar_dna(\"DATAGAT\") )\n",
        "        \n",
        "    def test_validar_dna_correta(self):\n",
        "        self.assertTrue( validar_dna(\"AA TGT CG \") )\n",
        "\n",
        "    def test_validar_dna_minuscula(self):\n",
        "        self.assertTrue( validar_dna(\"atgctcgatagct\") )\n",
        "\n",
        "\n",
        "suite = unittest.TestLoader().loadTestsFromTestCase(TestValidarDNA)\n",
        "unittest.TextTestRunner( verbosity=3 ).run( suite )"
      ]
    },
    {
      "cell_type": "markdown",
      "metadata": {},
      "source": [
        "* Aprimoração de sequência de ADN"
      ]
    },
    {
      "cell_type": "markdown",
      "metadata": {},
      "source": [
        "Para ser possível aprimorar a sequência de ADN nos códigos seguintes, foi criada uma função auxiliar que tem como intuito substituir as letras minúsculas por letras maiúsculas e a remoção dos espaços presentes na sequência inserida. A função intitula-se de: **aprimorar_dna()**.\n",
        "\n",
        "Note-se que, nos códigos seguintes, a validação da sequência de ADN, será verificada utilizando a função **validar_dna()** antes da invocação da função aprimorar_dna()."
      ]
    },
    {
      "cell_type": "code",
      "execution_count": 67,
      "metadata": {},
      "outputs": [],
      "source": [
        "def aprimorar_seq(seq):\n",
        "    \"\"\"\n",
        "    Devolve uma sequência de ADN só com letras maiúsculas e sem espaços em branco\n",
        "\n",
        "    Parameters\n",
        "    -------------\n",
        "    seq : str\n",
        "        Uma string que representa a sequência de ADN\n",
        "\n",
        "    Returns\n",
        "    -------------\n",
        "    str\n",
        "        sequência de ADN com as bases em maiúsculas e sem espaços em branco\n",
        "    \n",
        "    \"\"\"\n",
        "    return seq.upper().replace(\" \",\"\")\n",
        "     "
      ]
    },
    {
      "cell_type": "code",
      "execution_count": 66,
      "metadata": {},
      "outputs": [
        {
          "name": "stderr",
          "output_type": "stream",
          "text": [
            "test_aprimorarseq_espaco (__main__.TestAprimorarDNA.test_aprimorarseq_espaco) ... ok\n",
            "test_aprimorarseq_min (__main__.TestAprimorarDNA.test_aprimorarseq_min) ... ok\n",
            "test_aprimorarseq_min_espaco (__main__.TestAprimorarDNA.test_aprimorarseq_min_espaco) ... ok\n",
            "\n",
            "----------------------------------------------------------------------\n",
            "Ran 3 tests in 0.006s\n",
            "\n",
            "OK\n"
          ]
        },
        {
          "data": {
            "text/plain": [
              "<unittest.runner.TextTestResult run=3 errors=0 failures=0>"
            ]
          },
          "execution_count": 66,
          "metadata": {},
          "output_type": "execute_result"
        }
      ],
      "source": [
        "# Testes de unidade\n",
        "\n",
        "class TestAprimorarDNA(unittest.TestCase):\n",
        "    def test_aprimorarseq_espaco(self):\n",
        "        self.assertEqual( aprimorar_seq(\"AT     GC\"), \"ATGC\" )\n",
        "    \n",
        "    def test_aprimorarseq_min(self):\n",
        "        self.assertEqual( aprimorar_seq(\"atcg\"), \"ATCG\" )\n",
        "    \n",
        "    def test_aprimorarseq_min_espaco(self):\n",
        "        self.assertEqual( aprimorar_seq(\"at  cg\"), \"ATCG\" )\n",
        "\n",
        "suite = unittest.TestLoader().loadTestsFromTestCase(TestAprimorarDNA)\n",
        "unittest.TextTestRunner( verbosity=3 ).run( suite )"
      ]
    },
    {
      "cell_type": "markdown",
      "metadata": {},
      "source": [
        "* Frequência das bases"
      ]
    },
    {
      "cell_type": "markdown",
      "metadata": {},
      "source": [
        "Esta função permitirá calcular a frequência das bases de uma sequência de ADN. \n",
        "\n",
        "Em primeiro lugar, verifica se a sequência é válida através da função previamente feita **validar_dna()**. Caso seja inválida, é levantado um \"ValueError\" que nos indica que a sequência utilizada é inválida. Depois, retorna a sequência de ADN com as bases em maiúsculas e sem espaços em branco através da função **aprimorar_dna()**.\n",
        "\n",
        "De seguida, através da função **count()** é contabilizado a frequência das bases válidas (A, T, C e G), cada frequência de base é guardada numa variável. \n",
        "\n",
        "Por fim, é criado um dicionário, onde as chaves são as bases de ADN e os valores as suas frequências."
      ]
    },
    {
      "cell_type": "code",
      "execution_count": 27,
      "metadata": {},
      "outputs": [],
      "source": [
        "def contar_bases(seq):\n",
        "\n",
        "    \"\"\"\n",
        "    Devolve um dicionário com as frequências das bases de uma string de ADN (A, C, T e G)\n",
        "\n",
        "    \n",
        "    Parameters\n",
        "    -------------\n",
        "    seq : str\n",
        "        Uma string que representa a sequência de ADN\n",
        "\n",
        "    \n",
        "    Returns\n",
        "    -------------\n",
        "    resultado : dict\n",
        "        Dicionário com as frequências das bases da sequência introduzida\n",
        "        As chaves são as bases \"A\", \"T\", \"C\" e \"G\" e os valores as frequências correspondentes\n",
        "\n",
        "        \n",
        "    Raises\n",
        "    ----------\n",
        "    ValueError\n",
        "        No caso da string inserida não ser válida\n",
        "    \n",
        "    \"\"\"\n",
        "\n",
        "    if validar_dna(seq) is False:\n",
        "        raise ValueError (\"A sequência inserida é inválida\")\n",
        "\n",
        "    seq = aprimorar_seq(seq)\n",
        "    \n",
        "    contA = seq.count(\"A\")\n",
        "    contT = seq.count(\"T\")\n",
        "    contC = seq.count(\"C\")\n",
        "    contG = seq.count(\"G\")\n",
        "    \n",
        "    resultado = {\"A\" : contA, \"T\" : contT, \"C\" : contC, \"G\" : contG}\n",
        "    \n",
        "    return resultado"
      ]
    },
    {
      "cell_type": "code",
      "execution_count": 71,
      "metadata": {},
      "outputs": [
        {
          "name": "stderr",
          "output_type": "stream",
          "text": [
            "test_contarbases_espaco (__main__.TestValidaData.test_contarbases_espaco) ... ERROR\n",
            "test_contarbases_espaco1 (__main__.TestValidaData.test_contarbases_espaco1) ... ERROR\n",
            "test_contarbases_invalido (__main__.TestValidaData.test_contarbases_invalido) ... ok\n",
            "test_contarbases_min (__main__.TestValidaData.test_contarbases_min) ... ERROR\n",
            "test_contarbases_min_e_maius (__main__.TestValidaData.test_contarbases_min_e_maius) ... ERROR\n",
            "test_contarbases_num (__main__.TestValidaData.test_contarbases_num) ... ok\n",
            "test_contarbases_vazio (__main__.TestValidaData.test_contarbases_vazio) ... ok\n",
            "\n",
            "======================================================================\n",
            "ERROR: test_contarbases_espaco (__main__.TestValidaData.test_contarbases_espaco)\n",
            "----------------------------------------------------------------------\n",
            "Traceback (most recent call last):\n",
            "  File \"/var/folders/dr/49zwrn252fl8h71zrm07td4m0000gn/T/ipykernel_22130/1628746060.py\", line 16, in test_contarbases_espaco\n",
            "    self.assertTrue( contar_bases(\"C    GAT  GG\") )\n",
            "                     ^^^^^^^^^^^^^^^^^^^^^^^^^^^^\n",
            "  File \"/var/folders/dr/49zwrn252fl8h71zrm07td4m0000gn/T/ipykernel_22130/863419497.py\", line 30, in contar_bases\n",
            "    seq = aprimorar_dna(seq)\n",
            "          ^^^^^^^^^^^^^\n",
            "NameError: name 'aprimorar_dna' is not defined\n",
            "\n",
            "======================================================================\n",
            "ERROR: test_contarbases_espaco1 (__main__.TestValidaData.test_contarbases_espaco1)\n",
            "----------------------------------------------------------------------\n",
            "Traceback (most recent call last):\n",
            "  File \"/var/folders/dr/49zwrn252fl8h71zrm07td4m0000gn/T/ipykernel_22130/1628746060.py\", line 18, in test_contarbases_espaco1\n",
            "    self.assertEqual( contar_bases(\"C    GAT  GG\" ), {'A': 1, 'T': 1, 'C': 1, 'G': 3} )\n",
            "                      ^^^^^^^^^^^^^^^^^^^^^^^^^^^^^\n",
            "  File \"/var/folders/dr/49zwrn252fl8h71zrm07td4m0000gn/T/ipykernel_22130/863419497.py\", line 30, in contar_bases\n",
            "    seq = aprimorar_dna(seq)\n",
            "          ^^^^^^^^^^^^^\n",
            "NameError: name 'aprimorar_dna' is not defined\n",
            "\n",
            "======================================================================\n",
            "ERROR: test_contarbases_min (__main__.TestValidaData.test_contarbases_min)\n",
            "----------------------------------------------------------------------\n",
            "Traceback (most recent call last):\n",
            "  File \"/var/folders/dr/49zwrn252fl8h71zrm07td4m0000gn/T/ipykernel_22130/1628746060.py\", line 20, in test_contarbases_min\n",
            "    self.assertEqual( contar_bases(\"atcg\" ), {'A': 1, 'T': 1, 'C': 1, 'G': 1} )\n",
            "                      ^^^^^^^^^^^^^^^^^^^^^\n",
            "  File \"/var/folders/dr/49zwrn252fl8h71zrm07td4m0000gn/T/ipykernel_22130/863419497.py\", line 30, in contar_bases\n",
            "    seq = aprimorar_dna(seq)\n",
            "          ^^^^^^^^^^^^^\n",
            "NameError: name 'aprimorar_dna' is not defined\n",
            "\n",
            "======================================================================\n",
            "ERROR: test_contarbases_min_e_maius (__main__.TestValidaData.test_contarbases_min_e_maius)\n",
            "----------------------------------------------------------------------\n",
            "Traceback (most recent call last):\n",
            "  File \"/var/folders/dr/49zwrn252fl8h71zrm07td4m0000gn/T/ipykernel_22130/1628746060.py\", line 14, in test_contarbases_min_e_maius\n",
            "    self.assertTrue( contar_bases(\"atCgatGtG\") )\n",
            "                     ^^^^^^^^^^^^^^^^^^^^^^^^^\n",
            "  File \"/var/folders/dr/49zwrn252fl8h71zrm07td4m0000gn/T/ipykernel_22130/863419497.py\", line 30, in contar_bases\n",
            "    seq = aprimorar_dna(seq)\n",
            "          ^^^^^^^^^^^^^\n",
            "NameError: name 'aprimorar_dna' is not defined\n",
            "\n",
            "----------------------------------------------------------------------\n",
            "Ran 7 tests in 0.007s\n",
            "\n",
            "FAILED (errors=4)\n"
          ]
        },
        {
          "data": {
            "text/plain": [
              "<unittest.runner.TextTestResult run=7 errors=4 failures=0>"
            ]
          },
          "execution_count": 71,
          "metadata": {},
          "output_type": "execute_result"
        }
      ],
      "source": [
        "# Testes de unidade\n",
        "\n",
        "class TestValidaData(unittest.TestCase):\n",
        "    def test_contarbases_vazio(self):\n",
        "        with self.assertRaises(ValueError):\n",
        "            contar_bases(\"\")\n",
        "    def test_contarbases_invalido(self):\n",
        "        with self.assertRaises(ValueError):\n",
        "            contar_bases(\"ACTGH\")\n",
        "    def test_contarbases_num(self):\n",
        "        with self.assertRaises(ValueError):\n",
        "            contar_bases(\"ACTG0\")\n",
        "    def test_contarbases_min_e_maius(self):\n",
        "        self.assertTrue( contar_bases(\"atCgatGtG\") )\n",
        "    def test_contarbases_espaco(self):\n",
        "        self.assertTrue( contar_bases(\"C    GAT  GG\") )\n",
        "    def test_contarbases_espaco1(self):\n",
        "        self.assertEqual( contar_bases(\"C    GAT  GG\" ), {'A': 1, 'T': 1, 'C': 1, 'G': 3} )\n",
        "    def test_contarbases_min(self):\n",
        "        self.assertEqual( contar_bases(\"atcg\" ), {'A': 1, 'T': 1, 'C': 1, 'G': 1} )\n",
        "\n",
        "suite = unittest.TestLoader().loadTestsFromTestCase(TestValidaData)\n",
        "unittest.TextTestRunner( verbosity=3 ).run( suite )"
      ]
    },
    {
      "cell_type": "markdown",
      "metadata": {},
      "source": [
        "* Frequência de Conteúdo GC\n",
        "\n",
        "Nesta função, é definida uma função que tem como objetivo calcular, em percentagem, o conteúdo de guanina-citosina ([conteúdo GC](https://www.bionity.com/en/encyclopedia/GC-content.html)) presente numa sequência de ADN. \n",
        "\n",
        "Em primeiro lugar, a função executa uma verificação da validade da sequência de ADN através da função previamente feita \"validar_dna()\". Caso seja inválida, é levantado um \"ValueError\" que nos indica que a sequência utilizada é inválida. Depois, retorna a sequência de ADN com as bases em maiúsculas e sem espaços em branco através da função **aprimorar_dna()**.\n",
        "\n",
        "\n",
        "Após verificar a validade da sequência e o seu aprimoramento, a função conta as ocorrências das bases \"G\" e \"C\", respetivamente, através da função **count()** e armazenando o resultado em duas variáveis.\n",
        "\n",
        "De seguida, o cálculo da percentagem de bases \"G\" e \"C\" presente na sequência de ADN é feito através da divisão da soma do número de ocorrências das bases \"G\" e \"C\" pelo número total de bases existentes na sequência, multiplicando por 100 e arredondando o resultado para uma casa decimal através da função **round()**. O resultado é armazenado numa variável.\n",
        "\n",
        "Por fim, o valor obtido é devolvido. \n",
        "\n",
        "\n"
      ]
    },
    {
      "cell_type": "code",
      "execution_count": 29,
      "metadata": {},
      "outputs": [
        {
          "data": {
            "text/plain": [
              "50.0"
            ]
          },
          "execution_count": 29,
          "metadata": {},
          "output_type": "execute_result"
        }
      ],
      "source": [
        "def conteudo_gc(seq):\n",
        "    \n",
        "    \"\"\"   \n",
        "    Devolve a percentagem do conteúdo GC presente numa sequência de ADN\n",
        "\n",
        "    \n",
        "    Parameters\n",
        "    -------------\n",
        "    seq : str\n",
        "        Uma string que representa a sequência de ADN\n",
        "\n",
        "    \n",
        "    Returns\n",
        "    -------------\n",
        "    resultado : float\n",
        "        Percentagem do conteúdo GC na sequência de ADN\n",
        "\n",
        "        \n",
        "    Raises\n",
        "    ----------\n",
        "    ValueError\n",
        "        No caso da string inserida não ser válida\n",
        "    \n",
        "    \"\"\"\n",
        "\n",
        "    if validar_dna(seq) is False:\n",
        "        raise ValueError (\"A sequência inserida é inválida\")\n",
        "    \n",
        "    seq = aprimorar_seq(seq)\n",
        "    \n",
        "    conteudo_g = seq.count(\"G\")\n",
        "    conteudo_c = seq.count(\"C\")\n",
        "    conteudo_gc = round((conteudo_g + conteudo_c) / len(seq) * 100, 1)\n",
        "    \n",
        "        \n",
        "    return conteudo_gc\n",
        "\n",
        "conteudo_gc(\"gcta\") \n"
      ]
    },
    {
      "cell_type": "code",
      "execution_count": 72,
      "metadata": {},
      "outputs": [
        {
          "name": "stderr",
          "output_type": "stream",
          "text": [
            "test_conteudogc_espaco (__main__.TestValidaData.test_conteudogc_espaco) ... ok\n",
            "test_conteudogc_gc (__main__.TestValidaData.test_conteudogc_gc) ... ok\n",
            "test_conteudogc_invalido (__main__.TestValidaData.test_conteudogc_invalido) ... ok\n",
            "test_conteudogc_min_maiusc (__main__.TestValidaData.test_conteudogc_min_maiusc) ... ok\n",
            "test_conteudogc_num (__main__.TestValidaData.test_conteudogc_num) ... ok\n",
            "test_conteudogc_vazio (__main__.TestValidaData.test_conteudogc_vazio) ... ok\n",
            "\n",
            "----------------------------------------------------------------------\n",
            "Ran 6 tests in 0.006s\n",
            "\n",
            "OK\n"
          ]
        },
        {
          "data": {
            "text/plain": [
              "<unittest.runner.TextTestResult run=6 errors=0 failures=0>"
            ]
          },
          "execution_count": 72,
          "metadata": {},
          "output_type": "execute_result"
        }
      ],
      "source": [
        "# Testes de unidade\n",
        "\n",
        "class TestValidaData(unittest.TestCase):\n",
        "    def test_conteudogc_vazio(self):\n",
        "        with self.assertRaises(ValueError):\n",
        "            conteudo_gc(\"\")\n",
        "    def test_conteudogc_invalido(self):\n",
        "        with self.assertRaises(ValueError):\n",
        "            conteudo_gc(\"ACTGH\")\n",
        "    def test_conteudogc_num(self):\n",
        "        with self.assertRaises(ValueError):\n",
        "            conteudo_gc(\"ACTG0\")\n",
        "    def test_conteudogc_min_maiusc(self):\n",
        "        self.assertTrue( conteudo_gc(\"GCGcGttgatggC\") )\n",
        "    def test_conteudogc_espaco(self):\n",
        "        self.assertTrue( conteudo_gc(\"GCGcG    ttgat     ggC\") )\n",
        "    def test_conteudogc_gc(self):\n",
        "        self.assertEqual( conteudo_gc(\"gcgcgc\"), 100.0  )\n",
        "\n",
        "suite = unittest.TestLoader().loadTestsFromTestCase(TestValidaData)\n",
        "unittest.TextTestRunner( verbosity=3 ).run( suite )"
      ]
    },
    {
      "cell_type": "markdown",
      "metadata": {},
      "source": [
        "Tipo de sequência - DNA ou RNA"
      ]
    },
    {
      "cell_type": "code",
      "execution_count": 73,
      "metadata": {},
      "outputs": [],
      "source": [
        "def tipo_seq(seq):\n",
        "    \"\"\"\n",
        "    Função que a partir de uma sequência, classifica-a em DNA, RNA ou SEQUÊNCIA AMINÁCIDOS.\n",
        "\n",
        "    Parâmetro\n",
        "    ---------\n",
        "    seq : str \n",
        "        A sequência a ser classificada.\n",
        "\n",
        "    Retorna\n",
        "    -------\n",
        "    str\n",
        "        A classificação da sequência.\n",
        "        \n",
        "    \"\"\"\n",
        "\n",
        "    if not bool(seq):\n",
        "        raise ValueError(\"É uma sequência inválida\")\n",
        "\n",
        "    seq = aprimorar_seq(seq)\n",
        "    \n",
        "    if validar_dna(seq):\n",
        "        return \"DNA\"\n",
        "        \n",
        "    if len([c for c in seq if c not in \"ACGU\"]) == 0:\n",
        "        return \"RNA\"\n",
        "        \n",
        "    elif len([c for c in seq if c not in \"ABCDEFGHIKLMNPQRSTVWYZ_\"]) == 0:\n",
        "        return \"SEQUÊNCIA AMINOÁCIDOS\"\n",
        "    \n",
        "    else:\n",
        "        raise ValueError(\"É uma sequência inválida\")\n",
        "    \n"
      ]
    },
    {
      "cell_type": "code",
      "execution_count": 74,
      "metadata": {},
      "outputs": [
        {
          "name": "stderr",
          "output_type": "stream",
          "text": [
            "test_aminoacidos (__main__.TestTipoSeq.test_aminoacidos) ... ok\n",
            "test_dna (__main__.TestTipoSeq.test_dna) ... ok\n",
            "test_invalido (__main__.TestTipoSeq.test_invalido) ... ok\n",
            "test_misturado (__main__.TestTipoSeq.test_misturado) ... ok\n",
            "test_rna (__main__.TestTipoSeq.test_rna) ... ok\n",
            "\n",
            "----------------------------------------------------------------------\n",
            "Ran 5 tests in 0.006s\n",
            "\n",
            "OK\n"
          ]
        },
        {
          "data": {
            "text/plain": [
              "<unittest.runner.TextTestResult run=5 errors=0 failures=0>"
            ]
          },
          "execution_count": 74,
          "metadata": {},
          "output_type": "execute_result"
        }
      ],
      "source": [
        "# Testes de unidade\n",
        "\n",
        "class TestTipoSeq(unittest.TestCase):\n",
        "    def test_dna(self):\n",
        "        result = tipo_seq(\"ATCG\")\n",
        "        self.assertEqual(result, \"DNA\")\n",
        "\n",
        "    def test_rna(self):\n",
        "        result = tipo_seq(\"AUCG\")\n",
        "        self.assertEqual(result, \"RNA\")\n",
        "\n",
        "    def test_aminoacidos(self):\n",
        "        result = tipo_seq(\"ACDEFGHIKLMNPQRSTVWY\")\n",
        "        self.assertEqual(result, \"SEQUÊNCIA AMINOÁCIDOS\")\n",
        "\n",
        "    def test_invalido(self):\n",
        "        with self.assertRaises(ValueError):\n",
        "            tipo_seq(\"\")\n",
        "\n",
        "    def test_misturado(self):\n",
        "        with self.assertRaises(ValueError):\n",
        "            tipo_seq(\"16\")\n",
        "        \n",
        "suite = unittest.TestLoader().loadTestsFromTestCase(TestTipoSeq)\n",
        "unittest.TextTestRunner( verbosity=3 ).run( suite )\n",
        "        "
      ]
    },
    {
      "cell_type": "markdown",
      "metadata": {
        "id": "l740e-FqwcNg"
      },
      "source": [
        "## Transcrição e Complemento Inverso\n",
        "\n",
        "\n",
        "* Transcrição\n",
        "   \n",
        "O Python é uma ferramenta bastante utilizada no processamento básico de sequências e na transcrição de sequências de DNA em sequências de mRNA. Existem várias bibliotecas e algoritmos disponíveis que facilitam esse processo. \n",
        "\n",
        "Existem diversas formas de realizar esse processamento, citando as mais usadas: \n",
        "\n",
        "            - Algoritmo de trancrição com o Biopython;\n",
        "            - Algoritmo de trancrição personalizado mediante a finalidade, o tipo de ser vivo ou devido a outras caracteristicas especificas.\n",
        "\n",
        "\n",
        "\n",
        "- Algoritmo de trancrição com o Biopython:\n",
        "\n",
        "Através desta opção, primeiro realiza-se a importação da classe 'Seq' do módulo 'Bio.Seq' da biblioteca Biopython.\n",
        "De seguida, é necessário criar uma variável para atribuir a sequência que se pretende transcrever.\n",
        "A partir deste ponto, já é possível realizar várias operações na sequência de DNA conforme o desejado, neste caso utiliza-se o 'transcribe()'\n",
        "\n",
        "\n",
        "\n",
        "- Algoritmo de trancrição personalizado:"
      ]
    },
    {
      "cell_type": "code",
      "execution_count": null,
      "metadata": {},
      "outputs": [],
      "source": [
        "'''\n",
        "É possível utilizar funções predefinidas para a realização da transcrição, importando-as do BioPython:\n",
        "'''\n",
        "\n",
        "from Bio.Seq import Seq\n",
        "\n",
        "'''\n",
        "Assim basta definir a sequência a ser analisada\n",
        "'''\n",
        "\n",
        "# Sequência de DNA\n",
        "dna_sequence = \"ATGGTCTACGTCGATCGTAGCTAGCTAGCTAGCTAGCTAGCTAGCTAGCTAGCTAGCTAGCT\"\n",
        "\n",
        "'''\n",
        "E utilizar a função predefinida para realizar a transcrição \n",
        "'''\n",
        "\n",
        "# Transcrição do DNA para RNA\n",
        "rna_sequence = Seq(dna_sequence).transcribe()"
      ]
    },
    {
      "cell_type": "code",
      "execution_count": 35,
      "metadata": {
        "id": "92r8oSCYGTZg"
      },
      "outputs": [
        {
          "name": "stdout",
          "output_type": "stream",
          "text": [
            "A sequência de mRNA correspondente é: UGGAC\n"
          ]
        }
      ],
      "source": [
        "def transc(seq):\n",
        "\n",
        "    '''\n",
        "        Função que itera sobre uma sequência de DNA e devolve\n",
        "    a sequência transcrita.\n",
        "\n",
        "    Lógica:\n",
        "    A -> U\n",
        "    T -> A\n",
        "    C -> G\n",
        "    G -> C\n",
        "\n",
        "    Parameters:\n",
        "    ------------\n",
        "        seq : str Sequência de DNA\n",
        "            Uma string que representa a sequência de DNA\n",
        "    '''\n",
        "\n",
        "    if not validar_dna(seq):\n",
        "        print(\"Sequência inválida\")\n",
        "        return None\n",
        "\n",
        "    '''\n",
        "    Aqui é utilizada a função 'validar_dna' para garantir que a sequência não possui caracteres inválidos\n",
        "    '''\n",
        "\n",
        "    dna = aprimorar_seq(seq)\n",
        "    mrna = ''\n",
        "\n",
        "    '''\n",
        "    A variável dna vai buscar a sequência aprimorada pela função definida anteriormente\n",
        "    '''\n",
        "\n",
        "    for base in dna:\n",
        "        if base == 'A':\n",
        "          mrna += 'U'\n",
        "        elif base == 'T':\n",
        "          mrna += 'A'\n",
        "        elif base == 'C':\n",
        "          mrna += 'G'\n",
        "        elif base == 'G':\n",
        "          mrna += 'C'\n",
        "    '''\n",
        "    Returns:\n",
        "    --------\n",
        "        str\n",
        "          Sequência de mrna\n",
        "    '''\n",
        "    return mrna\n",
        "\n",
        "'''\n",
        "Chama a função 'transc' para fornecer uma varável, 'resultado'\n",
        "'''\n",
        "\n",
        "resultado = transc('ACCTG')\n",
        "\n",
        "'''\n",
        "Se a sequência transcrita for válida, imprime o resultado\n",
        "'''\n",
        "if resultado is not None:\n",
        "    print('A sequência de mRNA correspondente é:', resultado)"
      ]
    },
    {
      "cell_type": "code",
      "execution_count": 36,
      "metadata": {},
      "outputs": [
        {
          "name": "stderr",
          "output_type": "stream",
          "text": [
            "test_trans_correta (__main__.TestValidarData.test_trans_correta) ... ok\n",
            "test_transc_caracter_invalido (__main__.TestValidarData.test_transc_caracter_invalido) ... ok\n",
            "test_transc_correta (__main__.TestValidarData.test_transc_correta) ... ok\n",
            "test_transc_minuscula (__main__.TestValidarData.test_transc_minuscula) ... ok\n",
            "test_transc_nucleotido_invalido (__main__.TestValidarData.test_transc_nucleotido_invalido) ... ok\n",
            "test_transc_vazio (__main__.TestValidarData.test_transc_vazio) ... ok\n",
            "\n",
            "----------------------------------------------------------------------\n",
            "Ran 6 tests in 0.005s\n",
            "\n",
            "OK\n"
          ]
        },
        {
          "name": "stdout",
          "output_type": "stream",
          "text": [
            "Sequência inválida\n",
            "Sequência inválida\n",
            "Sequência inválida\n"
          ]
        },
        {
          "data": {
            "text/plain": [
              "<unittest.runner.TextTestResult run=6 errors=0 failures=0>"
            ]
          },
          "execution_count": 36,
          "metadata": {},
          "output_type": "execute_result"
        }
      ],
      "source": [
        "# Secção de testes de unidade\n",
        "\n",
        "import unittest\n",
        "\n",
        "class TestValidarData(unittest.TestCase):\n",
        "    def test_transc_vazio(self):                                           # Testa a existência de uma sequência vazia\n",
        "        self.assertFalse( transc(\"\") )\n",
        "    \n",
        "    def test_transc_caracter_invalido(self):                               # Testa a presença de caracteres inválidos\n",
        "        self.assertFalse( transc(\"AAAT-TG-CG.TGG.TG-TGGT\") )\n",
        "\n",
        "    def test_transc_nucleotido_invalido(self):                             # Testa a existência de outras letras/nucleótidos \n",
        "        self.assertFalse( transc(\"RATAFAT\") )\n",
        "        \n",
        "    def test_transc_correta(self):                                         # Testa um input correto\n",
        "        self.assertTrue( transc(\"AAACTGTCG\") )\n",
        "\n",
        "    def test_transc_minuscula(self):                                       # Testa o input de letras minusculas\n",
        "        self.assertTrue( transc(\"atgctcgatagct\") )\n",
        "    \n",
        "    def test_trans_correta(self):                                          # Testa o correto funcionamento da transcrição/função\n",
        "        self.assertEqual( transc('AATTCCGG'), 'UUAAGGCC' )\n",
        "\n",
        "\n",
        "suite = unittest.TestLoader().loadTestsFromTestCase(TestValidarData)\n",
        "unittest.TextTestRunner( verbosity=3 ).run( suite )"
      ]
    },
    {
      "cell_type": "markdown",
      "metadata": {
        "id": "p5_QD7ogGlKp"
      },
      "source": [
        "**Complemento reverso - o que é**\n",
        "\n",
        "O Complemento Reverso consiste no espelhamento de uma sequência de DNA, permitindo-nos reconstruir a segunda cadeia da cadeia dupla de DNA a partir de uma cadeia simples que servirá como ponto de partida.\n",
        "\n",
        "A lógica do complemento reverso é a de iterar sobre uma string que represente uma cadeia de DNA válida e devolver o seu inverso com base nos nucleótidos complementares, ou seja:\n",
        "\n",
        "- A -> T\n",
        "- T -> A\n",
        "- C -> G\n",
        "- G -> C\n",
        "\n",
        "A forma mais simples de fazer isto é usando um ciclo ``for`` que irá iterar sobre cada elemento da cadeia e adicionar o seu complementar à ``string`` de resultado, ou seja:\n",
        "\n",
        "```python\n",
        "complementar = ''\n",
        "for base in cadeia.upper():\n",
        "    if base == 'A':\n",
        "        complementar += 'T'\n",
        "    elif base == 'T':\n",
        "        complementar += 'A'\n",
        "    elif base == 'C':\n",
        "        complementar += 'G'\n",
        "    elif base == 'G':\n",
        "        complementar += 'C'\n",
        "```\n",
        "\n",
        "Assim, com uma cadeia ``actgtctgtcaaa`` obteremos uma cadeia ``tgacagacagttt``, veja-se o exemplo abaixo do ciclo em funcionamento:"
      ]
    },
    {
      "cell_type": "code",
      "execution_count": 38,
      "metadata": {
        "colab": {
          "base_uri": "https://localhost:8080/"
        },
        "id": "D0jC1VkKj3PM",
        "outputId": "e245c157-5a7f-4d09-f175-5b2736c3fa73"
      },
      "outputs": [
        {
          "name": "stdout",
          "output_type": "stream",
          "text": [
            "ACTGTCTGTCAAA -> TTTGACAGACAGT\n"
          ]
        }
      ],
      "source": [
        "cadeia = 'actgtctgtcaaa'\n",
        "complementar = ''\n",
        "for base in cadeia.upper():\n",
        "    if base == 'A':\n",
        "        complementar += 'T'\n",
        "    elif base == 'T':\n",
        "        complementar += 'A'\n",
        "    elif base == 'C':\n",
        "        complementar += 'G'\n",
        "    elif base == 'G':\n",
        "        complementar += 'C'\n",
        "\n",
        "print(cadeia.upper(),'->',complementar[::-1])"
      ]
    },
    {
      "cell_type": "markdown",
      "metadata": {
        "id": "UkxFAte9j_M1"
      },
      "source": [
        "De forma a criar uma ferramenta que à qual possamos recorrer sempre que queiramos encontrar o complemento reverso de uma cadeia de DNA, escrevemos a função abaixo.\n",
        "\n"
      ]
    },
    {
      "cell_type": "code",
      "execution_count": null,
      "metadata": {},
      "outputs": [],
      "source": []
    },
    {
      "cell_type": "code",
      "execution_count": 52,
      "metadata": {
        "colab": {
          "base_uri": "https://localhost:8080/"
        },
        "id": "-iua3IsSkA2U",
        "outputId": "4112d9d8-48bf-4f94-9624-d1d7ee2863ca"
      },
      "outputs": [],
      "source": [
        "def complemento_inverso(sequencia : str) -> str:\n",
        "    '''\n",
        "    Função que itera sobre uma sequência de DNA e devolve\n",
        "    o complemento reverso de cada nucleotido.\n",
        "\n",
        "    Parametros \n",
        "    ----------\n",
        "\n",
        "    sequencia : str\n",
        "        sequência de DNA válida\n",
        "\n",
        "    Retorna\n",
        "    -------\n",
        "    str\n",
        "        sequência de nucléotidos complementar à cadeia fornecida\n",
        "\n",
        "    Levanta\n",
        "    -------\n",
        "\n",
        "    ValueError\n",
        "        caso não se trate de uma sequênica de DNA válida\n",
        "        \n",
        "    '''\n",
        "    assert sequencia != '' or sequencia != ' '\n",
        "    #assert validar_dna(sequencia)\n",
        "    \n",
        "\n",
        "    complementar = '' # inicializamos a cadeia complementar\n",
        "\n",
        "    if tipo_seq(sequencia) == 'DNA':\n",
        "        for base in sequencia.upper():\n",
        "            if base == 'A':\n",
        "                complementar += 'T'\n",
        "            elif base == 'T':\n",
        "                complementar += 'A'\n",
        "            elif base == 'C':\n",
        "                complementar += 'G'\n",
        "            elif base == 'G':\n",
        "                complementar += 'C'\n",
        "    \n",
        "    elif tipo_seq(sequencia) == 'RNA':\n",
        "        for base in sequencia.upper():\n",
        "            if base == 'A':\n",
        "                complementar += 'U'\n",
        "            elif base == 'U':\n",
        "                complementar += 'A'\n",
        "            elif base == 'C':\n",
        "                complementar += 'G'\n",
        "            elif base == 'G':\n",
        "                complementar += 'C'\n",
        "    \n",
        "    else:\n",
        "        raise ValueError('É uma sequência inválida')\n",
        "\n",
        "    return complementar[::-1]\n"
      ]
    },
    {
      "cell_type": "code",
      "execution_count": 53,
      "metadata": {},
      "outputs": [
        {
          "name": "stdout",
          "output_type": "stream",
          "text": [
            "ACCTG -> CAGGT\n",
            "UCCAG -> CUGGA\n"
          ]
        }
      ],
      "source": [
        "# Demonostração do output da função complemento_inverso() \n",
        "\n",
        "print('ACCTG'.upper(),'->',complemento_inverso('ACCTG'))\n",
        "print('UCCAG'.upper(),'->',complemento_inverso('UCCAG'))"
      ]
    },
    {
      "cell_type": "code",
      "execution_count": 63,
      "metadata": {},
      "outputs": [
        {
          "name": "stderr",
          "output_type": "stream",
          "text": [
            "test_complemento_correto (__main__.TestComplementoInverso.test_complemento_correto) ... ok\n",
            "test_complemento_rna (__main__.TestComplementoInverso.test_complemento_rna) ... ok\n",
            "test_sequencia_com_espacos (__main__.TestComplementoInverso.test_sequencia_com_espacos) ... ok\n",
            "test_sequencia_com_numeros (__main__.TestComplementoInverso.test_sequencia_com_numeros) ... ok\n",
            "test_sequencia_invalida (__main__.TestComplementoInverso.test_sequencia_invalida) ... ok\n",
            "test_sequencia_vazia (__main__.TestComplementoInverso.test_sequencia_vazia) ... ok\n",
            "\n",
            "----------------------------------------------------------------------\n",
            "Ran 6 tests in 0.005s\n",
            "\n",
            "OK\n"
          ]
        },
        {
          "data": {
            "text/plain": [
              "<unittest.runner.TextTestResult run=6 errors=0 failures=0>"
            ]
          },
          "execution_count": 63,
          "metadata": {},
          "output_type": "execute_result"
        }
      ],
      "source": [
        "# Secção de testes de unidade\n",
        "\n",
        "class TestComplementoInverso(unittest.TestCase):\n",
        "    \n",
        "    def test_sequencia_vazia(self):   \n",
        "        with self.assertRaises(ValueError):\n",
        "            complemento_inverso('')\n",
        "    \n",
        "    def test_sequencia_invalida(self):\n",
        "        with self.assertRaises(ValueError):\n",
        "            complemento_inverso('ACGHJTGH')\n",
        "    \n",
        "    def test_sequencia_com_numeros(self):\n",
        "        with self.assertRaises(ValueError):\n",
        "            complemento_inverso('12ACTG0')\n",
        "    \n",
        "    def test_sequencia_com_espacos(self):\n",
        "        self.assertTrue(complemento_inverso('  AC  CTG   '))\n",
        "    \n",
        "    def test_complemento_correto(self):\n",
        "        self.assertEqual( complemento_inverso('AATTCCGG'), 'CCGGAATT' )\n",
        "\n",
        "    def test_complemento_rna(self):\n",
        "        self.assertEqual(complemento_inverso('UUAGGA'), 'UCCUAA')\n",
        "    \n",
        "\n",
        "suite = unittest.TestLoader().loadTestsFromTestCase(TestComplementoInverso)\n",
        "unittest.TextTestRunner( verbosity=3 ).run( suite )"
      ]
    },
    {
      "cell_type": "markdown",
      "metadata": {},
      "source": [
        "## Tradução -> Diogo"
      ]
    },
    {
      "cell_type": "markdown",
      "metadata": {},
      "source": [
        "Em bioinformática, o Python é bastante utilizado para o processamento básico de sequências e a tradução de sequências de DNA em sequências de aminoácidos. Existem várias bibliotecas e algoritmos disponíveis que facilitam esse processo. \n",
        "\n",
        "Existem diversas formas de realizar este processamento, citando as mais usadas: \n",
        "\n",
        "            - Algoritmo de tradução com o Biopython;\n",
        "\n",
        "            - Algoritmo de tradução personalizado mediante a finalidade, o tipo de ser vivo ou devido a outras caracteristicas especificas.\n",
        "            \n",
        "\n",
        "Adicionei um bloco try-except para capturar exceções e lidar com erros em ambos os casos.     "
      ]
    },
    {
      "cell_type": "code",
      "execution_count": null,
      "metadata": {},
      "outputs": [],
      "source": [
        "# Sequência de DNA exemplo\n",
        "sequencia_DNA = \"AGATGGTCTACGTCGCATCGTAGCTGAGCTAGCTAGCTAGCTAGCTAGCTAGCTAGCTAGCTAGCT\""
      ]
    },
    {
      "cell_type": "markdown",
      "metadata": {},
      "source": [
        "Algoritmo de tradução com o Biopython: Uma biblioteca em python que fornece uma ampla gama de funcionalidades para o processamento de sequências biológicas, incluindo tradução. "
      ]
    },
    {
      "cell_type": "code",
      "execution_count": null,
      "metadata": {},
      "outputs": [],
      "source": [
        "import re\n",
        "from Bio.Seq import Seq\n",
        "\n",
        "def traducao_dna_para_aminoacido(sequencia_DNA):\n",
        "    # Verifica se a sequência de DNA é válida\n",
        "    if not is_valid_dna(sequencia_DNA):\n",
        "        raise ValueError(\"Sequência de DNA inválida.\")\n",
        "\n",
        "    # Transcrição do DNA para RNA\n",
        "    sequencia_rna = Seq(sequencia_DNA).transcribe()\n",
        "\n",
        "    # Verifica se a sequência de RNA é válida\n",
        "    if not is_valid_rna(str(sequencia_rna)):\n",
        "        raise ValueError(\"Sequência de RNA inválida.\")\n",
        "\n",
        "    # Tradução do RNA para uma sequência de aminoácidos usando Biopython\n",
        "    sequencia_aminoacido = str(sequencia_rna.translate())\n",
        "\n",
        "    return sequencia_aminoacido\n",
        "\n",
        "try:\n",
        "    sequencia_aminoacido = traducao_dna_para_aminoacido(sequencia_DNA)\n",
        "    print(\"Sequência de aminoácidos:\", sequencia_aminoacido)\n",
        "except ValueError as e:\n",
        "    print(\"Erro:\", str(e))"
      ]
    },
    {
      "cell_type": "markdown",
      "metadata": {},
      "source": [
        "Algoritmo de tradução personalizado: Se tivermos requisitos específicos ou quisermos implementar o nosso próprio algoritmo de tradução, podemos criar um algoritmo personalizado para isso. "
      ]
    },
    {
      "cell_type": "code",
      "execution_count": null,
      "metadata": {},
      "outputs": [],
      "source": [
        "def traducao_personalizada(sequencia_DNA):\n",
        "    # Tabela de tradução de codões para aminoácidos\n",
        "        tabela_traducao = {\n",
        "            \"TTT\": \"F\", \"TTC\": \"F\", \"TTA\": \"L\", \"TTG\": \"L\",\n",
        "            \"CTT\": \"L\", \"CTC\": \"L\", \"CTA\": \"L\", \"CTG\": \"L\",\n",
        "            \"ATT\": \"I\", \"ATC\": \"I\", \"ATA\": \"I\", \"ATG\": \"M\",\n",
        "            \"GTT\": \"V\", \"GTC\": \"V\", \"GTA\": \"V\", \"GTG\": \"V\",\n",
        "            \"TCT\": \"S\", \"TCC\": \"S\", \"TCA\": \"S\", \"TCG\": \"S\",\n",
        "            \"CCT\": \"P\", \"CCC\": \"P\", \"CCA\": \"P\", \"CCG\": \"P\",\n",
        "            \"ACT\": \"T\", \"ACC\": \"T\", \"ACA\": \"T\", \"ACG\": \"T\",\n",
        "            \"GCT\": \"A\", \"GCC\": \"A\", \"GCA\": \"A\", \"GCG\": \"A\",\n",
        "            \"TAT\": \"Y\", \"TAC\": \"Y\", \"TAA\": \"*\", \"TAG\": \"*\",\n",
        "            \"CAT\": \"H\", \"CAC\": \"H\", \"CAA\": \"Q\", \"CAG\": \"Q\",\n",
        "            \"AAT\": \"N\", \"AAC\": \"N\", \"AAA\": \"K\", \"AAG\": \"K\",\n",
        "            \"GAT\": \"D\", \"GAC\": \"D\", \"GAA\": \"E\", \"GAG\": \"E\",\n",
        "            \"TGT\": \"C\", \"TGC\": \"C\", \"TGA\": \"*\", \"TGG\": \"W\",\n",
        "            \"CGT\": \"R\", \"CGC\": \"R\", \"CGA\": \"R\", \"CGG\": \"R\",\n",
        "            \"AGT\": \"S\", \"AGC\": \"S\", \"AGA\": \"R\", \"AGG\": \"R\",\n",
        "            \"GGT\": \"G\", \"GGC\": \"G\", \"GGA\": \"G\", \"GGG\": \"G\"\n",
        "            }\n",
        "\n",
        "    # Verifica se a sequência de DNA tem um número de bases múltiplo de 3\n",
        "        if len(sequencia_DNA) % 3 != 0:\n",
        "            raise ValueError(\"Sequência de DNA inválida: número de bases não é múltiplo de 3.\")\n",
        "\n",
        "    # Tradução do DNA para uma sequência de aminoácidos\n",
        "        sequencia_aminoacido = \"\".join([tabela_traducao[sequencia_DNA[i:i+3]] for i in range(0, len(sequencia_DNA), 3)])\n",
        "\n",
        "        return sequencia_aminoacido\n",
        "\n",
        "try:\n",
        "    sequencia_aminoacido = traducao_personalizada(sequencia_DNA)\n",
        "    print(\"Sequência de aminoácidos:\", sequencia_aminoacido)\n",
        "except ValueError as e:\n",
        "    print(\"Erro:\", str(e))"
      ]
    },
    {
      "cell_type": "markdown",
      "metadata": {},
      "source": [
        "Por fim, decidi incorporar os dois casos num (nao faço ideia se é util ou não).\n",
        "\n",
        "Este código inclui as duas formas de tradução: uma com a biblioteca Biopython e outra usando uma abordagem manual. Cada bloco de código é independente e pode ser executado separadamente. \n",
        "\n",
        "Além disso, há um bloco separado com uma lista de verificações no final."
      ]
    },
    {
      "cell_type": "code",
      "execution_count": null,
      "metadata": {},
      "outputs": [],
      "source": [
        "from Bio.Seq import Seq\n",
        "\n",
        "def valida_dna(sequencia_DNA):\n",
        "    valida_bases = set('ACGT')\n",
        "    return all(base in valida_bases for base in sequencia_DNA)\n",
        "\n",
        "def traducao_dna_aminoacido_biopython(sequencia_DNA):\n",
        "    if not valida_dna(sequencia_DNA):\n",
        "        raise ValueError(\"Sequência de DNA inválida.\")\n",
        "\n",
        "    sequencia_rna = Seq(sequencia_DNA).transcribe()\n",
        "    sequencia_aminoacido = str(sequencia_rna.translate())\n",
        "\n",
        "    return sequencia_aminoacido\n",
        "\n",
        "def traducao_dna_aminoacido_personalizada(sequencia_DNA):\n",
        "    if not valida_dna(sequencia_DNA):\n",
        "        raise ValueError(\"Sequência de DNA inválida.\")\n",
        "\n",
        "    tabela_codoes = {\n",
        "        'TTT': 'F', 'TTC': 'F', 'TTA': 'L', 'TTG': 'L',\n",
        "        'CTT': 'L', 'CTC': 'L', 'CTA': 'L', 'CTG': 'L',\n",
        "        'ATT': 'I', 'ATC': 'I', 'ATA': 'I', 'ATG': 'M',\n",
        "        'GTT': 'V', 'GTC': 'V', 'GTA': 'V', 'GTG': 'V',\n",
        "        'TCT': 'S', 'TCC': 'S', 'TCA': 'S', 'TCG': 'S',\n",
        "        'CCT': 'P', 'CCC': 'P', 'CCA': 'P', 'CCG': 'P',\n",
        "        'ACT': 'T', 'ACC': 'T', 'ACA': 'T', 'ACG': 'T',\n",
        "        'GCT': 'A', 'GCC': 'A', 'GCA': 'A', 'GCG': 'A',\n",
        "        'TAT': 'Y', 'TAC': 'Y', 'TAA': '*', 'TAG': '*',\n",
        "        'CAT': 'H', 'CAC': 'H', 'CAA': 'Q', 'CAG': 'Q',\n",
        "        'AAT': 'N', 'AAC': 'N', 'AAA': 'K', 'AAG': 'K',\n",
        "        'GAT': 'D', 'GAC': 'D', 'GAA': 'E', 'GAG': 'E',\n",
        "        'TGT': 'C', 'TGC': 'C', 'TGA': '*', 'TGG': 'W',\n",
        "        'CGT': 'R', 'CGC': 'R', 'CGA': 'R', 'CGG': 'R',\n",
        "        'AGT': 'S', 'AGC': 'S', 'AGA': 'R', 'AGG': 'R',\n",
        "        'GGT': 'G', 'GGC': 'G', 'GGA': 'G', 'GGG': 'G'\n",
        "    }\n",
        "\n",
        "    codoes = [sequencia_DNA[i:i+3] for i in range(0, len(sequencia_DNA), 3)]\n",
        "    sequencia_aminoacido = ''.join(tabela_codoes.get(codon, 'X') for codon in codoes)\n",
        "\n",
        "    return sequencia_aminoacido\n",
        "\n",
        "# Tradução usando Biopython\n",
        "try:\n",
        "    sequencia_aminoacido_biopython = traducao_dna_aminoacido_biopython(sequencia_DNA)\n",
        "    print(\"Sequência de aminoácidos (Biopython):\", sequencia_aminoacido_biopython)\n",
        "except ValueError as e:\n",
        "    print(\"Erro:\", str(e))\n",
        "\n",
        "# Tradução manual\n",
        "try:\n",
        "    sequencia_aminoacido_personalizada = traducao_dna_aminoacido_personalizada(sequencia_DNA)\n",
        "    print(\"Sequência de aminoácidos (Manual):\", sequencia_aminoacido_personalizada)\n",
        "except ValueError as e:\n",
        "    print(\"Erro:\", str(e))\n",
        "\n",
        "\n",
        "# Secção de testes de unidade\n",
        "\n",
        "class TestComplementoInverso(unittest.TestCase):\n",
        "    \n",
        "    def test_sequencia_vazia(self):\n",
        "        with self.assertRaises(ValueError):\n",
        "            complemento_inverso('')\n",
        "    \n",
        "    def test_sequencia_invalida(self):\n",
        "        with self.assertRaises(ValueError):\n",
        "            complemento_inverso('ACGHJTGH')\n",
        "    \n",
        "    def test_sequencia_com_numeros(self):\n",
        "        with self.assertRaises(ValueError):\n",
        "            complemento_inverso('12ACTG0')\n",
        "    \n",
        "    def test_sequencia_com_espacos(self):\n",
        "        self.assertTrue(complemento_inverso('  AC  CTG   '))\n",
        "    \n",
        "    def test_complemento_correto(self):\n",
        "        self.assertEqual( complemento_inverso('AATTCCGG'), 'TTAAGGCC' )\n",
        "    \n",
        "\n",
        "suite = unittest.TestLoader().loadTestsFromTestCase(TestValidaData)\n",
        "unittest.TextTestRunner( verbosity=3 ).run( suite )\n",
        "\n",
        "print(\"\\nVerificações:\")\n",
        "print(\"1. Verifique se a sequência de DNA está correta.\")\n",
        "print(\"2. Verifique se a sequência de DNA é válida, contendo apenas as bases A, C, G, T.\")\n",
        "print(\"3. Verifique se a sequência de aminoácidos foi corretamente traduzida.\")\n",
        "print(\"4. Verifique se o código está bem comentado e de fácil compreensão.\")\n",
        "print(\"5. Verifique se todas as dependências foram instaladas corretamente.\")\n",
        "print(\"6. Verifique se a função de tradução está sendo chamada corretamente.\")\n",
        "print(\"7. Verifique se as exceções são tratadas corretamente.\")\n",
        "print(\"8. Verifique se os resultados são exibidos de forma adequada.\")"
      ]
    },
    {
      "cell_type": "markdown",
      "metadata": {},
      "source": [
        "Erros e falhas identificados:\n",
        "Corrigido o erro AttributeError: 'Seq' object has no attribute 'is_valid_dna'\n",
        "Adicionada função is_valid_dna para verificar a validade da sequência de DNA\n",
        "Atualizada a chamada para a função de validação no início do código\n",
        "\n",
        "Otimizações a fazer:\n",
        "Verificar se há maneiras de otimizar o código para melhorar a eficiência\n",
        "Verificar se há possíveis otimizações na manipulação de strings e listas\n",
        "Considerar a adição de mais verificações específicas, dependendo dos requisitos do projeto"
      ]
    },
    {
      "cell_type": "markdown",
      "metadata": {
        "id": "a_OpErQLvcN8"
      },
      "source": [
        "## Open Reading *Frames* -> Mindo"
      ]
    },
    {
      "cell_type": "markdown",
      "metadata": {},
      "source": [
        "Um reading frame com um comprimento suficiente e sem códons stop é designado por open reading frame aberto (ORF). Quando a sequência do genoma é conhecida, mas a localização dos genes ainda não foi anotada, os ORFs são de particular importância, pois indicam uma parte do genoma onde os genes estão potencialmente codificados."
      ]
    },
    {
      "cell_type": "markdown",
      "metadata": {},
      "source": [
        "Vai permitir procurar todas as possibilidades de regiões codificadoras de proteínas, dada uma região do genoma. Tendo os reading frames calculados, o próximo passo óbvio é encontrar possíveis proteínas que podem ser codificadas dentro desses frames. Esta tarefa consiste em encontrar os ORFs, que são reading frames que têm o potencial de serem traduzidos em proteínas."
      ]
    },
    {
      "cell_type": "markdown",
      "metadata": {},
      "source": [
        "Esta função classifica uma sequência como DNA, RNA, uma sequência de aminoácidos ou a considera inválida, dependendo dos caracteres presentes na sequência. A classificação é baseada na presença ou ausência de caracteres específicos associados a cada tipo de sequência."
      ]
    },
    {
      "cell_type": "markdown",
      "metadata": {},
      "source": [
        "Esta função tenta gerar diferentes ORFs a partir de uma sequência de DNA ou RNA, tendo em conta os casos de DNA, RNA e sequências que não se encaixam em nenhum desses tipos. O objetivo é devolver uma lista com as ORFs em formato de string, incluindo o complemento reverso."
      ]
    },
    {
      "cell_type": "code",
      "execution_count": 75,
      "metadata": {},
      "outputs": [],
      "source": [
        "def get_orfs(seq):\n",
        "    \"\"\"\n",
        "    Função que a partir de uma sequência de DNA ou RNA origina diferentes tipos de ORFS.\n",
        "\n",
        "    Parâmetro\n",
        "    --------\n",
        "    seq : str\n",
        "        Sequência de DNA ou RNA.\n",
        "\n",
        "    Returns\n",
        "    -------\n",
        "    lista\n",
        "        Lista das ORFs geradas a partir da sequência.\n",
        "    \n",
        "    \"\"\"\n",
        "    seq_comp_inv = complemento_inverso(seq)\n",
        "    lista_orfs = [\n",
        "            seq[0:], seq[1:], seq[2:],\n",
        "            seq_comp_inv[0:], seq_comp_inv[1:], seq_comp_inv[2:]\n",
        "        ]\n",
        "    return lista_orfs\n",
        "    "
      ]
    },
    {
      "cell_type": "code",
      "execution_count": 76,
      "metadata": {},
      "outputs": [
        {
          "data": {
            "text/plain": [
              "['AUCG', 'UCG', 'CG', 'CGAU', 'GAU', 'AU']"
            ]
          },
          "execution_count": 76,
          "metadata": {},
          "output_type": "execute_result"
        }
      ],
      "source": [
        "get_orfs(\"AUCG\")"
      ]
    },
    {
      "cell_type": "code",
      "execution_count": 77,
      "metadata": {},
      "outputs": [
        {
          "name": "stderr",
          "output_type": "stream",
          "text": [
            "test_get_orfs_dna (__main__.TestGetOrfs.test_get_orfs_dna) ... ok\n",
            "test_get_orfs_invalid_seq (__main__.TestGetOrfs.test_get_orfs_invalid_seq) ... ok\n",
            "test_get_orfs_rna (__main__.TestGetOrfs.test_get_orfs_rna) ... ok\n",
            "\n",
            "----------------------------------------------------------------------\n",
            "Ran 3 tests in 0.004s\n",
            "\n",
            "OK\n"
          ]
        },
        {
          "data": {
            "text/plain": [
              "<unittest.runner.TextTestResult run=3 errors=0 failures=0>"
            ]
          },
          "execution_count": 77,
          "metadata": {},
          "output_type": "execute_result"
        }
      ],
      "source": [
        "# Testes de unidade\n",
        "\n",
        "class TestGetOrfs(unittest.TestCase):\n",
        "    def test_get_orfs_dna(self):\n",
        "        result = get_orfs(\"ATCG\")\n",
        "        expected = [\"ATCG\", \"TCG\", \"CG\", \"CGAT\", \"GAT\", \"AT\"]\n",
        "        self.assertEqual(result, expected)\n",
        "\n",
        "    def test_get_orfs_rna(self):\n",
        "        result = get_orfs(\"AUCG\")\n",
        "        expected = [\"AUCG\", \"UCG\", \"CG\", \"CGAU\", \"GAU\", \"AU\"]\n",
        "        self.assertEqual(result, expected)\n",
        "\n",
        "    def test_get_orfs_invalid_seq(self):\n",
        "        with self.assertRaises(ValueError):\n",
        "            get_orfs(\"\")\n",
        "\n",
        "\n",
        "suite = unittest.TestLoader().loadTestsFromTestCase(TestGetOrfs)\n",
        "unittest.TextTestRunner( verbosity=3 ).run( suite )\n"
      ]
    },
    {
      "cell_type": "code",
      "execution_count": 57,
      "metadata": {},
      "outputs": [
        {
          "data": {
            "text/plain": [
              "['AATCG', 'ATCG', 'TCG', 'CGATT', 'GATT', 'ATT']"
            ]
          },
          "execution_count": 57,
          "metadata": {},
          "output_type": "execute_result"
        }
      ],
      "source": [
        "get_orfs(\"AATCG\")"
      ]
    }
  ],
  "metadata": {
    "kernelspec": {
      "display_name": "Python 3",
      "language": "python",
      "name": "python3"
    },
    "language_info": {
      "codemirror_mode": {
        "name": "ipython",
        "version": 3
      },
      "file_extension": ".py",
      "mimetype": "text/x-python",
      "name": "python",
      "nbconvert_exporter": "python",
      "pygments_lexer": "ipython3",
      "version": "3.11.5"
    }
  },
  "nbformat": 4,
  "nbformat_minor": 0
}
