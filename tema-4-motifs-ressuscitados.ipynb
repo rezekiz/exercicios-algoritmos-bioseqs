{
 "cells": [
  {
   "cell_type": "markdown",
   "metadata": {},
   "source": [
    "# Motifs Probabilísticos"
   ]
  },
  {
   "cell_type": "markdown",
   "metadata": {},
   "source": [
    "Os **motifs** probabilísticos em Python referem-se a padrões ou sequências de eventos que ocorrem com uma certa probabilidade num conjunto de dados. \n",
    "\n",
    "Em bioinformática, por exemplo, os **motifs** podem representar padrões de nucleótidos em sequências de ADN, podendo também ser utilizados para encontrar regiões conservadas em sequências de ADN ou RNA.\n",
    "\n",
    "As funções, **PWM** e **PSSM**, são ferramentas essenciais na análise de dados genómicos, na identificação de elementos regulatórios importantes nas sequências do ADN e na identificação de **motifs** conservados em regiões regulatórias do ADN. "
   ]
  },
  {
   "cell_type": "markdown",
   "metadata": {},
   "source": [
    "> ### Função PWM\n",
    "\n",
    "A **função PWM** (Position Weight Matrix) é uma técnica amplamente utilizada na bioinformática para modelar padrões de consenso em sequências biológicas, como ADN ou proteínas. \n",
    "\n",
    "Consiste numa matriz que representa a frequência relativa de cada base em cada posição ao longo de um conjunto de sequências alinhadas."
   ]
  },
  {
   "cell_type": "markdown",
   "metadata": {},
   "source": [
    "Em primeiro lugar, procedeu-se à instalação da biblioteca tabulate que permite a utilização de um conjunto de ferramentas de forma a ter um output mais organizado."
   ]
  },
  {
   "cell_type": "code",
   "execution_count": 6,
   "metadata": {},
   "outputs": [
    {
     "name": "stdout",
     "output_type": "stream",
     "text": [
      "Collecting tabulate\n",
      "  Downloading tabulate-0.9.0-py3-none-any.whl (35 kB)\n",
      "Installing collected packages: tabulate\n",
      "Successfully installed tabulate-0.9.0\n",
      "Note: you may need to restart the kernel to use updated packages.\n"
     ]
    }
   ],
   "source": [
    "pip install tabulate"
   ]
  },
  {
   "cell_type": "markdown",
   "metadata": {},
   "source": [
    "\n",
    "A função **pwm** tem como objetivo calcular a matriz PWM (Matriz de Peso e Posição) para um conjunto de sequências fornecidas. Ela recebe uma lista de strings que representam as sequências (seqs) e um valor opcional chamado pseudo (pseudo), que por padrão é igual a 0.\n",
    "\n",
    "A função realiza algumas verificações iniciais, garantindo que as sequências fornecidas são válidas. Em caso de sequências inválidas, a função lança um AssertionError. Além disso, ela verifica se cada elemento da lista de sequências é uma string.\n",
    "\n",
    "A função utiliza um alfabeto padrão de DNA ('ACGT') e, para cada posição em todas as sequências, calcula a frequência relativa de cada base (A, C, G, T) naquela posição. O cálculo considera um termo de pseudo contabilizado para evitar divisões por zero. O resultado é uma lista de dicionários, onde cada dicionário representa uma posição na matriz PWM. As chaves dos dicionários são as bases do DNA ('A', 'C', 'G', 'T'), e os valores são as frequências relativas calculadas.\n",
    "\n",
    "Por fim, a função retorna a matriz PWM como uma lista de dicionários."
   ]
  },
  {
   "cell_type": "code",
   "execution_count": 70,
   "metadata": {},
   "outputs": [],
   "source": [
    "def pwm(seqs: list[str], pseudo: float = 0) -> list[dict[str, float]]:\n",
    "  \n",
    "  \"\"\"\n",
    "  Calcula a matriz PWM (Matriz de Peso e Posição) para as sequências fornecidas\n",
    "\n",
    "  Parâmetros\n",
    "  -------------\n",
    "  seqs : list[str]\n",
    "      Recebe uma lista de strings que representam as sequências\n",
    "\n",
    "  pseudo : float\n",
    "      Recebe um valor opcional, pseudo, que em caso de omissão é = 0\n",
    "\n",
    "\n",
    "  Retorna\n",
    "  -------------\n",
    "  pwm_matrix : list[dict[str, float]]\n",
    "      Retorna uma *lista de dicionários*, onde cada *dicionário* terá uma chave no formato de *string*, e um valor no formato de *float*\n",
    "\n",
    "  Levanta\n",
    "  -------------\n",
    "  AssertError\n",
    "      Caso a lista de sequências contenha sequências inválida\n",
    "  \n",
    "\n",
    "  \"\"\"\n",
    "  \n",
    "  from scripts.auxiliares import validar_dna\n",
    "\n",
    "  for seq in seqs:\n",
    "    assert validar_dna(seq), (\"Sequência inválida\")\n",
    "    \n",
    "    \n",
    "  alfabeto = 'ACGT'\n",
    "\n",
    "  for seq in seqs:\n",
    "    for idx, b in enumerate(seq):\n",
    "      assert b in alfabeto, f'Caracter {b} na posição {idx} da sequência {seq} inválido!'\n",
    "\n",
    "  pwm_matrix = [{b: (pos.count(b) + pseudo) / (len(seqs) + len(alfabeto) * pseudo)\n",
    "    for b in alfabeto}\n",
    "      for pos in zip(*seqs)]\n",
    "\n",
    "  return pwm_matrix"
   ]
  },
  {
   "cell_type": "markdown",
   "metadata": {},
   "source": [
    "**Exemplo**:"
   ]
  },
  {
   "cell_type": "code",
   "execution_count": 73,
   "metadata": {},
   "outputs": [
    {
     "name": "stdout",
     "output_type": "stream",
     "text": [
      "Base      Posição 1    Posição 2    Posição 3    Posição 4    Posição 5    Posição 6    Posição 7    Posição 8    Posição 9    Posição 10    Posição 11    Posição 12    Posição 13    Posição 14    Posição 15    Posição 16    Posição 17    Posição 18    Posição 19\n",
      "------  -----------  -----------  -----------  -----------  -----------  -----------  -----------  -----------  -----------  ------------  ------------  ------------  ------------  ------------  ------------  ------------  ------------  ------------  ------------\n",
      "A             0.333        0.333        0.333        0                0            1        0            0.667            0             0             0             1         0                 0         0             0.333         0.667         0.333         0.667\n",
      "C             0            0            0.333        0.667            0            0        0            0                1             0             0             0         0                 0         0             0             0             0             0.333\n",
      "G             0            0.333        0.333        0.333            0            0        0.333        0                0             1             0             0         0.333             1         0.667         0             0.333         0.667         0\n",
      "T             0.667        0.333        0            0                1            0        0.667        0.333            0             0             1             0         0.667             0         0.333         0.667         0             0             0\n"
     ]
    }
   ],
   "source": [
    "seqs = ['TGACTATACGTATGGTAGAT', 'ATCGTATACGTAGGTAGAC', 'TAGCTAGTCGTATGGTAGAT']\n",
    "pseudo = 0\n",
    "\n",
    "# Associação do resultado da função a uma variável de forma a ser mais fácil imprimir o resultado\n",
    "resultado = pwm(seqs, pseudo)\n",
    "\n",
    "# Impressão da matriz formatada com o módulo tabulate\n",
    "from tabulate import tabulate\n",
    "headers = [\"Base\"] + [f\"Posição {i+1}\" for i in range(len(seqs[0]))]\n",
    "table = [[base] + [round(resultado[i][base], 3) for i in range(len(resultado))] for base in \"ACGT\"]\n",
    "print(tabulate(table, headers))\n"
   ]
  },
  {
   "cell_type": "markdown",
   "metadata": {},
   "source": [
    "**Testes de unidade**:"
   ]
  },
  {
   "cell_type": "code",
   "execution_count": 42,
   "metadata": {},
   "outputs": [
    {
     "name": "stderr",
     "output_type": "stream",
     "text": [
      "test_seq_vazio (__main__.TestPWM) ... ok\n",
      "teste_formula (__main__.TestPWM) ... ok\n",
      "teste_seq_invalid (__main__.TestPWM) ... ok\n",
      "\n",
      "----------------------------------------------------------------------\n",
      "Ran 3 tests in 0.015s\n",
      "\n",
      "OK\n"
     ]
    },
    {
     "data": {
      "text/plain": [
       "<unittest.runner.TextTestResult run=3 errors=0 failures=0>"
      ]
     },
     "execution_count": 42,
     "metadata": {},
     "output_type": "execute_result"
    }
   ],
   "source": [
    "import unittest\n",
    "\n",
    "class TestPWM(unittest.TestCase):\n",
    "    def teste_formula(self):\n",
    "        self.assertEqual(pwm([\"AA\", \"AA\"]), [{'A': 1.0, 'C': 0.0, 'G': 0.0, 'T': 0.0}, {'A': 1.0, 'C': 0.0, 'G': 0.0, 'T': 0.0}])\n",
    "\n",
    "    def teste_seq_invalid(self):\n",
    "        with self.assertRaises(AssertionError):\n",
    "            pwm([1, \"ATC\"])\n",
    "    \n",
    "    def test_seq_vazio(self):\n",
    "        with self.assertRaises(AssertionError):\n",
    "            pwm([\"\", \"ATC\"])\n",
    "\n",
    "suite = unittest.TestLoader().loadTestsFromTestCase(TestPWM)\n",
    "unittest.TextTestRunner( verbosity=3 ).run( suite )"
   ]
  },
  {
   "cell_type": "markdown",
   "metadata": {},
   "source": [
    "Foi desenvolvida uma função denominada **prob_seq** que calcula a probabilidade de uma sequência utilizando como base a função PWM.\n",
    "\n",
    "A função calcula a probabilidade de uma determinada sequência de ADN com base na matriz PWM (Matriz de Peso e Posição). Em primeiro lugar,inicializa a variável probabilidade com o valor 1.0. De seguida, itera sobre cada posição e base na sequência fornecida. Para cada base, a função verifica se a base está presente no dicionário correspondente à posição na matriz PWM (resultado). Se estiver, multiplica a probabilidade acumulada pela probabilidade da base naquela posição. Se a base não estiver presente, atribui uma probabilidade mínima de 0.01 à base ausente.\n",
    "\n",
    "Ao percorrer toda a sequência, a função retorna a probabilidade final da sequência com base na matriz PWM fornecida."
   ]
  },
  {
   "cell_type": "code",
   "execution_count": 43,
   "metadata": {},
   "outputs": [],
   "source": [
    "def prob_seq(sequence, resultado):\n",
    "    \"\"\"\n",
    "    Calcula a probabilidade de uma sequência utilizando como base a função PWM\n",
    "\n",
    "    \n",
    "    Parâmetros\n",
    "    -------------\n",
    "    sequence : str \n",
    "        sequência de DNA \n",
    "     \n",
    "    resultado : list[dict[str, float]] \n",
    "        Variável que contém o resultado da função PWM, onde cada dicionário representa as probabilidades para cada base numa posição\n",
    "\n",
    "        \n",
    "    Retorna\n",
    "    -------------\n",
    "    probabilidade : float \n",
    "        A probabilidade da sequência com base na PWM\n",
    "\n",
    "        \n",
    "    Levanta\n",
    "    -------------\n",
    "    AssertError\n",
    "      Caso a lista de sequências contenha sequências inválida\n",
    "    \n",
    "    \"\"\"\n",
    "    \n",
    "    from scripts.auxiliares import validar_dna\n",
    "    \n",
    "    assert validar_dna(seq), (\"Sequência inválida\")\n",
    "    \n",
    "    probabilidade = 1.0\n",
    "\n",
    "    for position, base in enumerate(sequence):\n",
    "        if base in resultado[position]:\n",
    "            probabilidade *= resultado[position][base]\n",
    "        else:\n",
    "            probabilidade *= 0.01  # Atribui uma probabilidade mínima de 0.01 para bases ausentes.\n",
    "\n",
    "    return probabilidade"
   ]
  },
  {
   "cell_type": "markdown",
   "metadata": {},
   "source": [
    "**Exemplo**:"
   ]
  },
  {
   "cell_type": "code",
   "execution_count": 6,
   "metadata": {},
   "outputs": [
    {
     "name": "stdout",
     "output_type": "stream",
     "text": [
      "A probabilidade da sequência 'ATA' é de: \n",
      "0.037037037037037035\n"
     ]
    }
   ],
   "source": [
    "seq = 'ATA'\n",
    "probabilidade = prob_seq(seq, resultado)\n",
    "\n",
    "print(f\"A probabilidade da sequência '{seq}' é de: \\n{probabilidade}\")"
   ]
  },
  {
   "cell_type": "markdown",
   "metadata": {},
   "source": [
    "**Testes de unidade**:"
   ]
  },
  {
   "cell_type": "markdown",
   "metadata": {},
   "source": [
    "Seguidamente, foi criada a função **seq_provavel** que tem como objetivo calcular a sequência mais provável dentro de uma sequência de ADN, com base na matriz PWM (Matriz de Peso e Posição).\n",
    "\n",
    "A função inicia um dicionário vazio chamado \"dicionario\". De seguida, utiliza expressões regulares para dividir a sequência em subconjuntos de quatro bases, deslizando uma janela de tamanho 4 pela sequência. Para cada subconjunto, a função calcula a probabilidade usando a função prob_seq e armazena a probabilidade associada ao subconjunto no dicionário.\n",
    "\n",
    "No final do processo, a função retorna a sequência de quatro bases que possui a maior probabilidade, ou seja, aquela associada ao maior valor no dicionário de probabilidades. Isso é realizado utilizando a função max com a chave sendo a probabilidade associada a cada subconjunto. Portanto, a função retorna a subsequência de quatro bases que é considerada mais provável com base na matriz PWM fornecida."
   ]
  },
  {
   "cell_type": "code",
   "execution_count": 45,
   "metadata": {},
   "outputs": [],
   "source": [
    "def seq_provavel(seq, resultado):\n",
    "  \n",
    "  '''\n",
    "  Calcula qual a Sequência mais provável\n",
    "\n",
    "  \n",
    "  Parâmetros\n",
    "  -------------\n",
    "  seq : str\n",
    "    A sequência de DNA\n",
    "  \n",
    "  resultado : list[dict[str, float]] \n",
    "    Variável que contém o resultado da função PWM, onde cada dicionário representa as probabilidades para cada base em uma posição\n",
    "  \n",
    "  \n",
    "  Retorna\n",
    "  -------------\n",
    "  str \n",
    "    A Sequência mais provável dentro da Sequência dada\n",
    "\n",
    "    \n",
    "  Levanta\n",
    "  -------------\n",
    "  AssertError\n",
    "      Caso a lista de sequências contenha sequências inválida\n",
    "  \n",
    "  '''\n",
    "  import re\n",
    "\n",
    "  from scripts.auxiliares import validar_dna\n",
    "    \n",
    "  assert validar_dna(seq), (\"Sequência inválida\")\n",
    "  \n",
    "  dicionario = {}\n",
    "  for subset in re.findall('(?=(....))', seq):\n",
    "    dicionario[subset] = (prob_seq(subset, resultado))\n",
    "  return max(dicionario, key=dicionario.get)"
   ]
  },
  {
   "cell_type": "markdown",
   "metadata": {},
   "source": [
    "**Exemplo**:"
   ]
  },
  {
   "cell_type": "code",
   "execution_count": 46,
   "metadata": {},
   "outputs": [
    {
     "name": "stdout",
     "output_type": "stream",
     "text": [
      "A Sequência mais provável, dentro da Sequência CATTGT, é: CATT.\n"
     ]
    }
   ],
   "source": [
    "seq = \"CATTGT\"\n",
    "mais_provavel = seq_provavel(seq, resultado)\n",
    "\n",
    "print(f'A Sequência mais provável, dentro da Sequência {seq}, é: {mais_provavel}.')"
   ]
  },
  {
   "cell_type": "code",
   "execution_count": 68,
   "metadata": {},
   "outputs": [],
   "source": [
    "seq = \"AAT\"\n",
    "resultado = pwm([\"AATCCTT\", \"TAATAGCCT\", \"AATTGCGCT\"])"
   ]
  },
  {
   "cell_type": "code",
   "execution_count": 69,
   "metadata": {},
   "outputs": [
    {
     "ename": "ValueError",
     "evalue": "max() arg is an empty sequence",
     "output_type": "error",
     "traceback": [
      "\u001b[1;31m---------------------------------------------------------------------------\u001b[0m",
      "\u001b[1;31mValueError\u001b[0m                                Traceback (most recent call last)",
      "Cell \u001b[1;32mIn[69], line 1\u001b[0m\n\u001b[1;32m----> 1\u001b[0m \u001b[43mseq_provavel\u001b[49m\u001b[43m(\u001b[49m\u001b[43mseq\u001b[49m\u001b[43m,\u001b[49m\u001b[43m \u001b[49m\u001b[43mresultado\u001b[49m\u001b[43m)\u001b[49m\n",
      "Cell \u001b[1;32mIn[45], line 37\u001b[0m, in \u001b[0;36mseq_provavel\u001b[1;34m(seq, resultado)\u001b[0m\n\u001b[0;32m     35\u001b[0m \u001b[38;5;28;01mfor\u001b[39;00m subset \u001b[38;5;129;01min\u001b[39;00m re\u001b[38;5;241m.\u001b[39mfindall(\u001b[38;5;124m'\u001b[39m\u001b[38;5;124m(?=(....))\u001b[39m\u001b[38;5;124m'\u001b[39m, seq):\n\u001b[0;32m     36\u001b[0m   dicionario[subset] \u001b[38;5;241m=\u001b[39m (prob_seq(subset, resultado))\n\u001b[1;32m---> 37\u001b[0m \u001b[38;5;28;01mreturn\u001b[39;00m \u001b[38;5;28;43mmax\u001b[39;49m\u001b[43m(\u001b[49m\u001b[43mdicionario\u001b[49m\u001b[43m,\u001b[49m\u001b[43m \u001b[49m\u001b[43mkey\u001b[49m\u001b[38;5;241;43m=\u001b[39;49m\u001b[43mdicionario\u001b[49m\u001b[38;5;241;43m.\u001b[39;49m\u001b[43mget\u001b[49m\u001b[43m)\u001b[49m\n",
      "\u001b[1;31mValueError\u001b[0m: max() arg is an empty sequence"
     ]
    }
   ],
   "source": [
    "seq_provavel(seq, resultado)"
   ]
  },
  {
   "cell_type": "code",
   "execution_count": 22,
   "metadata": {},
   "outputs": [
    {
     "name": "stderr",
     "output_type": "stream",
     "text": [
      "test_seq_vazio (__main__.Testseq_provavel) ... ERROR\n",
      "teste_6 (__main__.Testseq_provavel) ... ERROR\n",
      "teste_seq_invalid (__main__.Testseq_provavel) ... ERROR\n",
      "\n",
      "======================================================================\n",
      "ERROR: test_seq_vazio (__main__.Testseq_provavel)\n",
      "----------------------------------------------------------------------\n",
      "Traceback (most recent call last):\n",
      "  File \"C:\\Users\\olive\\AppData\\Local\\Temp\\ipykernel_16600\\926319873.py\", line 14, in test_seq_vazio\n",
      "    seq_provavel([\"\", \"ATC\"])\n",
      "NameError: name 'seq_provavel' is not defined\n",
      "\n",
      "======================================================================\n",
      "ERROR: teste_6 (__main__.Testseq_provavel)\n",
      "----------------------------------------------------------------------\n",
      "Traceback (most recent call last):\n",
      "  File \"C:\\Users\\olive\\AppData\\Local\\Temp\\ipykernel_16600\\926319873.py\", line 6, in teste_6\n",
      "    self.assertEqual(seq_provavel([\"AA\", \"AA\"]), [{'A': 1.0, 'C': 0.0, 'G': 0.0, 'T': 0.0}, {'A': 1.0, 'C': 0.0, 'G': 0.0, 'T': 0.0}])\n",
      "NameError: name 'seq_provavel' is not defined\n",
      "\n",
      "======================================================================\n",
      "ERROR: teste_seq_invalid (__main__.Testseq_provavel)\n",
      "----------------------------------------------------------------------\n",
      "Traceback (most recent call last):\n",
      "  File \"C:\\Users\\olive\\AppData\\Local\\Temp\\ipykernel_16600\\926319873.py\", line 10, in teste_seq_invalid\n",
      "    seq_provavel([1, \"ATC\"])\n",
      "NameError: name 'seq_provavel' is not defined\n",
      "\n",
      "----------------------------------------------------------------------\n",
      "Ran 3 tests in 0.016s\n",
      "\n",
      "FAILED (errors=3)\n"
     ]
    },
    {
     "data": {
      "text/plain": [
       "<unittest.runner.TextTestResult run=3 errors=3 failures=0>"
      ]
     },
     "execution_count": 22,
     "metadata": {},
     "output_type": "execute_result"
    }
   ],
   "source": [
    "import unittest\n",
    "\n",
    "class Testseq_provavel(unittest.TestCase):\n",
    "\n",
    "    def teste_6(self):\n",
    "        self.assertEqual(seq_provavel([\"AA\", \"AA\"]), [{'A': 1.0, 'C': 0.0, 'G': 0.0, 'T': 0.0}, {'A': 1.0, 'C': 0.0, 'G': 0.0, 'T': 0.0}])\n",
    "\n",
    "    def teste_seq_invalid(self):\n",
    "        with self.assertRaises(AssertionError):\n",
    "            seq_provavel([\"AAT\", ])\n",
    "    \n",
    "    def test_seq_vazio(self):\n",
    "        with self.assertRaises(AssertionError):\n",
    "            seq_provavel([\"\", \"ATC\"])\n",
    "\n",
    "suite = unittest.TestLoader().loadTestsFromTestCase(Testseq_provavel)\n",
    "unittest.TextTestRunner( verbosity=3 ).run( suite )\n"
   ]
  },
  {
   "cell_type": "markdown",
   "metadata": {},
   "source": [
    "**Testes de unidade**:"
   ]
  },
  {
   "cell_type": "code",
   "execution_count": null,
   "metadata": {},
   "outputs": [],
   "source": []
  },
  {
   "cell_type": "markdown",
   "metadata": {},
   "source": [
    ">### Função PSSM"
   ]
  },
  {
   "cell_type": "markdown",
   "metadata": {},
   "source": [
    "A **função PSSM** (Position-Specific Scoring Matrix) é uma extensão da PWM. \n",
    "\n",
    "Enquanto a PWM representa a frequência relativa das bases, a PSSM atribui uma pontuação para cada base em cada posição, levando em consideração a probabilidade logarítmica da ocorrência de uma base em relação a uma distribuição de probabilidade de fundo."
   ]
  },
  {
   "cell_type": "code",
   "execution_count": 14,
   "metadata": {},
   "outputs": [
    {
     "name": "stdout",
     "output_type": "stream",
     "text": [
      "Base      Posição 1    Posição 2    Posição 3    Posição 4    Posição 5    Posição 6    Posição 7    Posição 8    Posição 9    Posição 10    Posição 11    Posição 12    Posição 13    Posição 14    Posição 15    Posição 16    Posição 17    Posição 18    Posição 19\n",
      "------  -----------  -----------  -----------  -----------  -----------  -----------  -----------  -----------  -----------  ------------  ------------  ------------  ------------  ------------  ------------  ------------  ------------  ------------  ------------\n",
      "A            -7.229       -7.229       -7.229      -11.229      -11.229       -3.229      -11.229       -4.89       -11.229       -11.229       -11.229        -3.229       -11.229       -11.229       -11.229        -7.229        -4.89         -7.229        -4.89\n",
      "C           -11.229      -11.229       -7.229       -4.89       -11.229      -11.229      -11.229      -11.229       -3.229       -11.229       -11.229       -11.229       -11.229       -11.229       -11.229       -11.229       -11.229       -11.229        -7.229\n",
      "G           -11.229       -7.229       -7.229       -7.229      -11.229      -11.229       -7.229      -11.229      -11.229        -3.229       -11.229       -11.229        -7.229        -3.229        -4.89        -11.229        -7.229        -4.89        -11.229\n",
      "T            -4.89        -7.229      -11.229      -11.229       -3.229      -11.229       -4.89        -7.229      -11.229       -11.229        -3.229       -11.229        -4.89        -11.229        -7.229        -4.89        -11.229       -11.229       -11.229\n"
     ]
    }
   ],
   "source": [
    "def pssm(seqs, pseudo = 1):\n",
    "\n",
    "  \"\"\"\n",
    "  Calcula a Matriz de Pontuação de Posição Específica (PSSM) para um conjunto de sequências de ADN\n",
    "\n",
    "  Parâmetros\n",
    "  -------------\n",
    "  seqs : list[str]\n",
    "    Lista de sequências de ADN\n",
    "\n",
    "  pseudo : float \n",
    "    Valor de pseudocount a ser adicionado para evitar problemas com probabilidades zero.\n",
    "\n",
    "\n",
    "  Retorna\n",
    "  -------------\n",
    "  lista : list[dict[str, float]]\n",
    "    Uma lista de dicionários que representa a PSSM\n",
    "  \n",
    "    \n",
    "  Levanta\n",
    "  -------------\n",
    "  AssertError\n",
    "      Caso a lista de sequências contenha sequências inválida\n",
    "  \n",
    "  \"\"\"\n",
    "  import math\n",
    "\n",
    "  from scripts.auxiliares import validar_dna\n",
    "\n",
    "  for seq in seqs:\n",
    "    assert validar_dna(seq), (\"Sequência inválida\")\n",
    "\n",
    "  bases = 'ATCG'\n",
    "  lista = []\n",
    "\n",
    "  for pos in list(zip(*seqs)):\n",
    "    dicionario = {}\n",
    "    for b in bases:\n",
    "      # Fórmula da PSSM: log2((contagem da base + pseudocount) / (total de sequências + total de bases * pseudocount)) / 0.25\n",
    "      dicionario[b] = math.log2((pos.count(b) + pseudo) / (len(seqs) + len(bases)*pseudo)) / 0.25\n",
    "\n",
    "    lista.append(dicionario)\n",
    "  return lista"
   ]
  },
  {
   "cell_type": "markdown",
   "metadata": {},
   "source": [
    "**Exemplo**:"
   ]
  },
  {
   "cell_type": "code",
   "execution_count": 15,
   "metadata": {},
   "outputs": [
    {
     "name": "stdout",
     "output_type": "stream",
     "text": [
      "Base      Posição 1    Posição 2    Posição 3    Posição 4    Posição 5    Posição 6    Posição 7    Posição 8    Posição 9    Posição 10    Posição 11    Posição 12    Posição 13    Posição 14    Posição 15    Posição 16    Posição 17    Posição 18    Posição 19\n",
      "------  -----------  -----------  -----------  -----------  -----------  -----------  -----------  -----------  -----------  ------------  ------------  ------------  ------------  ------------  ------------  ------------  ------------  ------------  ------------\n",
      "A            -7.229       -7.229       -7.229      -11.229      -11.229       -3.229      -11.229       -4.89       -11.229       -11.229       -11.229        -3.229       -11.229       -11.229       -11.229        -7.229        -4.89         -7.229        -4.89\n",
      "C           -11.229      -11.229       -7.229       -4.89       -11.229      -11.229      -11.229      -11.229       -3.229       -11.229       -11.229       -11.229       -11.229       -11.229       -11.229       -11.229       -11.229       -11.229        -7.229\n",
      "G           -11.229       -7.229       -7.229       -7.229      -11.229      -11.229       -7.229      -11.229      -11.229        -3.229       -11.229       -11.229        -7.229        -3.229        -4.89        -11.229        -7.229        -4.89        -11.229\n",
      "T            -4.89        -7.229      -11.229      -11.229       -3.229      -11.229       -4.89        -7.229      -11.229       -11.229        -3.229       -11.229        -4.89        -11.229        -7.229        -4.89        -11.229       -11.229       -11.229\n"
     ]
    }
   ],
   "source": [
    "seqs = ['TGACTATACGTATGGTAGAT', 'ATCGTATACGTAGGTAGAC', 'TAGCTAGTCGTATGGTAGAT']\n",
    "matriz_pssm = pssm(seqs, pseudo = 1)\n",
    "\n",
    "# O Table e o Headers já foram definidos para a função PWM\n",
    "\n",
    "headers = [\"Base\"] + [f\"Posição {i+1}\" for i in range(len(seqs[0]))]\n",
    "table = [[base] + [round(matriz_pssm[i][base], 3) for i in range(len(matriz_pssm))] for base in \"ACGT\"]\n",
    "print(tabulate(table, headers))"
   ]
  },
  {
   "cell_type": "code",
   "execution_count": 53,
   "metadata": {},
   "outputs": [
    {
     "name": "stderr",
     "output_type": "stream",
     "text": [
      "FFFEFFF...F.F.\n",
      "======================================================================\n",
      "ERROR: test_pssm_with_pseudo_0 (__main__.TestPSSM.test_pssm_with_pseudo_0)\n",
      "----------------------------------------------------------------------\n",
      "Traceback (most recent call last):\n",
      "  File \"C:\\Users\\armin\\AppData\\Local\\Temp\\ipykernel_19352\\837469118.py\", line 57, in test_pssm_with_pseudo_0\n",
      "    result = pssm(seqs, pseudo=0)\n",
      "             ^^^^^^^^^^^^^^^^^^^^\n",
      "  File \"C:\\Users\\armin\\AppData\\Local\\Temp\\ipykernel_19352\\776625500.py\", line 36, in pssm\n",
      "    dicionario[b] = math.log2((pos.count(b) + pseudo) / (len(seqs) + len(bases)*pseudo)) / 0.25\n",
      "                    ^^^^^^^^^^^^^^^^^^^^^^^^^^^^^^^^^^^^^^^^^^^^^^^^^^^^^^^^^^^^^^^^^^^^\n",
      "ValueError: math domain error\n",
      "\n",
      "======================================================================\n",
      "FAIL: test_prob_seq (__main__.TestMyFunctions.test_prob_seq)\n",
      "----------------------------------------------------------------------\n",
      "Traceback (most recent call last):\n",
      "  File \"C:\\Users\\armin\\AppData\\Local\\Temp\\ipykernel_19352\\1639364311.py\", line 19, in test_prob_seq\n",
      "    self.assertAlmostEqual(probabilidade, 0.123, places=3)\n",
      "AssertionError: 0.037037037037037035 != 0.123 within 3 places (0.08596296296296296 difference)\n",
      "\n",
      "======================================================================\n",
      "FAIL: test_pwm (__main__.TestMyFunctions.test_pwm)\n",
      "----------------------------------------------------------------------\n",
      "Traceback (most recent call last):\n",
      "  File \"C:\\Users\\armin\\AppData\\Local\\Temp\\ipykernel_19352\\1639364311.py\", line 10, in test_pwm\n",
      "    self.assertEqual(len(resultado), 20)\n",
      "AssertionError: 19 != 20\n",
      "\n",
      "======================================================================\n",
      "FAIL: test_seq_provavel (__main__.TestMyFunctions.test_seq_provavel)\n",
      "----------------------------------------------------------------------\n",
      "Traceback (most recent call last):\n",
      "  File \"C:\\Users\\armin\\AppData\\Local\\Temp\\ipykernel_19352\\1639364311.py\", line 28, in test_seq_provavel\n",
      "    self.assertEqual(mais_provavel, 'ATTG')\n",
      "AssertionError: 'CATT' != 'ATTG'\n",
      "- CATT\n",
      "? -\n",
      "+ ATTG\n",
      "?    +\n",
      "\n",
      "\n",
      "======================================================================\n",
      "FAIL: test_pssm_with_pseudo_1 (__main__.TestPSSM.test_pssm_with_pseudo_1)\n",
      "----------------------------------------------------------------------\n",
      "Traceback (most recent call last):\n",
      "  File \"C:\\Users\\armin\\AppData\\Local\\Temp\\ipykernel_19352\\837469118.py\", line 31, in test_pssm_with_pseudo_1\n",
      "    self.assertEqual(result, expected_result)\n",
      "AssertionError: Lists differ: [{'A': -7.229419688230417, 'T': -4.8895696853457[1928 chars]417}] != [{'A': 0.0, 'C': 0.0, 'G': 0.0, 'T': 0.0}, {'A':[787 chars]0.0}]\n",
      "\n",
      "First differing element 0:\n",
      "{'A': -7.229419688230417, 'T': -4.8895696853457[50 chars]0417}\n",
      "{'A': 0.0, 'C': 0.0, 'G': 0.0, 'T': 0.0}\n",
      "\n",
      "Second list contains 1 additional elements.\n",
      "First extra element 19:\n",
      "{'A': 0.0, 'C': 0.0, 'G': 0.0, 'T': 0.0}\n",
      "\n",
      "Diff is 3166 characters long. Set self.maxDiff to None to see it.\n",
      "\n",
      "======================================================================\n",
      "FAIL: test_pssm_shape (__main__.TestPSSMFunctions.test_pssm_shape)\n",
      "----------------------------------------------------------------------\n",
      "Traceback (most recent call last):\n",
      "  File \"C:\\Users\\armin\\AppData\\Local\\Temp\\ipykernel_19352\\3574774496.py\", line 13, in test_pssm_shape\n",
      "    self.assertEqual(len(self.resultado_pssm), len(self.seqs[0]))\n",
      "AssertionError: 19 != 20\n",
      "\n",
      "======================================================================\n",
      "FAIL: test_pssm_values (__main__.TestPSSMFunctions.test_pssm_values)\n",
      "----------------------------------------------------------------------\n",
      "Traceback (most recent call last):\n",
      "  File \"C:\\Users\\armin\\AppData\\Local\\Temp\\ipykernel_19352\\3574774496.py\", line 24, in test_pssm_values\n",
      "    self.assertAlmostEqual(self.resultado_pssm[i][base], value, places=3)\n",
      "AssertionError: -7.229419688230417 != -0.0 within 3 places (7.229419688230417 difference)\n",
      "\n",
      "======================================================================\n",
      "FAIL: test_pwm_matrix (__main__.TestPWMFunctions.test_pwm_matrix)\n",
      "----------------------------------------------------------------------\n",
      "Traceback (most recent call last):\n",
      "  File \"C:\\Users\\armin\\AppData\\Local\\Temp\\ipykernel_19352\\3135613576.py\", line 11, in test_pwm_matrix\n",
      "    self.assertEqual(len(self.resultado), len(self.seqs[0]))\n",
      "AssertionError: 19 != 20\n",
      "\n",
      "======================================================================\n",
      "FAIL: test_prob_seq_invalid_input (__main__.TestProbSeqFunction.test_prob_seq_invalid_input)\n",
      "----------------------------------------------------------------------\n",
      "Traceback (most recent call last):\n",
      "  File \"C:\\Users\\armin\\AppData\\Local\\Temp\\ipykernel_19352\\1678103017.py\", line 31, in test_prob_seq_invalid_input\n",
      "    with self.assertRaises(AssertionError):\n",
      "AssertionError: AssertionError not raised\n",
      "\n",
      "----------------------------------------------------------------------\n",
      "Ran 14 tests in 0.017s\n",
      "\n",
      "FAILED (failures=8, errors=1)\n"
     ]
    }
   ],
   "source": [
    "import unittest\n",
    "\n",
    "class TestPSSMFunctions(unittest.TestCase):\n",
    "\n",
    "    def setUp(self):\n",
    "        # Configuração inicial comum aos testes\n",
    "        self.seqs = ['TGACTATACGTATGGTAGAT', 'ATCGTATACGTAGGTAGAC', 'TAGCTAGTCGTATGGTAGAT']\n",
    "        self.pseudo = 1\n",
    "        self.resultado_pssm = pssm(self.seqs, self.pseudo)\n",
    "\n",
    "    def test_pssm_shape(self):\n",
    "        # Verifica se o número de posições e bases está correto\n",
    "        self.assertEqual(len(self.resultado_pssm), len(self.seqs[0]))\n",
    "        self.assertEqual(set(self.resultado_pssm[0].keys()), set('ATCG'))\n",
    "\n",
    "    def test_pssm_values(self):\n",
    "        # Verifica se os valores da PSSM estão corretos\n",
    "        expected_values = [\n",
    "            {'........\n",
    "            \n",
    "        ]\n",
    "        for i, expected in enumerate(expected_values):\n",
    "            for base, value in expected.items():\n",
    "                self.assertAlmostEqual(self.resultado_pssm[i][base], value, places=3)\n",
    "\n",
    "if __name__ == '__main__':\n",
    "    # Remova a opção -f/--failfast ao chamar unittest.main()\n",
    "    unittest.main(argv=[''], exit=False)\n"
   ]
  },
  {
   "cell_type": "markdown",
   "metadata": {},
   "source": [
    "**Testes de unidade**:"
   ]
  },
  {
   "cell_type": "markdown",
   "metadata": {},
   "source": []
  }
 ],
 "metadata": {
  "kernelspec": {
   "display_name": "base",
   "language": "python",
   "name": "python3"
  },
  "language_info": {
   "codemirror_mode": {
    "name": "ipython",
    "version": 3
   },
   "file_extension": ".py",
   "mimetype": "text/x-python",
   "name": "python",
   "nbconvert_exporter": "python",
   "pygments_lexer": "ipython3",
   "version": "3.10.11"
  }
 },
 "nbformat": 4,
 "nbformat_minor": 2
}
