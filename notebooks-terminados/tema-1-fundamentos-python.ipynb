{
  "cells": [
    {
      "cell_type": "markdown",
      "metadata": {
        "id": "oYdchuRae2qh"
      },
      "source": [
        "# Tema 1 - **Fundamentos de Python**"
      ]
    },
    {
      "cell_type": "markdown",
      "metadata": {
        "id": "q6t3mkF03vZG"
      },
      "source": [
        "## Estruturas de Dados\n",
        "\n",
        "*   Formatos que permitem organizar e armazenar dados no computador\n",
        "\n",
        "*   Cada formato permite organizar dados de uma maneira particular\n",
        "\n",
        "As estruturas de dados mais comuns incluem:\n",
        "\n",
        "*   Listas\n",
        "*   Dicionários\n",
        "*   Tuples\n",
        "*   Sets\n",
        "*   ...\n",
        "\n",
        "**Listas**\n",
        "\n",
        "\n",
        "Coleção ordenada e sequencial de dados que pode ser homogénea ou heterogénea relativamente aos tipos de dados que contém. São mutáveis e, como tal, podem ser alteradas após a sua criação.\n",
        "\n",
        "\n",
        "\n",
        "> Os **tuples** e as **strings** são outras estruturas que permitem organizar dados de forma sequencial.\n",
        "\n",
        "\n"
      ]
    },
    {
      "cell_type": "code",
      "execution_count": 2,
      "metadata": {
        "colab": {
          "base_uri": "https://localhost:8080/"
        },
        "id": "9vFpZnATXrK6",
        "outputId": "8eb28c67-3fa5-4eea-9198-572a02210a84"
      },
      "outputs": [
        {
          "name": "stdout",
          "output_type": "stream",
          "text": [
            "['Ana', 'Isabel', 'Fernanda', 'Gabriela']\n",
            "['Bruna', 5, 5.0]\n"
          ]
        }
      ],
      "source": [
        "# Criação de uma lista com strings (homogénea)\n",
        "Lista_homo = [\"Ana\", \"Isabel\", \"Fernanda\", \"Gabriela\"]\n",
        "print(Lista_homo)\n",
        "\n",
        "# Criação de uma lista com elementos de vários tipos (heterogénea)\n",
        "Lista_hetero = [\"Bruna\", 5, 5.0]\n",
        "print(Lista_hetero)"
      ]
    },
    {
      "cell_type": "markdown",
      "metadata": {
        "id": "YgsQDgLTXxAT"
      },
      "source": [
        "O acesso aos elementos das listas envolve a utilização de **indexação**."
      ]
    },
    {
      "cell_type": "code",
      "execution_count": 3,
      "metadata": {
        "colab": {
          "base_uri": "https://localhost:8080/"
        },
        "id": "vWEob-MQYZol",
        "outputId": "3678e131-ac18-4e48-b109-36ec637bbf4a"
      },
      "outputs": [
        {
          "name": "stdout",
          "output_type": "stream",
          "text": [
            "Ana\n",
            "Fernanda\n",
            "Gabriela\n"
          ]
        },
        {
          "data": {
            "text/plain": [
              "1"
            ]
          },
          "execution_count": 3,
          "metadata": {},
          "output_type": "execute_result"
        }
      ],
      "source": [
        "# Acesso aos elementos com index 0 e 2 de uma lista\n",
        "print(Lista_homo[0])\n",
        "print(Lista_homo[2])\n",
        "\n",
        "# Acesso aos elementos utilizandos index com valores negativos\n",
        "print(Lista_homo[-1])\n",
        "\n",
        "# É possível obter o primeiro index de um determinado elemento\n",
        "Lista_homo.index(\"Isabel\")"
      ]
    },
    {
      "cell_type": "markdown",
      "metadata": {
        "id": "uOEBSXc3aRzo"
      },
      "source": [
        "Os **métodos** mais comuns que se encontram associados às listas, incluem:\n",
        "\n",
        "*   append()\n",
        "*   insert()\n",
        "*   remove()\n",
        "*   sort()\n",
        "*   ...\n"
      ]
    },
    {
      "cell_type": "code",
      "execution_count": 4,
      "metadata": {
        "colab": {
          "base_uri": "https://localhost:8080/"
        },
        "id": "XTdfd6LrbTOx",
        "outputId": "7beb9b7b-3ba0-477f-f24a-7da3fbc6c778"
      },
      "outputs": [
        {
          "name": "stdout",
          "output_type": "stream",
          "text": [
            "['colher', 'livro', 'esponja', 'caneta', 'garrafa']\n",
            "['candeeiro', 'colher', 'livro', 'esponja', 'garrafa']\n",
            "['candeeiro', 'colher', 'esponja', 'garrafa', 'livro']\n"
          ]
        }
      ],
      "source": [
        "objetos = [\"colher\", \"livro\", \"esponja\", \"caneta\"]\n",
        "\n",
        "# Para adicionar um elemento no fim da lista\n",
        "objetos.append(\"garrafa\")\n",
        "print(objetos)\n",
        "\n",
        "# Para inserir/remover um elemento num dado index da lista\n",
        "objetos.insert(0, \"candeeiro\")\n",
        "objetos.remove(\"caneta\")\n",
        "print(objetos)\n",
        "\n",
        "# Para ordenar a lista\n",
        "objetos.sort()\n",
        "print(objetos)"
      ]
    },
    {
      "cell_type": "markdown",
      "metadata": {
        "id": "Xmor1PiCceN5"
      },
      "source": [
        "**Dicionários**\n",
        "\n",
        "Os dicionários são utilizados para armazenar dados em pares **chave:valor**. A criação de um dicionário é feita através da utilização de \"{}\" ou da função dict()."
      ]
    },
    {
      "cell_type": "code",
      "execution_count": 5,
      "metadata": {
        "colab": {
          "base_uri": "https://localhost:8080/"
        },
        "id": "BZcw6pqReIUb",
        "outputId": "37ebd564-1185-4359-bd74-8b5582090037"
      },
      "outputs": [
        {
          "name": "stdout",
          "output_type": "stream",
          "text": [
            "{'Alexandre': 18, 'Maria': 15, 'José': 21}\n",
            "{'Tiago': 51, 'Manuela': 63, 'Marta': 58}\n"
          ]
        }
      ],
      "source": [
        "# Exemplo de dicionário (nome:idade)\n",
        "\n",
        "dicionario1 = {\"Alexandre\" : 18, \"Maria\" : 15, \"José\" : 21}\n",
        "print(dicionario1)\n",
        "\n",
        "dicionario2 = dict({\"Tiago\":51, \"Manuela\": 63, \"Marta\": 58})\n",
        "print(dicionario2)"
      ]
    },
    {
      "cell_type": "markdown",
      "metadata": {
        "id": "cCrgoRzqfIsC"
      },
      "source": [
        "O acesso aos elementos do dicionário envolve a utilização da notação [ ] ou da função get()."
      ]
    },
    {
      "cell_type": "code",
      "execution_count": 6,
      "metadata": {
        "colab": {
          "base_uri": "https://localhost:8080/"
        },
        "id": "oQ3dXZLdgbMQ",
        "outputId": "2aebc912-5ca0-4d6f-fc25-a77ec6f3612e"
      },
      "outputs": [
        {
          "name": "stdout",
          "output_type": "stream",
          "text": [
            "18\n",
            "15\n"
          ]
        }
      ],
      "source": [
        "# Acesso a dicionário através de []\n",
        "print(dicionario1[\"Alexandre\"])\n",
        "\n",
        "# Acesso a dicionário através da função get()\n",
        "print(dicionario1.get(\"Maria\"))\n"
      ]
    },
    {
      "cell_type": "markdown",
      "metadata": {
        "id": "Nzk8VElyhAn8"
      },
      "source": [
        "Os **métodos** mais comuns que se encontram associados aos dicionários, incluem:\n",
        "\n",
        "*   items()\n",
        "*   values()\n",
        "*   keys()\n",
        "*   ..."
      ]
    },
    {
      "cell_type": "code",
      "execution_count": 7,
      "metadata": {
        "colab": {
          "base_uri": "https://localhost:8080/"
        },
        "id": "7e4DTywghh3U",
        "outputId": "5f8ea4e0-3750-4b69-b5f0-ed5a47e3340f"
      },
      "outputs": [
        {
          "name": "stdout",
          "output_type": "stream",
          "text": [
            "dict_items([('Alexandre', 18), ('Maria', 15), ('José', 21)])\n",
            "dict_values([18, 15, 21])\n",
            "dict_keys(['Alexandre', 'Maria', 'José'])\n"
          ]
        }
      ],
      "source": [
        "# Acesso aos pares chave:valor de um dicionário\n",
        "print(dicionario1.items())\n",
        "\n",
        "# Acesso aos valores de um dicionário\n",
        "print(dicionario1.values())\n",
        "\n",
        "# Acesso às chaves de um dicionário\n",
        "print(dicionario1.keys())"
      ]
    },
    {
      "cell_type": "markdown",
      "metadata": {
        "id": "HU5WHYUMiciq"
      },
      "source": [
        "**Tuples**\n",
        "\n",
        "Semelhantes às listas, porém, imutáveis. Logo, não podem ser adicionados elementos nem removidos.\n",
        "A criação de um tuple é feita através da utilização de \"()\", os elementos são separados por vírgulas."
      ]
    },
    {
      "cell_type": "code",
      "execution_count": 8,
      "metadata": {
        "id": "fYOuapWBkWex"
      },
      "outputs": [
        {
          "name": "stdout",
          "output_type": "stream",
          "text": [
            "(1, 2, 3, 4, 5)\n",
            "('Ana', 2, 3.0)\n",
            "<class 'tuple'>\n"
          ]
        }
      ],
      "source": [
        "# Criação de tuples homogéneos e heterogéneos\n",
        "tuple1 = (1 , 2 , 3 , 4 , 5)\n",
        "print(tuple1)\n",
        "\n",
        "tuple2 = (\"Ana\", 2, 3.0)\n",
        "print(tuple2)\n",
        "\n",
        "print(type(tuple1))"
      ]
    },
    {
      "cell_type": "markdown",
      "metadata": {
        "id": "Pl3Ge5fIllgJ"
      },
      "source": [
        "O acesso aos elementos dos tuples envolve a utilização de **indexação** ou pode ser feita através do **unpacking**."
      ]
    },
    {
      "cell_type": "code",
      "execution_count": 9,
      "metadata": {
        "id": "dV96SqVDmJIS"
      },
      "outputs": [
        {
          "name": "stdout",
          "output_type": "stream",
          "text": [
            "2\n",
            "3\n"
          ]
        }
      ],
      "source": [
        "# Acesso ao elemento com index 1\n",
        "print(tuple1[1])\n",
        "\n",
        "# Acesso aos elementos através de unpacking\n",
        "a, b, c, d, e = tuple1\n",
        "print(c)"
      ]
    },
    {
      "cell_type": "markdown",
      "metadata": {
        "id": "csDFsmocm6n8"
      },
      "source": [
        "Os **métodos** mais comuns que se encontram associados aos tuples, incluem:\n",
        "\n",
        "*   count()\n",
        "*   index()"
      ]
    },
    {
      "cell_type": "code",
      "execution_count": 10,
      "metadata": {
        "id": "tMRfykmqoBAt"
      },
      "outputs": [
        {
          "name": "stdout",
          "output_type": "stream",
          "text": [
            "2\n",
            "0\n",
            "2\n"
          ]
        }
      ],
      "source": [
        "# Informação sobre número de repetição que x elemento se repete\n",
        "\n",
        "tuple3 = (1, 2, 3, 1, 2, 3)\n",
        "print(tuple3.count(3))\n",
        "\n",
        "# Informação sobre o index de x elemento\n",
        "tuple3 = (1, 2, 3, 1, 2, 3)\n",
        "print(tuple3.index(1))\n",
        "\n",
        "# Informação sobre o número de vezes que x elemento se repete\n",
        "print(tuple3.count(1))"
      ]
    },
    {
      "cell_type": "markdown",
      "metadata": {
        "id": "8pojOP8dm6u0"
      },
      "source": [
        "**Sets**\n",
        "\n",
        "Coleção de dados sem ordem nem duplicados e que é mutável. A criação de um set é feita através da função set() ou através de {}, os elementos são separados por vírgulas."
      ]
    },
    {
      "cell_type": "code",
      "execution_count": 11,
      "metadata": {
        "id": "vWkgwsmJp0dM"
      },
      "outputs": [
        {
          "name": "stdout",
          "output_type": "stream",
          "text": [
            "{1, 'Maria', 2.5}\n",
            "{16, 1, 'olá', 15}\n",
            "<class 'set'>\n",
            "{1, 2, 3}\n"
          ]
        }
      ],
      "source": [
        "# Criação de Set usando {}\n",
        "set1 = {1 , \"Maria\", 2.5}\n",
        "print(set1)\n",
        "\n",
        "# Criação de set usando set()\n",
        "set2 = set([1 , 15, 16, \"olá\"])\n",
        "print(set2)\n",
        "\n",
        "# Verificação de tipo de estrutura de dados\n",
        "print(type(set2))\n",
        "\n",
        "# É impossível criar sets com valores duplicados\n",
        "set3 = {1 , 2, 3 , 2}\n",
        "print(set3)"
      ]
    },
    {
      "cell_type": "markdown",
      "metadata": {
        "id": "pBQqKwsgqySO"
      },
      "source": [
        "Os **métodos** mais comuns que se encontram associados aos sets, incluem:\n",
        "\n",
        "*   add()\n",
        "*   remove()\n",
        "*   update()\n",
        "*   ..."
      ]
    },
    {
      "cell_type": "code",
      "execution_count": 12,
      "metadata": {
        "colab": {
          "base_uri": "https://localhost:8080/"
        },
        "id": "gMjSD7CNrLj0",
        "outputId": "1badda88-4454-4c8e-ea47-a1e7741234e3"
      },
      "outputs": [
        {
          "name": "stdout",
          "output_type": "stream",
          "text": [
            "{1, 2, 3, 6}\n",
            "{17, 15}\n",
            "{1, 2, 3, 4}\n",
            "{1, 2, 3, 4, 'xau', 'olá'}\n"
          ]
        }
      ],
      "source": [
        "# Adição de elementos ao set\n",
        "set3.add(6)\n",
        "print(set3)\n",
        "\n",
        "#Remoção de elementos ao set\n",
        "set4 = {15, 16, 17}\n",
        "set4.remove(16)\n",
        "print(set4)\n",
        "\n",
        "# Atualização do set com coleção de outra de estrura de dados\n",
        "set5 = {1 , 3}\n",
        "set6 = {2, 4}\n",
        "\n",
        "set5.update(set6)\n",
        "print(set5)\n",
        "\n",
        "set5.update([\"olá\", \"xau\"])\n",
        "print(set5)\n"
      ]
    },
    {
      "cell_type": "markdown",
      "metadata": {
        "id": "1N-7jw-53vcE"
      },
      "source": [
        "## Estruturas de Controlo\n",
        "\n",
        "Um papel importante numa linguagem de programação, necessária em praticamente todos os programas de computador, é a capacidade de tomar decisões baseadas em certas condições.\n",
        "\n",
        "No Phyton, existem as **estruturas de controlo** que servem para decidir quais blocos de código serão executados.\n",
        "\n",
        "![image.png](data:image/png;base64,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)\n",
        "\n",
        "**Figura 1** **-** Representação das condicionais e estruturas de repetição.\n",
        "\n",
        "                                                                                                                                                                \n",
        "\n",
        "\n",
        "\n",
        "\n",
        "\n",
        "\n",
        "\n",
        "\n",
        "\n",
        "\n",
        "\n",
        "\n",
        "\n"
      ]
    },
    {
      "cell_type": "markdown",
      "metadata": {
        "id": "YR6n2TmbgTIH"
      },
      "source": [
        "**Condicionais**\n",
        "\n",
        "No Python é possível utilizar algumas palavras-chave para indicar uma execução condicional de um código:\n",
        "\n",
        "*   **if**\n",
        "*   **elif** (else if)\n",
        "*   **else**"
      ]
    },
    {
      "cell_type": "code",
      "execution_count": 13,
      "metadata": {
        "colab": {
          "base_uri": "https://localhost:8080/"
        },
        "id": "xsFIjU9RaJ84",
        "outputId": "3658968e-8813-4f46-b703-d658f58ea06f"
      },
      "outputs": [
        {
          "ename": "ValueError",
          "evalue": "could not convert string to float: ''",
          "output_type": "error",
          "traceback": [
            "\u001b[0;31m---------------------------------------------------------------------------\u001b[0m",
            "\u001b[0;31mValueError\u001b[0m                                Traceback (most recent call last)",
            "\u001b[1;32m/rezekiz/aaspg4/notebook-principal-portfolio.ipynb Cell 26\u001b[0m line \u001b[0;36m2\n\u001b[1;32m      <a href='vscode-notebook-cell://github/rezekiz/aaspg4/notebook-principal-portfolio.ipynb#X34sdnNjb2RlLXZmcw%3D%3D?line=0'>1</a>\u001b[0m \u001b[39m# Exemplo da utilização das condicionais\u001b[39;00m\n\u001b[0;32m----> <a href='vscode-notebook-cell://github/rezekiz/aaspg4/notebook-principal-portfolio.ipynb#X34sdnNjb2RlLXZmcw%3D%3D?line=1'>2</a>\u001b[0m numero \u001b[39m=\u001b[39m \u001b[39mfloat\u001b[39;49m(\u001b[39minput\u001b[39;49m(\u001b[39m\"\u001b[39;49m\u001b[39mInsira um número: \u001b[39;49m\u001b[39m\"\u001b[39;49m))\n\u001b[1;32m      <a href='vscode-notebook-cell://github/rezekiz/aaspg4/notebook-principal-portfolio.ipynb#X34sdnNjb2RlLXZmcw%3D%3D?line=4'>5</a>\u001b[0m \u001b[39mif\u001b[39;00m numero \u001b[39m>\u001b[39m \u001b[39m0\u001b[39m:\n\u001b[1;32m      <a href='vscode-notebook-cell://github/rezekiz/aaspg4/notebook-principal-portfolio.ipynb#X34sdnNjb2RlLXZmcw%3D%3D?line=5'>6</a>\u001b[0m     \u001b[39mprint\u001b[39m(\u001b[39m\"\u001b[39m\u001b[39mO número é positivo.\u001b[39m\u001b[39m\"\u001b[39m)\n",
            "\u001b[0;31mValueError\u001b[0m: could not convert string to float: ''"
          ]
        }
      ],
      "source": [
        "# Exemplo da utilização das condicionais\n",
        "numero = float(input(\"Insira um número: \"))\n",
        "\n",
        "\n",
        "if numero > 0:\n",
        "    print(\"O número é positivo.\")\n",
        "elif numero < 0:\n",
        "    print(\"O número é negativo.\")\n",
        "else:\n",
        "    print(\"O número é zero.\")"
      ]
    },
    {
      "cell_type": "markdown",
      "metadata": {
        "id": "IBuWTSwMcTeS"
      },
      "source": [
        "Assim, dependendo do **input** inserido, o resultado segue o fluxo de execução adequado."
      ]
    },
    {
      "cell_type": "markdown",
      "metadata": {
        "id": "xdooIGrTamkX"
      },
      "source": [
        "**Ciclos**\n",
        "\n",
        "Noutros casos, pretende-se repetir múltiplas vezes o mesmo conjunto de instruções. Para tal, usam-se as estruturas de controlo **while** e **for**.\n",
        "\n",
        "O **while** executa um conjunto de instruções enquanto a condição é verdadeira.\n"
      ]
    },
    {
      "cell_type": "code",
      "execution_count": 14,
      "metadata": {
        "id": "ozswvigweSnO"
      },
      "outputs": [
        {
          "name": "stdout",
          "output_type": "stream",
          "text": [
            "1\n",
            "2\n",
            "3\n",
            "4\n",
            "5\n"
          ]
        }
      ],
      "source": [
        "contar = 1\n",
        "while contar <= 5:\n",
        "    print(contar)\n",
        "    contar += 1"
      ]
    },
    {
      "cell_type": "markdown",
      "metadata": {
        "id": "IQfkdqzOeczG"
      },
      "source": [
        "Já o **for** é usado para iterar sobre uma sequência (lista, tuple, dicionário, conjunto, ou string). Com o for, é possível executar um conjunto de instruções para cada elemento de uma lista, dicionário, etc."
      ]
    },
    {
      "cell_type": "code",
      "execution_count": 15,
      "metadata": {
        "id": "rHeeDbhae4Fn"
      },
      "outputs": [
        {
          "name": "stdout",
          "output_type": "stream",
          "text": [
            "1\n",
            "2\n",
            "3\n",
            "4\n",
            "5\n"
          ]
        }
      ],
      "source": [
        "for numero in range(1, 6):\n",
        "    print(numero)"
      ]
    },
    {
      "cell_type": "markdown",
      "metadata": {
        "id": "Do9ajXdOfEUD"
      },
      "source": [
        "**Declaraões break e continue**\n",
        "\n",
        "O **break** é utilizado para sair de um ciclo **for** ou **while** antes de este terminar.\n",
        "\n",
        "Já o **continue** é utilizado para saltar a execução atual e continuar o ciclo na iteração seguinte."
      ]
    },
    {
      "cell_type": "code",
      "execution_count": 16,
      "metadata": {
        "id": "Qw-YZd7af1xL"
      },
      "outputs": [
        {
          "name": "stdout",
          "output_type": "stream",
          "text": [
            "1\n",
            "2\n",
            "3\n",
            "4\n",
            "5\n",
            "Encontramos o número 5!\n"
          ]
        }
      ],
      "source": [
        "contador = 1\n",
        "while contador <= 10:\n",
        "    print(contador)\n",
        "    if contador == 5:\n",
        "        print(\"Encontramos o número 5!\")\n",
        "        break\n",
        "    contador += 1"
      ]
    },
    {
      "cell_type": "markdown",
      "metadata": {
        "id": "1MOOn_kNgcw_"
      },
      "source": [
        "**Exceções**\n",
        "\n",
        "Quando ocorre um erro de execução, o Python normalmente interrompe a execução e origina uma mensagem de erro.\n",
        "\n",
        "Essas exceções podem ser tratadas usando a instrução **try** ... **except**. Através desta estrutura de controlo podemos definir código alternativo para o caso de uma instrução resultar em erro."
      ]
    },
    {
      "cell_type": "code",
      "execution_count": 17,
      "metadata": {
        "colab": {
          "base_uri": "https://localhost:8080/"
        },
        "id": "dPI6RXVTiGGx",
        "outputId": "2f236c5c-f9eb-4e1d-ce4e-59eaf205d746"
      },
      "outputs": [
        {
          "name": "stdout",
          "output_type": "stream",
          "text": [
            "A divisão de 1231 por 2 tem como resultado quociente 615 e resto 1\n"
          ]
        }
      ],
      "source": [
        "num = input()\n",
        "try:\n",
        "    quociente, resto = divmod(int(num), 2)\n",
        "    print('A divisão de {} por {} tem como resultado quociente {} e resto {}'.format(num, 2, quociente, resto))\n",
        "except:\n",
        "    print('Por favor introduza um número inteiro')"
      ]
    },
    {
      "cell_type": "markdown",
      "metadata": {
        "id": "5HnsM55V3ve0"
      },
      "source": [
        "## Funções\n",
        "\n",
        "Um dos recursos mais essenciais do Python é a capacidade de definir (def) e chamar funções.\n",
        "Existem 4 tipos de funções em Python, sendo as duas primeiras a ser enumeradas as mais utilizadas:\n",
        "   - Funções integradas (por exemplo, print(), len())\n",
        "   - Funções definidas pelo usuário\n",
        "   - Funções anónimas (funções lambda)\n",
        "   - Funções recursivas\n",
        "\n",
        "\n",
        "Definir uma função em Python envolve duas etapas, definir a função e especificar os argumentos que ela utiliza. Escreve \"def\" seguido do nome da função, e entre parênteses () os argumentos."
      ]
    },
    {
      "cell_type": "code",
      "execution_count": 18,
      "metadata": {
        "id": "GU8H1V5t63Z9"
      },
      "outputs": [],
      "source": [
        "\n",
        "def moral(nome): # definir (def) a função (moral) e especificar os argumentos que ela utiliza (nome), o bloco de código da função é então recuado após os dois pontos :\n",
        "\n",
        "    print(\"Olá \" + nome + \", boa sorte hoje na apresentação!\")\n"
      ]
    },
    {
      "cell_type": "markdown",
      "metadata": {
        "id": "pgQlSZ2T6_Sn"
      },
      "source": [
        "Para chamar a função basta escrever o nome da função seguido dos argumentos dentro de parenteses:"
      ]
    },
    {
      "cell_type": "code",
      "execution_count": 19,
      "metadata": {
        "colab": {
          "base_uri": "https://localhost:8080/"
        },
        "id": "BkNokp5Q78kN",
        "outputId": "3b9601cf-1765-40f3-9151-9b0010296169"
      },
      "outputs": [
        {
          "name": "stdout",
          "output_type": "stream",
          "text": [
            "Olá Diogo, boa sorte hoje na apresentação!\n"
          ]
        }
      ],
      "source": [
        "moral(\"Diogo\")"
      ]
    },
    {
      "cell_type": "markdown",
      "metadata": {
        "id": "8fAxdPZ28Cyu"
      },
      "source": [
        "As informações podem ser passadas para funções como argumentos. Os argumentos são especificados após o nome da função, entre parênteses."
      ]
    },
    {
      "cell_type": "code",
      "execution_count": 20,
      "metadata": {
        "colab": {
          "base_uri": "https://localhost:8080/"
        },
        "id": "HTrXwl7r8FUs",
        "outputId": "abb8a551-aa5a-4347-b1c2-a0919526e502"
      },
      "outputs": [
        {
          "name": "stdout",
          "output_type": "stream",
          "text": [
            "Esteves é um apelido.\n",
            "Sousa é um apelido.\n",
            "... é um apelido.\n",
            "... é um apelido.\n",
            "... é um apelido.\n",
            "Último nome é um apelido.\n"
          ]
        }
      ],
      "source": [
        "def familia(ultimo_nome):\n",
        "  print(ultimo_nome + \" é um apelido.\")\n",
        "\n",
        "familia(\"Esteves\")\n",
        "familia(\"Sousa\")\n",
        "familia(\"...\")\n",
        "familia(\"...\")\n",
        "familia(\"...\")\n",
        "familia(\"Último nome\")"
      ]
    },
    {
      "cell_type": "markdown",
      "metadata": {
        "id": "4lPKPIKH8JPc"
      },
      "source": [
        "Pode-se adicionar vários argumentos, basta separá-los com vírgula. Uma função tem de ser chamada com o número correto de argumentos. O que significa que se a função espera 2 argumentos, temos de chamar a função com 2 argumentos, nem mais, nem menos... Neste exemplo são atribuidos 5 argumentos na função e apenas chamados 3."
      ]
    },
    {
      "cell_type": "code",
      "execution_count": 21,
      "metadata": {
        "colab": {
          "base_uri": "https://localhost:8080/",
          "height": 210
        },
        "id": "-8xwTLYP8MQ7",
        "outputId": "58414edb-2e39-494d-8335-4c0deec1713b"
      },
      "outputs": [
        {
          "ename": "NameError",
          "evalue": "name 'Diogo' is not defined",
          "output_type": "error",
          "traceback": [
            "\u001b[1;31m---------------------------------------------------------------------------\u001b[0m",
            "\u001b[1;31mNameError\u001b[0m                                 Traceback (most recent call last)",
            "\u001b[1;32mrezekiz\\aaspg4\\notebook-principal-portfolio.ipynb Cell 43\u001b[0m line \u001b[0;36m4\n\u001b[0;32m      <a href='vscode-notebook-cell://github/rezekiz/aaspg4/notebook-principal-portfolio.ipynb#X60sdnNjb2RlLXZmcw%3D%3D?line=0'>1</a>\u001b[0m \u001b[39mdef\u001b[39;00m \u001b[39mnossa_funcao\u001b[39m(Mariana, Diogo, Rui, Armindo, Carlos):\n\u001b[0;32m      <a href='vscode-notebook-cell://github/rezekiz/aaspg4/notebook-principal-portfolio.ipynb#X60sdnNjb2RlLXZmcw%3D%3D?line=1'>2</a>\u001b[0m   \u001b[39mprint\u001b[39m(Mariana \u001b[39m+\u001b[39m \u001b[39m\"\u001b[39m\u001b[39m \u001b[39m\u001b[39m\"\u001b[39m \u001b[39m+\u001b[39m Diogo \u001b[39m+\u001b[39m \u001b[39m\"\u001b[39m\u001b[39m \u001b[39m\u001b[39m\"\u001b[39m \u001b[39m+\u001b[39m Rui \u001b[39m+\u001b[39m \u001b[39m\"\u001b[39m\u001b[39m \u001b[39m\u001b[39m\"\u001b[39m \u001b[39m+\u001b[39m Armindo \u001b[39m+\u001b[39m \u001b[39m\"\u001b[39m\u001b[39m \u001b[39m\u001b[39m\"\u001b[39m \u001b[39m+\u001b[39m Carlos)\n\u001b[1;32m----> <a href='vscode-notebook-cell://github/rezekiz/aaspg4/notebook-principal-portfolio.ipynb#X60sdnNjb2RlLXZmcw%3D%3D?line=3'>4</a>\u001b[0m nossa_funcao(Diogo, Rui, Armindo)\n",
            "\u001b[1;31mNameError\u001b[0m: name 'Diogo' is not defined"
          ]
        }
      ],
      "source": [
        "def nossa_funcao(Mariana, Diogo, Rui, Armindo, Carlos):\n",
        "  print(Mariana + \" \" + Diogo + \" \" + Rui + \" \" + Armindo + \" \" + Carlos)\n",
        "\n",
        "nossa_funcao(Diogo, Rui, Armindo)"
      ]
    },
    {
      "cell_type": "markdown",
      "metadata": {
        "id": "3Xrn-21q8OIs"
      },
      "source": [
        "Para definir que uma função retorne um valor, usa-se a instrução return:"
      ]
    },
    {
      "cell_type": "code",
      "execution_count": 22,
      "metadata": {
        "colab": {
          "base_uri": "https://localhost:8080/"
        },
        "id": "dKxoE7at8QPk",
        "outputId": "e137d243-fa4d-4c2b-b412-1be683cce7db"
      },
      "outputs": [
        {
          "name": "stdout",
          "output_type": "stream",
          "text": [
            "15\n",
            "25\n",
            "45\n"
          ]
        }
      ],
      "source": [
        "def funcao(x):\n",
        "  return 5 * x\n",
        "\n",
        "print(funcao(3))\n",
        "print(funcao(5))\n",
        "print(funcao(9))"
      ]
    },
    {
      "cell_type": "markdown",
      "metadata": {
        "id": "6PzkjH4b8SOL"
      },
      "source": [
        "As funções também podem ser usadas para obter os números pares de uma dada LISTA de argumentos, neste caso os argumentos são números:"
      ]
    },
    {
      "cell_type": "code",
      "execution_count": 23,
      "metadata": {
        "colab": {
          "base_uri": "https://localhost:8080/"
        },
        "id": "da4jA1G88V7s",
        "outputId": "654a7ad3-f6c0-4c47-a141-1c1c1308789d"
      },
      "outputs": [
        {
          "name": "stdout",
          "output_type": "stream",
          "text": [
            "[1556, 0, 9000, 10]\n"
          ]
        }
      ],
      "source": [
        "def obtem_numeros_pares(numeros):\n",
        "    numeros_pares = []\n",
        "    for numero in numeros:\n",
        "        if numero % 2 == 0:\n",
        "            numeros_pares.append(numero)\n",
        "    return numeros_pares\n",
        "\n",
        "numeros = [11, 2.3, 333, 1556, 551, 0, 7, 8515, 9000, 10]\n",
        "numeros_pares = obtem_numeros_pares(numeros)\n",
        "\n",
        "print(numeros_pares)"
      ]
    },
    {
      "cell_type": "markdown",
      "metadata": {
        "id": "gIK5ss_x8YLE"
      },
      "source": [
        "Concluindo, definir e chamar funções em Python é um processo simples que pode melhorar muito a funcionalidade e a legibilidade do código escrito. Com uma sintaxe simplificada e os recursos do Python, pode-se definir e chamar funções com qualquer número de argumentos e executar qualquer número de tarefas dentro do bloco de código da função."
      ]
    },
    {
      "cell_type": "markdown",
      "metadata": {
        "id": "0Z-3b9Tf36E5"
      },
      "source": [
        "## Aplicabilidade"
      ]
    },
    {
      "cell_type": "markdown",
      "metadata": {
        "id": "Jk3XmXFqo8-k"
      },
      "source": [
        "Sendo que a bioinformática é capaz de combinar a biologia com o poder da computação é uma ferramenta compatível em diversas áreas, auxiliando na análise e interpretação de grandes conjuntos de dados biológicos de uma forma rápida e eficiente. Tarefa que seria difícil de identificar manualmente."
      ]
    },
    {
      "cell_type": "markdown",
      "metadata": {
        "id": "VnrIw5fMpBFa"
      },
      "source": [
        "**Sequenciar e analisar genomas:**\n",
        "\n",
        "\n",
        "> Por exemplo, podem ajudar a identificar variações genéticas que causam várias doenças, como o cancro, as doenças cardíacas e a diabetes. Ao comparar os genomas de indivíduos saudáveis e doentes, os investigadores podem descobrir mutações associadas à doença e desenvolver terapias específicas para a tratar.\n",
        "\n",
        "\n"
      ]
    },
    {
      "cell_type": "markdown",
      "metadata": {
        "id": "FmI95-7FpX2Z"
      },
      "source": [
        "**Identificar genes e as suas funções:**\n",
        "\n",
        "\n",
        "> Podemos, por exemplo, identificar genes que estão envolvidos na regulação do sistema imunitário. Ao compreender as funções destes genes, os investigadores podem desenvolver tratamentos para doenças autoimunes como a artrite reumatoide, o lúpus e a esclerose múltipla.\n",
        "\n"
      ]
    },
    {
      "cell_type": "markdown",
      "metadata": {
        "id": "uoG10vyipeTn"
      },
      "source": [
        "**Prever as estruturas e funções das proteínas:**\n",
        "\n",
        "\n",
        "> Por exemplo, podem prever a estrutura 3D de uma molécula de proteína, o que pode ajudar os investigadores a conceber medicamentos que visem proteínas específicas envolvidas em doenças como o VIH, a doença de Alzheimer e o cancro. Ao conceberem medicamentos que se ligam a partes específicas das proteínas, os investigadores podem desenvolver terapias direcionadas que são mais eficazes e têm menos efeitos secundários.\n",
        "\n"
      ]
    },
    {
      "cell_type": "markdown",
      "metadata": {
        "id": "f1HaTWbjpniF"
      },
      "source": [
        "**Analisar dados de expressão génica:**\n",
        "\n",
        "\n",
        "> Podemos, por exemplo, utilizar para analisar dados de expressão genética de doentes com cancro. Comparando os níveis de expressão dos genes nas células cancerosas com os das células normais, os investigadores podem identificar genes que podem então ser utilizados como biomarcadores para diagnosticar a doença, monitorizar a sua progressão e desenvolver terapias direcionadas.\n",
        "\n"
      ]
    },
    {
      "cell_type": "markdown",
      "metadata": {
        "id": "0FkmHCw0ptrQ"
      },
      "source": [
        "**Conceber novos medicamentos e terapias:**\n",
        "\n",
        "\n",
        "> Por exemplo, podem prever a forma como uma molécula de fármaco irá interagir com uma molécula de proteína no organismo. Ao compreender as interações moleculares entre os medicamentos e as proteínas, os investigadores podem desenvolver medicamentos mais eficazes e com menos efeitos secundários.\n",
        "\n"
      ]
    },
    {
      "cell_type": "markdown",
      "metadata": {
        "id": "on1wl26Y_8Vq"
      },
      "source": [
        "## Fundamentos de Python - Boas práticas e documentação\n",
        "\n",
        "Python é uma linguagem que, já de si, prima pela simplicidade, versatilidade e legibilidade. Todavia existe um conjunto de boas práticas, metodologias e funcionalidades que podem ainda exponenciar isto. Aproveitando que estamos ainda a iniciar a jornada de Python, importa interiorizar e adotar estas boas práticas e metodologias deste cedo para facilitar todo o processo de aprendizagem e maturação.\n",
        "\n",
        "Nesta secção vamos abordar algumas destas boas práticas de programação (em Python e não só), bem como um conjunto de funcionalidades essenciais. Mais concretamente vamos falar sobre a filosofia Zen de Python, a escrita de documentação usando `comentários`e `docstrings` e ainda partilhar outras dicas.\n",
        "\n",
        "Manteremos sempre o alinhamento com [PEP's (*Python Enhancement Proposals*)](https://peps.python.org/pep-0000/), focando concretamente na PEP 20 - *The Zen of Python*."
      ]
    },
    {
      "cell_type": "markdown",
      "metadata": {
        "id": "Gy45JSicAV03"
      },
      "source": [
        "### [The Zen of Python](https://peps.python.org/pep-0020/)\n",
        "\n",
        "Em 2004 Tim Peters tenta reduzir em 20 aforismos a filosofia e princípios de desenvolvimento em Python. Alguns dos principais princípios da filosofia Zen do Python são:\n",
        "\n",
        "- **Deve imperar a legibilidade.** O código é lido mais frequentemente do que é escrito, pelo que legibilidade é essencial\n",
        "- **Simples é melhor do que complexo.** Soluções demasiado complexas, além de deselegantes, devem ser evitadas.\n",
        "- **Explícito é melhor do que implícito.** Quanto mais explicito e claro o código, melhor.\n",
        "- **Deve haver uma - preferencialmente *apenas* uma - forma óbvia de o escrever.** A consistência é fundamental.\n",
        "\n",
        "Partilhamos os 19 aforismos abaixo, como um factoide engraçado.\n",
        "\n",
        "1. Beautiful is better than ugly.\n",
        "2. Explicit is better than implicit.\n",
        "3. Simple is better than complex.\n",
        "4. Complex is better than complicated.\n",
        "5. Flat is better than nested.\n",
        "6. Sparse is better than dense.\n",
        "7. Readability counts.\n",
        "8. Special cases aren't special enough to break the rules.\n",
        "9. Although practicality beats purity.\n",
        "10. Errors should never pass silently.\n",
        "11. Unless explicitly silenced.\n",
        "12. In the face of ambiguity, refuse the temptation to guess.\n",
        "13. There should be one-- and preferably only one --obvious way to do it.\n",
        "14. Although that way may not be obvious at first unless you're Dutch.\n",
        "15. Now is better than never.\n",
        "16. Although never is often better than *right* now.\n",
        "17. If the implementation is hard to explain, it's a bad idea.\n",
        "18. If the implementation is easy to explain, it may be a good idea.\n",
        "19. Namespaces are one honking great idea -- let's do more of those!\n"
      ]
    },
    {
      "cell_type": "markdown",
      "metadata": {
        "id": "_iJtavXtAZal"
      },
      "source": [
        "#### Algumas boas práticas\n",
        "\n",
        "##### Usar nomes de variáveis relevantes\n",
        "\n",
        "De forma a tornar o código mais óbvio, impera usar nomes relevantes para variáveis.\n",
        "\n",
        "Por exemplo, não é muito relevante/claro, quando estamos a escrever um programa de controlo de palavras-passe, chamar ao nome de utilizador `x` e a palavra passe de `y`:\n",
        "\n",
        "```python\n",
        "# Nomes de variáveis irrelevantes / fracos\n",
        "x = 'utilizador123'\n",
        "y = 'palavrapasse'\n",
        "\n",
        "# Nomes de variáveis relevantes / fortes\n",
        "nome_de_utilizador = 'username'\n",
        "palavra_passe = 'password'\n",
        "```"
      ]
    },
    {
      "cell_type": "markdown",
      "metadata": {
        "id": "dvPTN-RdAgZa"
      },
      "source": [
        "##### - Indentação e bom uso de *whitespace*\n",
        "\n",
        "Embora seja possível escrever código perfeitamente funcional e eficiente num número pequeno de linhas, nunca devemos sacrificar a legibilidade em nome da eficiência!\n",
        "\n",
        "Assim, embora o código\n",
        "```python\n",
        "texto.upper().strip().count('arg')\n",
        "```\n",
        "seja perfeitamente funcional e eficiente, não é tão claro e legível como\n",
        "\n",
        "```python\n",
        "texto.upper()\n",
        "texto.strip()\n",
        "texto.count('arg')\n",
        "```\n",
        "\n",
        "Outro bom exemplo de boa indentação é o alinhamento das diferentes parâmetros para que seja clara a que secção respeita. Exemplo abaixo de uma secção de testes organizada e outra desorganizada:\n",
        "\n",
        "```python\n",
        "'''\n",
        "Secção de testagem desorganizada\n",
        "'''\n",
        "\n",
        "assert funcao('teste1') == True\n",
        "assert funcao('130913409103941093') == False\n",
        "assert not funcao(1341) == False\n",
        "assert funcao('parametro') == True\n",
        "assert not funcao(1310491401) == False\n",
        "\n",
        "'''\n",
        "Secção de testagem organizada\n",
        "'''\n",
        "\n",
        "assert     funcao('teste1')             == True\n",
        "assert     funcao('130913409103941093') == False\n",
        "assert not funcao(1341)                 == False\n",
        "assert     funcao('parametro')          == True\n",
        "assert not funcao(1310491401)           == False\n",
        "```\n",
        "Aqui vemos como o bom uso da indentação e *whitespace* podem tornar o código legível e fácil de compreender."
      ]
    },
    {
      "cell_type": "markdown",
      "metadata": {
        "id": "XIdLich8Aii8"
      },
      "source": [
        "#### Comentários e Docstrings\n",
        "\n",
        "##### Comentários\n",
        "\n",
        "Os comentários são uma forma de adicionar uma explicação rápida sobre o nosso código. Adicionam-se acrescentando # antes do texto.\n",
        "\n",
        "A sua principal utilização é para clarificar pedaços de código que não sejam imediatamente óbvios ou moderadamente complexos.\n",
        "\n",
        "Por exemplo:\n",
        "\n",
        "```python\n",
        "x % 2 == 0 # Teste para definir se um número é ou não par    \n",
        "\n",
        "```\n",
        "\n",
        "Outra forma útil de usar os comentários é através da utilização de palavras-chave para sinalizar partes do código que precisam de ser revistas, ou tarefas pendentes, como por exemplo:\n",
        "\n",
        "```python\n",
        "# TODO: Falta ainda escrever a secção de testagem da função\n",
        "```\n",
        "\n",
        "Os comentários também podem ser usados em \"bloco\" para uma descrição mais longa, como por exemplo:\n",
        "\n",
        "```python\n",
        "# É possível adicionar uma quantidade\n",
        "# apreciável de texto usando comentários em bloco\n",
        "# todavia para documentação detalhada e explicação\n",
        "# de estrutura e lógica do nosso código as docstrings sejam mais\n",
        "# sejam a opção mais adequada\n",
        "```\n",
        "\n",
        "Esta forma, no entanto, não é contempla a melhor utilização dos comentários. Para escrita de descrições mais complexas sobre contexto de partes ou funções do nosso código, o uso de `docstrings` é mais adequado.\n",
        "\n",
        "#### Docstrings\n",
        "\n",
        "`docstrings` é uma das principais formas de documentação em Python. É um método muito utilizado para de descrever de forma legível e pormenorizada a lógica e/ou propósito de `módulos`,`classes`, `funções`, `métodos` e `objectos`.\n",
        "\n",
        "Isto é essencial para criar código que cujo propósito seja fácil de ler, compreender e organizar - quer seja por nós ou por membros da nossa equipa, facilitando o desenvolvimento colaborativo, a implementação e manutenção do código.\n",
        "\n",
        "Partilhamos alguns exemplos de `docstrings`em ação abaixo:\n",
        "\n",
        "##### Documentação de funções, classes, métodos e objectos\n",
        "\n",
        "Ao nível dos `módulos`, as `docstrings`podem ser usadas logo na sua abertura para explicar o que o programa pretende fazer.\n",
        "\n",
        "Por exemplo:\n",
        "\n",
        "```python\n",
        "'''\n",
        "Neste programa iremos definir um conjunto de funções e métodos que servirão de apoio ao programa de cálculo e análise de cadeias de DNA que estamos a desenvolver.\n",
        "'''\n",
        "\n",
        "```\n",
        "\n",
        "Ao nível das `funções`, as `docstrings` podem para descrever pormenorizadamente a sua lógica, que tipo de `argumentos` e `outputs` esta prevê, entre outras notas. Isto acrescenta assim ainda mais informação ao que a própria funçao já permite declarar.\n",
        "\n",
        "Por exemplo:\n",
        "\n",
        "```python\n",
        "def velocidade_media(arg):\n",
        "    '''\n",
        "    Calcula a velocidade média de um conjunto de velocidades\n",
        "    \n",
        "    Argumentos:\n",
        "        velocidades (lst): Um conjunto de velocidades\n",
        "    \n",
        "    Processo:\n",
        "        soma das velocidades / tamanho da lista\n",
        "    \n",
        "    Devolve:\n",
        "        velocidade média\n",
        "    '''\n",
        "```\n",
        "\n",
        "##### Exemplo prático de todas estas funcionalidades e boas práticas em acção\n",
        "\n",
        "Abaixo partilhamos um exemplo de uma função para a contagem de nucleótidos presentes numa cadeia de DNA devidamente documentada usando `docstrings` e vários tipos de comentários."
      ]
    },
    {
      "cell_type": "code",
      "execution_count": 24,
      "metadata": {
        "id": "5k_g5zYpAmk_"
      },
      "outputs": [],
      "source": [
        "def contar_bases(cadeia : str) -> dict:  # Declaramos a função e indicamos o type() do argumento e o resultado desta função, neste caso um dicionário.\n",
        "    '''\n",
        "    Função que processa uma string com informação relativa a uma\n",
        "    cadeia de DNA, devolvendo um dicionário com a contagem de cada\n",
        "    nucleótico \n",
        "\n",
        "    Itera sobre o conteúdo da cadeia de DNA contando os diferentes nucleóticos\n",
        "    adicionando-os a um dicionário para o efeito\n",
        "\n",
        "    Parâmetros\n",
        "    ----------\n",
        "        cadeia : str\n",
        "            Cadeia de DNA (para efeitos demonstrativos vamos assumir que é válida)\n",
        "\n",
        "    Returns\n",
        "    -------\n",
        "        dict\n",
        "            devolve um dicionário com as contagens de cada nucléotido presente na cadeia de DNA fornecida\n",
        "\n",
        "    '''\n",
        "\n",
        "    bases = {                  # Gera um dicionário que será atualizado para a contagem\n",
        "        'A':0,\n",
        "        'C':0,\n",
        "        'G':0,\n",
        "        'T':0\n",
        "    }\n",
        "\n",
        "    cadeia = cadeia.upper()    # Aplica o método .upper() garantido que só itera sobre letras maíusculas, evitando typos\n",
        "    cadeia = cadeia.strip()    # Aplica o método .strip() para remover todo o espaço em branco nas \"pontas\" da sequência\n",
        "\n",
        "    '''\n",
        "    Nesta secção é usado o método .count() para iterar sobre a string fornecida\n",
        "    à função, atualizando cada chave do dicionário correspondente a cada nucleótido.\n",
        "    '''\n",
        "\n",
        "    bases['A'] = cadeia.count('A')\n",
        "    bases['C'] = cadeia.count('C')\n",
        "    bases['G'] = cadeia.count('G')\n",
        "    bases['T'] = cadeia.count('T')\n",
        "\n",
        "    # TODO: Criar uma secção de testagem da função em vários cenários.\n",
        "\n",
        "    return bases   # Devolve o dicionário atualizado com a contagem. Exemplo abaixo.\n"
      ]
    },
    {
      "cell_type": "code",
      "execution_count": 25,
      "metadata": {
        "id": "bS-j6nLfAoau"
      },
      "outputs": [
        {
          "data": {
            "text/plain": [
              "{'A': 4, 'C': 5, 'G': 3, 'T': 6}"
            ]
          },
          "execution_count": 25,
          "metadata": {},
          "output_type": "execute_result"
        }
      ],
      "source": [
        "# Um teste rápido para assegurar que nada fica quebrado ao publicar este trabalho :)\n",
        "cadeia = 'aaaacccccgggtttttt'\n",
        "contar_bases(cadeia)"
      ]
    },
    {
      "cell_type": "markdown",
      "metadata": {
        "id": "UQk_mKaNApEZ"
      },
      "source": [
        "## Conclusão\n",
        "\n",
        "Como temos vindo a abordar e demonstrar, Python é uma linguagem de programação com imenso potencial e aplicabilidade e versatilidade. É uma linguagem que já de si é simples e com um forte enfoque na legibilidade que, com a implementação de boas práticas e escrita de código orientada à sua legibilidade e clareza, como temos demonstrado, pode gerar código altamente eficiente, fácil de implementar e manter.\n",
        "\n",
        "Esperamos que estes princípios e boas práticas sejam úteis na vossa jornada para serem excelentes *developers* de Python."
      ]
    },
    {
      "cell_type": "markdown",
      "metadata": {
        "id": "968yxxOSQXEt"
      },
      "source": [
        "# Tema 2 - **Processamento básico de sequências**"
      ]
    },
    {
      "cell_type": "markdown",
      "metadata": {
        "id": "cc9_cqQvzj4A"
      },
      "source": [
        "## Representação e algoritmos básicos\n",
        "\n",
        "* Validação da sequência"
      ]
    },
    {
      "cell_type": "markdown",
      "metadata": {},
      "source": [
        "Esta função tem como objetivo retornar a validade de uma sequência de ADN. Onde, caso seja válida retorna **True** e caso seja inválida retorna **False**. Nesta função, é verificado se a sequência contém somente os caractéres que representam os nucleótidos: A, T, C e G.\n",
        "\n",
        "A função começa por verificar se a sequência introduzida não é uma string vazia, de seguida, susbtitui letras minúsculas por letras maiúsculas e remove enventuais espaços. No final, itera por cada base presente na sequência e verifica se pertencem ao conjunto de bases válidas (A, T, C e G). "
      ]
    },
    {
      "cell_type": "code",
      "execution_count": 1,
      "metadata": {},
      "outputs": [],
      "source": [
        "def validar_dna(seq):\n",
        "    \n",
        "    \"\"\"\n",
        "    Devolve a validade de uma sequência de ADN\n",
        "\n",
        "    \n",
        "    Parâmetro\n",
        "    -------------\n",
        "    seq : str\n",
        "        Uma string que representa a sequência de ADN\n",
        "\n",
        "    \n",
        "    Retorna\n",
        "    -------------\n",
        "    bool : True se for uma sequência válida ou False se for uma sequência inválida\n",
        "    \n",
        "    \"\"\"\n",
        "    if not bool(seq): return False\n",
        "    \n",
        "    seq = seq.upper()        \n",
        "    seq = seq.replace(\" \",\"\")   \n",
        "\n",
        "    valido_dna = True\n",
        "    \n",
        "    for base in seq:                  \n",
        "        if base not in \"ATCG\":         \n",
        "            valido_dna = False\n",
        "    \n",
        "    if valido_dna == False:\n",
        "        return False\n",
        "    else:\n",
        "        return True"
      ]
    },
    {
      "cell_type": "code",
      "execution_count": 27,
      "metadata": {},
      "outputs": [
        {
          "name": "stderr",
          "output_type": "stream",
          "text": [
            "test_validar_dna_correta (__main__.TestValidaData.test_validar_dna_correta) ... ok\n",
            "test_validar_dna_minuscula (__main__.TestValidaData.test_validar_dna_minuscula) ... ok\n",
            "test_validar_dna_nucleotido_invalido (__main__.TestValidaData.test_validar_dna_nucleotido_invalido) ... ok\n",
            "test_validar_dna_separador_invalido (__main__.TestValidaData.test_validar_dna_separador_invalido) ... ok\n",
            "test_validardna_vazio (__main__.TestValidaData.test_validardna_vazio) ... ok\n",
            "\n",
            "----------------------------------------------------------------------\n",
            "Ran 5 tests in 0.002s\n",
            "\n",
            "OK\n"
          ]
        },
        {
          "data": {
            "text/plain": [
              "<unittest.runner.TextTestResult run=5 errors=0 failures=0>"
            ]
          },
          "execution_count": 27,
          "metadata": {},
          "output_type": "execute_result"
        }
      ],
      "source": [
        "import unittest\n",
        "\n",
        "class TestValidaData(unittest.TestCase):\n",
        "    def test_validardna_vazio(self):\n",
        "        self.assertFalse( validar_dna(\"\") )\n",
        "    \n",
        "    def test_validar_dna_separador_invalido(self):\n",
        "        self.assertFalse( validar_dna(\"AAATTGCG.TGGTG-TGGT\") )\n",
        "\n",
        "    def test_validar_dna_nucleotido_invalido(self):\n",
        "        self.assertFalse( validar_dna(\"DATAGAT\") )\n",
        "        \n",
        "    def test_validar_dna_correta(self):\n",
        "        self.assertTrue( validar_dna(\"AA TGT CG \") )\n",
        "\n",
        "    def test_validar_dna_minuscula(self):\n",
        "        self.assertTrue( validar_dna(\"atgctcgatagct\") )\n",
        "\n",
        "\n",
        "suite = unittest.TestLoader().loadTestsFromTestCase(TestValidaData)\n",
        "unittest.TextTestRunner( verbosity=3 ).run( suite )"
      ]
    },
    {
      "cell_type": "markdown",
      "metadata": {},
      "source": [
        "* Aprimoração de sequência de ADN"
      ]
    },
    {
      "cell_type": "markdown",
      "metadata": {},
      "source": [
        "Para ser possível aprimorar a sequência de ADN nos códigos seguintes, foi criada uma função auxiliar que tem como intuito substituir as letras minúsculas por letras maiúsculas e a remoção dos espaços presentes na sequência inserida. A função intitula-se de: **aprimorar_dna()**.\n",
        "\n",
        "Note-se que, nos códigos seguintes, a validação da sequência de ADN, será verificada utilizando a função **validar_dna()** antes da invocação da função aprimorar_dna()."
      ]
    },
    {
      "cell_type": "code",
      "execution_count": 2,
      "metadata": {},
      "outputs": [],
      "source": [
        "def aprimorar_seq(seq):\n",
        "    \"\"\"\n",
        "    Devolve uma sequência de ADN só com letras maiúsculas e sem espaços em branco\n",
        "\n",
        "    Parameters\n",
        "    -------------\n",
        "    seq : str\n",
        "        Uma string que representa a sequência de ADN\n",
        "\n",
        "    Returns\n",
        "    -------------\n",
        "    str\n",
        "        sequência de ADN com as bases em maiúsculas e sem espaços em branco\n",
        "    \n",
        "    \"\"\"\n",
        "    return seq.upper().replace(\" \",\"\")\n",
        "     "
      ]
    },
    {
      "cell_type": "code",
      "execution_count": 29,
      "metadata": {},
      "outputs": [
        {
          "name": "stderr",
          "output_type": "stream",
          "text": [
            "test_aprimorardna_espaco (__main__.TestValidaData.test_aprimorardna_espaco) ... ok\n",
            "test_aprimorardna_min (__main__.TestValidaData.test_aprimorardna_min) ... ok\n",
            "test_aprimorardna_min_espaco (__main__.TestValidaData.test_aprimorardna_min_espaco) ... ok\n",
            "\n",
            "----------------------------------------------------------------------\n",
            "Ran 3 tests in 0.002s\n",
            "\n",
            "OK\n"
          ]
        },
        {
          "data": {
            "text/plain": [
              "<unittest.runner.TextTestResult run=3 errors=0 failures=0>"
            ]
          },
          "execution_count": 29,
          "metadata": {},
          "output_type": "execute_result"
        }
      ],
      "source": [
        "# import unittest  -> RS: Para evitar estar constantemente a importar este módulo proponho remover esta linha.\n",
        "\n",
        "class TestValidaData(unittest.TestCase):\n",
        "    def test_aprimorardna_espaco(self):\n",
        "        self.assertEqual( aprimorar_dna(\"AT     GC\"), \"ATGC\" )\n",
        "    \n",
        "    def test_aprimorardna_min(self):\n",
        "        self.assertEqual( aprimorar_dna(\"atcg\"), \"ATCG\" )\n",
        "    \n",
        "    def test_aprimorardna_min_espaco(self):\n",
        "        self.assertEqual( aprimorar_dna(\"at  cg\"), \"ATCG\" )\n",
        "\n",
        "suite = unittest.TestLoader().loadTestsFromTestCase(TestValidaData)\n",
        "unittest.TextTestRunner( verbosity=3 ).run( suite )"
      ]
    },
    {
      "cell_type": "markdown",
      "metadata": {},
      "source": [
        "* Frequência das bases"
      ]
    },
    {
      "cell_type": "markdown",
      "metadata": {},
      "source": [
        "Esta função permitirá calcular a frequência das bases de uma sequência de ADN. \n",
        "\n",
        "Em primeiro lugar, verifica se a sequência é válida através da função previamente feita **validar_dna()**. Caso seja inválida, é levantado um \"ValueError\" que nos indica que a sequência utilizada é inválida. Depois, retorna a sequência de ADN com as bases em maiúsculas e sem espaços em branco através da função **aprimorar_dna()**.\n",
        "\n",
        "De seguida, através da função **count()** é contabilizado a frequência das bases válidas (A, T, C e G), cada frequência de base é guardada numa variável. \n",
        "\n",
        "Por fim, é criado um dicionário, onde as chaves são as bases de ADN e os valores as suas frequências."
      ]
    },
    {
      "cell_type": "code",
      "execution_count": 30,
      "metadata": {},
      "outputs": [],
      "source": [
        "def contar_bases(seq):\n",
        "\n",
        "    \"\"\"\n",
        "    Devolve um dicionário com as frequências das bases de uma string de ADN (A, C, T e G)\n",
        "\n",
        "    \n",
        "    Parameters\n",
        "    -------------\n",
        "    seq : str\n",
        "        Uma string que representa a sequência de ADN\n",
        "\n",
        "    \n",
        "    Returns\n",
        "    -------------\n",
        "    resultado : dict\n",
        "        Dicionário com as frequências das bases da sequência introduzida\n",
        "        As chaves são as bases \"A\", \"T\", \"C\" e \"G\" e os valores as frequências correspondentes\n",
        "\n",
        "        \n",
        "    Raises\n",
        "    ----------\n",
        "    ValueError\n",
        "        No caso da string inserida não ser válida\n",
        "    \n",
        "    \"\"\"\n",
        "\n",
        "    if validar_dna(seq) is False:\n",
        "        raise ValueError (\"A sequência inserida é inválida\")\n",
        "\n",
        "    seq = aprimorar_dna(seq)\n",
        "    \n",
        "    contA = seq.count(\"A\")\n",
        "    contT = seq.count(\"T\")\n",
        "    contC = seq.count(\"C\")\n",
        "    contG = seq.count(\"G\")\n",
        "    \n",
        "    resultado = {\"A\" : contA, \"T\" : contT, \"C\" : contC, \"G\" : contG}\n",
        "    \n",
        "    return resultado"
      ]
    },
    {
      "cell_type": "code",
      "execution_count": 31,
      "metadata": {},
      "outputs": [
        {
          "name": "stderr",
          "output_type": "stream",
          "text": [
            "test_contarbases_espaco (__main__.TestValidaData.test_contarbases_espaco) ... ok\n",
            "test_contarbases_espaco1 (__main__.TestValidaData.test_contarbases_espaco1) ... ok\n",
            "test_contarbases_invalido (__main__.TestValidaData.test_contarbases_invalido) ... ok\n",
            "test_contarbases_min (__main__.TestValidaData.test_contarbases_min) ... ok\n",
            "test_contarbases_min_e_maius (__main__.TestValidaData.test_contarbases_min_e_maius) ... ok\n",
            "test_contarbases_num (__main__.TestValidaData.test_contarbases_num) ... ok\n",
            "test_contarbases_vazio (__main__.TestValidaData.test_contarbases_vazio) ... ok\n",
            "\n",
            "----------------------------------------------------------------------\n",
            "Ran 7 tests in 0.006s\n",
            "\n",
            "OK\n"
          ]
        },
        {
          "data": {
            "text/plain": [
              "<unittest.runner.TextTestResult run=7 errors=0 failures=0>"
            ]
          },
          "execution_count": 31,
          "metadata": {},
          "output_type": "execute_result"
        }
      ],
      "source": [
        "#import unittest  -> RS: Para evitar estar constantemente a importar este módulo proponho remover esta linha.\n",
        "\n",
        "class TestValidaData(unittest.TestCase):\n",
        "    def test_contarbases_vazio(self):\n",
        "        with self.assertRaises(ValueError):\n",
        "            contar_bases(\"\")\n",
        "    def test_contarbases_invalido(self):\n",
        "        with self.assertRaises(ValueError):\n",
        "            contar_bases(\"ACTGH\")\n",
        "    def test_contarbases_num(self):\n",
        "        with self.assertRaises(ValueError):\n",
        "            contar_bases(\"ACTG0\")\n",
        "    def test_contarbases_min_e_maius(self):\n",
        "        self.assertTrue( contar_bases(\"atCgatGtG\") )\n",
        "    def test_contarbases_espaco(self):\n",
        "        self.assertTrue( contar_bases(\"C    GAT  GG\") )\n",
        "    def test_contarbases_espaco1(self):\n",
        "        self.assertEqual( contar_bases(\"C    GAT  GG\" ), {'A': 1, 'T': 1, 'C': 1, 'G': 3} )\n",
        "    def test_contarbases_min(self):\n",
        "        self.assertEqual( contar_bases(\"atcg\" ), {'A': 1, 'T': 1, 'C': 1, 'G': 1} )\n",
        "\n",
        "suite = unittest.TestLoader().loadTestsFromTestCase(TestValidaData)\n",
        "unittest.TextTestRunner( verbosity=3 ).run( suite )"
      ]
    },
    {
      "cell_type": "markdown",
      "metadata": {},
      "source": [
        "* Frequência de Conteúdo GC\n",
        "\n",
        "Nesta função, é definida uma função que tem como objetivo calcular, em percentagem, o conteúdo de guanina-citosina ([conteúdo GC](https://www.bionity.com/en/encyclopedia/GC-content.html)) presente numa sequência de ADN. \n",
        "\n",
        "Em primeiro lugar, a função executa uma verificação da validade da sequência de ADN através da função previamente feita \"validar_dna()\". Caso seja inválida, é levantado um \"ValueError\" que nos indica que a sequência utilizada é inválida. Depois, retorna a sequência de ADN com as bases em maiúsculas e sem espaços em branco através da função **aprimorar_dna()**.\n",
        "\n",
        "\n",
        "Após verificar a validade da sequência e o seu aprimoramento, a função conta as ocorrências das bases \"G\" e \"C\", respetivamente, através da função **count()** e armazenando o resultado em duas variáveis.\n",
        "\n",
        "De seguida, o cálculo da percentagem de bases \"G\" e \"C\" presente na sequência de ADN é feito através da divisão da soma do número de ocorrências das bases \"G\" e \"C\" pelo número total de bases existentes na sequência, multiplicando por 100 e arredondando o resultado para uma casa decimal através da função **round()**. O resultado é armazenado numa variável.\n",
        "\n",
        "Por fim, o valor obtido é devolvido. \n",
        "\n",
        "\n"
      ]
    },
    {
      "cell_type": "code",
      "execution_count": 32,
      "metadata": {},
      "outputs": [
        {
          "data": {
            "text/plain": [
              "50.0"
            ]
          },
          "execution_count": 32,
          "metadata": {},
          "output_type": "execute_result"
        }
      ],
      "source": [
        "def conteudo_gc(seq):\n",
        "    \n",
        "    \"\"\"   \n",
        "    Devolve a percentagem do conteúdo GC presente numa sequência de ADN\n",
        "\n",
        "    \n",
        "    Parameters\n",
        "    -------------\n",
        "    seq : str\n",
        "        Uma string que representa a sequência de ADN\n",
        "\n",
        "    \n",
        "    Returns\n",
        "    -------------\n",
        "    resultado : float\n",
        "        Percentagem do conteúdo GC na sequência de ADN\n",
        "\n",
        "        \n",
        "    Raises\n",
        "    ----------\n",
        "    ValueError\n",
        "        No caso da string inserida não ser válida\n",
        "    \n",
        "    \"\"\"\n",
        "\n",
        "    if validar_dna(seq) is False:\n",
        "        raise ValueError (\"A sequência inserida é inválida\")\n",
        "    \n",
        "    seq = aprimorar_dna(seq)\n",
        "    \n",
        "    conteudo_g = seq.count(\"G\")\n",
        "    conteudo_c = seq.count(\"C\")\n",
        "    conteudo_gc = round((conteudo_g + conteudo_c) / len(seq) * 100, 1)\n",
        "    \n",
        "        \n",
        "    return conteudo_gc\n",
        "\n",
        "conteudo_gc(\"gcta\") \n"
      ]
    },
    {
      "cell_type": "code",
      "execution_count": 33,
      "metadata": {},
      "outputs": [
        {
          "name": "stderr",
          "output_type": "stream",
          "text": [
            "test_conteudogc_espaco (__main__.TestValidaData.test_conteudogc_espaco) ... ok\n",
            "test_conteudogc_gc (__main__.TestValidaData.test_conteudogc_gc) ... ok\n",
            "test_conteudogc_invalido (__main__.TestValidaData.test_conteudogc_invalido) ... ok\n",
            "test_conteudogc_min_maiusc (__main__.TestValidaData.test_conteudogc_min_maiusc) ... ok\n",
            "test_conteudogc_num (__main__.TestValidaData.test_conteudogc_num) ... ok\n",
            "test_conteudogc_vazio (__main__.TestValidaData.test_conteudogc_vazio) ... ok\n",
            "\n",
            "----------------------------------------------------------------------\n",
            "Ran 6 tests in 0.005s\n",
            "\n",
            "OK\n"
          ]
        },
        {
          "data": {
            "text/plain": [
              "<unittest.runner.TextTestResult run=6 errors=0 failures=0>"
            ]
          },
          "execution_count": 33,
          "metadata": {},
          "output_type": "execute_result"
        }
      ],
      "source": [
        "#import unittest  -> RS: Para evitar estar constantemente a importar este módulo proponho remover esta linha.\n",
        "\n",
        "class TestValidaData(unittest.TestCase):\n",
        "    def test_conteudogc_vazio(self):\n",
        "        with self.assertRaises(ValueError):\n",
        "            conteudo_gc(\"\")\n",
        "    def test_conteudogc_invalido(self):\n",
        "        with self.assertRaises(ValueError):\n",
        "            conteudo_gc(\"ACTGH\")\n",
        "    def test_conteudogc_num(self):\n",
        "        with self.assertRaises(ValueError):\n",
        "            conteudo_gc(\"ACTG0\")\n",
        "    def test_conteudogc_min_maiusc(self):\n",
        "        self.assertTrue( conteudo_gc(\"GCGcGttgatggC\") )\n",
        "    def test_conteudogc_espaco(self):\n",
        "        self.assertTrue( conteudo_gc(\"GCGcG    ttgat     ggC\") )\n",
        "    def test_conteudogc_gc(self):\n",
        "        self.assertEqual( conteudo_gc(\"gcgcgc\"), 100.0  )\n",
        "\n",
        "suite = unittest.TestLoader().loadTestsFromTestCase(TestValidaData)\n",
        "unittest.TextTestRunner( verbosity=3 ).run( suite )"
      ]
    },
    {
      "cell_type": "markdown",
      "metadata": {
        "id": "l740e-FqwcNg"
      },
      "source": [
        "## Transcrição e Complemento Inverso\n",
        "\n",
        "\n",
        "* Transcrição\n",
        "   \n",
        "O Python é uma ferramenta bastante utilizada no processamento básico de sequências e na transcrição de sequências de DNA em sequências de mRNA. Existem várias bibliotecas e algoritmos disponíveis que facilitam esse processo. \n",
        "\n",
        "Existem diversas formas de realizar esse processamento, citando as mais usadas: \n",
        "\n",
        "            - Algoritmo de trancrição com o Biopython;\n",
        "            - Algoritmo de trancrição personalizado mediante a finalidade, o tipo de ser vivo ou devido a outras caracteristicas especificas.\n",
        "\n",
        "\n",
        "\n",
        "- Algoritmo de trancrição com o Biopython:\n",
        "\n",
        "Através desta opção, primeiro realiza-se a importação da classe 'Seq' do módulo 'Bio.Seq' da biblioteca Biopython.\n",
        "De seguida, é necessário criar uma variável para atribuir a sequência que se pretende transcrever.\n",
        "A partir deste ponto, já é possível realizar várias operações na sequência de DNA conforme o desejado, neste caso utiliza-se o 'transcribe()'\n",
        "\n",
        "\n",
        "\n",
        "- Algoritmo de trancrição personalizado:"
      ]
    },
    {
      "cell_type": "code",
      "execution_count": 34,
      "metadata": {},
      "outputs": [],
      "source": [
        "'''\n",
        "É possível utilizar funções predefinidas para a realização da transcrição, importando-as do BioPython:\n",
        "'''\n",
        "\n",
        "from Bio.Seq import Seq\n",
        "\n",
        "'''\n",
        "Assim basta definir a sequência a ser analisada\n",
        "'''\n",
        "\n",
        "# Sequência de DNA\n",
        "dna_sequence = \"ATGGTCTACGTCGATCGTAGCTAGCTAGCTAGCTAGCTAGCTAGCTAGCTAGCTAGCTAGCT\"\n",
        "\n",
        "'''\n",
        "E utilizar a função predefinida para realizar a transcrição \n",
        "'''\n",
        "\n",
        "# Transcrição do DNA para RNA\n",
        "rna_sequence = Seq(dna_sequence).transcribe()"
      ]
    },
    {
      "cell_type": "code",
      "execution_count": null,
      "metadata": {
        "id": "92r8oSCYGTZg"
      },
      "outputs": [],
      "source": [
        "def transc(seq):\n",
        "\n",
        "    '''\n",
        "        Função que itera sobre uma sequência de DNA e devolve\n",
        "    a sequência transcrita.\n",
        "\n",
        "    Lógica:\n",
        "    A -> U\n",
        "    T -> A\n",
        "    C -> G\n",
        "    G -> C\n",
        "\n",
        "    Parameters:\n",
        "    ------------\n",
        "        seq : str Sequência de DNA\n",
        "            Uma string que representa a sequência de DNA\n",
        "    '''\n",
        "\n",
        "    if not validar_dna(seq):\n",
        "        print(\"Sequência inválida\")\n",
        "        return None\n",
        "\n",
        "    '''\n",
        "    Aqui é utilizada a função 'validar_dna' para garantir que a sequência não possui caracteres inválidos\n",
        "    '''\n",
        "\n",
        "    dna = aprimorar_dna(seq)\n",
        "    mrna = ''\n",
        "\n",
        "    '''\n",
        "    A variável dna vai buscar a sequência aprimorada pela função definida anteriormente\n",
        "    '''\n",
        "\n",
        "    for base in dna:\n",
        "        if base == 'A':\n",
        "          mrna += 'U'\n",
        "        elif base == 'T':\n",
        "          mrna += 'A'\n",
        "        elif base == 'C':\n",
        "          mrna += 'G'\n",
        "        elif base == 'G':\n",
        "          mrna += 'C'\n",
        "    '''\n",
        "    Returns:\n",
        "    --------\n",
        "        str\n",
        "          Sequência de mrna\n",
        "    '''\n",
        "    return mrna\n",
        "\n",
        "'''\n",
        "Chama a função 'transc' para fornecer uma varável, 'resultado'\n",
        "'''\n",
        "\n",
        "resultado = transc(seq)\n",
        "\n",
        "'''\n",
        "Se a sequência transcrita for válida, imprime o resultado\n",
        "'''\n",
        "if resultado is not None:\n",
        "    print('A sequência de mRNA correspondente é:', resultado)"
      ]
    },
    {
      "cell_type": "code",
      "execution_count": null,
      "metadata": {},
      "outputs": [],
      "source": [
        "# Secção de testes de unidade\n",
        "\n",
        "import unittest\n",
        "\n",
        "class TestValidarData(unittest.TestCase):\n",
        "    def test_transc_vazio(self):                                           # Testa a existência de uma sequência vazia\n",
        "        self.assertFalse( transc(\"\") )\n",
        "    \n",
        "    def test_transc_caracter_invalido(self):                               # Testa a presença de caracteres inválidos\n",
        "        self.assertFalse( transc(\"AAAT-TG-CG.TGG.TG-TGGT\") )\n",
        "\n",
        "    def test_transc_nucleotido_invalido(self):                             # Testa a existência de outras letras/nucleótidos \n",
        "        self.assertFalse( transc(\"RATAFAT\") )\n",
        "        \n",
        "    def test_transc_correta(self):                                         # Testa um input correto\n",
        "        self.assertTrue( transc(\"AAACTGTCG\") )\n",
        "\n",
        "    def test_transc_minuscula(self):                                       # Testa o input de letras minusculas\n",
        "        self.assertTrue( transc(\"atgctcgatagct\") )\n",
        "    \n",
        "    def test_trans_correta(self):                                          # Testa o correto funcionamento da transcrição/função\n",
        "        self.assertEqual( transc('AATTCCGG'), 'UUAAGGCC' )\n",
        "\n",
        "\n",
        "suite = unittest.TestLoader().loadTestsFromTestCase(TestValidarData)\n",
        "unittest.TextTestRunner( verbosity=3 ).run( suite )"
      ]
    },
    {
      "cell_type": "markdown",
      "metadata": {
        "id": "p5_QD7ogGlKp"
      },
      "source": [
        "**Complemento reverso - o que é**\n",
        "\n",
        "O Complemento Reverso consiste no espelhamento de uma sequência de DNA, permitindo-nos reconstruir a segunda cadeia da cadeia dupla de DNA a partir de uma cadeia simples que servirá como ponto de partida.\n",
        "\n",
        "A lógica do complemento reverso é a de iterar sobre uma string que represente uma cadeia de DNA válida e devolver o seu inverso com base nos nucleótidos complementares, ou seja:\n",
        "\n",
        "- A -> T\n",
        "- T -> A\n",
        "- C -> G\n",
        "- G -> C\n",
        "\n",
        "A forma mais simples de fazer isto é usando um ciclo ``for`` que irá iterar sobre cada elemento da cadeia e adicionar o seu complementar à ``string`` de resultado, ou seja:\n",
        "\n",
        "```python\n",
        "complementar = ''\n",
        "for base in cadeia.upper():\n",
        "    if base == 'A':\n",
        "        complementar += 'T'\n",
        "    elif base == 'T':\n",
        "        complementar += 'A'\n",
        "    elif base == 'C':\n",
        "        complementar += 'G'\n",
        "    elif base == 'G':\n",
        "        complementar += 'C'\n",
        "```\n",
        "\n",
        "Assim, com uma cadeia ``actgtctgtcaaa`` obteremos uma cadeia ``tgacagacagttt``, veja-se o exemplo abaixo do ciclo em funcionamento:"
      ]
    },
    {
      "cell_type": "code",
      "execution_count": 78,
      "metadata": {
        "colab": {
          "base_uri": "https://localhost:8080/"
        },
        "id": "D0jC1VkKj3PM",
        "outputId": "e245c157-5a7f-4d09-f175-5b2736c3fa73"
      },
      "outputs": [
        {
          "name": "stdout",
          "output_type": "stream",
          "text": [
            "ACTGTCTGTCAAA -> TGACAGACAGTTT\n"
          ]
        }
      ],
      "source": [
        "cadeia = 'actgtctgtcaaa'\n",
        "complementar = ''\n",
        "for base in cadeia.upper():\n",
        "    if base == 'A':\n",
        "        complementar += 'T'\n",
        "    elif base == 'T':\n",
        "        complementar += 'A'\n",
        "    elif base == 'C':\n",
        "        complementar += 'G'\n",
        "    elif base == 'G':\n",
        "        complementar += 'C'\n",
        "\n",
        "print(cadeia.upper(),'->',complementar)"
      ]
    },
    {
      "cell_type": "markdown",
      "metadata": {
        "id": "UkxFAte9j_M1"
      },
      "source": [
        "De forma a criar uma ferramenta que à qual possamos recorrer sempre que queiramos encontrar o complemento reverso de uma cadeia de DNA, escrevemos a função abaixo.\n",
        "\n"
      ]
    },
    {
      "cell_type": "code",
      "execution_count": 85,
      "metadata": {
        "colab": {
          "base_uri": "https://localhost:8080/"
        },
        "id": "-iua3IsSkA2U",
        "outputId": "4112d9d8-48bf-4f94-9624-d1d7ee2863ca"
      },
      "outputs": [
        {
          "data": {
            "text/plain": [
              "'CAGT'"
            ]
          },
          "execution_count": 85,
          "metadata": {},
          "output_type": "execute_result"
        }
      ],
      "source": [
        "def complemento_inverso(sequencia : str) -> str:\n",
        "    '''\n",
        "    Função que itera sobre uma sequência de DNA e devolve\n",
        "    o complemento reverso de cada nucleotido.\n",
        "\n",
        "    Lógica:\n",
        "    A -> T\n",
        "    T -> A\n",
        "    C -> G\n",
        "    G -> C\n",
        "\n",
        "    Parameters\n",
        "    ----------\n",
        "\n",
        "    sequencia : str\n",
        "        sequência de DNA válida\n",
        "\n",
        "    Returns\n",
        "    -------\n",
        "    str\n",
        "        sequência de nucléotidos complementar à cadeia fornecida\n",
        "\n",
        "    '''\n",
        "    assert sequencia != '' or sequencia != ' '\n",
        "    assert validar_dna(sequencia)\n",
        "    \n",
        "\n",
        "    complementar = '' # inicializamos a cadeia complementar\n",
        "\n",
        "    for base in sequencia.upper():\n",
        "        if base == 'A':\n",
        "            complementar += 'T'\n",
        "        elif base == 'T':\n",
        "            complementar += 'A'\n",
        "        elif base == 'C':\n",
        "            complementar += 'G'\n",
        "        elif base == 'G':\n",
        "            complementar += 'C'\n",
        "\n",
        "    return complementar[::-1]\n"
      ]
    },
    {
      "cell_type": "code",
      "execution_count": 77,
      "metadata": {},
      "outputs": [
        {
          "ename": "NameError",
          "evalue": "name 'cadeia' is not defined",
          "output_type": "error",
          "traceback": [
            "\u001b[1;31m---------------------------------------------------------------------------\u001b[0m",
            "\u001b[1;31mNameError\u001b[0m                                 Traceback (most recent call last)",
            "\u001b[1;32mrezekiz\\aaspg4\\notebook-principal-portfolio.ipynb Cell 88\u001b[0m line \u001b[0;36m3\n\u001b[0;32m      <a href='vscode-notebook-cell://github/rezekiz/aaspg4/notebook-principal-portfolio.ipynb#Y153sdnNjb2RlLXZmcw%3D%3D?line=0'>1</a>\u001b[0m \u001b[39m# Demonostração do output da função complemento_inverso() \u001b[39;00m\n\u001b[1;32m----> <a href='vscode-notebook-cell://github/rezekiz/aaspg4/notebook-principal-portfolio.ipynb#Y153sdnNjb2RlLXZmcw%3D%3D?line=2'>3</a>\u001b[0m \u001b[39mprint\u001b[39m(cadeia\u001b[39m.\u001b[39mupper(),\u001b[39m'\u001b[39m\u001b[39m->\u001b[39m\u001b[39m'\u001b[39m,complemento_inverso(cadeia))\n",
            "\u001b[1;31mNameError\u001b[0m: name 'cadeia' is not defined"
          ]
        }
      ],
      "source": [
        "# Demonostração do output da função complemento_inverso() \n",
        "\n",
        "print(cadeia.upper(),'->',complemento_inverso(cadeia))"
      ]
    },
    {
      "cell_type": "code",
      "execution_count": 43,
      "metadata": {},
      "outputs": [
        {
          "name": "stderr",
          "output_type": "stream",
          "text": [
            "test_conteudogc_espaco (__main__.TestValidaData.test_conteudogc_espaco) ... ok\n",
            "test_conteudogc_gc (__main__.TestValidaData.test_conteudogc_gc) ... ok\n",
            "test_conteudogc_invalido (__main__.TestValidaData.test_conteudogc_invalido) ... ok\n",
            "test_conteudogc_min_maiusc (__main__.TestValidaData.test_conteudogc_min_maiusc) ... ok\n",
            "test_conteudogc_num (__main__.TestValidaData.test_conteudogc_num) ... ok\n",
            "test_conteudogc_vazio (__main__.TestValidaData.test_conteudogc_vazio) ... ok\n",
            "\n",
            "----------------------------------------------------------------------\n",
            "Ran 6 tests in 0.005s\n",
            "\n",
            "OK\n"
          ]
        },
        {
          "data": {
            "text/plain": [
              "<unittest.runner.TextTestResult run=6 errors=0 failures=0>"
            ]
          },
          "execution_count": 43,
          "metadata": {},
          "output_type": "execute_result"
        }
      ],
      "source": [
        "# Secção de testes de unidade\n",
        "\n",
        "class TestComplementoInverso(unittest.TestCase):\n",
        "    \n",
        "    def test_sequencia_vazia(self):   \n",
        "        with self.assertRaises(ValueError):\n",
        "            complemento_inverso('')\n",
        "    \n",
        "    def test_sequencia_invalida(self):\n",
        "        with self.assertRaises(ValueError):\n",
        "            complemento_inverso('ACGHJTGH')\n",
        "    \n",
        "    def test_sequencia_com_numeros(self):\n",
        "        with self.assertRaises(ValueError):\n",
        "            complemento_inverso('12ACTG0')\n",
        "    \n",
        "    def test_sequencia_com_espacos(self):\n",
        "        self.assertTrue(complemento_inverso('  AC  CTG   '))\n",
        "    \n",
        "    def test_complemento_correto(self):\n",
        "        self.assertEqual( complemento_inverso('AATTCCGG'), 'TTAAGGCC' )\n",
        "    \n",
        "\n",
        "suite = unittest.TestLoader().loadTestsFromTestCase(TestValidaData)\n",
        "unittest.TextTestRunner( verbosity=3 ).run( suite )"
      ]
    },
    {
      "cell_type": "markdown",
      "metadata": {},
      "source": [
        "## Tradução -> Diogo"
      ]
    },
    {
      "cell_type": "markdown",
      "metadata": {},
      "source": [
        "Em bioinformática, o Python é bastante utilizado para o processamento básico de sequências e a tradução de sequências de DNA em sequências de aminoácidos. Existem várias bibliotecas e algoritmos disponíveis que facilitam esse processo. \n",
        "\n",
        "Existem diversas formas de realizar este processamento, citando as mais usadas: \n",
        "\n",
        "            - Algoritmo de tradução com o Biopython;\n",
        "\n",
        "            - Algoritmo de tradução personalizado mediante a finalidade, o tipo de ser vivo ou devido a outras caracteristicas especificas.\n",
        "            \n",
        "\n",
        "Adicionei um bloco try-except para capturar exceções e lidar com erros em ambos os casos.     "
      ]
    },
    {
      "cell_type": "code",
      "execution_count": null,
      "metadata": {},
      "outputs": [],
      "source": [
        "# Sequência de DNA exemplo\n",
        "sequencia_DNA = \"AGATGGTCTACGTCGCATCGTAGCTGAGCTAGCTAGCTAGCTAGCTAGCTAGCTAGCTAGCTAGCT\""
      ]
    },
    {
      "cell_type": "markdown",
      "metadata": {},
      "source": [
        "Algoritmo de tradução com o Biopython: Uma biblioteca em python que fornece uma ampla gama de funcionalidades para o processamento de sequências biológicas, incluindo tradução. "
      ]
    },
    {
      "cell_type": "code",
      "execution_count": null,
      "metadata": {},
      "outputs": [],
      "source": [
        "import re\n",
        "from Bio.Seq import Seq\n",
        "\n",
        "def traducao_dna_para_aminoacido(sequencia_DNA):\n",
        "    # Verifica se a sequência de DNA é válida\n",
        "    if not is_valid_dna(sequencia_DNA):\n",
        "        raise ValueError(\"Sequência de DNA inválida.\")\n",
        "\n",
        "    # Transcrição do DNA para RNA\n",
        "    sequencia_rna = Seq(sequencia_DNA).transcribe()\n",
        "\n",
        "    # Verifica se a sequência de RNA é válida\n",
        "    if not is_valid_rna(str(sequencia_rna)):\n",
        "        raise ValueError(\"Sequência de RNA inválida.\")\n",
        "\n",
        "    # Tradução do RNA para uma sequência de aminoácidos usando Biopython\n",
        "    sequencia_aminoacido = str(sequencia_rna.translate())\n",
        "\n",
        "    return sequencia_aminoacido\n",
        "\n",
        "try:\n",
        "    sequencia_aminoacido = traducao_dna_para_aminoacido(sequencia_DNA)\n",
        "    print(\"Sequência de aminoácidos:\", sequencia_aminoacido)\n",
        "except ValueError as e:\n",
        "    print(\"Erro:\", str(e))"
      ]
    },
    {
      "cell_type": "markdown",
      "metadata": {},
      "source": [
        "Algoritmo de tradução personalizado: Se tivermos requisitos específicos ou quisermos implementar o nosso próprio algoritmo de tradução, podemos criar um algoritmo personalizado para isso. "
      ]
    },
    {
      "cell_type": "code",
      "execution_count": null,
      "metadata": {},
      "outputs": [],
      "source": [
        "def traducao_personalizada(sequencia_DNA):\n",
        "    # Tabela de tradução de codões para aminoácidos\n",
        "        tabela_traducao = {\n",
        "            \"TTT\": \"F\", \"TTC\": \"F\", \"TTA\": \"L\", \"TTG\": \"L\",\n",
        "            \"CTT\": \"L\", \"CTC\": \"L\", \"CTA\": \"L\", \"CTG\": \"L\",\n",
        "            \"ATT\": \"I\", \"ATC\": \"I\", \"ATA\": \"I\", \"ATG\": \"M\",\n",
        "            \"GTT\": \"V\", \"GTC\": \"V\", \"GTA\": \"V\", \"GTG\": \"V\",\n",
        "            \"TCT\": \"S\", \"TCC\": \"S\", \"TCA\": \"S\", \"TCG\": \"S\",\n",
        "            \"CCT\": \"P\", \"CCC\": \"P\", \"CCA\": \"P\", \"CCG\": \"P\",\n",
        "            \"ACT\": \"T\", \"ACC\": \"T\", \"ACA\": \"T\", \"ACG\": \"T\",\n",
        "            \"GCT\": \"A\", \"GCC\": \"A\", \"GCA\": \"A\", \"GCG\": \"A\",\n",
        "            \"TAT\": \"Y\", \"TAC\": \"Y\", \"TAA\": \"*\", \"TAG\": \"*\",\n",
        "            \"CAT\": \"H\", \"CAC\": \"H\", \"CAA\": \"Q\", \"CAG\": \"Q\",\n",
        "            \"AAT\": \"N\", \"AAC\": \"N\", \"AAA\": \"K\", \"AAG\": \"K\",\n",
        "            \"GAT\": \"D\", \"GAC\": \"D\", \"GAA\": \"E\", \"GAG\": \"E\",\n",
        "            \"TGT\": \"C\", \"TGC\": \"C\", \"TGA\": \"*\", \"TGG\": \"W\",\n",
        "            \"CGT\": \"R\", \"CGC\": \"R\", \"CGA\": \"R\", \"CGG\": \"R\",\n",
        "            \"AGT\": \"S\", \"AGC\": \"S\", \"AGA\": \"R\", \"AGG\": \"R\",\n",
        "            \"GGT\": \"G\", \"GGC\": \"G\", \"GGA\": \"G\", \"GGG\": \"G\"\n",
        "            }\n",
        "\n",
        "    # Verifica se a sequência de DNA tem um número de bases múltiplo de 3\n",
        "        if len(sequencia_DNA) % 3 != 0:\n",
        "            raise ValueError(\"Sequência de DNA inválida: número de bases não é múltiplo de 3.\")\n",
        "\n",
        "    # Tradução do DNA para uma sequência de aminoácidos\n",
        "        sequencia_aminoacido = \"\".join([tabela_traducao[sequencia_DNA[i:i+3]] for i in range(0, len(sequencia_DNA), 3)])\n",
        "\n",
        "        return sequencia_aminoacido\n",
        "\n",
        "try:\n",
        "    sequencia_aminoacido = traducao_personalizada(sequencia_DNA)\n",
        "    print(\"Sequência de aminoácidos:\", sequencia_aminoacido)\n",
        "except ValueError as e:\n",
        "    print(\"Erro:\", str(e))"
      ]
    },
    {
      "cell_type": "markdown",
      "metadata": {},
      "source": [
        "Por fim, decidi incorporar os dois casos num (nao faço ideia se é util ou não).\n",
        "\n",
        "Este código inclui as duas formas de tradução: uma com a biblioteca Biopython e outra usando uma abordagem manual. Cada bloco de código é independente e pode ser executado separadamente. \n",
        "\n",
        "Além disso, há um bloco separado com uma lista de verificações no final."
      ]
    },
    {
      "cell_type": "code",
      "execution_count": 17,
      "metadata": {},
      "outputs": [
        {
          "ename": "ModuleNotFoundError",
          "evalue": "No module named 'Bio'",
          "output_type": "error",
          "traceback": [
            "\u001b[1;31m---------------------------------------------------------------------------\u001b[0m",
            "\u001b[1;31mModuleNotFoundError\u001b[0m                       Traceback (most recent call last)",
            "\u001b[1;32mrezekiz\\aaspg4\\notebook-principal-portfolio.ipynb Cell 98\u001b[0m line \u001b[0;36m1\n\u001b[1;32m----> <a href='vscode-notebook-cell://github/rezekiz/aaspg4/notebook-principal-portfolio.ipynb#Y166sdnNjb2RlLXZmcw%3D%3D?line=0'>1</a>\u001b[0m \u001b[39mfrom\u001b[39;00m \u001b[39mBio\u001b[39;00m\u001b[39m.\u001b[39;00m\u001b[39mSeq\u001b[39;00m \u001b[39mimport\u001b[39;00m Seq\n\u001b[0;32m      <a href='vscode-notebook-cell://github/rezekiz/aaspg4/notebook-principal-portfolio.ipynb#Y166sdnNjb2RlLXZmcw%3D%3D?line=2'>3</a>\u001b[0m \u001b[39mdef\u001b[39;00m \u001b[39mvalida_dna\u001b[39m(sequencia_DNA):\n\u001b[0;32m      <a href='vscode-notebook-cell://github/rezekiz/aaspg4/notebook-principal-portfolio.ipynb#Y166sdnNjb2RlLXZmcw%3D%3D?line=3'>4</a>\u001b[0m     valida_bases \u001b[39m=\u001b[39m \u001b[39mset\u001b[39m(\u001b[39m'\u001b[39m\u001b[39mACGT\u001b[39m\u001b[39m'\u001b[39m)\n",
            "\u001b[1;31mModuleNotFoundError\u001b[0m: No module named 'Bio'"
          ]
        }
      ],
      "source": [
        "from Bio.Seq import Seq\n",
        "\n",
        "def valida_dna(sequencia_DNA):\n",
        "    valida_bases = set('ACGT')\n",
        "    return all(base in valida_bases for base in sequencia_DNA)\n",
        "\n",
        "def traducao_dna_aminoacido_biopython(sequencia_DNA):\n",
        "    if not valida_dna(sequencia_DNA):\n",
        "        raise ValueError(\"Sequência de DNA inválida.\")\n",
        "\n",
        "    sequencia_rna = Seq(sequencia_DNA).transcribe()\n",
        "    sequencia_aminoacido = str(sequencia_rna.translate())\n",
        "\n",
        "    return sequencia_aminoacido\n",
        "\n",
        "def traducao_dna_aminoacido_personalizada(sequencia_DNA):\n",
        "    if not valida_dna(sequencia_DNA):\n",
        "        raise ValueError(\"Sequência de DNA inválida.\")\n",
        "\n",
        "    tabela_codoes = {\n",
        "        'TTT': 'F', 'TTC': 'F', 'TTA': 'L', 'TTG': 'L',\n",
        "        'CTT': 'L', 'CTC': 'L', 'CTA': 'L', 'CTG': 'L',\n",
        "        'ATT': 'I', 'ATC': 'I', 'ATA': 'I', 'ATG': 'M',\n",
        "        'GTT': 'V', 'GTC': 'V', 'GTA': 'V', 'GTG': 'V',\n",
        "        'TCT': 'S', 'TCC': 'S', 'TCA': 'S', 'TCG': 'S',\n",
        "        'CCT': 'P', 'CCC': 'P', 'CCA': 'P', 'CCG': 'P',\n",
        "        'ACT': 'T', 'ACC': 'T', 'ACA': 'T', 'ACG': 'T',\n",
        "        'GCT': 'A', 'GCC': 'A', 'GCA': 'A', 'GCG': 'A',\n",
        "        'TAT': 'Y', 'TAC': 'Y', 'TAA': '*', 'TAG': '*',\n",
        "        'CAT': 'H', 'CAC': 'H', 'CAA': 'Q', 'CAG': 'Q',\n",
        "        'AAT': 'N', 'AAC': 'N', 'AAA': 'K', 'AAG': 'K',\n",
        "        'GAT': 'D', 'GAC': 'D', 'GAA': 'E', 'GAG': 'E',\n",
        "        'TGT': 'C', 'TGC': 'C', 'TGA': '*', 'TGG': 'W',\n",
        "        'CGT': 'R', 'CGC': 'R', 'CGA': 'R', 'CGG': 'R',\n",
        "        'AGT': 'S', 'AGC': 'S', 'AGA': 'R', 'AGG': 'R',\n",
        "        'GGT': 'G', 'GGC': 'G', 'GGA': 'G', 'GGG': 'G'\n",
        "    }\n",
        "\n",
        "    codoes = [sequencia_DNA[i:i+3] for i in range(0, len(sequencia_DNA), 3)]\n",
        "    sequencia_aminoacido = ''.join(tabela_codoes.get(codon, 'X') for codon in codoes)\n",
        "\n",
        "    return sequencia_aminoacido\n",
        "\n",
        "# Tradução usando Biopython\n",
        "try:\n",
        "    sequencia_aminoacido_biopython = traducao_dna_aminoacido_biopython(sequencia_DNA)\n",
        "    print(\"Sequência de aminoácidos (Biopython):\", sequencia_aminoacido_biopython)\n",
        "except ValueError as e:\n",
        "    print(\"Erro:\", str(e))\n",
        "\n",
        "# Tradução manual\n",
        "try:\n",
        "    sequencia_aminoacido_personalizada = traducao_dna_aminoacido_personalizada(sequencia_DNA)\n",
        "    print(\"Sequência de aminoácidos (Manual):\", sequencia_aminoacido_personalizada)\n",
        "except ValueError as e:\n",
        "    print(\"Erro:\", str(e))\n",
        "\n",
        "\n",
        "# Secção de testes de unidade\n",
        "\n",
        "class TestComplementoInverso(unittest.TestCase):\n",
        "    \n",
        "    def test_sequencia_vazia(self):\n",
        "        with self.assertRaises(ValueError):\n",
        "            complemento_inverso('')\n",
        "    \n",
        "    def test_sequencia_invalida(self):\n",
        "        with self.assertRaises(ValueError):\n",
        "            complemento_inverso('ACGHJTGH')\n",
        "    \n",
        "    def test_sequencia_com_numeros(self):\n",
        "        with self.assertRaises(ValueError):\n",
        "            complemento_inverso('12ACTG0')\n",
        "    \n",
        "    def test_sequencia_com_espacos(self):\n",
        "        self.assertTrue(complemento_inverso('  AC  CTG   '))\n",
        "    \n",
        "    def test_complemento_correto(self):\n",
        "        self.assertEqual( complemento_inverso('AATTCCGG'), 'TTAAGGCC' )\n",
        "    \n",
        "\n",
        "suite = unittest.TestLoader().loadTestsFromTestCase(TestValidaData)\n",
        "unittest.TextTestRunner( verbosity=3 ).run( suite )\n",
        "\n",
        "print(\"\\nVerificações:\")\n",
        "print(\"1. Verifique se a sequência de DNA está correta.\")\n",
        "print(\"2. Verifique se a sequência de DNA é válida, contendo apenas as bases A, C, G, T.\")\n",
        "print(\"3. Verifique se a sequência de aminoácidos foi corretamente traduzida.\")\n",
        "print(\"4. Verifique se o código está bem comentado e de fácil compreensão.\")\n",
        "print(\"5. Verifique se todas as dependências foram instaladas corretamente.\")\n",
        "print(\"6. Verifique se a função de tradução está sendo chamada corretamente.\")\n",
        "print(\"7. Verifique se as exceções são tratadas corretamente.\")\n",
        "print(\"8. Verifique se os resultados são exibidos de forma adequada.\")"
      ]
    },
    {
      "cell_type": "markdown",
      "metadata": {},
      "source": [
        "Erros e falhas identificados:\n",
        "Corrigido o erro AttributeError: 'Seq' object has no attribute 'is_valid_dna'\n",
        "Adicionada função is_valid_dna para verificar a validade da sequência de DNA\n",
        "Atualizada a chamada para a função de validação no início do código\n",
        "\n",
        "Otimizações a fazer:\n",
        "Verificar se há maneiras de otimizar o código para melhorar a eficiência\n",
        "Verificar se há possíveis otimizações na manipulação de strings e listas\n",
        "Considerar a adição de mais verificações específicas, dependendo dos requisitos do projeto"
      ]
    },
    {
      "cell_type": "markdown",
      "metadata": {
        "id": "a_OpErQLvcN8"
      },
      "source": [
        "## Open Reading *Frames* -> Mindo"
      ]
    },
    {
      "cell_type": "markdown",
      "metadata": {},
      "source": [
        "Um reading frame com um comprimento suficiente e sem códons stop é designado por open reading frame aberto (ORF). Quando a sequência do genoma é conhecida, mas a localização dos genes ainda não foi anotada, os ORFs são de particular importância, pois indicam uma parte do genoma onde os genes estão potencialmente codificados."
      ]
    },
    {
      "cell_type": "markdown",
      "metadata": {},
      "source": [
        "Vai permitir procurar todas as possibilidades de regiões codificadoras de proteínas, dada uma região do genoma. Tendo os reading frames calculados, o próximo passo óbvio é encontrar possíveis proteínas que podem ser codificadas dentro desses frames. Esta tarefa consiste em encontrar os ORFs, que são reading frames que têm o potencial de serem traduzidos em proteínas."
      ]
    },
    {
      "cell_type": "markdown",
      "metadata": {},
      "source": [
        "Esta função classifica uma sequência como DNA, RNA, uma sequência de aminoácidos ou a considera inválida, dependendo dos caracteres presentes na sequência. A classificação é baseada na presença ou ausência de caracteres específicos associados a cada tipo de sequência."
      ]
    },
    {
      "cell_type": "code",
      "execution_count": 91,
      "metadata": {},
      "outputs": [],
      "source": [
        "def tipo_seq(seq):\n",
        "    \"\"\"\n",
        "    Função que a partir de uma sequência, classifica-a em DNA, RNA ou SEQUÊNCIA AMINÁCIDOS.\n",
        "\n",
        "    Parâmetro\n",
        "    ---------\n",
        "    seq : str \n",
        "        A sequência a ser classificada.\n",
        "\n",
        "    Retorna\n",
        "    -------\n",
        "    str\n",
        "        A classificação da sequência.\n",
        "        \n",
        "    \"\"\"\n",
        "\n",
        "    if not bool(seq):\n",
        "        raise ValueError(\"É uma sequência inválida\")\n",
        "\n",
        "    seq = aprimorar_seq(seq)\n",
        "    \n",
        "    if validar_dna(seq):\n",
        "        return \"DNA\"\n",
        "        \n",
        "    if len([c for c in seq if c not in \"ACGU\"]) == 0:\n",
        "        return \"RNA\"\n",
        "        \n",
        "    elif len([c for c in seq if c not in \"ABCDEFGHIKLMNPQRSTVWYZ_\"]) == 0:\n",
        "        return \"SEQUÊNCIA AMINOÁCIDOS\"\n",
        "    \n",
        "    else:\n",
        "        raise ValueError(\"É uma sequência inválida\")\n",
        "    \n"
      ]
    },
    {
      "cell_type": "code",
      "execution_count": 92,
      "metadata": {},
      "outputs": [
        {
          "name": "stderr",
          "output_type": "stream",
          "text": [
            "test_aminoacidos (__main__.TestTipoSeq.test_aminoacidos) ... ok\n",
            "test_dna (__main__.TestTipoSeq.test_dna) ... ok\n",
            "test_invalido (__main__.TestTipoSeq.test_invalido) ... ok\n",
            "test_misturado (__main__.TestTipoSeq.test_misturado) ... ok\n",
            "test_rna (__main__.TestTipoSeq.test_rna) ... ok\n",
            "\n",
            "----------------------------------------------------------------------\n",
            "Ran 5 tests in 0.005s\n",
            "\n",
            "OK\n"
          ]
        },
        {
          "data": {
            "text/plain": [
              "<unittest.runner.TextTestResult run=5 errors=0 failures=0>"
            ]
          },
          "execution_count": 92,
          "metadata": {},
          "output_type": "execute_result"
        }
      ],
      "source": [
        "import unittest\n",
        "\n",
        "class TestTipoSeq(unittest.TestCase):\n",
        "    def test_dna(self):\n",
        "        result = tipo_seq(\"ATCG\")\n",
        "        self.assertEqual(result, \"DNA\")\n",
        "\n",
        "    def test_rna(self):\n",
        "        result = tipo_seq(\"AUCG\")\n",
        "        self.assertEqual(result, \"RNA\")\n",
        "\n",
        "    def test_aminoacidos(self):\n",
        "        result = tipo_seq(\"ACDEFGHIKLMNPQRSTVWY\")\n",
        "        self.assertEqual(result, \"SEQUÊNCIA AMINOÁCIDOS\")\n",
        "\n",
        "    def test_invalido(self):\n",
        "        with self.assertRaises(ValueError):\n",
        "            tipo_seq(\"\")\n",
        "\n",
        "    def test_misturado(self):\n",
        "        with self.assertRaises(ValueError):\n",
        "            tipo_seq(\"16\")\n",
        "        \n",
        "suite = unittest.TestLoader().loadTestsFromTestCase(TestTipoSeq)\n",
        "unittest.TextTestRunner( verbosity=3 ).run( suite )\n",
        "        "
      ]
    },
    {
      "cell_type": "markdown",
      "metadata": {},
      "source": [
        "Esta função tenta gerar diferentes ORFs a partir de uma sequência de DNA ou RNA, tendo em conta os casos de DNA, RNA e sequências que não se encaixam em nenhum desses tipos. O objetivo é devolver uma lista com as ORFs em formato de string, incluindo o complemento reverso."
      ]
    },
    {
      "cell_type": "code",
      "execution_count": 95,
      "metadata": {},
      "outputs": [],
      "source": [
        "def get_orfs(seq):\n",
        "    \"\"\"\n",
        "    Função que a partir de uma sequência de DNA ou RNA origina diferentes tipos de ORFS.\n",
        "\n",
        "    Parâmetro\n",
        "    --------\n",
        "    seq : str\n",
        "        Sequência de DNA ou RNA.\n",
        "\n",
        "    Returns\n",
        "    -------\n",
        "    lista\n",
        "        Lista das ORFs geradas a partir da sequência.\n",
        "    \n",
        "    \"\"\"\n",
        "    seq_comp_inv = complemento_inverso(seq)\n",
        "    lista_orfs = [\n",
        "            seq[0:], seq[1:], seq[2:],\n",
        "            seq_comp_inv[0:], seq_comp_inv[1:], seq_comp_inv[2:]\n",
        "        ]\n",
        "    return lista_orfs\n",
        "    "
      ]
    },
    {
      "cell_type": "code",
      "execution_count": 96,
      "metadata": {},
      "outputs": [
        {
          "ename": "AssertionError",
          "evalue": "",
          "output_type": "error",
          "traceback": [
            "\u001b[1;31m---------------------------------------------------------------------------\u001b[0m",
            "\u001b[1;31mAssertionError\u001b[0m                            Traceback (most recent call last)",
            "\u001b[1;32mrezekiz\\aaspg4\\notebook-principal-portfolio.ipynb Cell 108\u001b[0m line \u001b[0;36m1\n\u001b[1;32m----> <a href='vscode-notebook-cell://github/rezekiz/aaspg4/notebook-principal-portfolio.ipynb#Y220sdnNjb2RlLXZmcw%3D%3D?line=0'>1</a>\u001b[0m get_orfs(\u001b[39m\"\u001b[39;49m\u001b[39mAUCG\u001b[39;49m\u001b[39m\"\u001b[39;49m)\n",
            "\u001b[1;32mrezekiz\\aaspg4\\notebook-principal-portfolio.ipynb Cell 108\u001b[0m line \u001b[0;36m1\n\u001b[0;32m      <a href='vscode-notebook-cell://github/rezekiz/aaspg4/notebook-principal-portfolio.ipynb#Y220sdnNjb2RlLXZmcw%3D%3D?line=0'>1</a>\u001b[0m \u001b[39mdef\u001b[39;00m \u001b[39mget_orfs\u001b[39m(seq):\n\u001b[0;32m      <a href='vscode-notebook-cell://github/rezekiz/aaspg4/notebook-principal-portfolio.ipynb#Y220sdnNjb2RlLXZmcw%3D%3D?line=1'>2</a>\u001b[0m \u001b[39m    \u001b[39m\u001b[39m\"\"\"\u001b[39;00m\n\u001b[0;32m      <a href='vscode-notebook-cell://github/rezekiz/aaspg4/notebook-principal-portfolio.ipynb#Y220sdnNjb2RlLXZmcw%3D%3D?line=2'>3</a>\u001b[0m \u001b[39m    Função que a partir de uma sequência de DNA ou RNA origina diferentes tipos de ORFS.\u001b[39;00m\n\u001b[0;32m      <a href='vscode-notebook-cell://github/rezekiz/aaspg4/notebook-principal-portfolio.ipynb#Y220sdnNjb2RlLXZmcw%3D%3D?line=3'>4</a>\u001b[0m \n\u001b[1;32m   (...)\u001b[0m\n\u001b[0;32m     <a href='vscode-notebook-cell://github/rezekiz/aaspg4/notebook-principal-portfolio.ipynb#Y220sdnNjb2RlLXZmcw%3D%3D?line=13'>14</a>\u001b[0m \u001b[39m    \u001b[39;00m\n\u001b[0;32m     <a href='vscode-notebook-cell://github/rezekiz/aaspg4/notebook-principal-portfolio.ipynb#Y220sdnNjb2RlLXZmcw%3D%3D?line=14'>15</a>\u001b[0m \u001b[39m    \"\"\"\u001b[39;00m\n\u001b[1;32m---> <a href='vscode-notebook-cell://github/rezekiz/aaspg4/notebook-principal-portfolio.ipynb#Y220sdnNjb2RlLXZmcw%3D%3D?line=15'>16</a>\u001b[0m     seq_comp_inv \u001b[39m=\u001b[39m complemento_inverso(seq)\n\u001b[0;32m     <a href='vscode-notebook-cell://github/rezekiz/aaspg4/notebook-principal-portfolio.ipynb#Y220sdnNjb2RlLXZmcw%3D%3D?line=16'>17</a>\u001b[0m     lista_orfs \u001b[39m=\u001b[39m [\n\u001b[0;32m     <a href='vscode-notebook-cell://github/rezekiz/aaspg4/notebook-principal-portfolio.ipynb#Y220sdnNjb2RlLXZmcw%3D%3D?line=17'>18</a>\u001b[0m             seq[\u001b[39m0\u001b[39m:], seq[\u001b[39m1\u001b[39m:], seq[\u001b[39m2\u001b[39m:],\n\u001b[0;32m     <a href='vscode-notebook-cell://github/rezekiz/aaspg4/notebook-principal-portfolio.ipynb#Y220sdnNjb2RlLXZmcw%3D%3D?line=18'>19</a>\u001b[0m             seq_comp_inv[\u001b[39m0\u001b[39m:], seq_comp_inv[\u001b[39m1\u001b[39m:], seq_comp_inv[\u001b[39m2\u001b[39m:]\n\u001b[0;32m     <a href='vscode-notebook-cell://github/rezekiz/aaspg4/notebook-principal-portfolio.ipynb#Y220sdnNjb2RlLXZmcw%3D%3D?line=19'>20</a>\u001b[0m         ]\n\u001b[0;32m     <a href='vscode-notebook-cell://github/rezekiz/aaspg4/notebook-principal-portfolio.ipynb#Y220sdnNjb2RlLXZmcw%3D%3D?line=20'>21</a>\u001b[0m     \u001b[39mreturn\u001b[39;00m lista_orfs\n",
            "\u001b[1;32mrezekiz\\aaspg4\\notebook-principal-portfolio.ipynb Cell 108\u001b[0m line \u001b[0;36m2\n\u001b[0;32m      <a href='vscode-notebook-cell://github/rezekiz/aaspg4/notebook-principal-portfolio.ipynb#Y220sdnNjb2RlLXZmcw%3D%3D?line=1'>2</a>\u001b[0m \u001b[39m\u001b[39m\u001b[39m'''\u001b[39;00m\n\u001b[0;32m      <a href='vscode-notebook-cell://github/rezekiz/aaspg4/notebook-principal-portfolio.ipynb#Y220sdnNjb2RlLXZmcw%3D%3D?line=2'>3</a>\u001b[0m \u001b[39mFunção que itera sobre uma sequência de DNA e devolve\u001b[39;00m\n\u001b[0;32m      <a href='vscode-notebook-cell://github/rezekiz/aaspg4/notebook-principal-portfolio.ipynb#Y220sdnNjb2RlLXZmcw%3D%3D?line=3'>4</a>\u001b[0m \u001b[39mo complemento reverso de cada nucleotido.\u001b[39;00m\n\u001b[1;32m   (...)\u001b[0m\n\u001b[0;32m     <a href='vscode-notebook-cell://github/rezekiz/aaspg4/notebook-principal-portfolio.ipynb#Y220sdnNjb2RlLXZmcw%3D%3D?line=21'>22</a>\u001b[0m \n\u001b[0;32m     <a href='vscode-notebook-cell://github/rezekiz/aaspg4/notebook-principal-portfolio.ipynb#Y220sdnNjb2RlLXZmcw%3D%3D?line=22'>23</a>\u001b[0m \u001b[39m'''\u001b[39;00m\n\u001b[0;32m     <a href='vscode-notebook-cell://github/rezekiz/aaspg4/notebook-principal-portfolio.ipynb#Y220sdnNjb2RlLXZmcw%3D%3D?line=23'>24</a>\u001b[0m \u001b[39massert\u001b[39;00m sequencia \u001b[39m!=\u001b[39m \u001b[39m'\u001b[39m\u001b[39m'\u001b[39m \u001b[39mor\u001b[39;00m sequencia \u001b[39m!=\u001b[39m \u001b[39m'\u001b[39m\u001b[39m \u001b[39m\u001b[39m'\u001b[39m\n\u001b[1;32m---> <a href='vscode-notebook-cell://github/rezekiz/aaspg4/notebook-principal-portfolio.ipynb#Y220sdnNjb2RlLXZmcw%3D%3D?line=24'>25</a>\u001b[0m \u001b[39massert\u001b[39;00m validar_dna(sequencia)\n\u001b[0;32m     <a href='vscode-notebook-cell://github/rezekiz/aaspg4/notebook-principal-portfolio.ipynb#Y220sdnNjb2RlLXZmcw%3D%3D?line=27'>28</a>\u001b[0m complementar \u001b[39m=\u001b[39m \u001b[39m'\u001b[39m\u001b[39m'\u001b[39m \u001b[39m# inicializamos a cadeia complementar\u001b[39;00m\n\u001b[0;32m     <a href='vscode-notebook-cell://github/rezekiz/aaspg4/notebook-principal-portfolio.ipynb#Y220sdnNjb2RlLXZmcw%3D%3D?line=29'>30</a>\u001b[0m \u001b[39mfor\u001b[39;00m base \u001b[39min\u001b[39;00m sequencia\u001b[39m.\u001b[39mupper():\n",
            "\u001b[1;31mAssertionError\u001b[0m: "
          ]
        }
      ],
      "source": [
        "get_orfs(\"AUCG\")"
      ]
    },
    {
      "cell_type": "code",
      "execution_count": 88,
      "metadata": {},
      "outputs": [
        {
          "name": "stderr",
          "output_type": "stream",
          "text": [
            "test_get_orfs_dna (__main__.TestGetOrfs.test_get_orfs_dna) ... ok\n",
            "test_get_orfs_invalid_seq (__main__.TestGetOrfs.test_get_orfs_invalid_seq) ... ok\n",
            "test_get_orfs_rna (__main__.TestGetOrfs.test_get_orfs_rna) ... FAIL\n",
            "\n",
            "======================================================================\n",
            "FAIL: test_get_orfs_rna (__main__.TestGetOrfs.test_get_orfs_rna)\n",
            "----------------------------------------------------------------------\n",
            "Traceback (most recent call last):\n",
            "  File \"C:\\Users\\armin\\AppData\\Local\\Temp\\ipykernel_2748\\93796610.py\", line 10, in test_get_orfs_rna\n",
            "    result = get_orfs(\"AUCG\")\n",
            "             ^^^^^^^^^^^^^^^^\n",
            "  File \"C:\\Users\\armin\\AppData\\Local\\Temp\\ipykernel_2748\\2440249712.py\", line 25, in get_orfs\n",
            "    seq_comp_inv = complemento_inverso(seq)\n",
            "                   ^^^^^^^^^^^^^^^^^^^^^^^^\n",
            "  File \"C:\\Users\\armin\\AppData\\Local\\Temp\\ipykernel_2748\\3349003147.py\", line 25, in complemento_inverso\n",
            "    assert validar_dna(sequencia)\n",
            "AssertionError\n",
            "\n",
            "----------------------------------------------------------------------\n",
            "Ran 3 tests in 0.004s\n",
            "\n",
            "FAILED (failures=1)\n"
          ]
        },
        {
          "data": {
            "text/plain": [
              "<unittest.runner.TextTestResult run=3 errors=0 failures=1>"
            ]
          },
          "execution_count": 88,
          "metadata": {},
          "output_type": "execute_result"
        }
      ],
      "source": [
        "import unittest\n",
        "\n",
        "class TestGetOrfs(unittest.TestCase):\n",
        "    def test_get_orfs_dna(self):\n",
        "        result = get_orfs(\"ATCG\")\n",
        "        expected = [\"ATCG\", \"TCG\", \"CG\", \"CGAT\", \"GAT\", \"AT\"]\n",
        "        self.assertEqual(result, expected)\n",
        "\n",
        "    def test_get_orfs_rna(self):\n",
        "        result = get_orfs(\"AUCG\")\n",
        "        expected = [\"AUCG\", \"UCG\", \"CG\", \"CGAU\", \"GAU\", \"AU\"]\n",
        "        self.assertEqual(result, expected)\n",
        "\n",
        "    def test_get_orfs_invalid_seq(self):\n",
        "        with self.assertRaises(ValueError):\n",
        "            get_orfs(\"\")\n",
        "\n",
        "\n",
        "suite = unittest.TestLoader().loadTestsFromTestCase(TestGetOrfs)\n",
        "unittest.TextTestRunner( verbosity=3 ).run( suite )\n"
      ]
    },
    {
      "cell_type": "code",
      "execution_count": 7,
      "metadata": {},
      "outputs": [
        {
          "data": {
            "text/plain": [
              "['AATCG', 'ATCG', 'TCG', 'TTAGC', 'TAGC', 'AGC']"
            ]
          },
          "execution_count": 7,
          "metadata": {},
          "output_type": "execute_result"
        }
      ],
      "source": [
        "get_orfs(\"AATCG\")"
      ]
    },
    {
      "cell_type": "markdown",
      "metadata": {
        "id": "jMT_Zen2Sr-8"
      },
      "source": [
        "## Nesta secção\n",
        "\n",
        "Needleman-Wunsch"
      ]
    },
    {
      "cell_type": "markdown",
      "metadata": {
        "id": "eq4y-Gj4awN9"
      },
      "source": [
        "##O primeiro passo\n",
        "acho que passa por ser este, **temos de escolher uma das duas opções que temos:**"
      ]
    },
    {
      "cell_type": "markdown",
      "metadata": {
        "id": "1IVqAN7KaUNK"
      },
      "source": [
        "Esses são apenas exemplos básicos para mostrar o processo de conversão de uma sequência de DNA numa sequência de aminoácidos. Podemos personalizar estes códigos de acordo com nossos criterios e **adicionar recursos adicionais, como validação de entrada e tratamento de erros**.\n",
        "\n",
        "É preciso mais codigo incorporando Padrões: Boyer-Moore e RE na cena. e definir um tema para já\n",
        "\n",
        "\n"
      ]
    }
  ],
  "metadata": {
    "kernelspec": {
      "display_name": "Python 3",
      "language": "python",
      "name": "python3"
    },
    "language_info": {
      "codemirror_mode": {
        "name": "ipython",
        "version": 3
      },
      "file_extension": ".py",
      "mimetype": "text/x-python",
      "name": "python",
      "nbconvert_exporter": "python",
      "pygments_lexer": "ipython3",
      "version": "3.11.5"
    }
  },
  "nbformat": 4,
  "nbformat_minor": 0
}
