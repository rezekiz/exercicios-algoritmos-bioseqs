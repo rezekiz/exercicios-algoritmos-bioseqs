{
 "cells": [
  {
   "cell_type": "markdown",
   "metadata": {},
   "source": [
    "Preciso dos termos usados por nós para as funções (caso existam):\n",
    "\n",
    "- needleman_wunsch \n",
    "- pontuacao\n",
    "- encontrar_par_mais_proximo\n",
    "- agrupar\n",
    "- atualizar_matriz_distancias\n",
    "- construir_arvore_filogenetica"
   ]
  },
  {
   "cell_type": "markdown",
   "metadata": {},
   "source": [
    "A filogenia é um campo que estuda as relações evolutivas entre organismos. Existem várias técnicas e métodos para a construção de árvores filogenéticas, e a escolha dependerá do tipo de dados disponíveis e das perguntas a responder.\n",
    "\n",
    "Para análise filogenética utilizando o algoritmo **Needleman-Wunsch** devemos garantir estas etapas:\n",
    "\n",
    "- **Loop de Alinhamento**:\n",
    "\n",
    "    *Este loop deve invocar o algoritmo Needleman-Wunsch para cada par de sequências e, em seguida, atualizar a matriz ou estrutura de dados que armazena as pontuações ou distâncias entre as sequências.*\n",
    "\n",
    "- **Matriz com um Dado Score**:\n",
    "\n",
    "    *A matriz pode ser inicializada com zeros, e o loop de alinhamento será responsável por preenchê-la com os valores de pontuação calculados pelo algoritmo Needleman-Wunsch.*\n",
    "\n",
    "- **Cálculo e Agrupamento Progressivo**:\n",
    "\n",
    "    *Após realizar os alinhamentos progressivos e preencher a matriz de distâncias, é necessário implementar um método para calcular as distâncias progressivas e agrupar as sequências de acordo com essas distâncias. Métodos comuns incluem o UPGMA (Unweighted Pair Group Method with Arithmetic Mean) ou o Neighbor-Joining.*\n",
    "\n",
    "- **Profit**:\n",
    "\n",
    "    *O \"Profit\" refere-se à avaliação da qualidade do agrupamento ou à construção da árvore filogenética. Isso pode envolver a análise da estabilidade do agrupamento, a avaliação do bootstrap, ou a construção da árvore final.*"
   ]
  },
  {
   "cell_type": "code",
   "execution_count": 5,
   "metadata": {},
   "outputs": [],
   "source": [
    "sequencias = [...]  # sequências aqui\n",
    "\n",
    "# Função para criar uma matriz preenchida com zeros\n",
    "def create_zeros_matrix(rows, cols):\n",
    "    return [[0] * cols for _ in range(rows)]\n",
    "\n",
    "# Função para calcular o score considerando os critérios que queremos estipular\n",
    "def calculate_score(char1, char2):\n",
    "    if char1 == char2:\n",
    "        return 2\n",
    "    else:\n",
    "        return -1\n",
    "\n",
    "# Função para encontrar o par de sequências mais próximas\n",
    "def encontrar_par_mais_proximo(distancia_matriz):\n",
    "    pass\n",
    "\n",
    "# Função para agrupar sequências\n",
    "def agrupar(seq1, seq2):\n",
    "    pass\n",
    "\n",
    "# Função para atualizar a matriz de distâncias\n",
    "def atualizar_matriz_distancias(distancia_matriz, i, j, novo_grupo):\n",
    "    pass\n",
    "\n",
    "\n",
    "# Função para construir a árvore filogenética\n",
    "def construir_arvore_filogenetica(distancia_matriz):\n",
    "    pass    \n",
    "\n",
    "# Inicialização das sequências\n",
    "sequencias = [...]  # suas sequências aqui\n",
    "\n",
    "\n",
    "# Inicialização da matriz de distâncias\n",
    "distancia_matriz = create_zeros_matrix(len(sequencias), len(sequencias))\n"
   ]
  },
  {
   "cell_type": "code",
   "execution_count": 6,
   "metadata": {},
   "outputs": [],
   "source": [
    "\n",
    "# Loop de Alinhamento\n",
    "for i in range(len(sequencias)):\n",
    "    for j in range(i+1, len(sequencias)):\n",
    "        # Realiza o alinhamento usando Needleman-Wunsch\n",
    "        alinhamento_resultado = needleman_wunsch(sequencias[i], sequencias[j])\n",
    "\n",
    "        # Atualiza a matriz de distâncias com a pontuação resultante\n",
    "        distancia_matriz[i][j] = pontuacao(alinhamento_resultado)\n",
    "        distancia_matriz[j][i] = distancia_matriz[i][j]\n"
   ]
  },
  {
   "cell_type": "code",
   "execution_count": 7,
   "metadata": {},
   "outputs": [],
   "source": [
    "\n",
    "# Cálculo e Agrupamento Progressivo\n",
    "while len(sequencias) > 1:\n",
    "    # Encontrar o par de sequências mais próximas na matriz de distâncias\n",
    "    i, j = encontrar_par_mais_proximo(distancia_matriz)\n",
    "\n",
    "    # Criar um novo grupo (ou nó) com essas sequências\n",
    "    novo_grupo = agrupar(sequencias[i], sequencias[j])\n",
    "\n",
    "    # Atualizar a matriz de distâncias com as distâncias entre o novo grupo e as sequências restantes\n",
    "    distancia_matriz = atualizar_matriz_distancias(distancia_matriz, i, j, novo_grupo)\n",
    "\n",
    "    # Adicionar o novo grupo à lista de sequências\n",
    "    sequencias.append(novo_grupo)\n",
    "\n",
    "    # Remover as sequências antigas do agrupamento\n",
    "    sequencias.pop(i)\n",
    "    sequencias.pop(j-1)\n",
    "\n",
    "\n"
   ]
  },
  {
   "cell_type": "code",
   "execution_count": 8,
   "metadata": {},
   "outputs": [
    {
     "name": "stdout",
     "output_type": "stream",
     "text": [
      "None\n"
     ]
    }
   ],
   "source": [
    "\n",
    "# Profit (construção da árvore filogenética)\n",
    "arvore_filogenetica = construir_arvore_filogenetica(distancia_matriz)\n",
    "\n",
    "\n",
    "# Imprime a árvore filogenética ou realiza outras análises conforme necessário\n",
    "print(arvore_filogenetica)\n"
   ]
  }
 ],
 "metadata": {
  "kernelspec": {
   "display_name": "base",
   "language": "python",
   "name": "python3"
  },
  "language_info": {
   "codemirror_mode": {
    "name": "ipython",
    "version": 3
   },
   "file_extension": ".py",
   "mimetype": "text/x-python",
   "name": "python",
   "nbconvert_exporter": "python",
   "pygments_lexer": "ipython3",
   "version": "3.11.4"
  }
 },
 "nbformat": 4,
 "nbformat_minor": 2
}
