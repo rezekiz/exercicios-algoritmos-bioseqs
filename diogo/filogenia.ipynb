{
 "cells": [
  {
   "cell_type": "markdown",
   "metadata": {},
   "source": [
    "Preciso dos termos usados por nós para as funções (caso existam):\n",
    "\n",
    "- needleman_wunsch \n",
    "- pontuacao\n",
    "- encontrar_par_mais_proximo\n",
    "- agrupar\n",
    "- atualizar_matriz_distancias\n",
    "- construir_arvore_filogenetica"
   ]
  },
  {
   "cell_type": "markdown",
   "metadata": {},
   "source": [
    "A filogenia é um campo que estuda as relações evolutivas entre organismos. Existem várias técnicas e métodos para a construção de árvores filogenéticas, e a escolha dependerá do tipo de dados disponíveis e das perguntas a responder.\n",
    "\n",
    "Para análise filogenética utilizando o algoritmo **Needleman-Wunsch** devemos garantir estas etapas:\n",
    "\n",
    "- **Loop de Alinhamento**:\n",
    "\n",
    "    *Este loop deve invocar o algoritmo Needleman-Wunsch para cada par de sequências e, em seguida, atualizar a matriz ou estrutura de dados que armazena as pontuações ou distâncias entre as sequências.*\n",
    "\n",
    "- **Matriz com um Dado Score**:\n",
    "\n",
    "    *A matriz pode ser inicializada com zeros, e o loop de alinhamento será responsável por preenchê-la com os valores de pontuação calculados pelo algoritmo Needleman-Wunsch.*\n",
    "\n",
    "- **Cálculo e Agrupamento Progressivo**:\n",
    "\n",
    "    *Após realizar os alinhamentos progressivos e preencher a matriz de distâncias, é necessário implementar um método para calcular as distâncias progressivas e agrupar as sequências de acordo com essas distâncias. Métodos comuns incluem o UPGMA (Unweighted Pair Group Method with Arithmetic Mean) ou o Neighbor-Joining.*\n",
    "\n",
    "- **Profit**:\n",
    "\n",
    "    *O \"Profit\" refere-se à avaliação da qualidade do agrupamento ou à construção da árvore filogenética. Isso pode envolver a análise da estabilidade do agrupamento, a avaliação do bootstrap, ou a construção da árvore final.*"
   ]
  },
  {
   "cell_type": "code",
   "execution_count": null,
   "metadata": {},
   "outputs": [],
   "source": [
    "# Pseudocódigo completo para análise filogenética usando Needleman-Wunsch e assumindo que as funções enunciadas no topo deste ficheiro estão completas\n",
    "\n",
    "# Inicialização das sequências\n",
    "sequencias = [...]  # suas sequências aqui\n",
    "\n",
    "# Inicialização da matriz de distâncias\n",
    "distancia_matriz = zeros(len(sequencias), len(sequencias))\n",
    "\n",
    "# Loop de Alinhamento\n",
    "for i in range(len(sequencias)):\n",
    "    for j in range(i+1, len(sequencias)):\n",
    "        # Realiza o alinhamento usando Needleman-Wunsch\n",
    "        alinhamento_resultado = needleman_wunsch(sequencias[i], sequencias[j])\n",
    "\n",
    "        # Atualiza a matriz de distâncias com a pontuação resultante\n",
    "        distancia_matriz[i][j] = pontuacao(alinhamento_resultado)\n",
    "        distancia_matriz[j][i] = distancia_matriz[i][j]\n",
    "\n",
    "# Cálculo e Agrupamento Progressivo\n",
    "while len(sequencias) > 1:\n",
    "    # Encontrar o par de sequências mais próximas na matriz de distâncias\n",
    "    i, j = encontrar_par_mais_proximo(distancia_matriz)\n",
    "\n",
    "    # Criar um novo grupo (ou nó) com essas sequências\n",
    "    novo_grupo = agrupar(sequencias[i], sequencias[j])\n",
    "\n",
    "    # Atualizar a matriz de distâncias com as distâncias entre o novo grupo e as sequências restantes\n",
    "    distancia_matriz = atualizar_matriz_distancias(distancia_matriz, i, j, novo_grupo)\n",
    "\n",
    "    # Adicionar o novo grupo à lista de sequências\n",
    "    sequencias.append(novo_grupo)\n",
    "\n",
    "    # Remover as sequências antigas do agrupamento\n",
    "    sequencias.pop(i)\n",
    "    sequencias.pop(j-1)\n",
    "\n",
    "# Profit (construção da árvore filogenética)\n",
    "arvore_filogenetica = construir_arvore_filogenetica(distancia_matriz)\n",
    "\n",
    "# Imprime a árvore filogenética ou realiza outras análises conforme necessário\n",
    "print(arvore_filogenetica)\n"
   ]
  },
  {
   "cell_type": "markdown",
   "metadata": {},
   "source": []
  }
 ],
 "metadata": {
  "language_info": {
   "name": "python"
  }
 },
 "nbformat": 4,
 "nbformat_minor": 2
}
