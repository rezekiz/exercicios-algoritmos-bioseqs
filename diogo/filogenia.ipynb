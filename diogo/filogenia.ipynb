{
 "cells": [
  {
   "cell_type": "markdown",
   "metadata": {},
   "source": [
    "Preciso dos termos usados por nós para as funções (caso existam):\n",
    "\n",
    "- needleman_wunsch \n",
    "- pontuacao\n",
    "- encontrar_par_mais_proximo\n",
    "- agrupar\n",
    "- atualizar_matriz_distancias\n",
    "- construir_arvore_filogenetica\n",
    "\n",
    "***funções com biopython que poderão ser utéis (ou não) no final***"
   ]
  },
  {
   "cell_type": "markdown",
   "metadata": {},
   "source": [
    "A filogenia é um campo que estuda as relações evolutivas entre organismos. Existem várias técnicas e métodos para a construção de árvores filogenéticas, e a escolha dependerá do tipo de dados disponíveis e das perguntas a responder.\n",
    "\n",
    "Para análise filogenética utilizando o algoritmo **Needleman-Wunsch** devemos garantir estas etapas:\n",
    "\n",
    "- **Loop de Alinhamento**:\n",
    "\n",
    "    *Este loop deve invocar o algoritmo Needleman-Wunsch para cada par de sequências e, em seguida, atualizar a matriz ou estrutura de dados que armazena as pontuações ou distâncias entre as sequências.*\n",
    "\n",
    "- **Matriz com um Dado Score**:\n",
    "\n",
    "    *A matriz pode ser inicializada com zeros, e o loop de alinhamento será responsável por preenchê-la com os valores de pontuação calculados pelo algoritmo Needleman-Wunsch.*\n",
    "\n",
    "- **Cálculo e Agrupamento Progressivo**:\n",
    "\n",
    "    *Após realizar os alinhamentos progressivos e preencher a matriz de distâncias, é necessário implementar um método para calcular as distâncias progressivas e agrupar as sequências de acordo com essas distâncias. Métodos comuns incluem o UPGMA (Unweighted Pair Group Method with Arithmetic Mean) ou o Neighbor-Joining.*\n",
    "\n",
    "- **Profit**:\n",
    "\n",
    "    *O \"Profit\" refere-se à avaliação da qualidade do agrupamento ou à construção da árvore filogenética. Isso pode envolver a análise da estabilidade do agrupamento, a avaliação do bootstrap, ou a construção da árvore final.*"
   ]
  },
  {
   "cell_type": "code",
   "execution_count": null,
   "metadata": {},
   "outputs": [],
   "source": [
    "sequencias = [...]  # sequências aqui\n"
   ]
  },
  {
   "cell_type": "code",
   "execution_count": null,
   "metadata": {},
   "outputs": [],
   "source": [
    "\n",
    "# Função para criar uma matriz preenchida com zeros\n",
    "def create_zeros_matrix(rows, cols):\n",
    "    return [[0] * cols for _ in range(rows)]\n",
    "\n",
    "# Função para calcular o score considerando os critérios que queremos estipular\n",
    "def calculate_score(char1, char2):\n",
    "    if char1 == char2:\n",
    "        return 2\n",
    "    else:\n",
    "        return -1\n",
    "\n",
    "# Função para encontrar o par de sequências mais próximas\n",
    "def encontrar_par_mais_proximo(distancia_matriz):\n",
    "    pass\n",
    "\n",
    "# Função para agrupar sequências\n",
    "def agrupar(seq1, seq2):\n",
    "    pass\n",
    "\n",
    "# Função para atualizar a matriz de distâncias\n",
    "def atualizar_matriz_distancias(distancia_matriz, i, j, novo_grupo):\n",
    "    pass\n",
    "\n",
    "\n",
    "# Função para construir a árvore filogenética\n",
    "def construir_arvore_filogenetica(distancia_matriz):\n",
    "    pass    \n",
    "\n",
    "# Inicialização das sequências\n",
    "sequencias = [...]  # suas sequências aqui\n",
    "\n",
    "\n",
    "# Inicialização da matriz de distâncias\n",
    "distancia_matriz = create_zeros_matrix(len(sequencias), len(sequencias))\n"
   ]
  },
  {
   "cell_type": "code",
   "execution_count": null,
   "metadata": {},
   "outputs": [],
   "source": [
    "\n",
    "# Loop de Alinhamento\n",
    "for i in range(len(sequencias)):\n",
    "    for j in range(i+1, len(sequencias)):\n",
    "        # Realiza o alinhamento usando Needleman-Wunsch\n",
    "        alinhamento_resultado = needleman_wunsch(sequencias[i], sequencias[j])\n",
    "\n",
    "        # Atualiza a matriz de distâncias com a pontuação resultante\n",
    "        distancia_matriz[i][j] = pontuacao(alinhamento_resultado)\n",
    "        distancia_matriz[j][i] = distancia_matriz[i][j]\n"
   ]
  },
  {
   "cell_type": "code",
   "execution_count": null,
   "metadata": {},
   "outputs": [],
   "source": [
    "\n",
    "# Cálculo e Agrupamento Progressivo\n",
    "while len(sequencias) > 1:\n",
    "    # Encontrar o par de sequências mais próximas na matriz de distâncias\n",
    "    i, j = encontrar_par_mais_proximo(distancia_matriz)\n",
    "\n",
    "    # Criar um novo grupo (ou nó) com essas sequências\n",
    "    novo_grupo = agrupar(sequencias[i], sequencias[j])\n",
    "\n",
    "    # Atualizar a matriz de distâncias com as distâncias entre o novo grupo e as sequências restantes\n",
    "    distancia_matriz = atualizar_matriz_distancias(distancia_matriz, i, j, novo_grupo)\n",
    "\n",
    "    # Adicionar o novo grupo à lista de sequências\n",
    "    sequencias.append(novo_grupo)\n",
    "\n",
    "    # Remover as sequências antigas do agrupamento\n",
    "    sequencias.pop(i)\n",
    "    sequencias.pop(j-1)\n",
    "\n",
    "\n"
   ]
  },
  {
   "cell_type": "code",
   "execution_count": null,
   "metadata": {},
   "outputs": [],
   "source": [
    "from Bio.Cluster import treecluster\n",
    "\n",
    "# Função para construir a árvore filogenética usando Biopython\n",
    "def construir_arvore_filogenetica(distancia_matriz):\n",
    "    linkage_result = treecluster(data=distancia_matriz, method='average')\n",
    "    return linkage_result.tree\n",
    "\n",
    "# Profit (construção da árvore filogenética)\n",
    "arvore_filogenetica = construir_arvore_filogenetica(distancia_matriz)\n",
    "\n",
    "# Imprime a árvore filogenética ou realiza outras análises conforme necessário\n",
    "print(arvore_filogenetica)\n"
   ]
  },
  {
   "cell_type": "markdown",
   "metadata": {},
   "source": [
    "com biopython (acho que é isto, só escolher como pomos o input das sequencias e corrigir):"
   ]
  },
  {
   "cell_type": "code",
   "execution_count": null,
   "metadata": {},
   "outputs": [],
   "source": [
    "from Bio import pairwise2\n",
    "from Bio import SeqIO\n",
    "from Bio.Cluster import treecluster\n",
    "import numpy as np\n",
    "\n",
    "# Carregar sequências usando Biopython\n",
    "sequencias = [str(record.seq) for record in SeqIO.parse(\"seu_arquivo.fasta\", \"fasta\")]"
   ]
  },
  {
   "cell_type": "code",
   "execution_count": null,
   "metadata": {},
   "outputs": [],
   "source": [
    "# Função para calcular o score considerando os critérios dados\n",
    "def calculate_score(char1, char2):\n",
    "    if char1 == char2:\n",
    "        return 2\n",
    "    else:\n",
    "        return -1"
   ]
  },
  {
   "cell_type": "code",
   "execution_count": null,
   "metadata": {},
   "outputs": [],
   "source": [
    "# Função para realizar o alinhamento usando Biopython\n",
    "def needleman_wunsch(seq1, seq2):\n",
    "    alignments = pairwise2.align.globalxx(seq1, seq2, one_alignment_only=True, score_only=True)\n",
    "    return alignments"
   ]
  },
  {
   "cell_type": "code",
   "execution_count": null,
   "metadata": {},
   "outputs": [],
   "source": [
    "# Função para encontrar o par de sequências mais próximas usando Biopython\n",
    "def encontrar_par_mais_proximo(distancia_matriz):\n",
    "    # Utiliza Biopython para encontrar o par mais próximo\n",
    "    linkage_result = treecluster(data=distancia_matriz, method='average')\n",
    "    i, j = linkage_result.tree[0][:2]\n",
    "    return int(i), int(j)"
   ]
  },
  {
   "cell_type": "code",
   "execution_count": null,
   "metadata": {},
   "outputs": [],
   "source": [
    "# Função para agrupar sequências usando Biopython\n",
    "def agrupar(seq1, seq2):\n",
    "    # Simplesmente concatena as sequências para formar um novo grupo\n",
    "    return seq1 + seq2"
   ]
  },
  {
   "cell_type": "code",
   "execution_count": null,
   "metadata": {},
   "outputs": [],
   "source": [
    "# Função para atualizar a matriz de distâncias usando Biopython\n",
    "def atualizar_matriz_distancias(distancia_matriz, i, j, novo_grupo):\n",
    "    # Atualiza a matriz com distâncias entre o novo grupo e as sequências restantes\n",
    "    for k in range(len(distancia_matriz)):\n",
    "        if k != i and k != j:\n",
    "            dist_novo_grupo_k = (distancia_matriz[i][k] + distancia_matriz[j][k]) / 2\n",
    "            distancia_matriz[k][i] = dist_novo_grupo_k\n",
    "            distancia_matriz[i][k] = dist_novo_grupo_k\n",
    "    return distancia_matriz"
   ]
  },
  {
   "cell_type": "code",
   "execution_count": null,
   "metadata": {},
   "outputs": [],
   "source": [
    "# Função para construir a árvore filogenética usando Biopython\n",
    "def construir_arvore_filogenetica(distancia_matriz):\n",
    "    linkage_result = treecluster(data=distancia_matriz, method='average')\n",
    "    return linkage_result.tree"
   ]
  },
  {
   "cell_type": "code",
   "execution_count": null,
   "metadata": {},
   "outputs": [],
   "source": [
    "# Inicialização da matriz de distâncias usando NumPy\n",
    "distancia_matriz = np.zeros((len(sequencias), len(sequencias)))"
   ]
  },
  {
   "cell_type": "code",
   "execution_count": null,
   "metadata": {},
   "outputs": [],
   "source": [
    "# Loop de Alinhamento usando Biopython\n",
    "for i in range(len(sequencias)):\n",
    "    for j in range(i+1, len(sequencias)):\n",
    "        # Realiza o alinhamento usando Biopython\n",
    "        score = needleman_wunsch(sequencias[i], sequencias[j])\n",
    "\n",
    "        # Atualiza a matriz de distâncias com a pontuação resultante\n",
    "        distancia_matriz[i][j] = score\n",
    "        distancia_matriz[j][i] = score"
   ]
  },
  {
   "cell_type": "code",
   "execution_count": null,
   "metadata": {},
   "outputs": [],
   "source": [
    "# Cálculo e Agrupamento Progressivo usando Biopython\n",
    "while len(sequencias) > 1:\n",
    "    # Encontrar o par de sequências mais próximas usando Biopython\n",
    "    i, j = encontrar_par_mais_proximo(distancia_matriz)\n",
    "\n",
    "    # Criar um novo grupo (ou nó) com essas sequências\n",
    "    novo_grupo = agrupar(sequencias[i], sequencias[j])\n",
    "\n",
    "    # Atualizar a matriz de distâncias usando Biopython\n",
    "    distancia_matriz = atualizar_matriz_distancias(distancia_matriz, i, j, novo_grupo)\n",
    "\n",
    "    # Adicionar o novo grupo à lista de sequências\n",
    "    sequencias.append(novo_grupo)\n",
    "\n",
    "    # Remover as sequências antigas do agrupamento\n",
    "    sequencias.pop(i)\n",
    "    sequencias.pop(j-1)"
   ]
  },
  {
   "cell_type": "code",
   "execution_count": null,
   "metadata": {},
   "outputs": [],
   "source": [
    "\n",
    "# Profit (construção da árvore filogenética usando Biopython)\n",
    "arvore_filogenetica = construir_arvore_filogenetica(distancia_matriz)\n",
    "\n",
    "# Imprime a árvore filogenética ou realiza outras análises conforme necessário\n",
    "print(arvore_filogenetica)\n"
   ]
  },
  {
   "cell_type": "code",
   "execution_count": null,
   "metadata": {},
   "outputs": [],
   "source": []
  }
 ],
 "metadata": {
  "kernelspec": {
   "display_name": "base",
   "language": "python",
   "name": "python3"
  },
  "language_info": {
   "codemirror_mode": {
    "name": "ipython",
    "version": 3
   },
   "file_extension": ".py",
   "mimetype": "text/x-python",
   "name": "python",
   "nbconvert_exporter": "python",
   "pygments_lexer": "ipython3",
   "version": "3.11.4"
  }
 },
 "nbformat": 4,
 "nbformat_minor": 2
}
