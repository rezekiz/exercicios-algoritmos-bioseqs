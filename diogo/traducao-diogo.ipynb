{
 "cells": [
  {
   "cell_type": "markdown",
   "metadata": {},
   "source": [
    "Em bioinformática, o Python é bastante utilizado para o processamento básico de sequências e a tradução de sequências de DNA em sequências de aminoácidos. Existem várias bibliotecas e algoritmos disponíveis que facilitam esse processo. \n",
    "\n",
    "Existem diversas formas de realizar este processamento, citando as mais usadas: \n",
    "            - Algoritmo de tradução com o Biopython.\n",
    "            - Algoritmo de tradução personalizado mediante a finalidade, o tipo de ser vivo ou devido a outras caracteristicas especificas.\n",
    "\n",
    "Adicionei um bloco try-except para capturar exceções e lidar com erros em ambos os casos.     "
   ]
  },
  {
   "cell_type": "markdown",
   "metadata": {},
   "source": [
    "## Tradução -> Diogo"
   ]
  },
  {
   "cell_type": "markdown",
   "metadata": {},
   "source": [
    "Em bioinformática, o Python é bastante utilizado para o processamento básico de sequências e a tradução de sequências de DNA em sequências de aminoácidos. Existem várias bibliotecas e algoritmos disponíveis que facilitam esse processo. \n",
    "\n",
    "Existem diversas formas de realizar este processamento, citando as mais usadas: \n",
    "\n",
    "            - Algoritmo de tradução com o Biopython;\n",
    "\n",
    "            - Algoritmo de tradução personalizado mediante a finalidade, o tipo de ser vivo ou devido a outras caracteristicas especificas.\n",
    "            \n",
    "\n",
    "Adicionei um bloco try-except para capturar exceções e lidar com erros em ambos os casos.     "
   ]
  },
  {
   "cell_type": "code",
   "execution_count": null,
   "metadata": {},
   "outputs": [],
   "source": [
    "# Sequência de DNA exemplo\n",
    "sequencia_DNA = \"AGATGGTCTACGTCGCATCGTAGCTGAGCTAGCTAGCTAGCTAGCTAGCTAGCTAGCTAGCTAGCT\""
   ]
  },
  {
   "cell_type": "markdown",
   "metadata": {},
   "source": [
    "Algoritmo de tradução com o Biopython: Uma biblioteca em python que fornece uma ampla gama de funcionalidades para o processamento de sequências biológicas, incluindo tradução. "
   ]
  },
  {
   "cell_type": "code",
   "execution_count": null,
   "metadata": {},
   "outputs": [
    {
     "name": "stdout",
     "output_type": "stream",
     "text": [
      "Sequência de aminoácidos: RWSTSHRS*AS*LAS*LAS*LA\n"
     ]
    }
   ],
   "source": [
    "import re\n",
    "from Bio.Seq import Seq\n",
    "\n",
    "def traducao_dna_para_aminoacido(sequencia_DNA):\n",
    "    # Verifica se a sequência de DNA é válida\n",
    "    if not is_valid_dna(sequencia_DNA):\n",
    "        raise ValueError(\"Sequência de DNA inválida.\")\n",
    "\n",
    "    # Transcrição do DNA para RNA\n",
    "    sequencia_rna = Seq(sequencia_DNA).transcribe()\n",
    "\n",
    "    # Verifica se a sequência de RNA é válida\n",
    "    if not is_valid_rna(str(sequencia_rna)):\n",
    "        raise ValueError(\"Sequência de RNA inválida.\")\n",
    "\n",
    "    # Tradução do RNA para uma sequência de aminoácidos usando Biopython\n",
    "    sequencia_aminoacido = str(sequencia_rna.translate())\n",
    "\n",
    "    return sequencia_aminoacido\n",
    "\n",
    "try:\n",
    "    sequencia_aminoacido = traducao_dna_para_aminoacido(sequencia_DNA)\n",
    "    print(\"Sequência de aminoácidos:\", sequencia_aminoacido)\n",
    "except ValueError as e:\n",
    "    print(\"Erro:\", str(e))"
   ]
  },
  {
   "cell_type": "markdown",
   "metadata": {},
   "source": [
    "Algoritmo de tradução personalizado: Se tivermos requisitos específicos ou quisermos implementar o nosso próprio algoritmo de tradução, podemos criar um algoritmo personalizado para isso. "
   ]
  },
  {
   "cell_type": "code",
   "execution_count": null,
   "metadata": {},
   "outputs": [
    {
     "name": "stdout",
     "output_type": "stream",
     "text": [
      "Sequência de aminoácidos: RWSTSHRS*AS*LAS*LAS*LA\n"
     ]
    }
   ],
   "source": [
    "def traducao_personalizada(sequencia_DNA):\n",
    "    # Tabela de tradução de codões para aminoácidos\n",
    "        tabela_traducao = {\n",
    "            \"TTT\": \"F\", \"TTC\": \"F\", \"TTA\": \"L\", \"TTG\": \"L\",\n",
    "            \"CTT\": \"L\", \"CTC\": \"L\", \"CTA\": \"L\", \"CTG\": \"L\",\n",
    "            \"ATT\": \"I\", \"ATC\": \"I\", \"ATA\": \"I\", \"ATG\": \"M\",\n",
    "            \"GTT\": \"V\", \"GTC\": \"V\", \"GTA\": \"V\", \"GTG\": \"V\",\n",
    "            \"TCT\": \"S\", \"TCC\": \"S\", \"TCA\": \"S\", \"TCG\": \"S\",\n",
    "            \"CCT\": \"P\", \"CCC\": \"P\", \"CCA\": \"P\", \"CCG\": \"P\",\n",
    "            \"ACT\": \"T\", \"ACC\": \"T\", \"ACA\": \"T\", \"ACG\": \"T\",\n",
    "            \"GCT\": \"A\", \"GCC\": \"A\", \"GCA\": \"A\", \"GCG\": \"A\",\n",
    "            \"TAT\": \"Y\", \"TAC\": \"Y\", \"TAA\": \"*\", \"TAG\": \"*\",\n",
    "            \"CAT\": \"H\", \"CAC\": \"H\", \"CAA\": \"Q\", \"CAG\": \"Q\",\n",
    "            \"AAT\": \"N\", \"AAC\": \"N\", \"AAA\": \"K\", \"AAG\": \"K\",\n",
    "            \"GAT\": \"D\", \"GAC\": \"D\", \"GAA\": \"E\", \"GAG\": \"E\",\n",
    "            \"TGT\": \"C\", \"TGC\": \"C\", \"TGA\": \"*\", \"TGG\": \"W\",\n",
    "            \"CGT\": \"R\", \"CGC\": \"R\", \"CGA\": \"R\", \"CGG\": \"R\",\n",
    "            \"AGT\": \"S\", \"AGC\": \"S\", \"AGA\": \"R\", \"AGG\": \"R\",\n",
    "            \"GGT\": \"G\", \"GGC\": \"G\", \"GGA\": \"G\", \"GGG\": \"G\"\n",
    "            }\n",
    "\n",
    "    # Verifica se a sequência de DNA tem um número de bases múltiplo de 3\n",
    "        if len(sequencia_DNA) % 3 != 0:\n",
    "            raise ValueError(\"Sequência de DNA inválida: número de bases não é múltiplo de 3.\")\n",
    "\n",
    "    # Tradução do DNA para uma sequência de aminoácidos\n",
    "        sequencia_aminoacido = \"\".join([tabela_traducao[sequencia_DNA[i:i+3]] for i in range(0, len(sequencia_DNA), 3)])\n",
    "\n",
    "        return sequencia_aminoacido\n",
    "\n",
    "try:\n",
    "    sequencia_aminoacido = traducao_personalizada(sequencia_DNA)\n",
    "    print(\"Sequência de aminoácidos:\", sequencia_aminoacido)\n",
    "except ValueError as e:\n",
    "    print(\"Erro:\", str(e))"
   ]
  },
  {
   "cell_type": "markdown",
   "metadata": {},
   "source": [
    "Por fim, decidi incorporar os dois casos num (nao faço ideia se é util ou não).\n",
    "\n",
    "Este código inclui as duas formas de tradução: uma com a biblioteca Biopython e outra usando uma abordagem manual. Cada bloco de código é independente e pode ser executado separadamente. \n",
    "\n",
    "Além disso, há um bloco separado com uma lista de verificações no final."
   ]
  },
  {
   "cell_type": "code",
   "execution_count": null,
   "metadata": {},
   "outputs": [],
   "source": [
    "from Bio.Seq import Seq\n",
    "\n",
    "def valida_dna(sequencia_DNA):\n",
    "    valida_bases = set('ACGT')\n",
    "    return all(base in valida_bases for base in sequencia_DNA)\n",
    "\n",
    "def traducao_dna_aminoacido_biopython(sequencia_DNA):\n",
    "    if not valida_dna(sequencia_DNA):\n",
    "        raise ValueError(\"Sequência de DNA inválida.\")\n",
    "\n",
    "    sequencia_rna = Seq(sequencia_DNA).transcribe()\n",
    "    sequencia_aminoacido = str(sequencia_rna.translate())\n",
    "\n",
    "    return sequencia_aminoacido\n",
    "\n",
    "def traducao_dna_aminoacido_personalizada(sequencia_DNA):\n",
    "    if not valida_dna(sequencia_DNA):\n",
    "        raise ValueError(\"Sequência de DNA inválida.\")\n",
    "\n",
    "    tabela_codoes = {\n",
    "        'TTT': 'F', 'TTC': 'F', 'TTA': 'L', 'TTG': 'L',\n",
    "        'CTT': 'L', 'CTC': 'L', 'CTA': 'L', 'CTG': 'L',\n",
    "        'ATT': 'I', 'ATC': 'I', 'ATA': 'I', 'ATG': 'M',\n",
    "        'GTT': 'V', 'GTC': 'V', 'GTA': 'V', 'GTG': 'V',\n",
    "        'TCT': 'S', 'TCC': 'S', 'TCA': 'S', 'TCG': 'S',\n",
    "        'CCT': 'P', 'CCC': 'P', 'CCA': 'P', 'CCG': 'P',\n",
    "        'ACT': 'T', 'ACC': 'T', 'ACA': 'T', 'ACG': 'T',\n",
    "        'GCT': 'A', 'GCC': 'A', 'GCA': 'A', 'GCG': 'A',\n",
    "        'TAT': 'Y', 'TAC': 'Y', 'TAA': '*', 'TAG': '*',\n",
    "        'CAT': 'H', 'CAC': 'H', 'CAA': 'Q', 'CAG': 'Q',\n",
    "        'AAT': 'N', 'AAC': 'N', 'AAA': 'K', 'AAG': 'K',\n",
    "        'GAT': 'D', 'GAC': 'D', 'GAA': 'E', 'GAG': 'E',\n",
    "        'TGT': 'C', 'TGC': 'C', 'TGA': '*', 'TGG': 'W',\n",
    "        'CGT': 'R', 'CGC': 'R', 'CGA': 'R', 'CGG': 'R',\n",
    "        'AGT': 'S', 'AGC': 'S', 'AGA': 'R', 'AGG': 'R',\n",
    "        'GGT': 'G', 'GGC': 'G', 'GGA': 'G', 'GGG': 'G'\n",
    "    }\n",
    "\n",
    "    codoes = [sequencia_DNA[i:i+3] for i in range(0, len(sequencia_DNA), 3)]\n",
    "    sequencia_aminoacido = ''.join(tabela_codoes.get(codon, 'X') for codon in codoes)\n",
    "\n",
    "    return sequencia_aminoacido\n",
    "\n",
    "# Tradução usando Biopython\n",
    "try:\n",
    "    sequencia_aminoacido_biopython = traducao_dna_aminoacido_biopython(sequencia_DNA)\n",
    "    print(\"Sequência de aminoácidos (Biopython):\", sequencia_aminoacido_biopython)\n",
    "except ValueError as e:\n",
    "    print(\"Erro:\", str(e))\n",
    "\n",
    "# Tradução manual\n",
    "try:\n",
    "    sequencia_aminoacido_personalizada = traducao_dna_aminoacido_personalizada(sequencia_DNA)\n",
    "    print(\"Sequência de aminoácidos (Manual):\", sequencia_aminoacido_personalizada)\n",
    "except ValueError as e:\n",
    "    print(\"Erro:\", str(e))\n",
    "\n",
    "\n",
    "# Secção de testes de unidade\n",
    "\n",
    "class TestComplementoInverso(unittest.TestCase):\n",
    "    \n",
    "    def test_sequencia_vazia(self):\n",
    "        with self.assertRaises(ValueError):\n",
    "            complemento_inverso('')\n",
    "    \n",
    "    def test_sequencia_invalida(self):\n",
    "        with self.assertRaises(ValueError):\n",
    "            complemento_inverso('ACGHJTGH')\n",
    "    \n",
    "    def test_sequencia_com_numeros(self):\n",
    "        with self.assertRaises(ValueError):\n",
    "            complemento_inverso('12ACTG0')\n",
    "    \n",
    "    def test_sequencia_com_espacos(self):\n",
    "        self.assertTrue(complemento_inverso('  AC  CTG   '))\n",
    "    \n",
    "    def test_complemento_correto(self):\n",
    "        self.assertEqual( complemento_inverso('AATTCCGG'), 'TTAAGGCC' )\n",
    "    \n",
    "\n",
    "suite = unittest.TestLoader().loadTestsFromTestCase(TestValidaData)\n",
    "unittest.TextTestRunner( verbosity=3 ).run( suite )\n",
    "\n",
    "print(\"\\nVerificações:\")\n",
    "print(\"1. Verifique se a sequência de DNA está correta.\")\n",
    "print(\"2. Verifique se a sequência de DNA é válida, contendo apenas as bases A, C, G, T.\")\n",
    "print(\"3. Verifique se a sequência de aminoácidos foi corretamente traduzida.\")\n",
    "print(\"4. Verifique se o código está bem comentado e de fácil compreensão.\")\n",
    "print(\"5. Verifique se todas as dependências foram instaladas corretamente.\")\n",
    "print(\"6. Verifique se a função de tradução está sendo chamada corretamente.\")\n",
    "print(\"7. Verifique se as exceções são tratadas corretamente.\")\n",
    "print(\"8. Verifique se os resultados são exibidos de forma adequada.\")"
   ]
  },
  {
   "cell_type": "markdown",
   "metadata": {},
   "source": [
    "Erros e falhas identificados:\n",
    "Corrigido o erro AttributeError: 'Seq' object has no attribute 'is_valid_dna'\n",
    "Adicionada função is_valid_dna para verificar a validade da sequência de DNA\n",
    "Atualizada a chamada para a função de validação no início do código\n",
    "\n",
    "Otimizações a fazer:\n",
    "Verificar se há maneiras de otimizar o código para melhorar a eficiência\n",
    "Verificar se há possíveis otimizações na manipulação de strings e listas\n",
    "Considerar a adição de mais verificações específicas, dependendo dos requisitos do projeto"
   ]
  },
  {
   "cell_type": "code",
   "execution_count": 9,
   "metadata": {},
   "outputs": [],
   "source": [
    "# Sequência de DNA exemplo\n",
    "sequencia_DNA = \"AGATGGTCTACGTCGCATCGTAGCTGAGCTAGCTAGCTAGCTAGCTAGCTAGCTAGCTAGCTAGCT\""
   ]
  },
  {
   "cell_type": "markdown",
   "metadata": {},
   "source": [
    "Algoritmo de tradução com o Biopython: Uma biblioteca em python que fornece uma ampla gama de funcionalidades para o processamento de sequências biológicas, incluindo tradução. "
   ]
  },
  {
   "cell_type": "code",
   "execution_count": 5,
   "metadata": {},
   "outputs": [
    {
     "ename": "AttributeError",
     "evalue": "'Seq' object has no attribute 'is_valid_dna'",
     "output_type": "error",
     "traceback": [
      "\u001b[1;31m---------------------------------------------------------------------------\u001b[0m",
      "\u001b[1;31mAttributeError\u001b[0m                            Traceback (most recent call last)",
      "\u001b[1;32mrezekiz\\aaspg4\\diogo\\traducao-diogo.ipynb Cell 4\u001b[0m line \u001b[0;36m2\n\u001b[0;32m     <a href='vscode-notebook-cell://github/rezekiz/aaspg4/diogo/traducao-diogo.ipynb#W3sdnNjb2RlLXZmcw%3D%3D?line=17'>18</a>\u001b[0m     \u001b[39mreturn\u001b[39;00m sequencia_aminoacido\n\u001b[0;32m     <a href='vscode-notebook-cell://github/rezekiz/aaspg4/diogo/traducao-diogo.ipynb#W3sdnNjb2RlLXZmcw%3D%3D?line=19'>20</a>\u001b[0m \u001b[39mtry\u001b[39;00m:\n\u001b[1;32m---> <a href='vscode-notebook-cell://github/rezekiz/aaspg4/diogo/traducao-diogo.ipynb#W3sdnNjb2RlLXZmcw%3D%3D?line=20'>21</a>\u001b[0m     sequencia_aminoacido \u001b[39m=\u001b[39m traducao_dna_para_aminoacido(sequencia_DNA)\n\u001b[0;32m     <a href='vscode-notebook-cell://github/rezekiz/aaspg4/diogo/traducao-diogo.ipynb#W3sdnNjb2RlLXZmcw%3D%3D?line=21'>22</a>\u001b[0m     \u001b[39mprint\u001b[39m(\u001b[39m\"\u001b[39m\u001b[39mSequência de aminoácidos:\u001b[39m\u001b[39m\"\u001b[39m, sequencia_aminoacido)\n\u001b[0;32m     <a href='vscode-notebook-cell://github/rezekiz/aaspg4/diogo/traducao-diogo.ipynb#W3sdnNjb2RlLXZmcw%3D%3D?line=22'>23</a>\u001b[0m \u001b[39mexcept\u001b[39;00m \u001b[39mValueError\u001b[39;00m \u001b[39mas\u001b[39;00m e:\n",
      "\u001b[1;32mrezekiz\\aaspg4\\diogo\\traducao-diogo.ipynb Cell 4\u001b[0m line \u001b[0;36m5\n\u001b[0;32m      <a href='vscode-notebook-cell://github/rezekiz/aaspg4/diogo/traducao-diogo.ipynb#W3sdnNjb2RlLXZmcw%3D%3D?line=2'>3</a>\u001b[0m \u001b[39mdef\u001b[39;00m \u001b[39mtraducao_dna_para_aminoacido\u001b[39m(sequencia_DNA):\n\u001b[0;32m      <a href='vscode-notebook-cell://github/rezekiz/aaspg4/diogo/traducao-diogo.ipynb#W3sdnNjb2RlLXZmcw%3D%3D?line=3'>4</a>\u001b[0m     \u001b[39m# Verifica se a sequência de DNA é válida\u001b[39;00m\n\u001b[1;32m----> <a href='vscode-notebook-cell://github/rezekiz/aaspg4/diogo/traducao-diogo.ipynb#W3sdnNjb2RlLXZmcw%3D%3D?line=4'>5</a>\u001b[0m     \u001b[39mif\u001b[39;00m \u001b[39mnot\u001b[39;00m Seq(sequencia_DNA)\u001b[39m.\u001b[39mis_valid_dna():\n\u001b[0;32m      <a href='vscode-notebook-cell://github/rezekiz/aaspg4/diogo/traducao-diogo.ipynb#W3sdnNjb2RlLXZmcw%3D%3D?line=5'>6</a>\u001b[0m         \u001b[39mraise\u001b[39;00m \u001b[39mValueError\u001b[39;00m(\u001b[39m\"\u001b[39m\u001b[39mSequência de DNA inválida.\u001b[39m\u001b[39m\"\u001b[39m)\n\u001b[0;32m      <a href='vscode-notebook-cell://github/rezekiz/aaspg4/diogo/traducao-diogo.ipynb#W3sdnNjb2RlLXZmcw%3D%3D?line=7'>8</a>\u001b[0m     \u001b[39m# Transcrição do DNA para RNA\u001b[39;00m\n",
      "\u001b[1;31mAttributeError\u001b[0m: 'Seq' object has no attribute 'is_valid_dna'"
     ]
    }
   ],
   "source": [
    "from Bio.Seq import Seq\n",
    "\n",
    "def traducao_dna_para_aminoacido(sequencia_DNA):\n",
    "    # Verifica se a sequência de DNA é válida\n",
    "    if not Seq(sequencia_DNA).is_valid_dna():\n",
    "        raise ValueError(\"Sequência de DNA inválida.\")\n",
    "\n",
    "    # Transcrição do DNA para RNA\n",
    "    sequencia_rna = Seq(sequencia_DNA).transcribe()\n",
    "\n",
    "    # Verifica se a sequência de RNA é válida\n",
    "    if not sequencia_rna.is_valid_rna():\n",
    "        raise ValueError(\"Sequência de RNA inválida.\")\n",
    "\n",
    "    # Tradução do RNA para uma sequência de aminoácidos usando <link>Biopython</link>\n",
    "    sequencia_aminoacido = str(sequencia_rna.translate())\n",
    "\n",
    "    return sequencia_aminoacido\n",
    "\n",
    "try:\n",
    "    sequencia_aminoacido = traducao_dna_para_aminoacido(sequencia_DNA)\n",
    "    print(\"Sequência de aminoácidos:\", sequencia_aminoacido)\n",
    "except ValueError as e:\n",
    "    print(\"Erro:\", str(e))"
   ]
  },
  {
   "cell_type": "markdown",
   "metadata": {},
   "source": [
    "Algoritmo de tradução personalizado: Se tivermos requisitos específicos ou quisermos implementar o nosso próprio algoritmo de tradução, podemos criar um algoritmo personalizado para isso. "
   ]
  },
  {
   "cell_type": "code",
   "execution_count": 8,
   "metadata": {},
   "outputs": [
    {
     "name": "stdout",
     "output_type": "stream",
     "text": [
      "Erro: Sequência de DNA inválida: número de bases não é múltiplo de 3.\n"
     ]
    }
   ],
   "source": [
    "def traducao_personalizada(sequencia_DNA):\n",
    "    # Tabela de tradução de codões para aminoácidos\n",
    "        tabela_traducao = {\n",
    "            \"TTT\": \"F\", \"TTC\": \"F\", \"TTA\": \"L\", \"TTG\": \"L\",\n",
    "            \"CTT\": \"L\", \"CTC\": \"L\", \"CTA\": \"L\", \"CTG\": \"L\",\n",
    "            \"ATT\": \"I\", \"ATC\": \"I\", \"ATA\": \"I\", \"ATG\": \"M\",\n",
    "            \"GTT\": \"V\", \"GTC\": \"V\", \"GTA\": \"V\", \"GTG\": \"V\",\n",
    "            \"TCT\": \"S\", \"TCC\": \"S\", \"TCA\": \"S\", \"TCG\": \"S\",\n",
    "            \"CCT\": \"P\", \"CCC\": \"P\", \"CCA\": \"P\", \"CCG\": \"P\",\n",
    "            \"ACT\": \"T\", \"ACC\": \"T\", \"ACA\": \"T\", \"ACG\": \"T\",\n",
    "            \"GCT\": \"A\", \"GCC\": \"A\", \"GCA\": \"A\", \"GCG\": \"A\",\n",
    "            \"TAT\": \"Y\", \"TAC\": \"Y\", \"TAA\": \"*\", \"TAG\": \"*\",\n",
    "            \"CAT\": \"H\", \"CAC\": \"H\", \"CAA\": \"Q\", \"CAG\": \"Q\",\n",
    "            \"AAT\": \"N\", \"AAC\": \"N\", \"AAA\": \"K\", \"AAG\": \"K\",\n",
    "            \"GAT\": \"D\", \"GAC\": \"D\", \"GAA\": \"E\", \"GAG\": \"E\",\n",
    "            \"TGT\": \"C\", \"TGC\": \"C\", \"TGA\": \"*\", \"TGG\": \"W\",\n",
    "            \"CGT\": \"R\", \"CGC\": \"R\", \"CGA\": \"R\", \"CGG\": \"R\",\n",
    "            \"AGT\": \"S\", \"AGC\": \"S\", \"AGA\": \"R\", \"AGG\": \"R\",\n",
    "            \"GGT\": \"G\", \"GGC\": \"G\", \"GGA\": \"G\", \"GGG\": \"G\"\n",
    "            }\n",
    "\n",
    "    # Verifica se a sequência de DNA tem um número de bases múltiplo de 3\n",
    "        if len(sequencia_DNA) % 3 != 0:\n",
    "            raise ValueError(\"Sequência de DNA inválida: número de bases não é múltiplo de 3.\")\n",
    "\n",
    "    # Tradução do DNA para uma sequência de aminoácidos\n",
    "        sequencia_aminoacido = \"\".join([tabela_traducao[sequencia_DNA[i:i+3]] for i in range(0, len(sequencia_DNA), 3)])\n",
    "\n",
    "        return sequencia_aminoacido\n",
    "\n",
    "try:\n",
    "    sequencia_aminoacido = traducao_personalizada(sequencia_DNA)\n",
    "    print(\"Sequência de aminoácidos:\", sequencia_aminoacido)\n",
    "except ValueError as e:\n",
    "    print(\"Erro:\", str(e))"
   ]
  },
  {
   "cell_type": "markdown",
   "metadata": {},
   "source": [
    "Por fim, decidi incorporar os dois casos num (nao faço ideia se é util ou não).\n",
    "\n",
    "Este código inclui as duas formas de tradução: uma com a biblioteca Biopython e outra usando uma abordagem manual. Cada bloco de código é independente e pode ser executado separadamente. \n",
    "\n",
    "Além disso, há um bloco separado com uma lista de verificações no final."
   ]
  },
  {
   "cell_type": "code",
   "execution_count": 10,
   "metadata": {},
   "outputs": [
    {
     "name": "stdout",
     "output_type": "stream",
     "text": [
      "Sequência de aminoácidos (Biopython): RWSTSHRS*AS*LAS*LAS*LA\n",
      "Sequência de aminoácidos (Manual): RWSTSHRS*AS*LAS*LAS*LA\n",
      "\n",
      "Verificações:\n",
      "1. Verifique se a sequência de DNA está correta.\n",
      "2. Verifique se a sequência de DNA é válida, contendo apenas as bases A, C, G, T.\n",
      "3. Verifique se a sequência de aminoácidos foi corretamente traduzida.\n",
      "4. Verifique se o código está bem comentado e de fácil compreensão.\n",
      "5. Verifique se todas as dependências foram instaladas corretamente.\n",
      "6. Verifique se a função de tradução está sendo chamada corretamente.\n",
      "7. Verifique se as exceções são tratadas corretamente.\n",
      "8. Verifique se os resultados são exibidos de forma adequada.\n"
     ]
    }
   ],
   "source": [
    "from Bio.Seq import Seq\n",
    "\n",
    "def valida_dna(sequencia_DNA):\n",
    "    valida_bases = set('ACGT')\n",
    "    return all(base in valida_bases for base in sequencia_DNA)\n",
    "\n",
    "def traducao_dna_aminoacido_biopython(sequencia_DNA):\n",
    "    if not valida_dna(sequencia_DNA):\n",
    "        raise ValueError(\"Sequência de DNA inválida.\")\n",
    "\n",
    "    sequencia_rna = Seq(sequencia_DNA).transcribe()\n",
    "    sequencia_aminoacido = str(sequencia_rna.translate())\n",
    "\n",
    "    return sequencia_aminoacido\n",
    "\n",
    "def traducao_dna_aminoacido_personalizada(sequencia_DNA):\n",
    "    if not valida_dna(sequencia_DNA):\n",
    "        raise ValueError(\"Sequência de DNA inválida.\")\n",
    "\n",
    "    tabela_codoes = {\n",
    "        'TTT': 'F', 'TTC': 'F', 'TTA': 'L', 'TTG': 'L',\n",
    "        'CTT': 'L', 'CTC': 'L', 'CTA': 'L', 'CTG': 'L',\n",
    "        'ATT': 'I', 'ATC': 'I', 'ATA': 'I', 'ATG': 'M',\n",
    "        'GTT': 'V', 'GTC': 'V', 'GTA': 'V', 'GTG': 'V',\n",
    "        'TCT': 'S', 'TCC': 'S', 'TCA': 'S', 'TCG': 'S',\n",
    "        'CCT': 'P', 'CCC': 'P', 'CCA': 'P', 'CCG': 'P',\n",
    "        'ACT': 'T', 'ACC': 'T', 'ACA': 'T', 'ACG': 'T',\n",
    "        'GCT': 'A', 'GCC': 'A', 'GCA': 'A', 'GCG': 'A',\n",
    "        'TAT': 'Y', 'TAC': 'Y', 'TAA': '*', 'TAG': '*',\n",
    "        'CAT': 'H', 'CAC': 'H', 'CAA': 'Q', 'CAG': 'Q',\n",
    "        'AAT': 'N', 'AAC': 'N', 'AAA': 'K', 'AAG': 'K',\n",
    "        'GAT': 'D', 'GAC': 'D', 'GAA': 'E', 'GAG': 'E',\n",
    "        'TGT': 'C', 'TGC': 'C', 'TGA': '*', 'TGG': 'W',\n",
    "        'CGT': 'R', 'CGC': 'R', 'CGA': 'R', 'CGG': 'R',\n",
    "        'AGT': 'S', 'AGC': 'S', 'AGA': 'R', 'AGG': 'R',\n",
    "        'GGT': 'G', 'GGC': 'G', 'GGA': 'G', 'GGG': 'G'\n",
    "    }\n",
    "\n",
    "    codoes = [sequencia_DNA[i:i+3] for i in range(0, len(sequencia_DNA), 3)]\n",
    "    sequencia_aminoacido = ''.join(tabela_codoes.get(codon, 'X') for codon in codoes)\n",
    "\n",
    "    return sequencia_aminoacido\n",
    "\n",
    "# Tradução usando Biopython\n",
    "try:\n",
    "    sequencia_aminoacido_biopython = traducao_dna_aminoacido_biopython(sequencia_DNA)\n",
    "    print(\"Sequência de aminoácidos (Biopython):\", sequencia_aminoacido_biopython)\n",
    "except ValueError as e:\n",
    "    print(\"Erro:\", str(e))\n",
    "\n",
    "# Tradução manual\n",
    "try:\n",
    "    sequencia_aminoacido_personalizada = traducao_dna_aminoacido_personalizada(sequencia_DNA)\n",
    "    print(\"Sequência de aminoácidos (Manual):\", sequencia_aminoacido_personalizada)\n",
    "except ValueError as e:\n",
    "    print(\"Erro:\", str(e))\n",
    "\n",
    "print(\"\\nVerificações:\")\n",
    "print(\"1. Verifique se a sequência de DNA está correta.\")\n",
    "print(\"2. Verifique se a sequência de DNA é válida, contendo apenas as bases A, C, G, T.\")\n",
    "print(\"3. Verifique se a sequência de aminoácidos foi corretamente traduzida.\")\n",
    "print(\"4. Verifique se o código está bem comentado e de fácil compreensão.\")\n",
    "print(\"5. Verifique se todas as dependências foram instaladas corretamente.\")\n",
    "print(\"6. Verifique se a função de tradução está sendo chamada corretamente.\")\n",
    "print(\"7. Verifique se as exceções são tratadas corretamente.\")\n",
    "print(\"8. Verifique se os resultados são exibidos de forma adequada.\")"
   ]
  },
  {
   "cell_type": "markdown",
   "metadata": {},
   "source": [
    "Erros e falhas identificados:\n",
    "Corrigido o erro AttributeError: 'Seq' object has no attribute 'is_valid_dna'\n",
    "Adicionada função is_valid_dna para verificar a validade da sequência de DNA\n",
    "Atualizada a chamada para a função de validação no início do código\n",
    "\n",
    "Otimizações a fazer:\n",
    "Verificar se há maneiras de otimizar o código para melhorar a eficiência\n",
    "Verificar se há possíveis otimizações na manipulação de strings e listas\n",
    "Considerar a adição de mais verificações específicas, dependendo dos requisitos do projeto"
   ]
  }
 ],
 "metadata": {
  "kernelspec": {
   "display_name": "base",
   "language": "python",
   "name": "python3"
  },
  "language_info": {
   "codemirror_mode": {
    "name": "ipython",
    "version": 3
   },
   "file_extension": ".py",
   "mimetype": "text/x-python",
   "name": "python",
   "nbconvert_exporter": "python",
   "pygments_lexer": "ipython3",
   "version": "3.11.4"
  }
 },
 "nbformat": 4,
 "nbformat_minor": 2
}
