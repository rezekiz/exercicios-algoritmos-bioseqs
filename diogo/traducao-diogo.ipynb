{
 "cells": [
  {
   "cell_type": "markdown",
   "metadata": {},
   "source": [
    "Em bioinformática, o Python é bastante utilizado para o processamento básico de sequências e a tradução de sequências de DNA em sequências de aminoácidos. Existem várias bibliotecas e algoritmos disponíveis que facilitam esse processo. \n",
    "\n",
    "Exitem diversas formas de realizar este processamento:\n",
    "\n",
    "Usando o Biopython: Biopython é uma biblioteca muito utilizada em bioinformática no Python. Ele fornece uma ampla gama de funcionalidades para o processamento de sequências biológicas, incluindo tradução. Podemos usar a função translate() para traduzir sequências de DNA em sequências de aminoácidos. Aqui está um exemplo:"
   ]
  },
  {
   "cell_type": "code",
   "execution_count": 13,
   "metadata": {},
   "outputs": [
    {
     "name": "stdout",
     "output_type": "stream",
     "text": [
      "MVYVDRS*LAS*LAS*LAS*L\n"
     ]
    },
    {
     "name": "stderr",
     "output_type": "stream",
     "text": [
      "c:\\ProgramData\\anaconda3\\Lib\\site-packages\\Bio\\Seq.py:2334: BiopythonWarning: Partial codon, len(sequence) not a multiple of three. Explicitly trim the sequence or add trailing N before translation. This may become an error in future.\n",
      "  warnings.warn(\n"
     ]
    }
   ],
   "source": [
    "\"\"\" Usando a biblioteca Biopython\"\"\"\n",
    "\n",
    "from Bio.Seq import Seq\n",
    "\n",
    "#Procurar na biblioteca do biopython por tabelas de codoes não pre definidas ou definir logo o organismo à partida - algoritmo:\n",
    "\n",
    "\n",
    "#Sequência de DNA:\n",
    "dna_sequence = \"ATGGTCTACGTCGATCGTAGCTAGCTAGCTAGCTAGCTAGCTAGCTAGCTAGCTAGCTAGCTCT\"\n",
    "\n",
    "#Transcrição do DNA para RNA:\n",
    "rna_sequence = Seq(dna_sequence).transcribe()\n",
    "\n",
    "#se ja estivermos perante RNA passar ao passo de localizar o codao start e stop (em RNA) e contar de 3 em 3:\n",
    "\n",
    "\n",
    "# Tradução do RNA para uma sequência de aminoácidos:\n",
    "amino_acid_sequence = rna_sequence.translate()\n",
    "\n",
    "print(amino_acid_sequence) "
   ]
  },
  {
   "cell_type": "markdown",
   "metadata": {},
   "source": [
    "Plano em biopython:\n",
    "\n",
    "codigo (inserir DNA/RNA)\n",
    "identificar o codao start e contar de tres em tres, fazer a tradução em simultaneo \n",
    "Apresentar os aminoacidos correspondentes\n",
    "\n",
    "para o final (as bonus) inserir algoritmo para procurar esta sequencia no peptide finder do uniprot"
   ]
  },
  {
   "cell_type": "markdown",
   "metadata": {},
   "source": [
    "Algoritmo de tradução personalizado: Se tivermos requisitos específicos, podemos criar uma função personalizada para isso. Aqui está um exemplo:\n"
   ]
  },
  {
   "cell_type": "code",
   "execution_count": 14,
   "metadata": {},
   "outputs": [
    {
     "name": "stdout",
     "output_type": "stream",
     "text": [
      "\n"
     ]
    }
   ],
   "source": [
    "\"\"\"Usando uma tabela de tradução personalizada\"\"\"\n",
    "\n",
    "def translate(seq): # a partir do DNA\n",
    "    codon_table = {\n",
    "        'ATA':'I', 'ATC':'I', 'ATT':'I', 'ATG':'M',\n",
    "        'ACA':'T', 'ACC':'T', 'ACG':'T', 'ACT':'T',\n",
    "        'AAC':'N', 'AAT':'N', 'AAA':'K', 'AAG':'K',\n",
    "        'AGC':'S', 'AGT':'S', 'AGA':'R', 'AGG':'R',                 \n",
    "        'CTA':'L', 'CTC':'L', 'CTG':'L', 'CTT':'L',\n",
    "        'CCA':'P', 'CCC':'P', 'CCG':'P', 'CCT':'P',\n",
    "        'CAC':'H', 'CAT':'H', 'CAA':'Q', 'CAG':'Q',\n",
    "        'CGA':'R', 'CGC':'R', 'CGG':'R', 'CGT':'R',\n",
    "        'GTA':'V', 'GTC':'V', 'GTG':'V', 'GTT':'V',\n",
    "        'GCA':'A', 'GCC':'A', 'GCG':'A', 'GCT':'A',\n",
    "        'GAC':'D', 'GAT':'D', 'GAA':'E', 'GAG':'E',\n",
    "        'GGA':'G', 'GGC':'G', 'GGG':'G', 'GGT':'G',\n",
    "        'TCA':'S', 'TCC':'S', 'TCG':'S', 'TCT':'S',\n",
    "        'TTC':'F', 'TTT':'F', 'TTA':'L', 'TTG':'L',\n",
    "        'TAC':'Y', 'TAT':'Y', 'TAA':'_', 'TAG':'_',\n",
    "        'TGC':'C', 'TGT':'C', 'TGA':'_', 'TGG':'W',\n",
    "    }\n",
    "    protein = \"\"\n",
    "\n",
    "    if len(seq) % 3 == 0:\n",
    "        for i in range(0, len(seq), 3):\n",
    "            codon = seq[i:i + 3]\n",
    "            if len(codon) == 3:\n",
    "                protein += codon_table[codon]\n",
    "    return protein\n",
    "\n",
    "\n",
    "translated_sequence = translate(dna_sequence)\n",
    "\n",
    "print(translated_sequence)"
   ]
  },
  {
   "cell_type": "code",
   "execution_count": null,
   "metadata": {},
   "outputs": [],
   "source": [
    "# usando funções:\n",
    "\n",
    "def translate_sequence(dna_seq):\n",
    "protein_seq = \"\"\n",
    "\n",
    "for i in range(0, len(dna_seq), 3):\n",
    "    codon = dna_seq[i:i+3]\n",
    "    amino_acid = codon_table.get(codon, '*')\n",
    "    protein_seq += amino_acid\n",
    "return protein_seq\n",
    "\n",
    "dna_seq = \"ATGGTCTACGTCGATCGTAGCTAGCTAGCTAGCTAGCTAGCTAGCTAGCT\"\n",
    "protein_seq = translate_sequence(dna_seq)\n",
    "print(protein_seq)\n"
   ]
  },
  {
   "cell_type": "code",
   "execution_count": null,
   "metadata": {},
   "outputs": [],
   "source": []
  }
 ],
 "metadata": {
  "kernelspec": {
   "display_name": "base",
   "language": "python",
   "name": "python3"
  },
  "language_info": {
   "codemirror_mode": {
    "name": "ipython",
    "version": 3
   },
   "file_extension": ".py",
   "mimetype": "text/x-python",
   "name": "python",
   "nbconvert_exporter": "python",
   "pygments_lexer": "ipython3",
   "version": "3.11.4"
  }
 },
 "nbformat": 4,
 "nbformat_minor": 2
}
