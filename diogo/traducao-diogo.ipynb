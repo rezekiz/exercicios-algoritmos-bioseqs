{
 "cells": [
  {
   "cell_type": "markdown",
   "metadata": {},
   "source": [
    "Em bioinformática, o Python é bastante utilizado para o processamento básico de sequências e a tradução de sequências de DNA em sequências de aminoácidos. Existem várias bibliotecas e algoritmos disponíveis que facilitam esse processo. \n",
    "\n",
    "Existem diversas formas de realizar este processamento, citando as mais usadas: \n",
    "            - Algoritmo de tradução com o Biopython.\n",
    "            - Algoritmo de tradução personalizado mediante a finalidade, o tipo de ser vivo ou devido a outras caracteristicas especificas.\n",
    "\n",
    "Adicionei um bloco try-except para capturar exceções e lidar com erros em ambos os casos.     "
   ]
  },
  {
   "cell_type": "code",
   "execution_count": null,
   "metadata": {},
   "outputs": [],
   "source": [
    "# Sequência de DNA exemplo\n",
    "dna_sequence = \"AGATGGTCTACGTCGCATCGTAGCTGAGCTAGCTAGCTAGCTAGCTAGCTAGCTAGCTAGCTAGCT\""
   ]
  },
  {
   "cell_type": "markdown",
   "metadata": {},
   "source": [
    "Algoritmo de tradução com o Biopython: Uma biblioteca em python que fornece uma ampla gama de funcionalidades para o processamento de sequências biológicas, incluindo tradução. "
   ]
  },
  {
   "cell_type": "code",
   "execution_count": null,
   "metadata": {},
   "outputs": [],
   "source": [
    "from Bio.Seq import Seq\n",
    "\n",
    "def translate_dna_to_amino_acids(dna_sequence):\n",
    "    # Verifica se a sequência de DNA é válida\n",
    "    if not Seq(dna_sequence).is_valid_dna():\n",
    "        raise ValueError(\"Sequência de DNA inválida.\")\n",
    "\n",
    "    # Transcrição do DNA para RNA\n",
    "    rna_sequence = Seq(dna_sequence).transcribe()\n",
    "\n",
    "    # Verifica se a sequência de RNA é válida\n",
    "    if not rna_sequence.is_valid_rna():\n",
    "        raise ValueError(\"Sequência de RNA inválida.\")\n",
    "\n",
    "    # Tradução do RNA para uma sequência de aminoácidos usando <link>Biopython</link>\n",
    "    amino_acid_sequence = str(rna_sequence.translate())\n",
    "\n",
    "    return amino_acid_sequence\n",
    "\n",
    "try:\n",
    "    amino_acid_sequence = translate_dna_to_amino_acids(dna_sequence)\n",
    "    print(\"Sequência de aminoácidos:\", amino_acid_sequence)\n",
    "except ValueError as e:\n",
    "    print(\"Erro:\", str(e))"
   ]
  },
  {
   "cell_type": "markdown",
   "metadata": {},
   "source": [
    "Algoritmo de tradução personalizado: Se tivermos requisitos específicos ou quisermos implementar o nosso próprio algoritmo de tradução, podemos criar um algoritmo personalizado para isso. "
   ]
  },
  {
   "cell_type": "code",
   "execution_count": null,
   "metadata": {},
   "outputs": [],
   "source": [
    "def translate_custom(dna_sequence):\n",
    "    # Tabela de tradução de codões para aminoácidos\n",
    "        translation_table = {\n",
    "            \"TTT\": \"F\", \"TTC\": \"F\", \"TTA\": \"L\", \"TTG\": \"L\",\n",
    "            \"CTT\": \"L\", \"CTC\": \"L\", \"CTA\": \"L\", \"CTG\": \"L\",\n",
    "            \"ATT\": \"I\", \"ATC\": \"I\", \"ATA\": \"I\", \"ATG\": \"M\",\n",
    "            \"GTT\": \"V\", \"GTC\": \"V\", \"GTA\": \"V\", \"GTG\": \"V\",\n",
    "            \"TCT\": \"S\", \"TCC\": \"S\", \"TCA\": \"S\", \"TCG\": \"S\",\n",
    "            \"CCT\": \"P\", \"CCC\": \"P\", \"CCA\": \"P\", \"CCG\": \"P\",\n",
    "            \"ACT\": \"T\", \"ACC\": \"T\", \"ACA\": \"T\", \"ACG\": \"T\",\n",
    "            \"GCT\": \"A\", \"GCC\": \"A\", \"GCA\": \"A\", \"GCG\": \"A\",\n",
    "            \"TAT\": \"Y\", \"TAC\": \"Y\", \"TAA\": \"*\", \"TAG\": \"*\",\n",
    "            \"CAT\": \"H\", \"CAC\": \"H\", \"CAA\": \"Q\", \"CAG\": \"Q\",\n",
    "            \"AAT\": \"N\", \"AAC\": \"N\", \"AAA\": \"K\", \"AAG\": \"K\",\n",
    "            \"GAT\": \"D\", \"GAC\": \"D\", \"GAA\": \"E\", \"GAG\": \"E\",\n",
    "            \"TGT\": \"C\", \"TGC\": \"C\", \"TGA\": \"*\", \"TGG\": \"W\",\n",
    "            \"CGT\": \"R\", \"CGC\": \"R\", \"CGA\": \"R\", \"CGG\": \"R\",\n",
    "            \"AGT\": \"S\", \"AGC\": \"S\", \"AGA\": \"R\", \"AGG\": \"R\",\n",
    "            \"GGT\": \"G\", \"GGC\": \"G\", \"GGA\": \"G\", \"GGG\": \"G\"\n",
    "            }\n",
    "\n",
    "    # Verifica se a sequência de DNA tem um número de bases múltiplo de 3\n",
    "        if len(dna_sequence) % 3 != 0:\n",
    "            raise ValueError(\"Sequência de DNA inválida: número de bases não é múltiplo de 3.\")\n",
    "\n",
    "    # Tradução do DNA para uma sequência de aminoácidos\n",
    "        amino_acid_sequence = \"\".join([translation_table[dna_sequence[i:i+3]] for i in range(0, len(dna_sequence), 3)])\n",
    "\n",
    "        return amino_acid_sequence\n",
    "\n",
    "try:\n",
    "    amino_acid_sequence = translate_custom(dna_sequence)\n",
    "    print(\"Sequência de aminoácidos:\", amino_acid_sequence)\n",
    "except ValueError as e:\n",
    "    print(\"Erro:\", str(e))"
   ]
  },
  {
   "cell_type": "markdown",
   "metadata": {},
   "source": [
    "Por fim, decidi incorporar os dois casos num (nao faço ideia se é util ou não).\n",
    "\n",
    "Este código inclui as duas formas de tradução: uma com a biblioteca Biopython e outra usando uma abordagem manual. Cada bloco de código é independente e pode ser executado separadamente. \n",
    "\n",
    "Além disso, há um bloco separado com uma lista de verificações no final."
   ]
  },
  {
   "cell_type": "code",
   "execution_count": null,
   "metadata": {},
   "outputs": [],
   "source": [
    "from Bio.Seq import Seq\n",
    "\n",
    "def is_valid_dna(dna_sequence):\n",
    "    valid_bases = set('ACGT')\n",
    "    return all(base in valid_bases for base in dna_sequence)\n",
    "\n",
    "def translate_dna_to_amino_acids_biopython(dna_sequence):\n",
    "    if not is_valid_dna(dna_sequence):\n",
    "        raise ValueError(\"Sequência de DNA inválida.\")\n",
    "\n",
    "    rna_sequence = Seq(dna_sequence).transcribe()\n",
    "    amino_acid_sequence = str(rna_sequence.translate())\n",
    "\n",
    "    return amino_acid_sequence\n",
    "\n",
    "def translate_dna_to_amino_acids_manual(dna_sequence):\n",
    "    if not is_valid_dna(dna_sequence):\n",
    "        raise ValueError(\"Sequência de DNA inválida.\")\n",
    "\n",
    "    codon_table = {\n",
    "        'TTT': 'F', 'TTC': 'F', 'TTA': 'L', 'TTG': 'L',\n",
    "        'CTT': 'L', 'CTC': 'L', 'CTA': 'L', 'CTG': 'L',\n",
    "        'ATT': 'I', 'ATC': 'I', 'ATA': 'I', 'ATG': 'M',\n",
    "        'GTT': 'V', 'GTC': 'V', 'GTA': 'V', 'GTG': 'V',\n",
    "        'TCT': 'S', 'TCC': 'S', 'TCA': 'S', 'TCG': 'S',\n",
    "        'CCT': 'P', 'CCC': 'P', 'CCA': 'P', 'CCG': 'P',\n",
    "        'ACT': 'T', 'ACC': 'T', 'ACA': 'T', 'ACG': 'T',\n",
    "        'GCT': 'A', 'GCC': 'A', 'GCA': 'A', 'GCG': 'A',\n",
    "        'TAT': 'Y', 'TAC': 'Y', 'TAA': '*', 'TAG': '*',\n",
    "        'CAT': 'H', 'CAC': 'H', 'CAA': 'Q', 'CAG': 'Q',\n",
    "        'AAT': 'N', 'AAC': 'N', 'AAA': 'K', 'AAG': 'K',\n",
    "        'GAT': 'D', 'GAC': 'D', 'GAA': 'E', 'GAG': 'E',\n",
    "        'TGT': 'C', 'TGC': 'C', 'TGA': '*', 'TGG': 'W',\n",
    "        'CGT': 'R', 'CGC': 'R', 'CGA': 'R', 'CGG': 'R',\n",
    "        'AGT': 'S', 'AGC': 'S', 'AGA': 'R', 'AGG': 'R',\n",
    "        'GGT': 'G', 'GGC': 'G', 'GGA': 'G', 'GGG': 'G'\n",
    "    }\n",
    "\n",
    "    codons = [dna_sequence[i:i+3] for i in range(0, len(dna_sequence), 3)]\n",
    "    amino_acid_sequence = ''.join(codon_table.get(codon, 'X') for codon in codons)\n",
    "\n",
    "    return amino_acid_sequence\n",
    "\n",
    "# Tradução usando Biopython\n",
    "try:\n",
    "    amino_acid_sequence_biopython = translate_dna_to_amino_acids_biopython(dna_sequence)\n",
    "    print(\"Sequência de aminoácidos (Biopython):\", amino_acid_sequence_biopython)\n",
    "except ValueError as e:\n",
    "    print(\"Erro:\", str(e))\n",
    "\n",
    "# Tradução manual\n",
    "try:\n",
    "    amino_acid_sequence_manual = translate_dna_to_amino_acids_manual(dna_sequence)\n",
    "    print(\"Sequência de aminoácidos (Manual):\", amino_acid_sequence_manual)\n",
    "except ValueError as e:\n",
    "    print(\"Erro:\", str(e))\n",
    "\n",
    "print(\"\\nVerificações:\")\n",
    "print(\"1. Verifique se a sequência de DNA está correta.\")\n",
    "print(\"2. Verifique se a sequência de DNA é válida, contendo apenas as bases A, C, G, T.\")\n",
    "print(\"3. Verifique se a sequência de aminoácidos foi corretamente traduzida.\")\n",
    "print(\"4. Verifique se o código está bem comentado e de fácil compreensão.\")\n",
    "print(\"5. Verifique se todas as dependências foram instaladas corretamente.\")\n",
    "print(\"6. Verifique se a função de tradução está sendo chamada corretamente.\")\n",
    "print(\"7. Verifique se as exceções são tratadas corretamente.\")\n",
    "print(\"8. Verifique se os resultados são exibidos de forma adequada.\")"
   ]
  }
 ],
 "metadata": {
  "kernelspec": {
   "display_name": "base",
   "language": "python",
   "name": "python3"
  },
  "language_info": {
   "codemirror_mode": {
    "name": "ipython",
    "version": 3
   },
   "file_extension": ".py",
   "mimetype": "text/x-python",
   "name": "python",
   "nbconvert_exporter": "python",
   "pygments_lexer": "ipython3",
   "version": "3.11.4"
  }
 },
 "nbformat": 4,
 "nbformat_minor": 2
}
