{
 "cells": [
  {
   "cell_type": "markdown",
   "metadata": {},
   "source": [
    "# Tema 2 - **Processamento básico de sequências**"
   ]
  },
  {
   "cell_type": "markdown",
   "metadata": {},
   "source": [
    "## Representação e algoritmos básicos"
   ]
  },
  {
   "cell_type": "markdown",
   "metadata": {},
   "source": [
    "* **Validação da sequência**\n",
    "\n",
    "Esta função tem como objetivo retornar a validade de uma sequência de ADN. Onde, caso seja válida retorna **True** e caso seja inválida retorna **False**. Nesta função, é verificado se a sequência contém somente os caractéres que representam os nucleótidos: A, T, C e G.\n",
    "\n",
    "A função começa por susbtituir letras minúsculas por letras maiúsculas e remove enventuais espaços. De seguida, verificar se a sequência introduzida não é uma string vazia e ,no final, itera por cada base presente na sequência e verifica se pertencem ao conjunto de bases válidas (A, T, C e G). "
   ]
  },
  {
   "cell_type": "code",
   "execution_count": 13,
   "metadata": {},
   "outputs": [],
   "source": [
    "def validar_dna(seq):\n",
    "    \n",
    "    \"\"\"\n",
    "    Devolve a validade de uma sequência de ADN\n",
    "\n",
    "    \n",
    "    Parâmetro\n",
    "    -------------\n",
    "    seq : str\n",
    "        Uma string que representa a sequência de ADN\n",
    "\n",
    "    \n",
    "    Retorna\n",
    "    -------------\n",
    "    bool : True se for uma sequência válida, False se for uma sequência inválida\n",
    "    \n",
    "    \"\"\"\n",
    "    \n",
    "    if not isinstance(seq, str):\n",
    "        raise AssertionError(\"A sequência deve ser uma string\")\n",
    "    \n",
    "    seq = seq.upper()        \n",
    "    seq = seq.replace(\" \",\"\")   \n",
    "    \n",
    "    if not bool(seq): return False\n",
    "\n",
    "    valido_dna = True\n",
    "    \n",
    "    for base in seq:                  \n",
    "        if base not in \"ATCG\":         \n",
    "            valido_dna = False\n",
    "    \n",
    "    if valido_dna == False:\n",
    "        return False\n",
    "    else:\n",
    "        return True"
   ]
  },
  {
   "cell_type": "markdown",
   "metadata": {},
   "source": [
    "**Exemplo**:"
   ]
  },
  {
   "cell_type": "code",
   "execution_count": 2,
   "metadata": {},
   "outputs": [
    {
     "data": {
      "text/plain": [
       "False"
      ]
     },
     "execution_count": 2,
     "metadata": {},
     "output_type": "execute_result"
    }
   ],
   "source": [
    "validar_dna(\"gcth\")"
   ]
  },
  {
   "cell_type": "markdown",
   "metadata": {},
   "source": [
    "**Testes de Unidade**:"
   ]
  },
  {
   "cell_type": "code",
   "execution_count": 21,
   "metadata": {},
   "outputs": [
    {
     "name": "stderr",
     "output_type": "stream",
     "text": [
      "test_validar_dna_correta (__main__.TestValidaData) ... ok\n",
      "test_validar_dna_minuscula (__main__.TestValidaData) ... ok\n",
      "test_validar_dna_nucleotido_invalido (__main__.TestValidaData) ... ok\n",
      "test_validar_dna_separador_invalido (__main__.TestValidaData) ... ok\n",
      "test_validardna_vazio (__main__.TestValidaData) ... ok\n",
      "\n",
      "----------------------------------------------------------------------\n",
      "Ran 5 tests in 0.008s\n",
      "\n",
      "OK\n"
     ]
    },
    {
     "data": {
      "text/plain": [
       "<unittest.runner.TextTestResult run=5 errors=0 failures=0>"
      ]
     },
     "execution_count": 21,
     "metadata": {},
     "output_type": "execute_result"
    }
   ],
   "source": [
    "import unittest\n",
    "\n",
    "class TestValidaData(unittest.TestCase):\n",
    "    def test_validardna_vazio(self):\n",
    "        self.assertFalse( validar_dna(\"   \") )\n",
    "    \n",
    "    def test_validar_dna_separador_invalido(self):\n",
    "        self.assertFalse( validar_dna(\"AAATTGCG.TGGTG-TGGT\") )\n",
    "\n",
    "    def test_validar_dna_nucleotido_invalido(self):\n",
    "        self.assertFalse( validar_dna(\"DATAGAT\") )\n",
    "        \n",
    "    def test_validar_dna_correta(self):\n",
    "        self.assertTrue( validar_dna(\"AA TGT CG \") )\n",
    "\n",
    "    def test_validar_dna_minuscula(self):\n",
    "        self.assertTrue( validar_dna(\"atgctcgatagct\") )\n",
    "\n",
    "\n",
    "suite = unittest.TestLoader().loadTestsFromTestCase(TestValidaData)\n",
    "unittest.TextTestRunner( verbosity=3 ).run( suite )"
   ]
  },
  {
   "cell_type": "markdown",
   "metadata": {},
   "source": [
    "* **Aprimoração de sequências**"
   ]
  },
  {
   "cell_type": "markdown",
   "metadata": {},
   "source": [
    "Para ser possível aprimorar as sequências nos códigos seguintes, foi criada uma função auxiliar que tem como intuito substituir as letras minúsculas por letras maiúsculas e a remoção dos espaços presentes na sequência inserida. A função intitula-se de: **aprimorar_seq()**.\n",
    "\n",
    "Note-se que, nos códigos seguintes, a validação da sequência de ADN, será verificada utilizando a função **validar_dna()** antes da invocação da função aprimorar_seq()."
   ]
  },
  {
   "cell_type": "code",
   "execution_count": 26,
   "metadata": {},
   "outputs": [],
   "source": [
    "def aprimorar_seq(seq):\n",
    "    \"\"\"\n",
    "    Devolve uma sequência só com letras maiúsculas e sem espaços em branco\n",
    "\n",
    "    \n",
    "    Parâmetro\n",
    "    -------------\n",
    "    seq : str\n",
    "        Uma string que representa a sequência\n",
    "\n",
    "        \n",
    "    Retorna\n",
    "    -------------\n",
    "    str\n",
    "        sequência com as bases em maiúsculas e sem espaços em branco\n",
    "    \n",
    "    \"\"\"\n",
    "    return seq.upper().replace(\" \",\"\")\n",
    "     "
   ]
  },
  {
   "cell_type": "markdown",
   "metadata": {},
   "source": [
    "**Exemplo**:"
   ]
  },
  {
   "cell_type": "code",
   "execution_count": 20,
   "metadata": {},
   "outputs": [
    {
     "data": {
      "text/plain": [
       "'ACGTGGCCG'"
      ]
     },
     "execution_count": 20,
     "metadata": {},
     "output_type": "execute_result"
    }
   ],
   "source": [
    "aprimorar_seq(\"AcGtG  GC  cg\")"
   ]
  },
  {
   "cell_type": "markdown",
   "metadata": {},
   "source": [
    "**Testes de Unidade**:"
   ]
  },
  {
   "cell_type": "code",
   "execution_count": 7,
   "metadata": {},
   "outputs": [
    {
     "name": "stderr",
     "output_type": "stream",
     "text": [
      "test_aprimorarseq_espaco (__main__.TestValidaData) ... ok\n",
      "test_aprimorarseq_min (__main__.TestValidaData) ... ok\n",
      "test_aprimorarseq_min_espaco (__main__.TestValidaData) ... ok\n",
      "\n",
      "----------------------------------------------------------------------\n",
      "Ran 3 tests in 0.015s\n",
      "\n",
      "OK\n"
     ]
    },
    {
     "data": {
      "text/plain": [
       "<unittest.runner.TextTestResult run=3 errors=0 failures=0>"
      ]
     },
     "execution_count": 7,
     "metadata": {},
     "output_type": "execute_result"
    }
   ],
   "source": [
    "class TestValidaData(unittest.TestCase):\n",
    "    def test_aprimorarseq_espaco(self):\n",
    "        self.assertEqual( aprimorar_seq(\"AT     GC\"), \"ATGC\" )\n",
    "    \n",
    "    def test_aprimorarseq_min(self):\n",
    "        self.assertEqual( aprimorar_seq(\"atcg\"), \"ATCG\" )\n",
    "    \n",
    "    def test_aprimorarseq_min_espaco(self):\n",
    "        self.assertEqual( aprimorar_seq(\"at  cg\"), \"ATCG\" )\n",
    "\n",
    "suite = unittest.TestLoader().loadTestsFromTestCase(TestValidaData)\n",
    "unittest.TextTestRunner( verbosity=3 ).run( suite )"
   ]
  },
  {
   "cell_type": "markdown",
   "metadata": {},
   "source": [
    "* **Frequência das bases**"
   ]
  },
  {
   "cell_type": "markdown",
   "metadata": {},
   "source": [
    "Esta função permitirá calcular a frequência das bases de uma sequência de ADN. \n",
    "\n",
    "Em primeiro lugar, verifica se a sequência é válida através da função previamente feita **validar_dna()**. Caso seja inválida, é levantado um \"ValueError\" que nos indica que a sequência utilizada é inválida. Depois, retorna a sequência de ADN com as bases em maiúsculas e sem espaços em branco através da função **aprimorar_seq()**.\n",
    "\n",
    "De seguida, através da função **count()** é contabilizado a frequência das bases válidas (A, T, C e G), cada frequência de base é guardada numa variável. \n",
    "\n",
    "Por fim, é criado um dicionário, onde as chaves são as bases de ADN e os valores as suas frequências."
   ]
  },
  {
   "cell_type": "code",
   "execution_count": 23,
   "metadata": {},
   "outputs": [],
   "source": [
    "def contar_bases(seq):\n",
    "\n",
    "    \"\"\"\n",
    "    Devolve um dicionário com as frequências das bases de uma string de ADN (A, C, T e G)\n",
    "\n",
    "    \n",
    "    Parâmetro\n",
    "    -------------\n",
    "    seq : str\n",
    "        Uma string que representa a sequência de ADN\n",
    "\n",
    "    \n",
    "    Retorna\n",
    "    -------------\n",
    "    resultado : dict\n",
    "        Dicionário com as frequências das bases da sequência introduzida\n",
    "\n",
    "        \n",
    "    Levanta\n",
    "    ----------\n",
    "    ValueError\n",
    "        No caso da string inserida não ser válida\n",
    "    \n",
    "    \"\"\"\n",
    "\n",
    "    if validar_dna(seq) is False:\n",
    "        raise ValueError (\"A sequência inserida é inválida\")\n",
    "\n",
    "    seq = aprimorar_seq(seq)\n",
    "    \n",
    "    contA = seq.count(\"A\")\n",
    "    contT = seq.count(\"T\")\n",
    "    contC = seq.count(\"C\")\n",
    "    contG = seq.count(\"G\")\n",
    "    \n",
    "    resultado = {\"A\" : contA, \"T\" : contT, \"C\" : contC, \"G\" : contG}\n",
    "    \n",
    "    return resultado"
   ]
  },
  {
   "cell_type": "markdown",
   "metadata": {},
   "source": [
    "**Exemplo**:"
   ]
  },
  {
   "cell_type": "code",
   "execution_count": 24,
   "metadata": {},
   "outputs": [
    {
     "data": {
      "text/plain": [
       "{'A': 2, 'T': 2, 'C': 2, 'G': 2}"
      ]
     },
     "execution_count": 24,
     "metadata": {},
     "output_type": "execute_result"
    }
   ],
   "source": [
    "contar_bases(\"ATCGATCG\")"
   ]
  },
  {
   "cell_type": "markdown",
   "metadata": {},
   "source": [
    "**Testes de unidade**:"
   ]
  },
  {
   "cell_type": "code",
   "execution_count": 25,
   "metadata": {},
   "outputs": [
    {
     "name": "stderr",
     "output_type": "stream",
     "text": [
      "test_contarbases_espaco (__main__.TestValidaData) ... ok\n",
      "test_contarbases_espaco1 (__main__.TestValidaData) ... ok\n",
      "test_contarbases_invalido (__main__.TestValidaData) ... ok\n",
      "test_contarbases_min (__main__.TestValidaData) ... ok\n",
      "test_contarbases_min_e_maius (__main__.TestValidaData) ... ok\n",
      "test_contarbases_num (__main__.TestValidaData) ... ok\n",
      "test_contarbases_vazio (__main__.TestValidaData) ... ok\n",
      "\n",
      "----------------------------------------------------------------------\n",
      "Ran 7 tests in 0.013s\n",
      "\n",
      "OK\n"
     ]
    },
    {
     "data": {
      "text/plain": [
       "<unittest.runner.TextTestResult run=7 errors=0 failures=0>"
      ]
     },
     "execution_count": 25,
     "metadata": {},
     "output_type": "execute_result"
    }
   ],
   "source": [
    "class TestValidaData(unittest.TestCase):\n",
    "    def test_contarbases_vazio(self):\n",
    "        with self.assertRaises(ValueError):\n",
    "            contar_bases(\"\")\n",
    "    def test_contarbases_invalido(self):\n",
    "        with self.assertRaises(ValueError):\n",
    "            contar_bases(\"ACTGH\")\n",
    "    def test_contarbases_num(self):\n",
    "        with self.assertRaises(ValueError):\n",
    "            contar_bases(\"ACTG0\")\n",
    "    def test_contarbases_min_e_maius(self):\n",
    "        self.assertTrue( contar_bases(\"atCgatGtG\") )\n",
    "    def test_contarbases_espaco(self):\n",
    "        self.assertTrue( contar_bases(\"C    GAT  GG\") )\n",
    "    def test_contarbases_espaco1(self):\n",
    "        self.assertEqual( contar_bases(\"C    GAT  GG\" ), {'A': 1, 'T': 1, 'C': 1, 'G': 3} )\n",
    "    def test_contarbases_min(self):\n",
    "        self.assertEqual( contar_bases(\"atcg\" ), {'A': 1, 'T': 1, 'C': 1, 'G': 1} )\n",
    "\n",
    "suite = unittest.TestLoader().loadTestsFromTestCase(TestValidaData)\n",
    "unittest.TextTestRunner( verbosity=3 ).run( suite )"
   ]
  },
  {
   "cell_type": "markdown",
   "metadata": {},
   "source": [
    "* **Frequência de Conteúdo GC**\n",
    "\n",
    "Nesta função, é definida uma função que tem como objetivo calcular, em percentagem, o conteúdo de guanina-citosina ([conteúdo GC](https://www.bionity.com/en/encyclopedia/GC-content.html)) presente numa sequência de ADN. \n",
    "\n",
    "Em primeiro lugar, a função executa uma verificação da validade da sequência de ADN através da função previamente feita \"validar_dna()\". Caso seja inválida, é levantado um \"ValueError\" que nos indica que a sequência utilizada é inválida. Depois, retorna a sequência de ADN com as bases em maiúsculas e sem espaços em branco através da função **aprimorar_seq()**.\n",
    "\n",
    "\n",
    "Após verificar a validade da sequência e o seu aprimoramento, a função conta as ocorrências das bases \"G\" e \"C\", respetivamente, através da função **count()** e armazenando o resultado em duas variáveis.\n",
    "\n",
    "De seguida, o cálculo da percentagem de bases \"G\" e \"C\" presente na sequência de ADN é feito através da divisão da soma do número de ocorrências das bases \"G\" e \"C\" pelo número total de bases existentes na sequência, multiplicando por 100 e arredondando o resultado para uma casa decimal através da função **round()**. O resultado é armazenado numa variável.\n",
    "\n",
    "Por fim, o valor obtido é devolvido. \n",
    "\n",
    "\n"
   ]
  },
  {
   "cell_type": "code",
   "execution_count": 12,
   "metadata": {},
   "outputs": [],
   "source": [
    "def conteudo_gc(seq):\n",
    "    \n",
    "    \"\"\"   \n",
    "    Devolve a percentagem do conteúdo GC presente numa sequência de ADN\n",
    "\n",
    "    \n",
    "    Parâmetro\n",
    "    -------------\n",
    "    seq : str\n",
    "        Uma string que representa a sequência de ADN\n",
    "\n",
    "    \n",
    "    Retorna\n",
    "    -------------\n",
    "    resultado : float\n",
    "        Percentagem do conteúdo GC na sequência de ADN\n",
    "\n",
    "        \n",
    "    Levanta\n",
    "    ----------\n",
    "    ValueError\n",
    "        No caso da string inserida não ser válida\n",
    "    \n",
    "    \"\"\"\n",
    "\n",
    "    if validar_dna(seq) is False:\n",
    "        raise ValueError (\"A sequência inserida é inválida\")\n",
    "    \n",
    "    seq = aprimorar_seq(seq)\n",
    "    \n",
    "    conteudo_g = seq.count(\"G\")\n",
    "    conteudo_c = seq.count(\"C\")\n",
    "    conteudo_gc = round((conteudo_g + conteudo_c) / len(seq) * 100, 1)\n",
    "    \n",
    "        \n",
    "    return conteudo_gc\n"
   ]
  },
  {
   "cell_type": "markdown",
   "metadata": {},
   "source": [
    "**Exemplo**:"
   ]
  },
  {
   "cell_type": "code",
   "execution_count": 23,
   "metadata": {},
   "outputs": [
    {
     "data": {
      "text/plain": [
       "100.0"
      ]
     },
     "execution_count": 23,
     "metadata": {},
     "output_type": "execute_result"
    }
   ],
   "source": [
    "conteudo_gc(\"GC\")"
   ]
  },
  {
   "cell_type": "markdown",
   "metadata": {},
   "source": [
    "**Testes de unidade**:"
   ]
  },
  {
   "cell_type": "code",
   "execution_count": 13,
   "metadata": {},
   "outputs": [
    {
     "name": "stderr",
     "output_type": "stream",
     "text": [
      "test_conteudogc_espaco (__main__.TestValidaData) ... ok\n",
      "test_conteudogc_gc (__main__.TestValidaData) ... ok\n",
      "test_conteudogc_invalido (__main__.TestValidaData) ... ok\n",
      "test_conteudogc_min_maiusc (__main__.TestValidaData) ... ok\n",
      "test_conteudogc_num (__main__.TestValidaData) ... ok\n",
      "test_conteudogc_vazio (__main__.TestValidaData) ... ok\n",
      "\n",
      "----------------------------------------------------------------------\n",
      "Ran 6 tests in 0.023s\n",
      "\n",
      "OK\n"
     ]
    },
    {
     "data": {
      "text/plain": [
       "<unittest.runner.TextTestResult run=6 errors=0 failures=0>"
      ]
     },
     "execution_count": 13,
     "metadata": {},
     "output_type": "execute_result"
    }
   ],
   "source": [
    "class TestValidaData(unittest.TestCase):\n",
    "    def test_conteudogc_vazio(self):\n",
    "        with self.assertRaises(ValueError):\n",
    "            conteudo_gc(\"\")\n",
    "    def test_conteudogc_invalido(self):\n",
    "        with self.assertRaises(ValueError):\n",
    "            conteudo_gc(\"ACTGH\")\n",
    "    def test_conteudogc_num(self):\n",
    "        with self.assertRaises(ValueError):\n",
    "            conteudo_gc(\"ACTG0\")\n",
    "    def test_conteudogc_min_maiusc(self):\n",
    "        self.assertTrue( conteudo_gc(\"GCGcGttgatggC\") )\n",
    "    def test_conteudogc_espaco(self):\n",
    "        self.assertTrue( conteudo_gc(\"GCGcG    ttgat     ggC\") )\n",
    "    def test_conteudogc_gc(self):\n",
    "        self.assertEqual( conteudo_gc(\"gcgcgc\"), 100.0  )\n",
    "\n",
    "suite = unittest.TestLoader().loadTestsFromTestCase(TestValidaData)\n",
    "unittest.TextTestRunner( verbosity=3 ).run( suite )"
   ]
  },
  {
   "cell_type": "markdown",
   "metadata": {},
   "source": [
    "## Transcrição e Complemento Inverso"
   ]
  },
  {
   "cell_type": "markdown",
   "metadata": {},
   "source": [
    "* **Transcrição**\n",
    "   \n",
    "O Python é uma ferramenta bastante utilizada no processamento básico de sequências e na transcrição de sequências de DNA em sequências de mRNA. Existem várias bibliotecas e algoritmos disponíveis que facilitam esse processo. \n",
    "\n",
    "Existem diversas formas de realizar esse processamento, citando as mais usadas: \n",
    "\n",
    "            - Algoritmo de trancrição com o Biopython;\n",
    "            - Algoritmo de trancrição personalizado mediante a finalidade, o tipo de ser vivo ou outras características específicas.\n",
    "\n",
    "\n",
    "- Algoritmo de transcrição personalizado:\n",
    "\n",
    "Desenvolver: \n",
    "    Função que itera sobre uma sequência de ADN e devolve a sequência transcrita.\n",
    "\n",
    "    Lógica:\n",
    "    A -> U\n",
    "    T -> A\n",
    "    C -> G\n",
    "    G -> C\n",
    "\n",
    "No algoritmo desenvolvido, primeiramente é utilizada a função ``validar_dna`` para garantir que a sequência não possui caracteres inválidos. Depois, a variável dna irá transportar a sequência aprimorada pela função definida anteriormente, ``aprimorar_seq``.\n",
    "\n",
    "De seguida, é realizado um ciclo ``for`` com algumas condicionais, que irá iterar sobre a sequência inserida já aprimorada, e devolver uma variável, ``mrna``, sendo esse o resultado final da função.\n",
    "\n",
    "Depois é ainda associada a variável ``resultado`` à função, para imprimir o output final."
   ]
  },
  {
   "cell_type": "code",
   "execution_count": 27,
   "metadata": {},
   "outputs": [],
   "source": [
    "def transc(seq):\n",
    "\n",
    "    '''\n",
    "    Função que itera sobre uma sequência de DNA e devolve a sequência transcrita.\n",
    "\n",
    "    \n",
    "    Parâmetro:\n",
    "    -----------\n",
    "    seq : str \n",
    "      Uma string que representa a sequência de ADN\n",
    "    \n",
    "      \n",
    "    Retorna:\n",
    "    --------\n",
    "    mrna ou None\n",
    "      Se a sequência de DNA for válida, retorna a sequência de mRNA correspondente\n",
    "      Se a sequência de DNA não for válida, imprime \"Sequência inválida\" e retorna None\n",
    "\n",
    "    '''\n",
    "\n",
    "    if not validar_dna(seq):\n",
    "        print(\"Sequência inválida\")\n",
    "        return None\n",
    "\n",
    "\n",
    "    dna = aprimorar_seq(seq)\n",
    "    \n",
    "    mrna = ''\n",
    "\n",
    "    for base in dna:\n",
    "        if base == 'A':\n",
    "          mrna += 'U'\n",
    "        elif base == 'T':\n",
    "          mrna += 'A'\n",
    "        elif base == 'C':\n",
    "          mrna += 'G'\n",
    "        elif base == 'G':\n",
    "          mrna += 'C'\n",
    "\n",
    "    \n",
    "    return mrna"
   ]
  },
  {
   "cell_type": "markdown",
   "metadata": {},
   "source": [
    "**Exemplo**:"
   ]
  },
  {
   "cell_type": "code",
   "execution_count": 28,
   "metadata": {},
   "outputs": [
    {
     "name": "stdout",
     "output_type": "stream",
     "text": [
      "Sequência inválida\n"
     ]
    }
   ],
   "source": [
    "transc('AAhj')"
   ]
  },
  {
   "cell_type": "markdown",
   "metadata": {},
   "source": [
    "**Testes de unidade**:"
   ]
  },
  {
   "cell_type": "code",
   "execution_count": 29,
   "metadata": {},
   "outputs": [
    {
     "name": "stderr",
     "output_type": "stream",
     "text": [
      "test_trans_correta (__main__.TestValidarData) ... ok\n",
      "test_transc_caracter_invalido (__main__.TestValidarData) ... ok\n",
      "test_transc_correta (__main__.TestValidarData) ... ok\n",
      "test_transc_minuscula (__main__.TestValidarData) ... ok\n",
      "test_transc_nucleotido_invalido (__main__.TestValidarData) ... ok\n",
      "test_transc_vazio (__main__.TestValidarData) ... ok\n",
      "\n",
      "----------------------------------------------------------------------\n",
      "Ran 6 tests in 0.013s\n",
      "\n",
      "OK\n"
     ]
    },
    {
     "name": "stdout",
     "output_type": "stream",
     "text": [
      "Sequência inválida\n",
      "Sequência inválida\n",
      "Sequência inválida\n"
     ]
    },
    {
     "data": {
      "text/plain": [
       "<unittest.runner.TextTestResult run=6 errors=0 failures=0>"
      ]
     },
     "execution_count": 29,
     "metadata": {},
     "output_type": "execute_result"
    }
   ],
   "source": [
    "class TestValidarData(unittest.TestCase):\n",
    "    def test_transc_vazio(self):                                          \n",
    "        self.assertFalse( transc(\"\") )\n",
    "    \n",
    "    def test_transc_caracter_invalido(self):                               \n",
    "        self.assertFalse( transc(\"AAAT-TG-CG.TGG.TG-TGGT\") )\n",
    "\n",
    "    def test_transc_nucleotido_invalido(self):                           \n",
    "        self.assertFalse( transc(\"RATAFAT\") )\n",
    "        \n",
    "    def test_transc_correta(self):                                       \n",
    "        self.assertTrue( transc(\"AAACTGTCG\") )\n",
    "\n",
    "    def test_transc_minuscula(self):                                       \n",
    "        self.assertTrue( transc(\"atgctcgatagct\") )\n",
    "    \n",
    "    def test_trans_correta(self):                                    \n",
    "        self.assertEqual( transc('AATTCCGG'), 'UUAAGGCC' )\n",
    "\n",
    "\n",
    "suite = unittest.TestLoader().loadTestsFromTestCase(TestValidarData)\n",
    "unittest.TextTestRunner( verbosity=3 ).run( suite )"
   ]
  },
  {
   "cell_type": "markdown",
   "metadata": {},
   "source": [
    "* **Complemento Inverso**\n",
    "\n",
    "O Complemento Inverso consiste no espelhamento de uma sequência de ADN, permitindo-nos reconstruir a segunda cadeia da cadeia dupla de ADN a partir de uma cadeia simples que servirá como ponto de partida.\n",
    "\n",
    "A lógica do complemento reverso é a de iterar sobre uma string que represente uma cadeia de ADN válida e devolver o seu inverso com base nos nucleótidos complementares, ou seja:\n",
    "\n",
    "- A -> T\n",
    "- T -> A\n",
    "- C -> G\n",
    "- G -> C\n",
    "\n",
    "A forma mais simples de fazer isto é usando um ciclo ``for`` que irá iterar sobre cada elemento da cadeia e adicionar o seu complementar à ``string`` de resultado, ou seja:\n",
    "\n",
    "```python\n",
    "complementar = ''\n",
    "for base in cadeia.upper():\n",
    "    if base == 'A':\n",
    "        complementar += 'T'\n",
    "    elif base == 'T':\n",
    "        complementar += 'A'\n",
    "    elif base == 'C':\n",
    "        complementar += 'G'\n",
    "    elif base == 'G':\n",
    "        complementar += 'C'\n",
    "```\n",
    "\n",
    "Assim, com uma cadeia ``actgtctgtcaaa`` obteremos uma cadeia ``tgacagacagttt``, veja-se o exemplo abaixo do ciclo em funcionamento:"
   ]
  },
  {
   "cell_type": "code",
   "execution_count": 38,
   "metadata": {},
   "outputs": [
    {
     "name": "stdout",
     "output_type": "stream",
     "text": [
      "ACTGTCTGTCAAA -> TGACAGACAGTTT\n"
     ]
    }
   ],
   "source": [
    "cadeia = 'actgtctgtcaaa'\n",
    "complementar = ''\n",
    "for base in cadeia.upper():\n",
    "    if base == 'A':\n",
    "        complementar += 'T'\n",
    "    elif base == 'T':\n",
    "        complementar += 'A'\n",
    "    elif base == 'C':\n",
    "        complementar += 'G'\n",
    "    elif base == 'G':\n",
    "        complementar += 'C'\n",
    "\n",
    "print(cadeia.upper(),'->',complementar)"
   ]
  },
  {
   "cell_type": "markdown",
   "metadata": {},
   "source": [
    "De forma a criar uma ferramenta à qual possamos recorrer sempre que queiramos encontrar o complemento inverso de uma cadeia de ADN, escrevemos a função abaixo.\n",
    "\n"
   ]
  },
  {
   "cell_type": "code",
   "execution_count": 41,
   "metadata": {},
   "outputs": [],
   "source": [
    "def complemento_inverso(sequencia):\n",
    "\n",
    "    '''\n",
    "    Função que itera sobre uma sequência de ADN e devolve o complemento inverso de cada nucleótido.\n",
    "\n",
    "    Lógica:\n",
    "    A -> T\n",
    "    T -> A\n",
    "    C -> G\n",
    "    G -> C\n",
    "\n",
    "    \n",
    "    Parâmetros\n",
    "    ----------\n",
    "    sequencia : str\n",
    "        sequência de ADN \n",
    "\n",
    "        \n",
    "    Retorna\n",
    "    ----------\n",
    "    complementar : str\n",
    "        sequência de nucléotidos complementar à cadeia fornecida\n",
    "    \n",
    "        \n",
    "    Levanta\n",
    "    ----------\n",
    "    AssertionError:\n",
    "        No caso da string inserida não ser válida\n",
    "        \n",
    "\n",
    "    '''\n",
    "\n",
    "    assert validar_dna(sequencia), \"Sequência Inválida\"\n",
    "    \n",
    "    sequencia = aprimorar_seq(sequencia)\n",
    "    \n",
    "    complementar = '' \n",
    "\n",
    "    for base in sequencia.upper():\n",
    "        if base == 'A':\n",
    "            complementar += 'T'\n",
    "        elif base == 'T':\n",
    "            complementar += 'A'\n",
    "        elif base == 'C':\n",
    "            complementar += 'G'\n",
    "        elif base == 'G':\n",
    "            complementar += 'C'\n",
    "\n",
    "    return complementar[::-1]\n"
   ]
  },
  {
   "cell_type": "markdown",
   "metadata": {},
   "source": [
    "**Exemplo**:"
   ]
  },
  {
   "cell_type": "code",
   "execution_count": 42,
   "metadata": {},
   "outputs": [
    {
     "ename": "AssertionError",
     "evalue": "Sequência Inválida",
     "output_type": "error",
     "traceback": [
      "\u001b[1;31m---------------------------------------------------------------------------\u001b[0m",
      "\u001b[1;31mAssertionError\u001b[0m                            Traceback (most recent call last)",
      "Cell \u001b[1;32mIn[42], line 1\u001b[0m\n\u001b[1;32m----> 1\u001b[0m \u001b[43mcomplemento_inverso\u001b[49m\u001b[43m(\u001b[49m\u001b[38;5;124;43m\"\u001b[39;49m\u001b[38;5;124;43mATuG\u001b[39;49m\u001b[38;5;124;43m\"\u001b[39;49m\u001b[43m)\u001b[49m\n",
      "Cell \u001b[1;32mIn[41], line 33\u001b[0m, in \u001b[0;36mcomplemento_inverso\u001b[1;34m(sequencia)\u001b[0m\n\u001b[0;32m      1\u001b[0m \u001b[38;5;28;01mdef\u001b[39;00m \u001b[38;5;21mcomplemento_inverso\u001b[39m(sequencia):\n\u001b[0;32m      3\u001b[0m \u001b[38;5;250m    \u001b[39m\u001b[38;5;124;03m'''\u001b[39;00m\n\u001b[0;32m      4\u001b[0m \u001b[38;5;124;03m    Função que itera sobre uma sequência de ADN e devolve o complemento inverso de cada nucleótido.\u001b[39;00m\n\u001b[0;32m      5\u001b[0m \n\u001b[1;32m   (...)\u001b[0m\n\u001b[0;32m     30\u001b[0m \n\u001b[0;32m     31\u001b[0m \u001b[38;5;124;03m    '''\u001b[39;00m\n\u001b[1;32m---> 33\u001b[0m     \u001b[38;5;28;01massert\u001b[39;00m validar_dna(sequencia), \u001b[38;5;124m\"\u001b[39m\u001b[38;5;124mSequência Inválida\u001b[39m\u001b[38;5;124m\"\u001b[39m\n\u001b[0;32m     35\u001b[0m     sequencia \u001b[38;5;241m=\u001b[39m aprimorar_seq(sequencia)\n\u001b[0;32m     37\u001b[0m     complementar \u001b[38;5;241m=\u001b[39m \u001b[38;5;124m'\u001b[39m\u001b[38;5;124m'\u001b[39m \n",
      "\u001b[1;31mAssertionError\u001b[0m: Sequência Inválida"
     ]
    }
   ],
   "source": [
    "complemento_inverso(\"ATuG\")"
   ]
  },
  {
   "cell_type": "markdown",
   "metadata": {},
   "source": [
    "**Testes de unidade**:"
   ]
  },
  {
   "cell_type": "code",
   "execution_count": 43,
   "metadata": {},
   "outputs": [
    {
     "name": "stderr",
     "output_type": "stream",
     "text": [
      "test_contarbases_espaco (__main__.TestValidaData) ... ok\n",
      "test_contarbases_espaco1 (__main__.TestValidaData) ... ok\n",
      "test_contarbases_invalido (__main__.TestValidaData) ... ok\n",
      "test_contarbases_min (__main__.TestValidaData) ... ok\n",
      "test_contarbases_min_e_maius (__main__.TestValidaData) ... ok\n",
      "test_contarbases_num (__main__.TestValidaData) ... ok\n",
      "test_contarbases_vazio (__main__.TestValidaData) ... ok\n",
      "\n",
      "----------------------------------------------------------------------\n",
      "Ran 7 tests in 0.012s\n",
      "\n",
      "OK\n"
     ]
    },
    {
     "data": {
      "text/plain": [
       "<unittest.runner.TextTestResult run=7 errors=0 failures=0>"
      ]
     },
     "execution_count": 43,
     "metadata": {},
     "output_type": "execute_result"
    }
   ],
   "source": [
    "class TestComplementoInverso(unittest.TestCase):\n",
    "    \n",
    "    def test_sequencia_vazia(self):   \n",
    "        with self.assertRaises(ValueError):\n",
    "            complemento_inverso('')\n",
    "    \n",
    "    def test_sequencia_invalida(self):\n",
    "        with self.assertRaises(ValueError):\n",
    "            complemento_inverso('ACGHJTGH')\n",
    "    \n",
    "    def test_sequencia_com_numeros(self):\n",
    "        with self.assertRaises(ValueError):\n",
    "            complemento_inverso('12ACTG0')\n",
    "    \n",
    "    def test_sequencia_com_espacos(self):\n",
    "        self.assertTrue(complemento_inverso('  AC  CTG   '))\n",
    "    \n",
    "    def test_complemento_correto(self):\n",
    "        self.assertEqual( complemento_inverso('AATTCCGG'), 'TTAAGGCC' )\n",
    "    \n",
    "\n",
    "suite = unittest.TestLoader().loadTestsFromTestCase(TestValidaData)\n",
    "unittest.TextTestRunner( verbosity=3 ).run( suite )"
   ]
  },
  {
   "cell_type": "markdown",
   "metadata": {},
   "source": [
    "## Tradução"
   ]
  },
  {
   "cell_type": "markdown",
   "metadata": {},
   "source": [
    "Em bioinformática, o Python é bastante utilizado para o processamento básico de sequências e  para a tradução de sequências de ADN. Existem várias bibliotecas e algoritmos disponíveis que facilitam esse processo. \n",
    "\n",
    "Existem diversas formas de realizar este processamento, citando as mais usadas: \n",
    "\n",
    "            - Algoritmo de tradução com o Biopython;\n",
    "\n",
    "            - Algoritmo de tradução personalizado mediante a finalidade, o tipo de ser vivo ou devido a outras características específicas.\n",
    "            "
   ]
  },
  {
   "cell_type": "markdown",
   "metadata": {},
   "source": [
    "* **Algoritmo de tradução personalizado**: \n",
    "\n",
    "Se tivermos requisitos específicos ou quisermos implementar o nosso próprio algoritmo de tradução, podemos criar um algoritmo personalizado para isso. \n",
    "\n",
    "A função **traducao_personalizada()** é responsável por traduzir uma sequência de ADN. A função utiliza uma tabela predefinida que mapeia codões de ADN para os aminoácidos específicos. Antes da tradução, a função verifica a validade da sequência de ADN e aprimora a sequência usando. De seguida, os codões são traduzidas conforme a tabela, gerando a sequência de aminoácidos. \n"
   ]
  },
  {
   "cell_type": "code",
   "execution_count": 55,
   "metadata": {},
   "outputs": [],
   "source": [
    "def traducao_personalizada(sequencia_DNA):\n",
    "        \n",
    "    \"\"\"\n",
    "    Traduz uma sequência de ADN na sua correspondente sequência de aminoácidos\n",
    "\n",
    "    \n",
    "    Parâmetro:\n",
    "    -----------\n",
    "    sequencia_DNA : str\n",
    "        Uma string que representa a sequência de ADN a ser traduzida\n",
    "\n",
    "        \n",
    "    Retorna:\n",
    "    --------\n",
    "    str\n",
    "        Sequência de aminoácidos resultante da tradução da sequência de ADN\n",
    "\n",
    "        \n",
    "    Levanta:\n",
    "    ------\n",
    "    AssertionError\n",
    "        Se a sequência de ADN não for válida \n",
    "\n",
    "    ValueError\n",
    "        Se a sequência de DNA não tiver um número de bases múltiplo de 3\n",
    "        \n",
    "    \"\"\"\n",
    "\n",
    "    tabela_traducao = {\n",
    "            \"TTT\": \"F\", \"TTC\": \"F\", \"TTA\": \"L\", \"TTG\": \"L\",\n",
    "            \"CTT\": \"L\", \"CTC\": \"L\", \"CTA\": \"L\", \"CTG\": \"L\",\n",
    "            \"ATT\": \"I\", \"ATC\": \"I\", \"ATA\": \"I\", \"ATG\": \"M\",\n",
    "            \"GTT\": \"V\", \"GTC\": \"V\", \"GTA\": \"V\", \"GTG\": \"V\",\n",
    "            \"TCT\": \"S\", \"TCC\": \"S\", \"TCA\": \"S\", \"TCG\": \"S\",\n",
    "            \"CCT\": \"P\", \"CCC\": \"P\", \"CCA\": \"P\", \"CCG\": \"P\",\n",
    "            \"ACT\": \"T\", \"ACC\": \"T\", \"ACA\": \"T\", \"ACG\": \"T\",\n",
    "            \"GCT\": \"A\", \"GCC\": \"A\", \"GCA\": \"A\", \"GCG\": \"A\",\n",
    "            \"TAT\": \"Y\", \"TAC\": \"Y\", \"TAA\": \"*\", \"TAG\": \"*\",\n",
    "            \"CAT\": \"H\", \"CAC\": \"H\", \"CAA\": \"Q\", \"CAG\": \"Q\",\n",
    "            \"AAT\": \"N\", \"AAC\": \"N\", \"AAA\": \"K\", \"AAG\": \"K\",\n",
    "            \"GAT\": \"D\", \"GAC\": \"D\", \"GAA\": \"E\", \"GAG\": \"E\",\n",
    "            \"TGT\": \"C\", \"TGC\": \"C\", \"TGA\": \"*\", \"TGG\": \"W\",\n",
    "            \"CGT\": \"R\", \"CGC\": \"R\", \"CGA\": \"R\", \"CGG\": \"R\",\n",
    "            \"AGT\": \"S\", \"AGC\": \"S\", \"AGA\": \"R\", \"AGG\": \"R\",\n",
    "            \"GGT\": \"G\", \"GGC\": \"G\", \"GGA\": \"G\", \"GGG\": \"G\"\n",
    "            }\n",
    "\n",
    "    assert validar_dna(sequencia_DNA), \"Sequência inválida\"\n",
    "\n",
    "    sequencia_DNA = aprimorar_seq(sequencia_DNA)\n",
    "\n",
    "    if len(sequencia_DNA) % 3 != 0:\n",
    "        raise ValueError(\"Sequência de DNA inválida: número de bases não é múltiplo de 3.\")\n",
    "\n",
    "    # Tradução do DNA para uma sequência de aminoácidos\n",
    "    sequencia_aminoacido = \"\".join([tabela_traducao[sequencia_DNA[i:i+3]] for i in range(0, len(sequencia_DNA), 3)])\n",
    "\n",
    "    return sequencia_aminoacido"
   ]
  },
  {
   "cell_type": "markdown",
   "metadata": {},
   "source": [
    "**Exemplo**:"
   ]
  },
  {
   "cell_type": "code",
   "execution_count": 57,
   "metadata": {},
   "outputs": [
    {
     "data": {
      "text/plain": [
       "'FL'"
      ]
     },
     "execution_count": 57,
     "metadata": {},
     "output_type": "execute_result"
    }
   ],
   "source": [
    "traducao_personalizada(\"TTTCTT\")"
   ]
  },
  {
   "cell_type": "markdown",
   "metadata": {},
   "source": [
    "**Testes de unidade**:"
   ]
  },
  {
   "cell_type": "code",
   "execution_count": 56,
   "metadata": {},
   "outputs": [
    {
     "name": "stderr",
     "output_type": "stream",
     "text": [
      "test_contarbases_espaco (__main__.TestValidaData) ... ok\n",
      "test_contarbases_espaco1 (__main__.TestValidaData) ... ok\n",
      "test_contarbases_invalido (__main__.TestValidaData) ... ok\n",
      "test_contarbases_min (__main__.TestValidaData) ... ok\n",
      "test_contarbases_min_e_maius (__main__.TestValidaData) ... ok\n",
      "test_contarbases_num (__main__.TestValidaData) ... ok\n",
      "test_contarbases_vazio (__main__.TestValidaData) ... ok\n",
      "\n",
      "----------------------------------------------------------------------\n",
      "Ran 7 tests in 0.011s\n",
      "\n",
      "OK\n"
     ]
    },
    {
     "data": {
      "text/plain": [
       "<unittest.runner.TextTestResult run=7 errors=0 failures=0>"
      ]
     },
     "execution_count": 56,
     "metadata": {},
     "output_type": "execute_result"
    }
   ],
   "source": [
    "class TestTraducao(unittest.TestCase):\n",
    "    \n",
    "    def test_sequencia_vazia(self):\n",
    "        with self.assertRaises(ValueError):\n",
    "            traducao_personalizada('')\n",
    "    \n",
    "    def test_sequencia_invalida(self):\n",
    "        with self.assertRaises(ValueError):\n",
    "            traducao_personalizada('ACGHJTGH')\n",
    "    \n",
    "    def test_sequencia_com_numeros(self):\n",
    "        with self.assertRaises(ValueError):\n",
    "            traducao_personalizada('12ACTG0')\n",
    "    \n",
    "    def test_sequencia_com_espacos(self):\n",
    "        self.assertTrue(traducao_personalizada('  AC  CTG   '))\n",
    "    \n",
    "    def test_complemento_correto(self):\n",
    "        self.assertEqual(traducao_personalizada('ATAACG'), 'RYC' )\n",
    "    \n",
    "\n",
    "suite = unittest.TestLoader().loadTestsFromTestCase(TestValidaData)\n",
    "unittest.TextTestRunner( verbosity=3 ).run( suite )"
   ]
  },
  {
   "cell_type": "markdown",
   "metadata": {},
   "source": [
    "## Open Reading *Frames* "
   ]
  },
  {
   "cell_type": "markdown",
   "metadata": {},
   "source": [
    "**Open Reading Frames** (ORFs) referem-se a segmentos específicos de uma sequência de ADN ou RNA que têm o potencial de serem traduzidos em proteínas durante o processo de síntese proteica. Um ORF é caracterizado por iniciar com um codão de início e estender-se por um comprimento suficiente sem a presença de codões stop.\n",
    "\n",
    "A identificação de ORFs é essencial na análise genómica, uma vez que sugere que regiões do genoma podem estar associadas à codificação de genes, desempenhando um papel significativo na compreensão da estrutura e função dos genes em organismos. \n",
    "\n",
    "Em primeiro lugar, foi criada uma função auxiliar, **tipo_seq()** que classifica uma sequência como ADN, RNA, uma sequência de aminoácidos ou a considera inválida, dependendo dos caracteres presentes na sequência. A classificação é baseada na presença ou ausência de caracteres específicos associados a cada tipo de sequência."
   ]
  },
  {
   "cell_type": "code",
   "execution_count": 64,
   "metadata": {},
   "outputs": [],
   "source": [
    "def tipo_seq(seq):\n",
    "    \n",
    "    \"\"\"\n",
    "    A partir de uma sequência, classifica-a em ADN, RNA ou Sequência aminoácidos\n",
    "\n",
    "    \n",
    "    Parâmetro:\n",
    "    ---------\n",
    "    seq : str \n",
    "        A sequência a ser classificada\n",
    "\n",
    "        \n",
    "    Retorna:\n",
    "    ---------\n",
    "    str\n",
    "        A classificação da sequência: \n",
    "\n",
    "        \n",
    "    Levanta:\n",
    "    ---------\n",
    "    ValueError:\n",
    "        Se a sequência for inválida\n",
    "\n",
    "    \"\"\"\n",
    "\n",
    "    seq = aprimorar_seq(seq)\n",
    "\n",
    "    if not bool(seq):\n",
    "        raise ValueError(\"É uma sequência inválida\")\n",
    "    \n",
    "    if validar_dna(seq):\n",
    "        return \"ADN\"\n",
    "        \n",
    "    if len([c for c in seq if c not in \"ACGU\"]) == 0:\n",
    "        return \"RNA\"\n",
    "        \n",
    "    elif len([c for c in seq if c not in \"ABCDEFGHIKLMNPQRSTVWYZ_\"]) == 0:\n",
    "        return \"Sequência aminoácidos\"\n",
    "    \n",
    "    else:\n",
    "        raise ValueError(\"É uma sequência inválida\")\n",
    "    \n"
   ]
  },
  {
   "cell_type": "markdown",
   "metadata": {},
   "source": [
    "**Exemplo**:"
   ]
  },
  {
   "cell_type": "code",
   "execution_count": 69,
   "metadata": {},
   "outputs": [
    {
     "data": {
      "text/plain": [
       "'Sequência aminoácidos'"
      ]
     },
     "execution_count": 69,
     "metadata": {},
     "output_type": "execute_result"
    }
   ],
   "source": [
    "tipo_seq(\"YY\")"
   ]
  },
  {
   "cell_type": "markdown",
   "metadata": {},
   "source": [
    "**Testes de unidade**:"
   ]
  },
  {
   "cell_type": "code",
   "execution_count": 70,
   "metadata": {},
   "outputs": [
    {
     "name": "stderr",
     "output_type": "stream",
     "text": [
      "test_aminoacidos (__main__.TestTipoSeq) ... ok\n",
      "test_dna (__main__.TestTipoSeq) ... ok\n",
      "test_invalido (__main__.TestTipoSeq) ... ok\n",
      "test_misturado (__main__.TestTipoSeq) ... ok\n",
      "test_rna (__main__.TestTipoSeq) ... ok\n",
      "\n",
      "----------------------------------------------------------------------\n",
      "Ran 5 tests in 0.009s\n",
      "\n",
      "OK\n"
     ]
    },
    {
     "data": {
      "text/plain": [
       "<unittest.runner.TextTestResult run=5 errors=0 failures=0>"
      ]
     },
     "execution_count": 70,
     "metadata": {},
     "output_type": "execute_result"
    }
   ],
   "source": [
    "class TestTipoSeq(unittest.TestCase):\n",
    "    def test_dna(self):\n",
    "        result = tipo_seq(\"ATCG\")\n",
    "        self.assertEqual(result, \"ADN\")\n",
    "\n",
    "    def test_rna(self):\n",
    "        result = tipo_seq(\"AUCG\")\n",
    "        self.assertEqual(result, \"RNA\")\n",
    "\n",
    "    def test_aminoacidos(self):\n",
    "        result = tipo_seq(\"ACDEFGHIKLMNPQRSTVWY\")\n",
    "        self.assertEqual(result, \"Sequência aminoácidos\")\n",
    "\n",
    "    def test_invalido(self):\n",
    "        with self.assertRaises(ValueError):\n",
    "            tipo_seq(\" \")\n",
    "\n",
    "    def test_misturado(self):\n",
    "        with self.assertRaises(ValueError):\n",
    "            tipo_seq(\"16\")\n",
    "        \n",
    "suite = unittest.TestLoader().loadTestsFromTestCase(TestTipoSeq)\n",
    "unittest.TextTestRunner( verbosity=3 ).run( suite )\n",
    "        "
   ]
  },
  {
   "cell_type": "markdown",
   "metadata": {},
   "source": [
    "De seguida, foi criada a função **get_orfs()**. Esta função gera Open Reading Frames (ORFs) a partir de uma sequência de ADN ou RNA. \n",
    "\n",
    "Ao receber uma sequência, a função verifica o tipo da sequência usando a função **tipo_seq()** desenvolvida previamente. Se a sequência for de DNA, ela calcula o complemento inverso e produz seis ORFs distintos:\n",
    "\n",
    "* Três ORFs iniciando nas posições 0, 1 e 2 da sequência original.\n",
    "* Três ORFs iniciando nas posições 0, 1 e 2 do complemento inverso.\n",
    "\n",
    "Se a sequência for de RNA, a função gera três ORFs iniciando nas posições 0, 1 e 2 da sequência original.\n",
    "\n",
    "O resultado final é uma lista que contém os ORFs gerados a partir da sequência fornecida. No caso de a sequência não ser considerada válida, a função levanta um ValueError."
   ]
  },
  {
   "cell_type": "code",
   "execution_count": 90,
   "metadata": {},
   "outputs": [],
   "source": [
    "def get_orfs(seq):\n",
    "\n",
    "    \"\"\"\n",
    "    Gera Open Reading Frames (ORFs) a partir de uma sequência de ADN ou de RNA\n",
    "\n",
    "\n",
    "    Parâmetro:\n",
    "    -----------\n",
    "    seq : str\n",
    "        Sequência de ADN ou RNA\n",
    "\n",
    "\n",
    "    Retorna:\n",
    "    --------\n",
    "    lista\n",
    "        Lista contendo ORFs gerados a partir da sequência.\n",
    "\n",
    "        \n",
    "    Levanta:\n",
    "    ------\n",
    "    ValueError\n",
    "        Se a sequência não for uma sequência válida\n",
    "\n",
    "\n",
    "    \"\"\"\n",
    "\n",
    "    \n",
    "    if tipo_seq(seq) == \"ADN\":\n",
    "\n",
    "        seq_comp_inv = complemento_inverso(seq)\n",
    "\n",
    "        lista_orfs = [\n",
    "            seq[0:], seq[1:], seq[2:],\n",
    "            seq_comp_inv[0:], seq_comp_inv[1:], seq_comp_inv[2:]\n",
    "        ]\n",
    "\n",
    "        return lista_orfs\n",
    "\n",
    "    elif tipo_seq(seq) == \"RNA\":\n",
    "\n",
    "        lista_orfs = [\n",
    "            seq[0:], seq[1:], seq[2:],\n",
    "        ]\n",
    "        return lista_orfs\n",
    "    \n",
    "    else:\n",
    "       raise ValueError(\"Sequência inválida\")\n",
    "\n",
    "    "
   ]
  },
  {
   "cell_type": "markdown",
   "metadata": {},
   "source": [
    "**Exemplo**:"
   ]
  },
  {
   "cell_type": "code",
   "execution_count": 91,
   "metadata": {},
   "outputs": [
    {
     "data": {
      "text/plain": [
       "['AUCG', 'UCG', 'CG']"
      ]
     },
     "execution_count": 91,
     "metadata": {},
     "output_type": "execute_result"
    }
   ],
   "source": [
    "get_orfs(\"AUCG\")"
   ]
  },
  {
   "cell_type": "markdown",
   "metadata": {},
   "source": [
    "**Testes de unidade**:"
   ]
  },
  {
   "cell_type": "code",
   "execution_count": 96,
   "metadata": {},
   "outputs": [
    {
     "name": "stderr",
     "output_type": "stream",
     "text": [
      "test_get_orfs_dna (__main__.TestGetOrfs) ... ok\n",
      "test_get_orfs_invalid_seq (__main__.TestGetOrfs) ... ok\n",
      "test_get_orfs_rna (__main__.TestGetOrfs) ... ok\n",
      "\n",
      "----------------------------------------------------------------------\n",
      "Ran 3 tests in 0.014s\n",
      "\n",
      "OK\n"
     ]
    },
    {
     "data": {
      "text/plain": [
       "<unittest.runner.TextTestResult run=3 errors=0 failures=0>"
      ]
     },
     "execution_count": 96,
     "metadata": {},
     "output_type": "execute_result"
    }
   ],
   "source": [
    "class TestGetOrfs(unittest.TestCase):\n",
    "    def test_get_orfs_dna(self):\n",
    "        result = get_orfs(\"ATCG\")\n",
    "        expected = [\"ATCG\", \"TCG\", \"CG\", \"CGAT\", \"GAT\", \"AT\"]\n",
    "        self.assertEqual(result, expected)\n",
    "\n",
    "    def test_get_orfs_rna(self):\n",
    "        result = get_orfs(\"AUCG\")\n",
    "        expected = [\"AUCG\", \"UCG\", \"CG\"]\n",
    "        self.assertEqual(result, expected)\n",
    "\n",
    "    def test_get_orfs_invalid_seq(self):\n",
    "        with self.assertRaises(ValueError):\n",
    "            get_orfs(\" \")\n",
    "\n",
    "suite = unittest.TestLoader().loadTestsFromTestCase(TestGetOrfs)\n",
    "unittest.TextTestRunner( verbosity=3 ).run( suite )\n"
   ]
  }
 ],
 "metadata": {
  "kernelspec": {
   "display_name": "Python 3",
   "language": "python",
   "name": "python3"
  },
  "language_info": {
   "codemirror_mode": {
    "name": "ipython",
    "version": 3
   },
   "file_extension": ".py",
   "mimetype": "text/x-python",
   "name": "python",
   "nbconvert_exporter": "python",
   "pygments_lexer": "ipython3",
   "version": "3.10.11"
  }
 },
 "nbformat": 4,
 "nbformat_minor": 2
}
