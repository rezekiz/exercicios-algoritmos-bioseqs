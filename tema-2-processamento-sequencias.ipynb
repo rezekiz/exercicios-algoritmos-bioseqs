{
 "cells": [
  {
   "cell_type": "markdown",
   "metadata": {},
   "source": [
    "# Tema 2 - **Processamento básico de sequências**"
   ]
  },
  {
   "cell_type": "markdown",
   "metadata": {},
   "source": [
    "## Representação e algoritmos básicos"
   ]
  },
  {
   "cell_type": "markdown",
   "metadata": {},
   "source": [
    "* **Validação da sequência**\n",
    "\n",
    "Esta função tem como objetivo retornar a validade de uma sequência de ADN. Onde, caso seja válida retorna **True** e caso seja inválida retorna **False**. Nesta função, é verificado se a sequência contém somente os caractéres que representam os nucleótidos: A, T, C e G.\n",
    "\n",
    "A função começa por verificar se a sequência introduzida não é uma string vazia, de seguida, susbtitui letras minúsculas por letras maiúsculas e remove enventuais espaços. No final, itera por cada base presente na sequência e verifica se pertencem ao conjunto de bases válidas (A, T, C e G). "
   ]
  },
  {
   "cell_type": "code",
   "execution_count": 1,
   "metadata": {},
   "outputs": [],
   "source": [
    "def validar_dna(seq):\n",
    "    \n",
    "    \"\"\"\n",
    "    Devolve a validade de uma sequência de ADN\n",
    "\n",
    "    \n",
    "    Parâmetro\n",
    "    -------------\n",
    "    seq : str\n",
    "        Uma string que representa a sequência de ADN\n",
    "\n",
    "    \n",
    "    Retorna\n",
    "    -------------\n",
    "    bool : True se for uma sequência válida ou False se for uma sequência inválida\n",
    "    \n",
    "    \"\"\"\n",
    "    if not bool(seq): return False\n",
    "    \n",
    "    seq = seq.upper()        \n",
    "    seq = seq.replace(\" \",\"\")   \n",
    "\n",
    "    valido_dna = True\n",
    "    \n",
    "    for base in seq:                  \n",
    "        if base not in \"ATCG\":         \n",
    "            valido_dna = False\n",
    "    \n",
    "    if valido_dna == False:\n",
    "        return False\n",
    "    else:\n",
    "        return True"
   ]
  },
  {
   "cell_type": "markdown",
   "metadata": {},
   "source": [
    "**Exemplo**:"
   ]
  },
  {
   "cell_type": "code",
   "execution_count": 18,
   "metadata": {},
   "outputs": [
    {
     "data": {
      "text/plain": [
       "False"
      ]
     },
     "execution_count": 18,
     "metadata": {},
     "output_type": "execute_result"
    }
   ],
   "source": [
    "validar_dna(\"gcth\")"
   ]
  },
  {
   "cell_type": "markdown",
   "metadata": {},
   "source": [
    "**Testes de Unidade**:"
   ]
  },
  {
   "cell_type": "code",
   "execution_count": 2,
   "metadata": {},
   "outputs": [
    {
     "name": "stderr",
     "output_type": "stream",
     "text": [
      "test_validar_dna_correta (__main__.TestValidaData) ... ok\n",
      "test_validar_dna_minuscula (__main__.TestValidaData) ... ok\n",
      "test_validar_dna_nucleotido_invalido (__main__.TestValidaData) ... ok\n",
      "test_validar_dna_separador_invalido (__main__.TestValidaData) ... ok\n",
      "test_validardna_vazio (__main__.TestValidaData) ... ok\n",
      "\n",
      "----------------------------------------------------------------------\n",
      "Ran 5 tests in 0.013s\n",
      "\n",
      "OK\n"
     ]
    },
    {
     "data": {
      "text/plain": [
       "<unittest.runner.TextTestResult run=5 errors=0 failures=0>"
      ]
     },
     "execution_count": 2,
     "metadata": {},
     "output_type": "execute_result"
    }
   ],
   "source": [
    "import unittest\n",
    "\n",
    "class TestValidaData(unittest.TestCase):\n",
    "    def test_validardna_vazio(self):\n",
    "        self.assertFalse( validar_dna(\"\") )\n",
    "    \n",
    "    def test_validar_dna_separador_invalido(self):\n",
    "        self.assertFalse( validar_dna(\"AAATTGCG.TGGTG-TGGT\") )\n",
    "\n",
    "    def test_validar_dna_nucleotido_invalido(self):\n",
    "        self.assertFalse( validar_dna(\"DATAGAT\") )\n",
    "        \n",
    "    def test_validar_dna_correta(self):\n",
    "        self.assertTrue( validar_dna(\"AA TGT CG \") )\n",
    "\n",
    "    def test_validar_dna_minuscula(self):\n",
    "        self.assertTrue( validar_dna(\"atgctcgatagct\") )\n",
    "\n",
    "\n",
    "suite = unittest.TestLoader().loadTestsFromTestCase(TestValidaData)\n",
    "unittest.TextTestRunner( verbosity=3 ).run( suite )"
   ]
  },
  {
   "cell_type": "markdown",
   "metadata": {},
   "source": [
    "* **Aprimoração de sequências**"
   ]
  },
  {
   "cell_type": "markdown",
   "metadata": {},
   "source": [
    "Para ser possível aprimorar as sequências nos códigos seguintes, foi criada uma função auxiliar que tem como intuito substituir as letras minúsculas por letras maiúsculas e a remoção dos espaços presentes na sequência inserida. A função intitula-se de: **aprimorar_seq()**.\n",
    "\n",
    "Note-se que, nos códigos seguintes, a validação da sequência de ADN, será verificada utilizando a função **validar_dna()** antes da invocação da função aprimorar_seq()."
   ]
  },
  {
   "cell_type": "code",
   "execution_count": 6,
   "metadata": {},
   "outputs": [],
   "source": [
    "def aprimorar_seq(seq):\n",
    "    \"\"\"\n",
    "    Devolve uma sequência só com letras maiúsculas e sem espaços em branco\n",
    "\n",
    "    Parâmetros\n",
    "    -------------\n",
    "    seq : str\n",
    "        Uma string que representa a sequência\n",
    "\n",
    "    Retorna\n",
    "    -------------\n",
    "    str\n",
    "        sequência com as bases em maiúsculas e sem espaços em branco\n",
    "    \n",
    "    \"\"\"\n",
    "    return seq.upper().replace(\" \",\"\")\n",
    "     "
   ]
  },
  {
   "cell_type": "markdown",
   "metadata": {},
   "source": [
    "**Exemplo**:"
   ]
  },
  {
   "cell_type": "code",
   "execution_count": 20,
   "metadata": {},
   "outputs": [
    {
     "data": {
      "text/plain": [
       "'ACGTGGCCG'"
      ]
     },
     "execution_count": 20,
     "metadata": {},
     "output_type": "execute_result"
    }
   ],
   "source": [
    "aprimorar_seq(\"AcGtG  GC  cg\")"
   ]
  },
  {
   "cell_type": "markdown",
   "metadata": {},
   "source": [
    "**Testes de Unidade**:"
   ]
  },
  {
   "cell_type": "code",
   "execution_count": 7,
   "metadata": {},
   "outputs": [
    {
     "name": "stderr",
     "output_type": "stream",
     "text": [
      "test_aprimorarseq_espaco (__main__.TestValidaData) ... ok\n",
      "test_aprimorarseq_min (__main__.TestValidaData) ... ok\n",
      "test_aprimorarseq_min_espaco (__main__.TestValidaData) ... ok\n",
      "\n",
      "----------------------------------------------------------------------\n",
      "Ran 3 tests in 0.015s\n",
      "\n",
      "OK\n"
     ]
    },
    {
     "data": {
      "text/plain": [
       "<unittest.runner.TextTestResult run=3 errors=0 failures=0>"
      ]
     },
     "execution_count": 7,
     "metadata": {},
     "output_type": "execute_result"
    }
   ],
   "source": [
    "class TestValidaData(unittest.TestCase):\n",
    "    def test_aprimorarseq_espaco(self):\n",
    "        self.assertEqual( aprimorar_seq(\"AT     GC\"), \"ATGC\" )\n",
    "    \n",
    "    def test_aprimorarseq_min(self):\n",
    "        self.assertEqual( aprimorar_seq(\"atcg\"), \"ATCG\" )\n",
    "    \n",
    "    def test_aprimorarseq_min_espaco(self):\n",
    "        self.assertEqual( aprimorar_seq(\"at  cg\"), \"ATCG\" )\n",
    "\n",
    "suite = unittest.TestLoader().loadTestsFromTestCase(TestValidaData)\n",
    "unittest.TextTestRunner( verbosity=3 ).run( suite )"
   ]
  },
  {
   "cell_type": "markdown",
   "metadata": {},
   "source": [
    "* **Frequência das bases**"
   ]
  },
  {
   "cell_type": "markdown",
   "metadata": {},
   "source": [
    "Esta função permitirá calcular a frequência das bases de uma sequência de ADN. \n",
    "\n",
    "Em primeiro lugar, verifica se a sequência é válida através da função previamente feita **validar_dna()**. Caso seja inválida, é levantado um \"ValueError\" que nos indica que a sequência utilizada é inválida. Depois, retorna a sequência de ADN com as bases em maiúsculas e sem espaços em branco através da função **aprimorar_seq()**.\n",
    "\n",
    "De seguida, através da função **count()** é contabilizado a frequência das bases válidas (A, T, C e G), cada frequência de base é guardada numa variável. \n",
    "\n",
    "Por fim, é criado um dicionário, onde as chaves são as bases de ADN e os valores as suas frequências."
   ]
  },
  {
   "cell_type": "code",
   "execution_count": 8,
   "metadata": {},
   "outputs": [],
   "source": [
    "def contar_bases(seq):\n",
    "\n",
    "    \"\"\"\n",
    "    Devolve um dicionário com as frequências das bases de uma string de ADN (A, C, T e G)\n",
    "\n",
    "    \n",
    "    Parâmetro\n",
    "    -------------\n",
    "    seq : str\n",
    "        Uma string que representa a sequência de ADN\n",
    "\n",
    "    \n",
    "    Retorna\n",
    "    -------------\n",
    "    resultado : dict\n",
    "        Dicionário com as frequências das bases da sequência introduzida\n",
    "        As chaves são as bases \"A\", \"T\", \"C\" e \"G\" e os valores as frequências correspondentes\n",
    "\n",
    "        \n",
    "    Levanta\n",
    "    ----------\n",
    "    ValueError\n",
    "        No caso da string inserida não ser válida\n",
    "    \n",
    "    \"\"\"\n",
    "\n",
    "    if validar_dna(seq) is False:\n",
    "        raise ValueError (\"A sequência inserida é inválida\")\n",
    "\n",
    "    seq = aprimorar_seq(seq)\n",
    "    \n",
    "    contA = seq.count(\"A\")\n",
    "    contT = seq.count(\"T\")\n",
    "    contC = seq.count(\"C\")\n",
    "    contG = seq.count(\"G\")\n",
    "    \n",
    "    resultado = {\"A\" : contA, \"T\" : contT, \"C\" : contC, \"G\" : contG}\n",
    "    \n",
    "    return resultado"
   ]
  },
  {
   "cell_type": "markdown",
   "metadata": {},
   "source": [
    "**Exemplo**:"
   ]
  },
  {
   "cell_type": "code",
   "execution_count": 22,
   "metadata": {},
   "outputs": [
    {
     "data": {
      "text/plain": [
       "{'A': 2, 'T': 2, 'C': 2, 'G': 2}"
      ]
     },
     "execution_count": 22,
     "metadata": {},
     "output_type": "execute_result"
    }
   ],
   "source": [
    "contar_bases(\"ATCGATCG\")"
   ]
  },
  {
   "cell_type": "markdown",
   "metadata": {},
   "source": [
    "**Testes de unidade**:"
   ]
  },
  {
   "cell_type": "code",
   "execution_count": 9,
   "metadata": {},
   "outputs": [
    {
     "name": "stderr",
     "output_type": "stream",
     "text": [
      "test_contarbases_espaco (__main__.TestValidaData) ... ok\n",
      "test_contarbases_espaco1 (__main__.TestValidaData) ... ok\n",
      "test_contarbases_invalido (__main__.TestValidaData) ... ok\n",
      "test_contarbases_min (__main__.TestValidaData) ... ok\n",
      "test_contarbases_min_e_maius (__main__.TestValidaData) ... ok\n",
      "test_contarbases_num (__main__.TestValidaData) ... ok\n",
      "test_contarbases_vazio (__main__.TestValidaData) ... ok\n",
      "\n",
      "----------------------------------------------------------------------\n",
      "Ran 7 tests in 0.025s\n",
      "\n",
      "OK\n"
     ]
    },
    {
     "data": {
      "text/plain": [
       "<unittest.runner.TextTestResult run=7 errors=0 failures=0>"
      ]
     },
     "execution_count": 9,
     "metadata": {},
     "output_type": "execute_result"
    }
   ],
   "source": [
    "class TestValidaData(unittest.TestCase):\n",
    "    def test_contarbases_vazio(self):\n",
    "        with self.assertRaises(ValueError):\n",
    "            contar_bases(\"\")\n",
    "    def test_contarbases_invalido(self):\n",
    "        with self.assertRaises(ValueError):\n",
    "            contar_bases(\"ACTGH\")\n",
    "    def test_contarbases_num(self):\n",
    "        with self.assertRaises(ValueError):\n",
    "            contar_bases(\"ACTG0\")\n",
    "    def test_contarbases_min_e_maius(self):\n",
    "        self.assertTrue( contar_bases(\"atCgatGtG\") )\n",
    "    def test_contarbases_espaco(self):\n",
    "        self.assertTrue( contar_bases(\"C    GAT  GG\") )\n",
    "    def test_contarbases_espaco1(self):\n",
    "        self.assertEqual( contar_bases(\"C    GAT  GG\" ), {'A': 1, 'T': 1, 'C': 1, 'G': 3} )\n",
    "    def test_contarbases_min(self):\n",
    "        self.assertEqual( contar_bases(\"atcg\" ), {'A': 1, 'T': 1, 'C': 1, 'G': 1} )\n",
    "\n",
    "suite = unittest.TestLoader().loadTestsFromTestCase(TestValidaData)\n",
    "unittest.TextTestRunner( verbosity=3 ).run( suite )"
   ]
  },
  {
   "cell_type": "markdown",
   "metadata": {},
   "source": [
    "* **Frequência de Conteúdo GC**\n",
    "\n",
    "Nesta função, é definida uma função que tem como objetivo calcular, em percentagem, o conteúdo de guanina-citosina ([conteúdo GC](https://www.bionity.com/en/encyclopedia/GC-content.html)) presente numa sequência de ADN. \n",
    "\n",
    "Em primeiro lugar, a função executa uma verificação da validade da sequência de ADN através da função previamente feita \"validar_dna()\". Caso seja inválida, é levantado um \"ValueError\" que nos indica que a sequência utilizada é inválida. Depois, retorna a sequência de ADN com as bases em maiúsculas e sem espaços em branco através da função **aprimorar_seq()**.\n",
    "\n",
    "\n",
    "Após verificar a validade da sequência e o seu aprimoramento, a função conta as ocorrências das bases \"G\" e \"C\", respetivamente, através da função **count()** e armazenando o resultado em duas variáveis.\n",
    "\n",
    "De seguida, o cálculo da percentagem de bases \"G\" e \"C\" presente na sequência de ADN é feito através da divisão da soma do número de ocorrências das bases \"G\" e \"C\" pelo número total de bases existentes na sequência, multiplicando por 100 e arredondando o resultado para uma casa decimal através da função **round()**. O resultado é armazenado numa variável.\n",
    "\n",
    "Por fim, o valor obtido é devolvido. \n",
    "\n",
    "\n"
   ]
  },
  {
   "cell_type": "code",
   "execution_count": 12,
   "metadata": {},
   "outputs": [],
   "source": [
    "def conteudo_gc(seq):\n",
    "    \n",
    "    \"\"\"   \n",
    "    Devolve a percentagem do conteúdo GC presente numa sequência de ADN\n",
    "\n",
    "    \n",
    "    Parâmetros\n",
    "    -------------\n",
    "    seq : str\n",
    "        Uma string que representa a sequência de ADN\n",
    "\n",
    "    \n",
    "    Retorna\n",
    "    -------------\n",
    "    resultado : float\n",
    "        Percentagem do conteúdo GC na sequência de ADN\n",
    "\n",
    "        \n",
    "    Levanta\n",
    "    ----------\n",
    "    ValueError\n",
    "        No caso da string inserida não ser válida\n",
    "    \n",
    "    \"\"\"\n",
    "\n",
    "    if validar_dna(seq) is False:\n",
    "        raise ValueError (\"A sequência inserida é inválida\")\n",
    "    \n",
    "    seq = aprimorar_seq(seq)\n",
    "    \n",
    "    conteudo_g = seq.count(\"G\")\n",
    "    conteudo_c = seq.count(\"C\")\n",
    "    conteudo_gc = round((conteudo_g + conteudo_c) / len(seq) * 100, 1)\n",
    "    \n",
    "        \n",
    "    return conteudo_gc\n"
   ]
  },
  {
   "cell_type": "markdown",
   "metadata": {},
   "source": [
    "**Exemplo**:"
   ]
  },
  {
   "cell_type": "code",
   "execution_count": 23,
   "metadata": {},
   "outputs": [
    {
     "data": {
      "text/plain": [
       "100.0"
      ]
     },
     "execution_count": 23,
     "metadata": {},
     "output_type": "execute_result"
    }
   ],
   "source": [
    "conteudo_gc(\"GC\")"
   ]
  },
  {
   "cell_type": "markdown",
   "metadata": {},
   "source": [
    "**Testes de unidade**:"
   ]
  },
  {
   "cell_type": "code",
   "execution_count": 13,
   "metadata": {},
   "outputs": [
    {
     "name": "stderr",
     "output_type": "stream",
     "text": [
      "test_conteudogc_espaco (__main__.TestValidaData) ... ok\n",
      "test_conteudogc_gc (__main__.TestValidaData) ... ok\n",
      "test_conteudogc_invalido (__main__.TestValidaData) ... ok\n",
      "test_conteudogc_min_maiusc (__main__.TestValidaData) ... ok\n",
      "test_conteudogc_num (__main__.TestValidaData) ... ok\n",
      "test_conteudogc_vazio (__main__.TestValidaData) ... ok\n",
      "\n",
      "----------------------------------------------------------------------\n",
      "Ran 6 tests in 0.023s\n",
      "\n",
      "OK\n"
     ]
    },
    {
     "data": {
      "text/plain": [
       "<unittest.runner.TextTestResult run=6 errors=0 failures=0>"
      ]
     },
     "execution_count": 13,
     "metadata": {},
     "output_type": "execute_result"
    }
   ],
   "source": [
    "class TestValidaData(unittest.TestCase):\n",
    "    def test_conteudogc_vazio(self):\n",
    "        with self.assertRaises(ValueError):\n",
    "            conteudo_gc(\"\")\n",
    "    def test_conteudogc_invalido(self):\n",
    "        with self.assertRaises(ValueError):\n",
    "            conteudo_gc(\"ACTGH\")\n",
    "    def test_conteudogc_num(self):\n",
    "        with self.assertRaises(ValueError):\n",
    "            conteudo_gc(\"ACTG0\")\n",
    "    def test_conteudogc_min_maiusc(self):\n",
    "        self.assertTrue( conteudo_gc(\"GCGcGttgatggC\") )\n",
    "    def test_conteudogc_espaco(self):\n",
    "        self.assertTrue( conteudo_gc(\"GCGcG    ttgat     ggC\") )\n",
    "    def test_conteudogc_gc(self):\n",
    "        self.assertEqual( conteudo_gc(\"gcgcgc\"), 100.0  )\n",
    "\n",
    "suite = unittest.TestLoader().loadTestsFromTestCase(TestValidaData)\n",
    "unittest.TextTestRunner( verbosity=3 ).run( suite )"
   ]
  },
  {
   "cell_type": "markdown",
   "metadata": {},
   "source": [
    "## Transcrição e Complemento Inverso"
   ]
  },
  {
   "cell_type": "markdown",
   "metadata": {},
   "source": [
    "* **Transcrição**\n",
    "   \n",
    "O Python é uma ferramenta bastante utilizada no processamento básico de sequências e na transcrição de sequências de DNA em sequências de mRNA. Existem várias bibliotecas e algoritmos disponíveis que facilitam esse processo. \n",
    "\n",
    "Existem diversas formas de realizar esse processamento, citando as mais usadas: \n",
    "\n",
    "            - Algoritmo de trancrição com o Biopython;\n",
    "            - Algoritmo de trancrição personalizado mediante a finalidade, o tipo de ser vivo ou outras características específicas.\n",
    "\n",
    "\n",
    "- Algoritmo de transcrição personalizado:\n",
    "\n",
    "Desenvolver: \n",
    "    Função que itera sobre uma sequência de ADN e devolve a sequência transcrita.\n",
    "\n",
    "    Lógica:\n",
    "    A -> U\n",
    "    T -> A\n",
    "    C -> G\n",
    "    G -> C\n",
    "\n",
    "No algoritmo desenvolvido, primeiramente é utilizada a função ``validar_dna`` para garantir que a sequência não possui caracteres inválidos. Depois, a variável dna irá transportar a sequência aprimorada pela função definida anteriormente, ``aprimorar_seq``.\n",
    "\n",
    "De seguida, é realizado um ciclo ``for`` com algumas condicionais, que irá iterar sobre a sequência inserida já aprimorada, e devolver uma variável, ``mrna``, sendo esse o resultado final da função.\n",
    "\n",
    "Depois é ainda associada a variável ``resultado`` à função, para imprimir o output final."
   ]
  },
  {
   "cell_type": "code",
   "execution_count": 34,
   "metadata": {},
   "outputs": [],
   "source": [
    "def transc(seq):\n",
    "\n",
    "    '''\n",
    "    Função que itera sobre uma sequência de DNA e devolve a sequência transcrita.\n",
    "\n",
    "    \n",
    "    Parâmetros:\n",
    "    -----------\n",
    "    seq : str \n",
    "      Uma string que representa a sequência de ADN\n",
    "    \n",
    "      \n",
    "    Retorna:\n",
    "    --------\n",
    "    str\n",
    "      Sequência de mrna  \n",
    "      Retorna None e imprime \"Sequência inválida\" se a sequência de DNA não for válida.\n",
    "\n",
    "    '''\n",
    "\n",
    "    if not validar_dna(seq):\n",
    "        print(\"Sequência inválida\")\n",
    "        return None\n",
    "\n",
    "\n",
    "    dna = aprimorar_seq(seq)\n",
    "    \n",
    "    mrna = ''\n",
    "\n",
    "    for base in dna:\n",
    "        if base == 'A':\n",
    "          mrna += 'U'\n",
    "        elif base == 'T':\n",
    "          mrna += 'A'\n",
    "        elif base == 'C':\n",
    "          mrna += 'G'\n",
    "        elif base == 'G':\n",
    "          mrna += 'C'\n",
    "\n",
    "    \n",
    "    return mrna"
   ]
  },
  {
   "cell_type": "markdown",
   "metadata": {},
   "source": [
    "**Exemplo**:"
   ]
  },
  {
   "cell_type": "code",
   "execution_count": 35,
   "metadata": {},
   "outputs": [
    {
     "name": "stdout",
     "output_type": "stream",
     "text": [
      "Sequência inválida\n"
     ]
    }
   ],
   "source": [
    "transc('AAhj')"
   ]
  },
  {
   "cell_type": "markdown",
   "metadata": {},
   "source": [
    "**Testes de unidade**:"
   ]
  },
  {
   "cell_type": "code",
   "execution_count": 37,
   "metadata": {},
   "outputs": [
    {
     "name": "stderr",
     "output_type": "stream",
     "text": [
      "test_trans_correta (__main__.TestValidarData) ... ok\n",
      "test_transc_caracter_invalido (__main__.TestValidarData) ... ok\n",
      "test_transc_correta (__main__.TestValidarData) ... ok\n",
      "test_transc_minuscula (__main__.TestValidarData) ... ok\n",
      "test_transc_nucleotido_invalido (__main__.TestValidarData) ... ok\n",
      "test_transc_vazio (__main__.TestValidarData) ... ok\n",
      "\n",
      "----------------------------------------------------------------------\n",
      "Ran 6 tests in 0.027s\n",
      "\n",
      "OK\n"
     ]
    },
    {
     "name": "stdout",
     "output_type": "stream",
     "text": [
      "Sequência inválida\n",
      "Sequência inválida\n",
      "Sequência inválida\n"
     ]
    },
    {
     "data": {
      "text/plain": [
       "<unittest.runner.TextTestResult run=6 errors=0 failures=0>"
      ]
     },
     "execution_count": 37,
     "metadata": {},
     "output_type": "execute_result"
    }
   ],
   "source": [
    "class TestValidarData(unittest.TestCase):\n",
    "    def test_transc_vazio(self):                                          \n",
    "        self.assertFalse( transc(\"\") )\n",
    "    \n",
    "    def test_transc_caracter_invalido(self):                               \n",
    "        self.assertFalse( transc(\"AAAT-TG-CG.TGG.TG-TGGT\") )\n",
    "\n",
    "    def test_transc_nucleotido_invalido(self):                           \n",
    "        self.assertFalse( transc(\"RATAFAT\") )\n",
    "        \n",
    "    def test_transc_correta(self):                                       \n",
    "        self.assertTrue( transc(\"AAACTGTCG\") )\n",
    "\n",
    "    def test_transc_minuscula(self):                                       \n",
    "        self.assertTrue( transc(\"atgctcgatagct\") )\n",
    "    \n",
    "    def test_trans_correta(self):                                    \n",
    "        self.assertEqual( transc('AATTCCGG'), 'UUAAGGCC' )\n",
    "\n",
    "\n",
    "suite = unittest.TestLoader().loadTestsFromTestCase(TestValidarData)\n",
    "unittest.TextTestRunner( verbosity=3 ).run( suite )"
   ]
  },
  {
   "cell_type": "markdown",
   "metadata": {},
   "source": [
    "* **Complemento Inverso**\n",
    "\n",
    "O Complemento Inverso consiste no espelhamento de uma sequência de ADN, permitindo-nos reconstruir a segunda cadeia da cadeia dupla de ADN a partir de uma cadeia simples que servirá como ponto de partida.\n",
    "\n",
    "A lógica do complemento reverso é a de iterar sobre uma string que represente uma cadeia de ADN válida e devolver o seu inverso com base nos nucleótidos complementares, ou seja:\n",
    "\n",
    "- A -> T\n",
    "- T -> A\n",
    "- C -> G\n",
    "- G -> C\n",
    "\n",
    "A forma mais simples de fazer isto é usando um ciclo ``for`` que irá iterar sobre cada elemento da cadeia e adicionar o seu complementar à ``string`` de resultado, ou seja:\n",
    "\n",
    "```python\n",
    "complementar = ''\n",
    "for base in cadeia.upper():\n",
    "    if base == 'A':\n",
    "        complementar += 'T'\n",
    "    elif base == 'T':\n",
    "        complementar += 'A'\n",
    "    elif base == 'C':\n",
    "        complementar += 'G'\n",
    "    elif base == 'G':\n",
    "        complementar += 'C'\n",
    "```\n",
    "\n",
    "Assim, com uma cadeia ``actgtctgtcaaa`` obteremos uma cadeia ``tgacagacagttt``, veja-se o exemplo abaixo do ciclo em funcionamento:"
   ]
  },
  {
   "cell_type": "code",
   "execution_count": 38,
   "metadata": {},
   "outputs": [
    {
     "name": "stdout",
     "output_type": "stream",
     "text": [
      "ACTGTCTGTCAAA -> TGACAGACAGTTT\n"
     ]
    }
   ],
   "source": [
    "cadeia = 'actgtctgtcaaa'\n",
    "complementar = ''\n",
    "for base in cadeia.upper():\n",
    "    if base == 'A':\n",
    "        complementar += 'T'\n",
    "    elif base == 'T':\n",
    "        complementar += 'A'\n",
    "    elif base == 'C':\n",
    "        complementar += 'G'\n",
    "    elif base == 'G':\n",
    "        complementar += 'C'\n",
    "\n",
    "print(cadeia.upper(),'->',complementar)"
   ]
  },
  {
   "cell_type": "markdown",
   "metadata": {},
   "source": [
    "De forma a criar uma ferramenta que à qual possamos recorrer sempre que queiramos encontrar o complemento reverso de uma cadeia de DNA, escrevemos a função abaixo.\n",
    "\n"
   ]
  },
  {
   "cell_type": "code",
   "execution_count": 39,
   "metadata": {},
   "outputs": [],
   "source": [
    "def complemento_inverso(sequencia : str) -> str:\n",
    "    '''\n",
    "    Função que itera sobre uma sequência de DNA e devolve\n",
    "    o complemento reverso de cada nucleotido.\n",
    "\n",
    "    Lógica:\n",
    "    A -> T\n",
    "    T -> A\n",
    "    C -> G\n",
    "    G -> C\n",
    "\n",
    "    \n",
    "    Parâmetros\n",
    "    ----------\n",
    "    str\n",
    "        sequência de ADN válida\n",
    "\n",
    "        \n",
    "    Retorna\n",
    "    -------\n",
    "    str\n",
    "        sequência de nucléotidos complementar à cadeia fornecida\n",
    "\n",
    "    '''\n",
    "    assert sequencia != '' or sequencia != ' '\n",
    "    assert validar_dna(sequencia)\n",
    "    \n",
    "\n",
    "    complementar = '' # inicializamos a cadeia complementar\n",
    "\n",
    "    for base in sequencia.upper():\n",
    "        if base == 'A':\n",
    "            complementar += 'T'\n",
    "        elif base == 'T':\n",
    "            complementar += 'A'\n",
    "        elif base == 'C':\n",
    "            complementar += 'G'\n",
    "        elif base == 'G':\n",
    "            complementar += 'C'\n",
    "\n",
    "    return complementar[::-1]\n"
   ]
  },
  {
   "cell_type": "code",
   "execution_count": null,
   "metadata": {},
   "outputs": [
    {
     "ename": "NameError",
     "evalue": "name 'cadeia' is not defined",
     "output_type": "error",
     "traceback": [
      "\u001b[1;31m---------------------------------------------------------------------------\u001b[0m\n",
      "\u001b[1;31mNameError\u001b[0m                                 Traceback (most recent call last)\n",
      "\u001b[1;32mrezekiz\\aaspg4\\notebook-principal-portfolio.ipynb Cell 88\u001b[0m line \u001b[0;36m3\n",
      "\u001b[0;32m      <a href='vscode-notebook-cell://github/rezekiz/aaspg4/notebook-principal-portfolio.ipynb#Y153sdnNjb2RlLXZmcw%3D%3D?line=0'>1</a>\u001b[0m \u001b[39m# Demonostração do output da função complemento_inverso() \u001b[39;00m\n",
      "\u001b[1;32m----> <a href='vscode-notebook-cell://github/rezekiz/aaspg4/notebook-principal-portfolio.ipynb#Y153sdnNjb2RlLXZmcw%3D%3D?line=2'>3</a>\u001b[0m \u001b[39mprint\u001b[39m(cadeia\u001b[39m.\u001b[39mupper(),\u001b[39m'\u001b[39m\u001b[39m->\u001b[39m\u001b[39m'\u001b[39m,complemento_inverso(cadeia))\n",
      "\n",
      "\u001b[1;31mNameError\u001b[0m: name 'cadeia' is not defined"
     ]
    }
   ],
   "source": [
    "# Demonostração do output da função complemento_inverso() \n",
    "\n",
    "print(cadeia.upper(),'->',complemento_inverso(cadeia))"
   ]
  },
  {
   "cell_type": "code",
   "execution_count": null,
   "metadata": {},
   "outputs": [
    {
     "name": "stderr",
     "output_type": "stream",
     "text": [
      "test_conteudogc_espaco (__main__.TestValidaData.test_conteudogc_espaco) ... ok\n",
      "test_conteudogc_gc (__main__.TestValidaData.test_conteudogc_gc) ... ok\n",
      "test_conteudogc_invalido (__main__.TestValidaData.test_conteudogc_invalido) ... ok\n",
      "test_conteudogc_min_maiusc (__main__.TestValidaData.test_conteudogc_min_maiusc) ... ok\n",
      "test_conteudogc_num (__main__.TestValidaData.test_conteudogc_num) ... ok\n",
      "test_conteudogc_vazio (__main__.TestValidaData.test_conteudogc_vazio) ... ok\n",
      "\n",
      "----------------------------------------------------------------------\n",
      "Ran 6 tests in 0.005s\n",
      "\n",
      "OK\n"
     ]
    },
    {
     "data": {
      "text/plain": [
       "<unittest.runner.TextTestResult run=6 errors=0 failures=0>"
      ]
     },
     "metadata": {},
     "output_type": "display_data"
    }
   ],
   "source": [
    "# Secção de testes de unidade\n",
    "\n",
    "class TestComplementoInverso(unittest.TestCase):\n",
    "    \n",
    "    def test_sequencia_vazia(self):   \n",
    "        with self.assertRaises(ValueError):\n",
    "            complemento_inverso('')\n",
    "    \n",
    "    def test_sequencia_invalida(self):\n",
    "        with self.assertRaises(ValueError):\n",
    "            complemento_inverso('ACGHJTGH')\n",
    "    \n",
    "    def test_sequencia_com_numeros(self):\n",
    "        with self.assertRaises(ValueError):\n",
    "            complemento_inverso('12ACTG0')\n",
    "    \n",
    "    def test_sequencia_com_espacos(self):\n",
    "        self.assertTrue(complemento_inverso('  AC  CTG   '))\n",
    "    \n",
    "    def test_complemento_correto(self):\n",
    "        self.assertEqual( complemento_inverso('AATTCCGG'), 'TTAAGGCC' )\n",
    "    \n",
    "\n",
    "suite = unittest.TestLoader().loadTestsFromTestCase(TestValidaData)\n",
    "unittest.TextTestRunner( verbosity=3 ).run( suite )"
   ]
  },
  {
   "cell_type": "markdown",
   "metadata": {},
   "source": [
    "## Tradução"
   ]
  },
  {
   "cell_type": "markdown",
   "metadata": {},
   "source": [
    "Em bioinformática, o Python é bastante utilizado para o processamento básico de sequências e a tradução de sequências de DNA em sequências de aminoácidos. Existem várias bibliotecas e algoritmos disponíveis que facilitam esse processo. \n",
    "\n",
    "Existem diversas formas de realizar este processamento, citando as mais usadas: \n",
    "\n",
    "            - Algoritmo de tradução com o Biopython;\n",
    "\n",
    "            - Algoritmo de tradução personalizado mediante a finalidade, o tipo de ser vivo ou devido a outras caracteristicas especificas.\n",
    "            \n",
    "\n",
    "Adicionei um bloco try-except para capturar exceções e lidar com erros em ambos os casos.     "
   ]
  },
  {
   "cell_type": "code",
   "execution_count": null,
   "metadata": {},
   "outputs": [],
   "source": [
    "# Sequência de DNA exemplo\n",
    "sequencia_DNA = \"AGATGGTCTACGTCGCATCGTAGCTGAGCTAGCTAGCTAGCTAGCTAGCTAGCTAGCTAGCTAGCT\""
   ]
  },
  {
   "cell_type": "markdown",
   "metadata": {},
   "source": [
    "Algoritmo de tradução com o Biopython: Uma biblioteca em python que fornece uma ampla gama de funcionalidades para o processamento de sequências biológicas, incluindo tradução. "
   ]
  },
  {
   "cell_type": "code",
   "execution_count": null,
   "metadata": {},
   "outputs": [],
   "source": [
    "import re\n",
    "from Bio.Seq import Seq\n",
    "\n",
    "def traducao_dna_para_aminoacido(sequencia_DNA):\n",
    "    # Verifica se a sequência de DNA é válida\n",
    "    if not is_valid_dna(sequencia_DNA):\n",
    "        raise ValueError(\"Sequência de DNA inválida.\")\n",
    "\n",
    "    # Transcrição do DNA para RNA\n",
    "    sequencia_rna = Seq(sequencia_DNA).transcribe()\n",
    "\n",
    "    # Verifica se a sequência de RNA é válida\n",
    "    if not is_valid_rna(str(sequencia_rna)):\n",
    "        raise ValueError(\"Sequência de RNA inválida.\")\n",
    "\n",
    "    # Tradução do RNA para uma sequência de aminoácidos usando Biopython\n",
    "    sequencia_aminoacido = str(sequencia_rna.translate())\n",
    "\n",
    "    return sequencia_aminoacido\n",
    "\n",
    "try:\n",
    "    sequencia_aminoacido = traducao_dna_para_aminoacido(sequencia_DNA)\n",
    "    print(\"Sequência de aminoácidos:\", sequencia_aminoacido)\n",
    "except ValueError as e:\n",
    "    print(\"Erro:\", str(e))"
   ]
  },
  {
   "cell_type": "markdown",
   "metadata": {},
   "source": [
    "Algoritmo de tradução personalizado: Se tivermos requisitos específicos ou quisermos implementar o nosso próprio algoritmo de tradução, podemos criar um algoritmo personalizado para isso. "
   ]
  },
  {
   "cell_type": "code",
   "execution_count": null,
   "metadata": {},
   "outputs": [],
   "source": [
    "def traducao_personalizada(sequencia_DNA):\n",
    "    # Tabela de tradução de codões para aminoácidos\n",
    "        tabela_traducao = {\n",
    "            \"TTT\": \"F\", \"TTC\": \"F\", \"TTA\": \"L\", \"TTG\": \"L\",\n",
    "            \"CTT\": \"L\", \"CTC\": \"L\", \"CTA\": \"L\", \"CTG\": \"L\",\n",
    "            \"ATT\": \"I\", \"ATC\": \"I\", \"ATA\": \"I\", \"ATG\": \"M\",\n",
    "            \"GTT\": \"V\", \"GTC\": \"V\", \"GTA\": \"V\", \"GTG\": \"V\",\n",
    "            \"TCT\": \"S\", \"TCC\": \"S\", \"TCA\": \"S\", \"TCG\": \"S\",\n",
    "            \"CCT\": \"P\", \"CCC\": \"P\", \"CCA\": \"P\", \"CCG\": \"P\",\n",
    "            \"ACT\": \"T\", \"ACC\": \"T\", \"ACA\": \"T\", \"ACG\": \"T\",\n",
    "            \"GCT\": \"A\", \"GCC\": \"A\", \"GCA\": \"A\", \"GCG\": \"A\",\n",
    "            \"TAT\": \"Y\", \"TAC\": \"Y\", \"TAA\": \"*\", \"TAG\": \"*\",\n",
    "            \"CAT\": \"H\", \"CAC\": \"H\", \"CAA\": \"Q\", \"CAG\": \"Q\",\n",
    "            \"AAT\": \"N\", \"AAC\": \"N\", \"AAA\": \"K\", \"AAG\": \"K\",\n",
    "            \"GAT\": \"D\", \"GAC\": \"D\", \"GAA\": \"E\", \"GAG\": \"E\",\n",
    "            \"TGT\": \"C\", \"TGC\": \"C\", \"TGA\": \"*\", \"TGG\": \"W\",\n",
    "            \"CGT\": \"R\", \"CGC\": \"R\", \"CGA\": \"R\", \"CGG\": \"R\",\n",
    "            \"AGT\": \"S\", \"AGC\": \"S\", \"AGA\": \"R\", \"AGG\": \"R\",\n",
    "            \"GGT\": \"G\", \"GGC\": \"G\", \"GGA\": \"G\", \"GGG\": \"G\"\n",
    "            }\n",
    "\n",
    "    # Verifica se a sequência de DNA tem um número de bases múltiplo de 3\n",
    "        if len(sequencia_DNA) % 3 != 0:\n",
    "            raise ValueError(\"Sequência de DNA inválida: número de bases não é múltiplo de 3.\")\n",
    "\n",
    "    # Tradução do DNA para uma sequência de aminoácidos\n",
    "        sequencia_aminoacido = \"\".join([tabela_traducao[sequencia_DNA[i:i+3]] for i in range(0, len(sequencia_DNA), 3)])\n",
    "\n",
    "        return sequencia_aminoacido\n",
    "\n",
    "try:\n",
    "    sequencia_aminoacido = traducao_personalizada(sequencia_DNA)\n",
    "    print(\"Sequência de aminoácidos:\", sequencia_aminoacido)\n",
    "except ValueError as e:\n",
    "    print(\"Erro:\", str(e))"
   ]
  },
  {
   "cell_type": "markdown",
   "metadata": {},
   "source": [
    "Por fim, decidi incorporar os dois casos num (nao faço ideia se é util ou não).\n",
    "\n",
    "Este código inclui as duas formas de tradução: uma com a biblioteca Biopython e outra usando uma abordagem manual. Cada bloco de código é independente e pode ser executado separadamente. \n",
    "\n",
    "Além disso, há um bloco separado com uma lista de verificações no final."
   ]
  },
  {
   "cell_type": "code",
   "execution_count": null,
   "metadata": {},
   "outputs": [
    {
     "ename": "ModuleNotFoundError",
     "evalue": "No module named 'Bio'",
     "output_type": "error",
     "traceback": [
      "\u001b[1;31m---------------------------------------------------------------------------\u001b[0m\n",
      "\u001b[1;31mModuleNotFoundError\u001b[0m                       Traceback (most recent call last)\n",
      "\u001b[1;32mrezekiz\\aaspg4\\notebook-principal-portfolio.ipynb Cell 98\u001b[0m line \u001b[0;36m1\n",
      "\u001b[1;32m----> <a href='vscode-notebook-cell://github/rezekiz/aaspg4/notebook-principal-portfolio.ipynb#Y166sdnNjb2RlLXZmcw%3D%3D?line=0'>1</a>\u001b[0m \u001b[39mfrom\u001b[39;00m \u001b[39mBio\u001b[39;00m\u001b[39m.\u001b[39;00m\u001b[39mSeq\u001b[39;00m \u001b[39mimport\u001b[39;00m Seq\n",
      "\u001b[0;32m      <a href='vscode-notebook-cell://github/rezekiz/aaspg4/notebook-principal-portfolio.ipynb#Y166sdnNjb2RlLXZmcw%3D%3D?line=2'>3</a>\u001b[0m \u001b[39mdef\u001b[39;00m \u001b[39mvalida_dna\u001b[39m(sequencia_DNA):\n",
      "\u001b[0;32m      <a href='vscode-notebook-cell://github/rezekiz/aaspg4/notebook-principal-portfolio.ipynb#Y166sdnNjb2RlLXZmcw%3D%3D?line=3'>4</a>\u001b[0m     valida_bases \u001b[39m=\u001b[39m \u001b[39mset\u001b[39m(\u001b[39m'\u001b[39m\u001b[39mACGT\u001b[39m\u001b[39m'\u001b[39m)\n",
      "\n",
      "\u001b[1;31mModuleNotFoundError\u001b[0m: No module named 'Bio'"
     ]
    }
   ],
   "source": [
    "from Bio.Seq import Seq\n",
    "\n",
    "def valida_dna(sequencia_DNA):\n",
    "    valida_bases = set('ACGT')\n",
    "    return all(base in valida_bases for base in sequencia_DNA)\n",
    "\n",
    "def traducao_dna_aminoacido_biopython(sequencia_DNA):\n",
    "    if not valida_dna(sequencia_DNA):\n",
    "        raise ValueError(\"Sequência de DNA inválida.\")\n",
    "\n",
    "    sequencia_rna = Seq(sequencia_DNA).transcribe()\n",
    "    sequencia_aminoacido = str(sequencia_rna.translate())\n",
    "\n",
    "    return sequencia_aminoacido\n",
    "\n",
    "def traducao_dna_aminoacido_personalizada(sequencia_DNA):\n",
    "    if not valida_dna(sequencia_DNA):\n",
    "        raise ValueError(\"Sequência de DNA inválida.\")\n",
    "\n",
    "    tabela_codoes = {\n",
    "        'TTT': 'F', 'TTC': 'F', 'TTA': 'L', 'TTG': 'L',\n",
    "        'CTT': 'L', 'CTC': 'L', 'CTA': 'L', 'CTG': 'L',\n",
    "        'ATT': 'I', 'ATC': 'I', 'ATA': 'I', 'ATG': 'M',\n",
    "        'GTT': 'V', 'GTC': 'V', 'GTA': 'V', 'GTG': 'V',\n",
    "        'TCT': 'S', 'TCC': 'S', 'TCA': 'S', 'TCG': 'S',\n",
    "        'CCT': 'P', 'CCC': 'P', 'CCA': 'P', 'CCG': 'P',\n",
    "        'ACT': 'T', 'ACC': 'T', 'ACA': 'T', 'ACG': 'T',\n",
    "        'GCT': 'A', 'GCC': 'A', 'GCA': 'A', 'GCG': 'A',\n",
    "        'TAT': 'Y', 'TAC': 'Y', 'TAA': '*', 'TAG': '*',\n",
    "        'CAT': 'H', 'CAC': 'H', 'CAA': 'Q', 'CAG': 'Q',\n",
    "        'AAT': 'N', 'AAC': 'N', 'AAA': 'K', 'AAG': 'K',\n",
    "        'GAT': 'D', 'GAC': 'D', 'GAA': 'E', 'GAG': 'E',\n",
    "        'TGT': 'C', 'TGC': 'C', 'TGA': '*', 'TGG': 'W',\n",
    "        'CGT': 'R', 'CGC': 'R', 'CGA': 'R', 'CGG': 'R',\n",
    "        'AGT': 'S', 'AGC': 'S', 'AGA': 'R', 'AGG': 'R',\n",
    "        'GGT': 'G', 'GGC': 'G', 'GGA': 'G', 'GGG': 'G'\n",
    "    }\n",
    "\n",
    "    codoes = [sequencia_DNA[i:i+3] for i in range(0, len(sequencia_DNA), 3)]\n",
    "    sequencia_aminoacido = ''.join(tabela_codoes.get(codon, 'X') for codon in codoes)\n",
    "\n",
    "    return sequencia_aminoacido\n",
    "\n",
    "# Tradução usando Biopython\n",
    "try:\n",
    "    sequencia_aminoacido_biopython = traducao_dna_aminoacido_biopython(sequencia_DNA)\n",
    "    print(\"Sequência de aminoácidos (Biopython):\", sequencia_aminoacido_biopython)\n",
    "except ValueError as e:\n",
    "    print(\"Erro:\", str(e))\n",
    "\n",
    "# Tradução manual\n",
    "try:\n",
    "    sequencia_aminoacido_personalizada = traducao_dna_aminoacido_personalizada(sequencia_DNA)\n",
    "    print(\"Sequência de aminoácidos (Manual):\", sequencia_aminoacido_personalizada)\n",
    "except ValueError as e:\n",
    "    print(\"Erro:\", str(e))\n",
    "\n",
    "\n",
    "# Secção de testes de unidade\n",
    "\n",
    "class TestComplementoInverso(unittest.TestCase):\n",
    "    \n",
    "    def test_sequencia_vazia(self):\n",
    "        with self.assertRaises(ValueError):\n",
    "            complemento_inverso('')\n",
    "    \n",
    "    def test_sequencia_invalida(self):\n",
    "        with self.assertRaises(ValueError):\n",
    "            complemento_inverso('ACGHJTGH')\n",
    "    \n",
    "    def test_sequencia_com_numeros(self):\n",
    "        with self.assertRaises(ValueError):\n",
    "            complemento_inverso('12ACTG0')\n",
    "    \n",
    "    def test_sequencia_com_espacos(self):\n",
    "        self.assertTrue(complemento_inverso('  AC  CTG   '))\n",
    "    \n",
    "    def test_complemento_correto(self):\n",
    "        self.assertEqual( complemento_inverso('AATTCCGG'), 'TTAAGGCC' )\n",
    "    \n",
    "\n",
    "suite = unittest.TestLoader().loadTestsFromTestCase(TestValidaData)\n",
    "unittest.TextTestRunner( verbosity=3 ).run( suite )\n",
    "\n",
    "print(\"\\nVerificações:\")\n",
    "print(\"1. Verifique se a sequência de DNA está correta.\")\n",
    "print(\"2. Verifique se a sequência de DNA é válida, contendo apenas as bases A, C, G, T.\")\n",
    "print(\"3. Verifique se a sequência de aminoácidos foi corretamente traduzida.\")\n",
    "print(\"4. Verifique se o código está bem comentado e de fácil compreensão.\")\n",
    "print(\"5. Verifique se todas as dependências foram instaladas corretamente.\")\n",
    "print(\"6. Verifique se a função de tradução está sendo chamada corretamente.\")\n",
    "print(\"7. Verifique se as exceções são tratadas corretamente.\")\n",
    "print(\"8. Verifique se os resultados são exibidos de forma adequada.\")"
   ]
  },
  {
   "cell_type": "markdown",
   "metadata": {},
   "source": [
    "Erros e falhas identificados:\n",
    "Corrigido o erro AttributeError: 'Seq' object has no attribute 'is_valid_dna'\n",
    "Adicionada função is_valid_dna para verificar a validade da sequência de DNA\n",
    "Atualizada a chamada para a função de validação no início do código\n",
    "\n",
    "Otimizações a fazer:\n",
    "Verificar se há maneiras de otimizar o código para melhorar a eficiência\n",
    "Verificar se há possíveis otimizações na manipulação de strings e listas\n",
    "Considerar a adição de mais verificações específicas, dependendo dos requisitos do projeto"
   ]
  },
  {
   "cell_type": "markdown",
   "metadata": {},
   "source": [
    "## Open Reading *Frames* "
   ]
  },
  {
   "cell_type": "markdown",
   "metadata": {},
   "source": [
    "Um reading frame com um comprimento suficiente e sem códons stop é designado por open reading frame aberto (ORF). Quando a sequência do genoma é conhecida, mas a localização dos genes ainda não foi anotada, os ORFs são de particular importância, pois indicam uma parte do genoma onde os genes estão potencialmente codificados."
   ]
  },
  {
   "cell_type": "markdown",
   "metadata": {},
   "source": [
    "Vai permitir procurar todas as possibilidades de regiões codificadoras de proteínas, dada uma região do genoma. Tendo os reading frames calculados, o próximo passo óbvio é encontrar possíveis proteínas que podem ser codificadas dentro desses frames. Esta tarefa consiste em encontrar os ORFs, que são reading frames que têm o potencial de serem traduzidos em proteínas."
   ]
  },
  {
   "cell_type": "markdown",
   "metadata": {},
   "source": [
    "Esta função classifica uma sequência como DNA, RNA, uma sequência de aminoácidos ou a considera inválida, dependendo dos caracteres presentes na sequência. A classificação é baseada na presença ou ausência de caracteres específicos associados a cada tipo de sequência."
   ]
  },
  {
   "cell_type": "code",
   "execution_count": null,
   "metadata": {},
   "outputs": [],
   "source": [
    "def tipo_seq(seq):\n",
    "    \"\"\"\n",
    "    Função que a partir de uma sequência, classifica-a em DNA, RNA ou SEQUÊNCIA AMINÁCIDOS.\n",
    "\n",
    "    Parâmetro\n",
    "    ---------\n",
    "    seq : str \n",
    "        A sequência a ser classificada.\n",
    "\n",
    "    Retorna\n",
    "    -------\n",
    "    str\n",
    "        A classificação da sequência.\n",
    "        \n",
    "    \"\"\"\n",
    "\n",
    "    if not bool(seq):\n",
    "        raise ValueError(\"É uma sequência inválida\")\n",
    "\n",
    "    seq = aprimorar_seq(seq)\n",
    "    \n",
    "    if validar_dna(seq):\n",
    "        return \"DNA\"\n",
    "        \n",
    "    if len([c for c in seq if c not in \"ACGU\"]) == 0:\n",
    "        return \"RNA\"\n",
    "        \n",
    "    elif len([c for c in seq if c not in \"ABCDEFGHIKLMNPQRSTVWYZ_\"]) == 0:\n",
    "        return \"SEQUÊNCIA AMINOÁCIDOS\"\n",
    "    \n",
    "    else:\n",
    "        raise ValueError(\"É uma sequência inválida\")\n",
    "    \n"
   ]
  },
  {
   "cell_type": "code",
   "execution_count": null,
   "metadata": {},
   "outputs": [
    {
     "name": "stderr",
     "output_type": "stream",
     "text": [
      "test_aminoacidos (__main__.TestTipoSeq.test_aminoacidos) ... ok\n",
      "test_dna (__main__.TestTipoSeq.test_dna) ... ok\n",
      "test_invalido (__main__.TestTipoSeq.test_invalido) ... ok\n",
      "test_misturado (__main__.TestTipoSeq.test_misturado) ... ok\n",
      "test_rna (__main__.TestTipoSeq.test_rna) ... ok\n",
      "\n",
      "----------------------------------------------------------------------\n",
      "Ran 5 tests in 0.005s\n",
      "\n",
      "OK\n"
     ]
    },
    {
     "data": {
      "text/plain": [
       "<unittest.runner.TextTestResult run=5 errors=0 failures=0>"
      ]
     },
     "metadata": {},
     "output_type": "display_data"
    }
   ],
   "source": [
    "import unittest\n",
    "\n",
    "class TestTipoSeq(unittest.TestCase):\n",
    "    def test_dna(self):\n",
    "        result = tipo_seq(\"ATCG\")\n",
    "        self.assertEqual(result, \"DNA\")\n",
    "\n",
    "    def test_rna(self):\n",
    "        result = tipo_seq(\"AUCG\")\n",
    "        self.assertEqual(result, \"RNA\")\n",
    "\n",
    "    def test_aminoacidos(self):\n",
    "        result = tipo_seq(\"ACDEFGHIKLMNPQRSTVWY\")\n",
    "        self.assertEqual(result, \"SEQUÊNCIA AMINOÁCIDOS\")\n",
    "\n",
    "    def test_invalido(self):\n",
    "        with self.assertRaises(ValueError):\n",
    "            tipo_seq(\"\")\n",
    "\n",
    "    def test_misturado(self):\n",
    "        with self.assertRaises(ValueError):\n",
    "            tipo_seq(\"16\")\n",
    "        \n",
    "suite = unittest.TestLoader().loadTestsFromTestCase(TestTipoSeq)\n",
    "unittest.TextTestRunner( verbosity=3 ).run( suite )\n",
    "        "
   ]
  },
  {
   "cell_type": "markdown",
   "metadata": {},
   "source": [
    "Esta função tenta gerar diferentes ORFs a partir de uma sequência de DNA ou RNA, tendo em conta os casos de DNA, RNA e sequências que não se encaixam em nenhum desses tipos. O objetivo é devolver uma lista com as ORFs em formato de string, incluindo o complemento reverso."
   ]
  },
  {
   "cell_type": "code",
   "execution_count": null,
   "metadata": {},
   "outputs": [],
   "source": [
    "def get_orfs(seq):\n",
    "    \"\"\"\n",
    "    Função que a partir de uma sequência de DNA ou RNA origina diferentes tipos de ORFS.\n",
    "\n",
    "    Parâmetro\n",
    "    --------\n",
    "    seq : str\n",
    "        Sequência de DNA ou RNA.\n",
    "\n",
    "    Returns\n",
    "    -------\n",
    "    lista\n",
    "        Lista das ORFs geradas a partir da sequência.\n",
    "    \n",
    "    \"\"\"\n",
    "    seq_comp_inv = complemento_inverso(seq)\n",
    "    lista_orfs = [\n",
    "            seq[0:], seq[1:], seq[2:],\n",
    "            seq_comp_inv[0:], seq_comp_inv[1:], seq_comp_inv[2:]\n",
    "        ]\n",
    "    return lista_orfs\n",
    "    "
   ]
  },
  {
   "cell_type": "code",
   "execution_count": null,
   "metadata": {},
   "outputs": [
    {
     "ename": "AssertionError",
     "evalue": "",
     "output_type": "error",
     "traceback": [
      "\u001b[1;31m---------------------------------------------------------------------------\u001b[0m\n",
      "\u001b[1;31mAssertionError\u001b[0m                            Traceback (most recent call last)\n",
      "\u001b[1;32mrezekiz\\aaspg4\\notebook-principal-portfolio.ipynb Cell 108\u001b[0m line \u001b[0;36m1\n",
      "\u001b[1;32m----> <a href='vscode-notebook-cell://github/rezekiz/aaspg4/notebook-principal-portfolio.ipynb#Y220sdnNjb2RlLXZmcw%3D%3D?line=0'>1</a>\u001b[0m get_orfs(\u001b[39m\"\u001b[39;49m\u001b[39mAUCG\u001b[39;49m\u001b[39m\"\u001b[39;49m)\n",
      "\n",
      "\u001b[1;32mrezekiz\\aaspg4\\notebook-principal-portfolio.ipynb Cell 108\u001b[0m line \u001b[0;36m1\n",
      "\u001b[0;32m      <a href='vscode-notebook-cell://github/rezekiz/aaspg4/notebook-principal-portfolio.ipynb#Y220sdnNjb2RlLXZmcw%3D%3D?line=0'>1</a>\u001b[0m \u001b[39mdef\u001b[39;00m \u001b[39mget_orfs\u001b[39m(seq):\n",
      "\u001b[0;32m      <a href='vscode-notebook-cell://github/rezekiz/aaspg4/notebook-principal-portfolio.ipynb#Y220sdnNjb2RlLXZmcw%3D%3D?line=1'>2</a>\u001b[0m \u001b[39m    \u001b[39m\u001b[39m\"\"\"\u001b[39;00m\n",
      "\u001b[0;32m      <a href='vscode-notebook-cell://github/rezekiz/aaspg4/notebook-principal-portfolio.ipynb#Y220sdnNjb2RlLXZmcw%3D%3D?line=2'>3</a>\u001b[0m \u001b[39m    Função que a partir de uma sequência de DNA ou RNA origina diferentes tipos de ORFS.\u001b[39;00m\n",
      "\u001b[0;32m      <a href='vscode-notebook-cell://github/rezekiz/aaspg4/notebook-principal-portfolio.ipynb#Y220sdnNjb2RlLXZmcw%3D%3D?line=3'>4</a>\u001b[0m \n",
      "\u001b[1;32m   (...)\u001b[0m\n",
      "\u001b[0;32m     <a href='vscode-notebook-cell://github/rezekiz/aaspg4/notebook-principal-portfolio.ipynb#Y220sdnNjb2RlLXZmcw%3D%3D?line=13'>14</a>\u001b[0m \u001b[39m    \u001b[39;00m\n",
      "\u001b[0;32m     <a href='vscode-notebook-cell://github/rezekiz/aaspg4/notebook-principal-portfolio.ipynb#Y220sdnNjb2RlLXZmcw%3D%3D?line=14'>15</a>\u001b[0m \u001b[39m    \"\"\"\u001b[39;00m\n",
      "\u001b[1;32m---> <a href='vscode-notebook-cell://github/rezekiz/aaspg4/notebook-principal-portfolio.ipynb#Y220sdnNjb2RlLXZmcw%3D%3D?line=15'>16</a>\u001b[0m     seq_comp_inv \u001b[39m=\u001b[39m complemento_inverso(seq)\n",
      "\u001b[0;32m     <a href='vscode-notebook-cell://github/rezekiz/aaspg4/notebook-principal-portfolio.ipynb#Y220sdnNjb2RlLXZmcw%3D%3D?line=16'>17</a>\u001b[0m     lista_orfs \u001b[39m=\u001b[39m [\n",
      "\u001b[0;32m     <a href='vscode-notebook-cell://github/rezekiz/aaspg4/notebook-principal-portfolio.ipynb#Y220sdnNjb2RlLXZmcw%3D%3D?line=17'>18</a>\u001b[0m             seq[\u001b[39m0\u001b[39m:], seq[\u001b[39m1\u001b[39m:], seq[\u001b[39m2\u001b[39m:],\n",
      "\u001b[0;32m     <a href='vscode-notebook-cell://github/rezekiz/aaspg4/notebook-principal-portfolio.ipynb#Y220sdnNjb2RlLXZmcw%3D%3D?line=18'>19</a>\u001b[0m             seq_comp_inv[\u001b[39m0\u001b[39m:], seq_comp_inv[\u001b[39m1\u001b[39m:], seq_comp_inv[\u001b[39m2\u001b[39m:]\n",
      "\u001b[0;32m     <a href='vscode-notebook-cell://github/rezekiz/aaspg4/notebook-principal-portfolio.ipynb#Y220sdnNjb2RlLXZmcw%3D%3D?line=19'>20</a>\u001b[0m         ]\n",
      "\u001b[0;32m     <a href='vscode-notebook-cell://github/rezekiz/aaspg4/notebook-principal-portfolio.ipynb#Y220sdnNjb2RlLXZmcw%3D%3D?line=20'>21</a>\u001b[0m     \u001b[39mreturn\u001b[39;00m lista_orfs\n",
      "\n",
      "\u001b[1;32mrezekiz\\aaspg4\\notebook-principal-portfolio.ipynb Cell 108\u001b[0m line \u001b[0;36m2\n",
      "\u001b[0;32m      <a href='vscode-notebook-cell://github/rezekiz/aaspg4/notebook-principal-portfolio.ipynb#Y220sdnNjb2RlLXZmcw%3D%3D?line=1'>2</a>\u001b[0m \u001b[39m\u001b[39m\u001b[39m'''\u001b[39;00m\n",
      "\u001b[0;32m      <a href='vscode-notebook-cell://github/rezekiz/aaspg4/notebook-principal-portfolio.ipynb#Y220sdnNjb2RlLXZmcw%3D%3D?line=2'>3</a>\u001b[0m \u001b[39mFunção que itera sobre uma sequência de DNA e devolve\u001b[39;00m\n",
      "\u001b[0;32m      <a href='vscode-notebook-cell://github/rezekiz/aaspg4/notebook-principal-portfolio.ipynb#Y220sdnNjb2RlLXZmcw%3D%3D?line=3'>4</a>\u001b[0m \u001b[39mo complemento reverso de cada nucleotido.\u001b[39;00m\n",
      "\u001b[1;32m   (...)\u001b[0m\n",
      "\u001b[0;32m     <a href='vscode-notebook-cell://github/rezekiz/aaspg4/notebook-principal-portfolio.ipynb#Y220sdnNjb2RlLXZmcw%3D%3D?line=21'>22</a>\u001b[0m \n",
      "\u001b[0;32m     <a href='vscode-notebook-cell://github/rezekiz/aaspg4/notebook-principal-portfolio.ipynb#Y220sdnNjb2RlLXZmcw%3D%3D?line=22'>23</a>\u001b[0m \u001b[39m'''\u001b[39;00m\n",
      "\u001b[0;32m     <a href='vscode-notebook-cell://github/rezekiz/aaspg4/notebook-principal-portfolio.ipynb#Y220sdnNjb2RlLXZmcw%3D%3D?line=23'>24</a>\u001b[0m \u001b[39massert\u001b[39;00m sequencia \u001b[39m!=\u001b[39m \u001b[39m'\u001b[39m\u001b[39m'\u001b[39m \u001b[39mor\u001b[39;00m sequencia \u001b[39m!=\u001b[39m \u001b[39m'\u001b[39m\u001b[39m \u001b[39m\u001b[39m'\u001b[39m\n",
      "\u001b[1;32m---> <a href='vscode-notebook-cell://github/rezekiz/aaspg4/notebook-principal-portfolio.ipynb#Y220sdnNjb2RlLXZmcw%3D%3D?line=24'>25</a>\u001b[0m \u001b[39massert\u001b[39;00m validar_dna(sequencia)\n",
      "\u001b[0;32m     <a href='vscode-notebook-cell://github/rezekiz/aaspg4/notebook-principal-portfolio.ipynb#Y220sdnNjb2RlLXZmcw%3D%3D?line=27'>28</a>\u001b[0m complementar \u001b[39m=\u001b[39m \u001b[39m'\u001b[39m\u001b[39m'\u001b[39m \u001b[39m# inicializamos a cadeia complementar\u001b[39;00m\n",
      "\u001b[0;32m     <a href='vscode-notebook-cell://github/rezekiz/aaspg4/notebook-principal-portfolio.ipynb#Y220sdnNjb2RlLXZmcw%3D%3D?line=29'>30</a>\u001b[0m \u001b[39mfor\u001b[39;00m base \u001b[39min\u001b[39;00m sequencia\u001b[39m.\u001b[39mupper():\n",
      "\n",
      "\u001b[1;31mAssertionError\u001b[0m: "
     ]
    }
   ],
   "source": [
    "get_orfs(\"AUCG\")"
   ]
  },
  {
   "cell_type": "code",
   "execution_count": null,
   "metadata": {},
   "outputs": [
    {
     "name": "stderr",
     "output_type": "stream",
     "text": [
      "test_get_orfs_dna (__main__.TestGetOrfs.test_get_orfs_dna) ... ok\n",
      "test_get_orfs_invalid_seq (__main__.TestGetOrfs.test_get_orfs_invalid_seq) ... ok\n",
      "test_get_orfs_rna (__main__.TestGetOrfs.test_get_orfs_rna) ... FAIL\n",
      "\n",
      "======================================================================\n",
      "FAIL: test_get_orfs_rna (__main__.TestGetOrfs.test_get_orfs_rna)\n",
      "----------------------------------------------------------------------\n",
      "Traceback (most recent call last):\n",
      "  File \"C:\\Users\\armin\\AppData\\Local\\Temp\\ipykernel_2748\\93796610.py\", line 10, in test_get_orfs_rna\n",
      "    result = get_orfs(\"AUCG\")\n",
      "             ^^^^^^^^^^^^^^^^\n",
      "  File \"C:\\Users\\armin\\AppData\\Local\\Temp\\ipykernel_2748\\2440249712.py\", line 25, in get_orfs\n",
      "    seq_comp_inv = complemento_inverso(seq)\n",
      "                   ^^^^^^^^^^^^^^^^^^^^^^^^\n",
      "  File \"C:\\Users\\armin\\AppData\\Local\\Temp\\ipykernel_2748\\3349003147.py\", line 25, in complemento_inverso\n",
      "    assert validar_dna(sequencia)\n",
      "AssertionError\n",
      "\n",
      "----------------------------------------------------------------------\n",
      "Ran 3 tests in 0.004s\n",
      "\n",
      "FAILED (failures=1)\n"
     ]
    },
    {
     "data": {
      "text/plain": [
       "<unittest.runner.TextTestResult run=3 errors=0 failures=1>"
      ]
     },
     "metadata": {},
     "output_type": "display_data"
    }
   ],
   "source": [
    "import unittest\n",
    "\n",
    "class TestGetOrfs(unittest.TestCase):\n",
    "    def test_get_orfs_dna(self):\n",
    "        result = get_orfs(\"ATCG\")\n",
    "        expected = [\"ATCG\", \"TCG\", \"CG\", \"CGAT\", \"GAT\", \"AT\"]\n",
    "        self.assertEqual(result, expected)\n",
    "\n",
    "    def test_get_orfs_rna(self):\n",
    "        result = get_orfs(\"AUCG\")\n",
    "        expected = [\"AUCG\", \"UCG\", \"CG\", \"CGAU\", \"GAU\", \"AU\"]\n",
    "        self.assertEqual(result, expected)\n",
    "\n",
    "    def test_get_orfs_invalid_seq(self):\n",
    "        with self.assertRaises(ValueError):\n",
    "            get_orfs(\"\")\n",
    "\n",
    "\n",
    "suite = unittest.TestLoader().loadTestsFromTestCase(TestGetOrfs)\n",
    "unittest.TextTestRunner( verbosity=3 ).run( suite )\n"
   ]
  },
  {
   "cell_type": "code",
   "execution_count": null,
   "metadata": {},
   "outputs": [
    {
     "data": {
      "text/plain": [
       "['AATCG', 'ATCG', 'TCG', 'TTAGC', 'TAGC', 'AGC']"
      ]
     },
     "metadata": {},
     "output_type": "display_data"
    }
   ],
   "source": [
    "get_orfs(\"AATCG\")"
   ]
  }
 ],
 "metadata": {
  "kernelspec": {
   "display_name": "Python 3",
   "language": "python",
   "name": "python3"
  },
  "language_info": {
   "codemirror_mode": {
    "name": "ipython",
    "version": 3
   },
   "file_extension": ".py",
   "mimetype": "text/x-python",
   "name": "python",
   "nbconvert_exporter": "python",
   "pygments_lexer": "ipython3",
   "version": "3.10.11"
  }
 },
 "nbformat": 4,
 "nbformat_minor": 2
}
