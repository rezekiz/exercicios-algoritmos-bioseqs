{
 "cells": [
  {
   "cell_type": "markdown",
   "metadata": {},
   "source": [
    "### Complemento reverso\n",
    "\n",
    "Nesta secção iremos apresentar as funções de complemento reverso e transcrição.\n",
    "\n",
    "**Complemento reverso - o que é**\n",
    "\n",
    "O Complemento Reverso consiste no espelhamento de uma sequência de DNA, permitindo-nos reconstruir a segunda cadeia da cadeia dupla de DNA a partir de uma cadeia simples que servirá como ponto de partida.\n",
    "\n",
    "A lógica do complemento reverso é a de iterar sobre uma string que represente uma cadeia de DNA válida e devolver o seu inverso com base nos nucleótidos complementares, ou seja:\n",
    "\n",
    "- A -> T\n",
    "- T -> A\n",
    "- C -> G\n",
    "- G -> C\n",
    "\n",
    "A forma mais simples de fazer isto é usando um ciclo ``for`` que irá iterar sobre cada elemento da cadeia e adicionar o seu complementar à ``string`` de resultado, ou seja:\n",
    "\n",
    "```python\n",
    "complementar = ''\n",
    "for base in cadeia.upper():\n",
    "    if base == 'A':\n",
    "        complementar += 'T'\n",
    "    elif base == 'T':\n",
    "        complementar += 'A'\n",
    "    elif base == 'C':\n",
    "        complementar += 'G'\n",
    "    elif base == 'G':\n",
    "        complementar += 'C'\n",
    "```\n",
    "\n",
    "Assim, com uma cadeia ``actgtctgtcaaa`` obteremos uma cadeia ``tgacagacagttt``, veja-se o exemplo abaixo do ciclo em funcionamento:"
   ]
  },
  {
   "cell_type": "code",
   "execution_count": 6,
   "metadata": {},
   "outputs": [
    {
     "name": "stdout",
     "output_type": "stream",
     "text": [
      "ACTGTCTGTCAAA -> TGACAGACAGTTT\n"
     ]
    }
   ],
   "source": [
    "cadeia = 'actgtctgtcaaa'\n",
    "complementar = ''\n",
    "for base in cadeia.upper():\n",
    "    if base == 'A':\n",
    "        complementar += 'T'\n",
    "    elif base == 'T':\n",
    "        complementar += 'A'\n",
    "    elif base == 'C':\n",
    "        complementar += 'G'\n",
    "    elif base == 'G':\n",
    "        complementar += 'C'\n",
    "\n",
    "print(cadeia.upper(),'->',complementar)"
   ]
  },
  {
   "cell_type": "markdown",
   "metadata": {},
   "source": [
    "De forma a criar uma ferramenta que à qual possamos recorrer sempre que queiramos encontrar o complemento reverso de uma cadeia de DNA, escrevemos a função abaixo.\n",
    "\n",
    "``#TODO - apagar as funções validate DNA ou passar para um módulo caso estejam repetidas``"
   ]
  },
  {
   "cell_type": "code",
   "execution_count": 11,
   "metadata": {},
   "outputs": [
    {
     "name": "stdout",
     "output_type": "stream",
     "text": [
      "ACTGTCTGTCAAA -> TGACAGACAGTTT\n"
     ]
    }
   ],
   "source": [
    "def validate_dna(sequencia): \n",
    "    '''\n",
    "    Valida se a string apresentada é uma sequência de DNA válida\n",
    "    '''\n",
    "    sequencia = sequencia.upper()\n",
    "    valido = sequencia.count(\"A\") + sequencia.count('T') + sequencia.count('C') + sequencia.count('G')\n",
    "    if valido == len(sequencia): return True\n",
    "    else: return False\n",
    "\n",
    "def dna_transcription(sequencia): \n",
    "    '''\n",
    "    Função que itera sobre uma sequência de DNA e devolve\n",
    "    uma cadeia de RNA\n",
    "    '''\n",
    "    \n",
    "    pass\n",
    "\n",
    "def reverse_complement(sequencia): \n",
    "    '''\n",
    "    Função que itera sobre uma sequência de DNA e devolve\n",
    "    o complemento reverso de cada nucleotido.\n",
    "\n",
    "    Lógica:\n",
    "    A -> T\n",
    "    T -> A\n",
    "    C -> G\n",
    "    G -> C\n",
    "    '''\n",
    "    assert validate_dna(sequencia)\n",
    "    \n",
    "    complementar = ''\n",
    "    \n",
    "    for base in sequencia.upper():\n",
    "        if base == 'A':\n",
    "            complementar += 'T'\n",
    "        elif base == 'T':\n",
    "            complementar += 'A'\n",
    "        elif base == 'C':\n",
    "            complementar += 'G'\n",
    "        elif base == 'G':\n",
    "            complementar += 'C'\n",
    "    \n",
    "    return complementar\n",
    "\n",
    "print(cadeia.upper(),'->',reverse_complement(cadeia))"
   ]
  },
  {
   "cell_type": "code",
   "execution_count": null,
   "metadata": {},
   "outputs": [],
   "source": [
    "# Testamos todo o nosso código recorrendo a testes de unidade\n",
    "\n",
    "import unittest\n",
    "\n"
   ]
  }
 ],
 "metadata": {
  "kernelspec": {
   "display_name": "Python 3",
   "language": "python",
   "name": "python3"
  },
  "language_info": {
   "codemirror_mode": {
    "name": "ipython",
    "version": 3
   },
   "file_extension": ".py",
   "mimetype": "text/x-python",
   "name": "python",
   "nbconvert_exporter": "python",
   "pygments_lexer": "ipython3",
   "version": "3.11.5"
  }
 },
 "nbformat": 4,
 "nbformat_minor": 2
}
